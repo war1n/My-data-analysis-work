{
 "cells": [
  {
   "cell_type": "code",
   "execution_count": 2,
   "metadata": {},
   "outputs": [],
   "source": [
    "import pandas as pd\n",
    "import numpy as np\n",
    "import matplotlib.pyplot as plt\n",
    "import plotly.express as px\n",
    "from plotly.subplots import make_subplots\n",
    "import plotly.graph_objects as go\n",
    "%matplotlib inline"
   ]
  },
  {
   "cell_type": "code",
   "execution_count": 3,
   "metadata": {},
   "outputs": [],
   "source": [
    "df = pd.read_csv('rym_top_5000_all_time.csv')"
   ]
  },
  {
   "cell_type": "markdown",
   "metadata": {},
   "source": [
    "# Top 1000 song analysis\n",
    "This project aimed to answer the question \n",
    "* what 1000 top albums from rateyourmusic.com likely to be\n",
    "    * What are their Genres\n",
    "    * What are their Descriptors\n",
    "* Who and when these albums were released"
   ]
  },
  {
   "cell_type": "code",
   "execution_count": 4,
   "metadata": {},
   "outputs": [
    {
     "name": "stdout",
     "output_type": "stream",
     "text": [
      "<class 'pandas.core.frame.DataFrame'>\n",
      "RangeIndex: 5000 entries, 0 to 4999\n",
      "Data columns (total 9 columns):\n",
      " #   Column             Non-Null Count  Dtype  \n",
      "---  ------             --------------  -----  \n",
      " 0   Ranking            5000 non-null   float64\n",
      " 1   Album              5000 non-null   object \n",
      " 2   Artist Name        5000 non-null   object \n",
      " 3   Release Date       5000 non-null   object \n",
      " 4   Genres             5000 non-null   object \n",
      " 5   Descriptors        4886 non-null   object \n",
      " 6   Average Rating     5000 non-null   float64\n",
      " 7   Number of Ratings  5000 non-null   object \n",
      " 8   Number of Reviews  5000 non-null   int64  \n",
      "dtypes: float64(2), int64(1), object(6)\n",
      "memory usage: 351.7+ KB\n",
      "None\n"
     ]
    },
    {
     "data": {
      "text/html": [
       "<div>\n",
       "<style scoped>\n",
       "    .dataframe tbody tr th:only-of-type {\n",
       "        vertical-align: middle;\n",
       "    }\n",
       "\n",
       "    .dataframe tbody tr th {\n",
       "        vertical-align: top;\n",
       "    }\n",
       "\n",
       "    .dataframe thead th {\n",
       "        text-align: right;\n",
       "    }\n",
       "</style>\n",
       "<table border=\"1\" class=\"dataframe\">\n",
       "  <thead>\n",
       "    <tr style=\"text-align: right;\">\n",
       "      <th></th>\n",
       "      <th>Ranking</th>\n",
       "      <th>Album</th>\n",
       "      <th>Artist Name</th>\n",
       "      <th>Release Date</th>\n",
       "      <th>Genres</th>\n",
       "      <th>Descriptors</th>\n",
       "      <th>Average Rating</th>\n",
       "      <th>Number of Ratings</th>\n",
       "      <th>Number of Reviews</th>\n",
       "    </tr>\n",
       "  </thead>\n",
       "  <tbody>\n",
       "    <tr>\n",
       "      <th>0</th>\n",
       "      <td>1.0</td>\n",
       "      <td>OK Computer</td>\n",
       "      <td>Radiohead</td>\n",
       "      <td>16 June 1997</td>\n",
       "      <td>Alternative Rock, Art Rock</td>\n",
       "      <td>melancholic, anxious, futuristic, alienation, ...</td>\n",
       "      <td>4.23</td>\n",
       "      <td>70,382</td>\n",
       "      <td>1531</td>\n",
       "    </tr>\n",
       "    <tr>\n",
       "      <th>1</th>\n",
       "      <td>2.0</td>\n",
       "      <td>Wish You Were Here</td>\n",
       "      <td>Pink Floyd</td>\n",
       "      <td>12 September 1975</td>\n",
       "      <td>Progressive Rock, Art Rock</td>\n",
       "      <td>melancholic, atmospheric, progressive, male vo...</td>\n",
       "      <td>4.29</td>\n",
       "      <td>48,662</td>\n",
       "      <td>983</td>\n",
       "    </tr>\n",
       "    <tr>\n",
       "      <th>2</th>\n",
       "      <td>3.0</td>\n",
       "      <td>In the Court of the Crimson King</td>\n",
       "      <td>King Crimson</td>\n",
       "      <td>10 October 1969</td>\n",
       "      <td>Progressive Rock, Art Rock</td>\n",
       "      <td>fantasy, epic, progressive, philosophical, com...</td>\n",
       "      <td>4.30</td>\n",
       "      <td>44,943</td>\n",
       "      <td>870</td>\n",
       "    </tr>\n",
       "    <tr>\n",
       "      <th>3</th>\n",
       "      <td>4.0</td>\n",
       "      <td>Kid A</td>\n",
       "      <td>Radiohead</td>\n",
       "      <td>3 October 2000</td>\n",
       "      <td>Art Rock, Experimental Rock, Electronic</td>\n",
       "      <td>cold, melancholic, futuristic, atmospheric, an...</td>\n",
       "      <td>4.21</td>\n",
       "      <td>58,590</td>\n",
       "      <td>734</td>\n",
       "    </tr>\n",
       "    <tr>\n",
       "      <th>4</th>\n",
       "      <td>5.0</td>\n",
       "      <td>To Pimp a Butterfly</td>\n",
       "      <td>Kendrick Lamar</td>\n",
       "      <td>15 March 2015</td>\n",
       "      <td>Conscious Hip Hop, West Coast Hip Hop, Jazz Rap</td>\n",
       "      <td>political, conscious, poetic, protest, concept...</td>\n",
       "      <td>4.27</td>\n",
       "      <td>44,206</td>\n",
       "      <td>379</td>\n",
       "    </tr>\n",
       "    <tr>\n",
       "      <th>...</th>\n",
       "      <td>...</td>\n",
       "      <td>...</td>\n",
       "      <td>...</td>\n",
       "      <td>...</td>\n",
       "      <td>...</td>\n",
       "      <td>...</td>\n",
       "      <td>...</td>\n",
       "      <td>...</td>\n",
       "      <td>...</td>\n",
       "    </tr>\n",
       "    <tr>\n",
       "      <th>4995</th>\n",
       "      <td>4996.0</td>\n",
       "      <td>Gracious!</td>\n",
       "      <td>Gracious</td>\n",
       "      <td>17 July 1970</td>\n",
       "      <td>Progressive Rock, Symphonic Prog</td>\n",
       "      <td>NaN</td>\n",
       "      <td>3.69</td>\n",
       "      <td>565</td>\n",
       "      <td>32</td>\n",
       "    </tr>\n",
       "    <tr>\n",
       "      <th>4996</th>\n",
       "      <td>4997.0</td>\n",
       "      <td>Knights of the Cross</td>\n",
       "      <td>Grave Digger</td>\n",
       "      <td>18 May 1998</td>\n",
       "      <td>Power Metal, Heavy Metal</td>\n",
       "      <td>history, male vocals, heavy, concept album, an...</td>\n",
       "      <td>3.67</td>\n",
       "      <td>562</td>\n",
       "      <td>11</td>\n",
       "    </tr>\n",
       "    <tr>\n",
       "      <th>4997</th>\n",
       "      <td>4998.0</td>\n",
       "      <td>(Listen For) The Rag and Bone Man</td>\n",
       "      <td>And Also the Trees</td>\n",
       "      <td>12 November 2007</td>\n",
       "      <td>Art Rock</td>\n",
       "      <td>atmospheric, poetic, dark, male vocals, ominou...</td>\n",
       "      <td>3.68</td>\n",
       "      <td>524</td>\n",
       "      <td>15</td>\n",
       "    </tr>\n",
       "    <tr>\n",
       "      <th>4998</th>\n",
       "      <td>4999.0</td>\n",
       "      <td>Hymnen für elektronische und konkrete Klänge</td>\n",
       "      <td>Studio für elektronische Musik des Westdeutsch...</td>\n",
       "      <td>1969</td>\n",
       "      <td>Musique concrète, Modern Classical, Electronic</td>\n",
       "      <td>avant-garde, sampling, dense, complex, scary, ...</td>\n",
       "      <td>3.65</td>\n",
       "      <td>536</td>\n",
       "      <td>11</td>\n",
       "    </tr>\n",
       "    <tr>\n",
       "      <th>4999</th>\n",
       "      <td>5000.0</td>\n",
       "      <td>Adventures in Paradise</td>\n",
       "      <td>Minnie Riperton</td>\n",
       "      <td>22 May 1975</td>\n",
       "      <td>Smooth Soul, Pop Soul</td>\n",
       "      <td>lush, female vocals, romantic, uplifting, summ...</td>\n",
       "      <td>3.69</td>\n",
       "      <td>490</td>\n",
       "      <td>14</td>\n",
       "    </tr>\n",
       "  </tbody>\n",
       "</table>\n",
       "<p>5000 rows × 9 columns</p>\n",
       "</div>"
      ],
      "text/plain": [
       "      Ranking                                         Album  \\\n",
       "0         1.0                                   OK Computer   \n",
       "1         2.0                            Wish You Were Here   \n",
       "2         3.0              In the Court of the Crimson King   \n",
       "3         4.0                                         Kid A   \n",
       "4         5.0                           To Pimp a Butterfly   \n",
       "...       ...                                           ...   \n",
       "4995   4996.0                                     Gracious!   \n",
       "4996   4997.0                          Knights of the Cross   \n",
       "4997   4998.0             (Listen For) The Rag and Bone Man   \n",
       "4998   4999.0  Hymnen für elektronische und konkrete Klänge   \n",
       "4999   5000.0                        Adventures in Paradise   \n",
       "\n",
       "                                            Artist Name       Release Date  \\\n",
       "0                                             Radiohead       16 June 1997   \n",
       "1                                            Pink Floyd  12 September 1975   \n",
       "2                                          King Crimson    10 October 1969   \n",
       "3                                             Radiohead     3 October 2000   \n",
       "4                                        Kendrick Lamar      15 March 2015   \n",
       "...                                                 ...                ...   \n",
       "4995                                           Gracious       17 July 1970   \n",
       "4996                                       Grave Digger        18 May 1998   \n",
       "4997                                 And Also the Trees   12 November 2007   \n",
       "4998  Studio für elektronische Musik des Westdeutsch...               1969   \n",
       "4999                                    Minnie Riperton        22 May 1975   \n",
       "\n",
       "                                               Genres  \\\n",
       "0                          Alternative Rock, Art Rock   \n",
       "1                          Progressive Rock, Art Rock   \n",
       "2                          Progressive Rock, Art Rock   \n",
       "3             Art Rock, Experimental Rock, Electronic   \n",
       "4     Conscious Hip Hop, West Coast Hip Hop, Jazz Rap   \n",
       "...                                               ...   \n",
       "4995                 Progressive Rock, Symphonic Prog   \n",
       "4996                         Power Metal, Heavy Metal   \n",
       "4997                                         Art Rock   \n",
       "4998   Musique concrète, Modern Classical, Electronic   \n",
       "4999                            Smooth Soul, Pop Soul   \n",
       "\n",
       "                                            Descriptors  Average Rating  \\\n",
       "0     melancholic, anxious, futuristic, alienation, ...            4.23   \n",
       "1     melancholic, atmospheric, progressive, male vo...            4.29   \n",
       "2     fantasy, epic, progressive, philosophical, com...            4.30   \n",
       "3     cold, melancholic, futuristic, atmospheric, an...            4.21   \n",
       "4     political, conscious, poetic, protest, concept...            4.27   \n",
       "...                                                 ...             ...   \n",
       "4995                                                NaN            3.69   \n",
       "4996  history, male vocals, heavy, concept album, an...            3.67   \n",
       "4997  atmospheric, poetic, dark, male vocals, ominou...            3.68   \n",
       "4998  avant-garde, sampling, dense, complex, scary, ...            3.65   \n",
       "4999  lush, female vocals, romantic, uplifting, summ...            3.69   \n",
       "\n",
       "     Number of Ratings  Number of Reviews  \n",
       "0               70,382               1531  \n",
       "1               48,662                983  \n",
       "2               44,943                870  \n",
       "3               58,590                734  \n",
       "4               44,206                379  \n",
       "...                ...                ...  \n",
       "4995               565                 32  \n",
       "4996               562                 11  \n",
       "4997               524                 15  \n",
       "4998               536                 11  \n",
       "4999               490                 14  \n",
       "\n",
       "[5000 rows x 9 columns]"
      ]
     },
     "execution_count": 4,
     "metadata": {},
     "output_type": "execute_result"
    }
   ],
   "source": [
    "df = pd.read_csv('rym_top_5000_all_time.csv')\n",
    "print(df.info())\n",
    "df"
   ]
  },
  {
   "cell_type": "markdown",
   "metadata": {},
   "source": [
    "# Data Cleaning\n",
    "let's start by checking data type"
   ]
  },
  {
   "cell_type": "code",
   "execution_count": 5,
   "metadata": {},
   "outputs": [
    {
     "name": "stdout",
     "output_type": "stream",
     "text": [
      "<class 'pandas.core.frame.DataFrame'>\n",
      "RangeIndex: 5000 entries, 0 to 4999\n",
      "Data columns (total 9 columns):\n",
      " #   Column             Non-Null Count  Dtype  \n",
      "---  ------             --------------  -----  \n",
      " 0   Ranking            5000 non-null   float64\n",
      " 1   Album              5000 non-null   object \n",
      " 2   Artist Name        5000 non-null   object \n",
      " 3   Release Date       5000 non-null   object \n",
      " 4   Genres             5000 non-null   object \n",
      " 5   Descriptors        4886 non-null   object \n",
      " 6   Average Rating     5000 non-null   float64\n",
      " 7   Number of Ratings  5000 non-null   object \n",
      " 8   Number of Reviews  5000 non-null   int64  \n",
      "dtypes: float64(2), int64(1), object(6)\n",
      "memory usage: 351.7+ KB\n"
     ]
    }
   ],
   "source": [
    "df.info()"
   ]
  },
  {
   "cell_type": "markdown",
   "metadata": {},
   "source": [
    "Release date should be date time and Number of ratings should be numeric"
   ]
  },
  {
   "cell_type": "code",
   "execution_count": 6,
   "metadata": {},
   "outputs": [],
   "source": [
    "df['Release Date'] = pd.to_datetime(df['Release Date'])\n",
    "df['Number of Ratings'] = df['Number of Ratings'].str.replace(',','')\n",
    "df['Number of Ratings'] = df['Number of Ratings'].astype(int)"
   ]
  },
  {
   "cell_type": "markdown",
   "metadata": {},
   "source": [
    "In this EDA we interest about year the albums were made"
   ]
  },
  {
   "cell_type": "code",
   "execution_count": 7,
   "metadata": {},
   "outputs": [],
   "source": [
    "df['year_release'] = pd.DatetimeIndex(df['Release Date']).year"
   ]
  },
  {
   "cell_type": "code",
   "execution_count": 8,
   "metadata": {},
   "outputs": [
    {
     "name": "stdout",
     "output_type": "stream",
     "text": [
      "<class 'pandas.core.frame.DataFrame'>\n",
      "RangeIndex: 5000 entries, 0 to 4999\n",
      "Data columns (total 10 columns):\n",
      " #   Column             Non-Null Count  Dtype         \n",
      "---  ------             --------------  -----         \n",
      " 0   Ranking            5000 non-null   float64       \n",
      " 1   Album              5000 non-null   object        \n",
      " 2   Artist Name        5000 non-null   object        \n",
      " 3   Release Date       5000 non-null   datetime64[ns]\n",
      " 4   Genres             5000 non-null   object        \n",
      " 5   Descriptors        4886 non-null   object        \n",
      " 6   Average Rating     5000 non-null   float64       \n",
      " 7   Number of Ratings  5000 non-null   int32         \n",
      " 8   Number of Reviews  5000 non-null   int64         \n",
      " 9   year_release       5000 non-null   int64         \n",
      "dtypes: datetime64[ns](1), float64(2), int32(1), int64(2), object(4)\n",
      "memory usage: 371.2+ KB\n"
     ]
    }
   ],
   "source": [
    "#See the change we made\n",
    "df.info()"
   ]
  },
  {
   "cell_type": "markdown",
   "metadata": {},
   "source": [
    "In this project we only focus on the top 1000 albums"
   ]
  },
  {
   "cell_type": "code",
   "execution_count": 9,
   "metadata": {},
   "outputs": [
    {
     "name": "stdout",
     "output_type": "stream",
     "text": [
      "<class 'pandas.core.frame.DataFrame'>\n",
      "RangeIndex: 1000 entries, 0 to 999\n",
      "Data columns (total 10 columns):\n",
      " #   Column             Non-Null Count  Dtype         \n",
      "---  ------             --------------  -----         \n",
      " 0   Ranking            1000 non-null   float64       \n",
      " 1   Album              1000 non-null   object        \n",
      " 2   Artist Name        1000 non-null   object        \n",
      " 3   Release Date       1000 non-null   datetime64[ns]\n",
      " 4   Genres             1000 non-null   object        \n",
      " 5   Descriptors        999 non-null    object        \n",
      " 6   Average Rating     1000 non-null   float64       \n",
      " 7   Number of Ratings  1000 non-null   int32         \n",
      " 8   Number of Reviews  1000 non-null   int64         \n",
      " 9   year_release       1000 non-null   int64         \n",
      "dtypes: datetime64[ns](1), float64(2), int32(1), int64(2), object(4)\n",
      "memory usage: 74.3+ KB\n"
     ]
    }
   ],
   "source": [
    "top_1000 = df.copy().iloc[0:1000]\n",
    "top_1000.info()"
   ]
  },
  {
   "cell_type": "markdown",
   "metadata": {},
   "source": [
    "Now let's see the null value"
   ]
  },
  {
   "cell_type": "code",
   "execution_count": 10,
   "metadata": {},
   "outputs": [
    {
     "data": {
      "text/plain": [
       "Ranking              0\n",
       "Album                0\n",
       "Artist Name          0\n",
       "Release Date         0\n",
       "Genres               0\n",
       "Descriptors          1\n",
       "Average Rating       0\n",
       "Number of Ratings    0\n",
       "Number of Reviews    0\n",
       "year_release         0\n",
       "dtype: int64"
      ]
     },
     "execution_count": 10,
     "metadata": {},
     "output_type": "execute_result"
    }
   ],
   "source": [
    "top_1000.isnull().sum()"
   ]
  },
  {
   "cell_type": "code",
   "execution_count": 11,
   "metadata": {},
   "outputs": [],
   "source": [
    "top_1000['Descriptors'] = top_1000['Descriptors'].fillna('No Data')"
   ]
  },
  {
   "cell_type": "markdown",
   "metadata": {},
   "source": [
    "There is only 1 null value it should be fine Now let's see the Artist Name are there any extra space and misstyped name"
   ]
  },
  {
   "cell_type": "code",
   "execution_count": 12,
   "metadata": {},
   "outputs": [
    {
     "name": "stdout",
     "output_type": "stream",
     "text": [
      "artist name before : 619 After: 619\n",
      "Genres before : 598 After: 598\n",
      "Before descriptors: 1000 After descriptors: 1000\n"
     ]
    }
   ],
   "source": [
    "print(f\"artist name before : {len(set(top_1000['Artist Name']))} After: {len(set(top_1000['Artist Name'].str.title().str.strip()))}\")\n",
    "print(f\"Genres before : {len(set(top_1000['Genres']))} After: {len(set(top_1000['Genres'].str.title().str.strip()))}\")\n",
    "print(f\"Before descriptors: {len(set(top_1000['Descriptors']))} After descriptors: {len(set(top_1000['Descriptors'].str.title().str.strip()))}\" )"
   ]
  },
  {
   "cell_type": "code",
   "execution_count": 13,
   "metadata": {},
   "outputs": [
    {
     "data": {
      "text/html": [
       "<div>\n",
       "<style scoped>\n",
       "    .dataframe tbody tr th:only-of-type {\n",
       "        vertical-align: middle;\n",
       "    }\n",
       "\n",
       "    .dataframe tbody tr th {\n",
       "        vertical-align: top;\n",
       "    }\n",
       "\n",
       "    .dataframe thead th {\n",
       "        text-align: right;\n",
       "    }\n",
       "</style>\n",
       "<table border=\"1\" class=\"dataframe\">\n",
       "  <thead>\n",
       "    <tr style=\"text-align: right;\">\n",
       "      <th></th>\n",
       "      <th>Ranking</th>\n",
       "      <th>Album</th>\n",
       "      <th>Artist Name</th>\n",
       "      <th>Release Date</th>\n",
       "      <th>Genres</th>\n",
       "      <th>Descriptors</th>\n",
       "      <th>Average Rating</th>\n",
       "      <th>Number of Ratings</th>\n",
       "      <th>Number of Reviews</th>\n",
       "      <th>year_release</th>\n",
       "    </tr>\n",
       "  </thead>\n",
       "  <tbody>\n",
       "    <tr>\n",
       "      <th>0</th>\n",
       "      <td>1.0</td>\n",
       "      <td>OK Computer</td>\n",
       "      <td>Radiohead</td>\n",
       "      <td>1997-06-16</td>\n",
       "      <td>Alternative Rock, Art Rock</td>\n",
       "      <td>melancholic, anxious, futuristic, alienation, ...</td>\n",
       "      <td>4.23</td>\n",
       "      <td>70382</td>\n",
       "      <td>1531</td>\n",
       "      <td>1997</td>\n",
       "    </tr>\n",
       "    <tr>\n",
       "      <th>1</th>\n",
       "      <td>2.0</td>\n",
       "      <td>Wish You Were Here</td>\n",
       "      <td>Pink Floyd</td>\n",
       "      <td>1975-09-12</td>\n",
       "      <td>Progressive Rock, Art Rock</td>\n",
       "      <td>melancholic, atmospheric, progressive, male vo...</td>\n",
       "      <td>4.29</td>\n",
       "      <td>48662</td>\n",
       "      <td>983</td>\n",
       "      <td>1975</td>\n",
       "    </tr>\n",
       "    <tr>\n",
       "      <th>2</th>\n",
       "      <td>3.0</td>\n",
       "      <td>In the Court of the Crimson King</td>\n",
       "      <td>King Crimson</td>\n",
       "      <td>1969-10-10</td>\n",
       "      <td>Progressive Rock, Art Rock</td>\n",
       "      <td>fantasy, epic, progressive, philosophical, com...</td>\n",
       "      <td>4.30</td>\n",
       "      <td>44943</td>\n",
       "      <td>870</td>\n",
       "      <td>1969</td>\n",
       "    </tr>\n",
       "    <tr>\n",
       "      <th>3</th>\n",
       "      <td>4.0</td>\n",
       "      <td>Kid A</td>\n",
       "      <td>Radiohead</td>\n",
       "      <td>2000-10-03</td>\n",
       "      <td>Art Rock, Experimental Rock, Electronic</td>\n",
       "      <td>cold, melancholic, futuristic, atmospheric, an...</td>\n",
       "      <td>4.21</td>\n",
       "      <td>58590</td>\n",
       "      <td>734</td>\n",
       "      <td>2000</td>\n",
       "    </tr>\n",
       "    <tr>\n",
       "      <th>4</th>\n",
       "      <td>5.0</td>\n",
       "      <td>To Pimp a Butterfly</td>\n",
       "      <td>Kendrick Lamar</td>\n",
       "      <td>2015-03-15</td>\n",
       "      <td>Conscious Hip Hop, West Coast Hip Hop, Jazz Rap</td>\n",
       "      <td>political, conscious, poetic, protest, concept...</td>\n",
       "      <td>4.27</td>\n",
       "      <td>44206</td>\n",
       "      <td>379</td>\n",
       "      <td>2015</td>\n",
       "    </tr>\n",
       "    <tr>\n",
       "      <th>...</th>\n",
       "      <td>...</td>\n",
       "      <td>...</td>\n",
       "      <td>...</td>\n",
       "      <td>...</td>\n",
       "      <td>...</td>\n",
       "      <td>...</td>\n",
       "      <td>...</td>\n",
       "      <td>...</td>\n",
       "      <td>...</td>\n",
       "      <td>...</td>\n",
       "    </tr>\n",
       "    <tr>\n",
       "      <th>995</th>\n",
       "      <td>996.0</td>\n",
       "      <td>String Quartets Nos. 1-3</td>\n",
       "      <td>The Tale Quartet</td>\n",
       "      <td>1990-02-01</td>\n",
       "      <td>Chamber Music, Modern Classical</td>\n",
       "      <td>string quartet, instrumental, acoustic, anxiou...</td>\n",
       "      <td>3.87</td>\n",
       "      <td>591</td>\n",
       "      <td>8</td>\n",
       "      <td>1990</td>\n",
       "    </tr>\n",
       "    <tr>\n",
       "      <th>996</th>\n",
       "      <td>997.0</td>\n",
       "      <td>Frances the Mute</td>\n",
       "      <td>The Mars Volta</td>\n",
       "      <td>2005-03-01</td>\n",
       "      <td>Progressive Rock, Experimental Rock, Art Rock</td>\n",
       "      <td>passionate, complex, cryptic, energetic, surre...</td>\n",
       "      <td>3.77</td>\n",
       "      <td>12222</td>\n",
       "      <td>321</td>\n",
       "      <td>2005</td>\n",
       "    </tr>\n",
       "    <tr>\n",
       "      <th>997</th>\n",
       "      <td>998.0</td>\n",
       "      <td>Crazy Rhythms</td>\n",
       "      <td>The Feelies</td>\n",
       "      <td>1980-04-28</td>\n",
       "      <td>Post-Punk</td>\n",
       "      <td>anxious, rhythmic, energetic, hypnotic, male v...</td>\n",
       "      <td>3.82</td>\n",
       "      <td>7062</td>\n",
       "      <td>127</td>\n",
       "      <td>1980</td>\n",
       "    </tr>\n",
       "    <tr>\n",
       "      <th>998</th>\n",
       "      <td>999.0</td>\n",
       "      <td>Starsailor</td>\n",
       "      <td>Tim Buckley</td>\n",
       "      <td>1970-11-02</td>\n",
       "      <td>Experimental Rock, Avant-Folk, Singer/Songwriter</td>\n",
       "      <td>avant-garde, psychedelic, cryptic, sexual, mal...</td>\n",
       "      <td>3.80</td>\n",
       "      <td>7182</td>\n",
       "      <td>150</td>\n",
       "      <td>1970</td>\n",
       "    </tr>\n",
       "    <tr>\n",
       "      <th>999</th>\n",
       "      <td>1000.0</td>\n",
       "      <td>Songs From Suicide Bridge</td>\n",
       "      <td>David Kauffman &amp; Eric Caboor</td>\n",
       "      <td>1984-01-01</td>\n",
       "      <td>Contemporary Folk, Singer/Songwriter</td>\n",
       "      <td>lonely, acoustic, suicide, melancholic, intros...</td>\n",
       "      <td>3.86</td>\n",
       "      <td>1387</td>\n",
       "      <td>15</td>\n",
       "      <td>1984</td>\n",
       "    </tr>\n",
       "  </tbody>\n",
       "</table>\n",
       "<p>1000 rows × 10 columns</p>\n",
       "</div>"
      ],
      "text/plain": [
       "     Ranking                             Album                   Artist Name  \\\n",
       "0        1.0                       OK Computer                     Radiohead   \n",
       "1        2.0                Wish You Were Here                    Pink Floyd   \n",
       "2        3.0  In the Court of the Crimson King                  King Crimson   \n",
       "3        4.0                             Kid A                     Radiohead   \n",
       "4        5.0               To Pimp a Butterfly                Kendrick Lamar   \n",
       "..       ...                               ...                           ...   \n",
       "995    996.0          String Quartets Nos. 1-3              The Tale Quartet   \n",
       "996    997.0                  Frances the Mute                The Mars Volta   \n",
       "997    998.0                     Crazy Rhythms                   The Feelies   \n",
       "998    999.0                        Starsailor                   Tim Buckley   \n",
       "999   1000.0         Songs From Suicide Bridge  David Kauffman & Eric Caboor   \n",
       "\n",
       "    Release Date                                            Genres  \\\n",
       "0     1997-06-16                        Alternative Rock, Art Rock   \n",
       "1     1975-09-12                        Progressive Rock, Art Rock   \n",
       "2     1969-10-10                        Progressive Rock, Art Rock   \n",
       "3     2000-10-03           Art Rock, Experimental Rock, Electronic   \n",
       "4     2015-03-15   Conscious Hip Hop, West Coast Hip Hop, Jazz Rap   \n",
       "..           ...                                               ...   \n",
       "995   1990-02-01                   Chamber Music, Modern Classical   \n",
       "996   2005-03-01     Progressive Rock, Experimental Rock, Art Rock   \n",
       "997   1980-04-28                                         Post-Punk   \n",
       "998   1970-11-02  Experimental Rock, Avant-Folk, Singer/Songwriter   \n",
       "999   1984-01-01              Contemporary Folk, Singer/Songwriter   \n",
       "\n",
       "                                           Descriptors  Average Rating  \\\n",
       "0    melancholic, anxious, futuristic, alienation, ...            4.23   \n",
       "1    melancholic, atmospheric, progressive, male vo...            4.29   \n",
       "2    fantasy, epic, progressive, philosophical, com...            4.30   \n",
       "3    cold, melancholic, futuristic, atmospheric, an...            4.21   \n",
       "4    political, conscious, poetic, protest, concept...            4.27   \n",
       "..                                                 ...             ...   \n",
       "995  string quartet, instrumental, acoustic, anxiou...            3.87   \n",
       "996  passionate, complex, cryptic, energetic, surre...            3.77   \n",
       "997  anxious, rhythmic, energetic, hypnotic, male v...            3.82   \n",
       "998  avant-garde, psychedelic, cryptic, sexual, mal...            3.80   \n",
       "999  lonely, acoustic, suicide, melancholic, intros...            3.86   \n",
       "\n",
       "     Number of Ratings  Number of Reviews  year_release  \n",
       "0                70382               1531          1997  \n",
       "1                48662                983          1975  \n",
       "2                44943                870          1969  \n",
       "3                58590                734          2000  \n",
       "4                44206                379          2015  \n",
       "..                 ...                ...           ...  \n",
       "995                591                  8          1990  \n",
       "996              12222                321          2005  \n",
       "997               7062                127          1980  \n",
       "998               7182                150          1970  \n",
       "999               1387                 15          1984  \n",
       "\n",
       "[1000 rows x 10 columns]"
      ]
     },
     "execution_count": 13,
     "metadata": {},
     "output_type": "execute_result"
    }
   ],
   "source": [
    "top_1000"
   ]
  },
  {
   "cell_type": "code",
   "execution_count": 14,
   "metadata": {},
   "outputs": [],
   "source": [
    "top_1000['Artist Name'] =top_1000['Artist Name'].str.title()\n",
    "top_1000['Genres'] =top_1000['Genres'].str.title()\n",
    "top_1000['Descriptors'] = top_1000['Descriptors'].str.title()"
   ]
  },
  {
   "cell_type": "markdown",
   "metadata": {},
   "source": [
    "There is no extra space now let's check is there any mistyped name"
   ]
  },
  {
   "cell_type": "code",
   "execution_count": 15,
   "metadata": {},
   "outputs": [
    {
     "data": {
      "text/plain": [
       "array(['*Namco Consumer Software Sound Team', 'A Tribe Called Quest',\n",
       "       'Academy Of St Martin In The Fields / Neville Marriner / Alan Loveday',\n",
       "       'Academy Of St Martin-In-The-Fields / Neville Marriner',\n",
       "       'Acid Bath', 'Agalloch', 'Akira Yamaoka', 'Al Green',\n",
       "       'Alice Coltrane', 'Alice Coltrane Featuring Pharoah Sanders',\n",
       "       'Alice In Chains', 'American Football', 'Amon Düül Ii',\n",
       "       'Andrew Hill', 'Andrew Lloyd Webber & Tim Rice',\n",
       "       'Andrew Lloyd Webber And Tim Rice', 'Andrew Prahlow',\n",
       "       'Angelo Badalamenti', 'Angelo Badalamenti & David Lynch',\n",
       "       'Animal Collective', 'Anthony Braxton', 'Aphex Twin',\n",
       "       'Arcade Fire', 'Arditti String Quartet / Dawn Upshaw',\n",
       "       'Aretha Franklin', 'Art Blakey & The Jazz Messengers',\n",
       "       'Art Blakey And The Jazz Messengers', 'Artillery',\n",
       "       'Artur Rubinstein', 'Astor Piazzolla And The New Tango Quintet',\n",
       "       'At The Drive-In', 'Atheist', 'Autopsy',\n",
       "       'Avey Tare And Panda Bear', 'Bad Brains',\n",
       "       'Baden Powell & Vinicius De Moraes', 'Basil Poledouris', 'Bathory',\n",
       "       'Bbc Symphony Orchestra / Colin Davis / John Alldis Choir / Helen Donath / Yvonne Minton / Ryland Davies / Gerd Nienstedt',\n",
       "       'Beach House', 'Beastie Boys', 'Belchior', 'Belle And Sebastian',\n",
       "       'Berlin Philharmonic Orchestra / Herbert Von Karajan',\n",
       "       'Berlin Philharmonic Orchestra / Herbert Von Karajan / Vienna Singverein / Anna Tomowa-Sintow / Agnes Baltsa / Peter Schreier / José Van Dam',\n",
       "       'Berliner Philharmoniker / Claudio Abbado / Martha Argerich',\n",
       "       'Berliner Philharmoniker / Herbert Von Karajan',\n",
       "       'Bernard Herrmann', 'Big Black', 'Big L', 'Big Star', 'Björk',\n",
       "       'Black Midi', 'Black Sabbath', 'Black Star', 'Blind Guardian',\n",
       "       'Blondie', 'Blue Öyster Cult', 'Boards Of Canada', 'Bob Dylan',\n",
       "       'Bob Marley & The Wailers', 'Bob Marley And The Wailers',\n",
       "       'Bolt Thrower', 'Bon Iver', 'Boredoms', 'Boris', 'Brand New',\n",
       "       'Brian Eno', 'Brian Eno With Daniel Lanois & Roger Eno',\n",
       "       'British Sea Power', 'Brockhampton', 'Broken Social Scene',\n",
       "       'Bruce Springsteen', 'Bruno Pernadas', 'Buena Vista Social Club',\n",
       "       'Built To Spill', 'Burial', 'Burzum', 'C418', 'Caetano Veloso',\n",
       "       'Café Tacvba', 'Camel', 'Can', 'Candlemass', 'Candy Claws',\n",
       "       'Cannibal Ox', 'Cannonball Adderley',\n",
       "       'Captain Beefheart And His Magic Band', 'Car Seat Headrest',\n",
       "       'Caravan', 'Carcass', \"Carissa'S Wierd\", 'Carly Rae Jepsen',\n",
       "       'Cartola', 'Charles Mingus', 'Charlie Mingus',\n",
       "       'Chicago Symphony Orchestra / Georg Solti', 'Chico Buarque',\n",
       "       'Chico Science & Nação Zumbi', 'Christopher Larkin',\n",
       "       'Claudio Arrau', 'Cleveland Orchestra / Pierre Boulez',\n",
       "       'Clifford Brown And Max Roach', 'Clint Mansell', 'Clipping.',\n",
       "       'Clipse', 'Cocteau Twins', 'Coil',\n",
       "       'Collegium Vocale Gent / Philippe Herreweghe / Ian Bostridge / Franz-Josef Selig / Sibylla Rubens / Andreas Scholl / Werner Güra / Dietrich Henschel',\n",
       "       'Columbia Symphony Orchestra / Igor Stravinsky',\n",
       "       'Columbia Symphony Orchestra / New York Philharmonic / Leonard Bernstein',\n",
       "       'Common', 'Comus',\n",
       "       'Concentus Musicus Wien / Wiener Sängerknaben / Arnold Schoenberg Chor / Nikolaus Harnoncourt / Christoph Prégardien / Matthias Goerne / Christine Schäfer / Dorothea Röschmann / Bernarda Fink / Elisabeth Von Magnus / Michael Schade / Markus Schäfer / Dietrich Henschel / Oliver Widmer',\n",
       "       'Converge', 'Coroner', 'Creedence Clearwater Revival',\n",
       "       'Crosby, Stills, Nash & Young', 'Cryptopsy', 'Cunninlynguists',\n",
       "       'Curtis Mayfield', \"D'Angelo\", \"D'Angelo And The Vanguard\",\n",
       "       'Dadawah', 'Daft Punk', 'Danny Brown', 'Danny Elfman',\n",
       "       'Darkthrone', 'Daughters', 'David Bowie',\n",
       "       'David Kauffman & Eric Caboor', 'David Wise',\n",
       "       'David Wise / Eveline Fischer', 'De La Soul', 'Dead Can Dance',\n",
       "       'Dead Kennedys', 'Death', 'Death Grips', 'Deathspell Omega',\n",
       "       'Deep Purple', 'Deftones', 'Deltron 3030', 'Demilich',\n",
       "       'Demolition Hammer', 'Depeche Mode', 'Dexter Gordon',\n",
       "       'Diamond Head', 'Digable Planets', 'Dinosaur', 'Dio', 'Dismember',\n",
       "       'Dissection', 'Dj Shadow', 'Don Cherry', 'Dr. Dre',\n",
       "       'Drive Like Jehu', 'Duke Ellington',\n",
       "       'Duke Ellington / Charlie Mingus / Max Roach', 'Duster',\n",
       "       'Dusty Springfield', 'Earl Sweatshirt', 'Edge Of Sanity',\n",
       "       'Electric Wizard', 'Ella Fitzgerald', 'Elliott Smith',\n",
       "       'Elton John', 'Elvis Costello', 'Emerson String Quartet',\n",
       "       'Emperor', 'Ennio Morricone', 'Ennio Morricone E La Sua Orchestra',\n",
       "       'Eno', 'Entombed', 'Eric Dolphy', 'Erykah Badu', 'Evgeni Koroliov',\n",
       "       'Exuma', 'Fabrizio De André', 'Fairport Convention',\n",
       "       'Faith No More', 'Farazi V Kayra', 'Faust', 'Fela & The Africa 70',\n",
       "       'Fela Anikulapo Kuti And Afrika 70',\n",
       "       'Fela Ransome Kuti & Africa 70',\n",
       "       'Fela Ransome Kuti & The Afrika 70', 'Fiona Apple', 'Fishmans',\n",
       "       'Fka Twigs', 'Fleet Foxes', 'Fleetwood Mac', 'Flux Quartet',\n",
       "       'Flying Lotus', 'Frank Ocean', 'Frank Zappa',\n",
       "       'Frank Zappa And The Mothers Of Invention',\n",
       "       'Freddie Gibbs & Madlib', 'Fugazi', 'Funkadelic',\n",
       "       'Fẹla And Afrika 70', 'Gal Costa', 'Gang Of Four', 'Gang Starr',\n",
       "       'Geinoh Yamashirogumi', 'Gene Clark', 'Genesis', 'Genius/Gza',\n",
       "       'George Harrison', 'Ghostface Killah', 'Gil Scott-Heron',\n",
       "       'Glenn Branca', 'Glenn Gould', 'Godspeed You Black Emperor!',\n",
       "       'Godspeed You! Black Emperor', 'Gojira', 'Goodie Mob', 'Gorguts',\n",
       "       'Gorillaz', 'Grand Valley State University New Music Ensemble',\n",
       "       'Grant Green', 'Gravediggaz', 'Grouper', 'Guided By Voices',\n",
       "       'Gustavo Cerati', 'Have A Nice Life', 'Helloween', 'Henry Rollins',\n",
       "       'Herbie Hancock', 'Howard Shore', 'Hüsker Dü',\n",
       "       'Iggy And The Stooges', 'Iggy Pop', 'Immolation', 'Immortal',\n",
       "       'Incantation', 'Injury Reserve', 'Interpol', 'Invisible',\n",
       "       'Iron Maiden', 'Isaac Hayes', 'Isis', 'J Dilla',\n",
       "       'Jackson C. Frank', 'Jacques Brel', 'Janelle Monáe', 'Janet',\n",
       "       'Jay-Z', 'Jeff Buckley', 'Jeff Rosenstock', 'Jeremy Soule',\n",
       "       'Jessie Ware', 'Jethro Tull', 'Joanna Newsom', 'John Coltrane',\n",
       "       'John Coltrane Quartet', 'John Eliot Gardiner', 'John Fahey',\n",
       "       'John Lennon / Plastic Ono Band', 'John Martyn', 'John Williams',\n",
       "       'John Williams / London Symphony Orchestra', 'Johnny Cash',\n",
       "       'Joni Mitchell', 'Jorge Ben', 'Joy Division', 'João Gilberto',\n",
       "       'Judas Priest', 'Julee Cruise', 'Kanye West', 'Kate Bush',\n",
       "       'Kendrick Lamar', 'Kevin Penkin', 'Kids See Ghosts',\n",
       "       'King Crimson', 'King Diamond',\n",
       "       'King Gizzard And The Lizard Wizard',\n",
       "       'Kirov Orchestra / Valery Gergiev', 'Klaus Schulze',\n",
       "       'Komeda Quintet', 'Kraftwerk', 'Krystian Zimerman', 'Kyuss',\n",
       "       'La Petite Bande / Sigiswald Kuijken', 'Lasalle Quartett',\n",
       "       'Lauryn Hill', 'Lcd Soundsystem', 'Le Mystère Des Voix Bulgares',\n",
       "       'Led Zeppelin', 'Lee Morgan', 'Leonard Cohen', 'Lil Ugly Mane',\n",
       "       'Little Simz', 'London Sinfonietta / David Zinman / Dawn Upshaw',\n",
       "       'Lou Reed', 'Love', 'Low', 'Mach-Hommy', 'Madvillain',\n",
       "       'Magdalena Bay', 'Magnolia Electric Co.', 'Mario Galaxy Orchestra',\n",
       "       'Marvin Gaye', 'Massive Attack', 'Mastodon', 'Maudlin Of The Well',\n",
       "       'Maurizio Pollini', 'Max Roach',\n",
       "       'Max Roach And His Chorus And Orchestra', 'Mayhem', 'Mccoy Tyner',\n",
       "       'Megadeth', 'Mercyful Fate', 'Metallica', 'Mf Doom',\n",
       "       'Michael Jackson', 'Mike Oldfield', 'Miles Davis',\n",
       "       'Miles Davis Quintet', 'Milton Nascimento',\n",
       "       'Milton Nascimento & Lô Borges', 'Mingus', 'Minutemen', 'Misfits',\n",
       "       'Mobb Deep', 'Modest Mouse', 'Moonsorrow', 'Morbid Angel',\n",
       "       'Mos Def', 'Motörhead', 'Mount Eerie', 'Mr. Bungle', 'Mutantes',\n",
       "       'My Bloody Valentine', 'Nas', 'Natural Snow Buildings',\n",
       "       'Neil Young', 'Neil Young With Crazy Horse', 'Neu!', 'Neurosis',\n",
       "       'Neutral Milk Hotel', 'New Order',\n",
       "       'New Philharmonia Orchestra / Philharmonia Orchestra / Otto Klemperer / Christa Ludwig / Fritz Wunderlich',\n",
       "       'New Stockholm Chamber Orchestra / Lev Markiz',\n",
       "       'New York Philharmonic / Leonard Bernstein', 'Nicholas Britell',\n",
       "       'Nick Cave & The Bad Seeds', 'Nick Cave And The Bad Seeds',\n",
       "       'Nick Drake', 'Nico', 'Nina Simone', 'Nine Inch Nails',\n",
       "       'Nino Rota', 'Nirvana', 'Nomeansno', 'Novos Baianos', 'Nujabes',\n",
       "       'Nujabes / Fat Jon', 'Ocean Machine', 'Oliver Nelson', 'Opeth',\n",
       "       'Organized Konfusion', 'Ornette Coleman', 'Os Mutantes',\n",
       "       'Otis Redding', 'Outkast', 'Panda Bear', 'Parliament',\n",
       "       'Pascal Rogé', 'Patti Smith', 'Paul & Linda Mccartney',\n",
       "       'Paul Mccartney & Wings', 'Paul Simon', 'Pavement',\n",
       "       \"Paysage D'Hiver\", 'Pearl Jam', 'Pere Ubu', 'Pescado Rabioso',\n",
       "       'Pestilence', 'Pete La Roca', 'Pete Rock & C.L. Smooth',\n",
       "       'Peter Gabriel', 'Pharoah Sanders', 'Philip Glass',\n",
       "       'Pierre Boulez', 'Pierre Fournier', 'Pierre Hantaï', 'Pil',\n",
       "       'Pink Floyd', 'Pixies', 'Pj Harvey',\n",
       "       'Polish National Radio Symphony Orchestra / Antoni Wit / Zofia Kilanowicz',\n",
       "       'Popol Vuh', 'Porcupine Tree', 'Portishead', 'Prefab Sprout',\n",
       "       'Prince', 'Prince And The Revolution', 'Public Enemy', 'Pulp',\n",
       "       'Pusha T',\n",
       "       'Quatuor Arditti / Aldo Brizzi / Michiko Hirayama / Maurizio Ben Omar / Frank Lloyd',\n",
       "       'Queen', 'Queens Of The Stone Age', 'Queensrÿche', 'R.E.M.',\n",
       "       \"Racionais Mc'S\", 'Radiohead', 'Raekwon',\n",
       "       'Rage Against The Machine', 'Rainbow', 'Ramones',\n",
       "       'Red House Painters', 'Refused', 'Reinbert De Leeuw',\n",
       "       'Renaissance', 'Richard & Linda Thompson', 'Robbie Basho',\n",
       "       'Robert Wyatt', 'Roland Kirk', 'Roxy Music',\n",
       "       'Royal Concertgebouw Orchestra / Asko Ensemble / Riccardo Chailly',\n",
       "       'Run The Jewels', 'Rush',\n",
       "       'Russian State Symphonic Cappella / Valery Polyansky', 'Ryan Amon',\n",
       "       'Sade', 'Sagopa Kajmer', 'Santana', 'Scarface', 'Scott Engel',\n",
       "       'Scott Walker', 'Seatbelts', 'Sepultura', 'Serge Gainsbourg',\n",
       "       'Shiro Sagisu', 'Sigur Rós', 'Silvio Rodríguez',\n",
       "       'Simon & Garfunkel', 'Simon And Garfunkel',\n",
       "       'Sinfonieorchester Des Hessischen Rundfunks / Chor Des Bayerischen Rundfunks / Sinfonieorchester Des Südwestfunks / Michael Gielen / Wolfgang Schubert / Ernest Bour / Liliana Poli / Barbra Ericson / Antoinette Vischer',\n",
       "       'Siouxsie And The Banshees', 'Sixteen Horsepower', 'Slayer',\n",
       "       'Sleater-Kinney', 'Sleep', 'Slint', 'Slowdive',\n",
       "       'Sly & The Family Stone', 'Smashing Pumpkins', 'Snoop Doggy Dogg',\n",
       "       'Soft Machine', 'Songs: Ohia', 'Sonic Youth', 'Sonny Rollins',\n",
       "       'Sonny Sharrock', 'Soundgarden', 'Spiritualized®',\n",
       "       'Staatsorchester Stuttgart / Lithuanian Chamber Orchestra / The 12 Cellists Of The Berlin Philharmonic Orchestra / Dennis Russell Davies / Saulius Sondeckis / Gidon Kremer / Keith Jarrett / Tatjana Grindenko / Alfred Schnittke',\n",
       "       'Stan Getz & João Gilberto Featuring Antônio Carlos Jobim',\n",
       "       'Stars Of The Lid', 'Steely Dan', 'Stereolab', 'Steve Reich',\n",
       "       'Steve Reich And Musicians', 'Steve Roach', 'Steven Osborne',\n",
       "       'Stevie Wonder', 'Strapping Young Lad', 'Suede', 'Suffocation',\n",
       "       'Sufjan Stevens', 'Suicide', 'Sun Kil Moon', 'Sun Ra',\n",
       "       'Sun Ra And His Arkestra', 'Supertramp', 'Swans', 'Sweet Trip',\n",
       "       'System Of A Down', 'T. Rex', 'Takács Quartet', 'Talk Talk',\n",
       "       'Talking Heads', 'Tatiana Nikolayeva', 'Tears For Fears',\n",
       "       'Television', 'The Allman Brothers Band', 'The Avalanches',\n",
       "       'The Band', 'The Beach Boys', 'The Beatles',\n",
       "       'The Blasting Company', 'The Brave Little Abacus',\n",
       "       'The California Ear Unit', 'The Cannonball Adderley Quintet',\n",
       "       'The Chameleons', 'The Clash', 'The Congos', 'The Cure',\n",
       "       'The Dave Brubeck Quartet', 'The Dismemberment Plan', 'The Doors',\n",
       "       'The Fall', 'The Feelies', 'The Flaming Lips',\n",
       "       'The Horace Silver Quintet', \"The Jazz Composer'S Orchestra\",\n",
       "       'The Jimi Hendrix Experience', 'The John Coltrane Quartet',\n",
       "       'The Kinks', 'The Magnetic Fields',\n",
       "       'The Mahavishnu Orchestra With John Mclaughlin', 'The Mars Volta',\n",
       "       'The Microphones', 'The Modern Lovers', 'The Mothers',\n",
       "       'The Mothers Of Invention', 'The Mountain Goats', 'The National',\n",
       "       'The Notorious B.I.G.', 'The Ornette Coleman Double Quartet',\n",
       "       'The Pharcyde', 'The Pillows', 'The Pretty Things',\n",
       "       'The Replacements', 'The Rolling Stones', 'The Roots',\n",
       "       'The Smashing Pumpkins', 'The Smiths', 'The Sonny Criss Orchestra',\n",
       "       'The Sound', 'The Stone Roses', 'The Stooges', 'The Strokes',\n",
       "       'The Tale Quartet', 'The Thelonious Monk Quartet',\n",
       "       'The Velvet Underground', 'The Velvet Underground & Nico',\n",
       "       'The Who', 'The Zombies', 'Thelonious Monk',\n",
       "       'Thelonious Monk Septet', 'Thin Lizzy', 'This Heat',\n",
       "       'Three-6 Mafia', 'Tim Buckley', 'Tim Hecker',\n",
       "       'Toby \"Radiation\" Fox', 'Tom Waits', 'Tom Zé', 'Tool',\n",
       "       'Townes Van Zandt', 'Travis Scott', 'Tyler, The Creator', 'Ugk',\n",
       "       'Ulver', 'Unwound', 'Valve Studio Orchestra',\n",
       "       'Van Der Graaf Generator', 'Van Morrison', 'Various Artists',\n",
       "       'Viktor Vaughn', 'Vince Guaraldi', 'Violent Femmes', 'W.A.S.P.',\n",
       "       'Walter Carlos', 'Wayne Shorter', 'Weakling', 'Ween', 'Weezer',\n",
       "       'Weyes Blood', 'Widdly 2 Diddly',\n",
       "       'Wiener Philharmoniker / Carlos Kleiber',\n",
       "       'Wiener Philharmoniker / Herbert Von Karajan',\n",
       "       'Wiener Philharmoniker / Karl Böhm',\n",
       "       'Wiener Philharmoniker / Konzertvereinigung Wiener Staatsopernchor / Karl Böhm / Edith Mathis / Júlia Hamari / Wiesław Ochman / Karl Ridderbusch',\n",
       "       'Wiener Philharmoniker / Wiener Singverein / Herbert Von Karajan / Anna Tomowa-Sintow / Helga Müller-Molinari / Vinson Cole / Paata Burchuladze',\n",
       "       'Wilco', 'Wilhelm Furtwängler / Ludwig Suthaus / Kirsten Flagstad',\n",
       "       'Wipers', 'Wire', 'Wishbone Ash', 'Wu-Tang Clan', 'Xtc',\n",
       "       'Yasunori Mitsuda', 'Yes', 'Yo La Tengo', 'Yoko Kanno / Seatbelts',\n",
       "       'Академический Симфонический Оркестр Московской Государственной Филармонии / Кирилл Кондрашин [Kirill Kondrashin]',\n",
       "       '三宅優 [Yuu Miyake]', '下村陽子 [Yoko Shimomura]',\n",
       "       '下村陽子 [Yoko Shimomura] / Manami Kiyota / Ace+',\n",
       "       '久石譲 [Joe Hisaishi]',\n",
       "       '仲野順也 [Junya Nakano] / 浜渦正志 [Masashi Hamauzu] / 植松伸夫 [Nobuo Uematsu]',\n",
       "       '光田康典 [Yasunori Mitsuda]',\n",
       "       '増田順一 [Junichi Masuda], 一之瀬剛 [Go Ichinose] & 佐藤仁美 [Hitomi Sato]',\n",
       "       '大谷幸 [Ko Otani]', '奥河英樹 [Hideki Okugawa]',\n",
       "       '尾形雅史 [Masafumi Ogata] / 幡谷尚史 [Naofumi Hataya]',\n",
       "       '山岡晃 [Akira Yamaoka]', '山根ミチル [Michiru Yamane]',\n",
       "       '岡部啓一 [Keiichi Okabe] & 帆足圭吾 [Keigo Hoashi]',\n",
       "       '岡部啓一 [Keiichi Okabe], 石濱翔 [Kakeru Ishihama], 帆足圭吾 [Keigo Hoashi] & 隆文西村 [Takafumi Nishimura]',\n",
       "       '平沢進 [Susumu Hirasawa]', '植松伸夫 [Nobuo Uematsu]',\n",
       "       '椎名林檎 [Sheena Ringo]',\n",
       "       '永田権太 [Kenta Nagata], 若井淑 [Hajime Wakai], 峰岸透 [Toru Minegishi] & 近藤浩治 [Koji Kondo]',\n",
       "       '渋さ知らズ [Shibusashirazu]',\n",
       "       '片岡真央 [Manaka Kataoka] / 岩田恭明 [Yasuaki Iwata] / 若井淑 [Hajime Wakai]',\n",
       "       '牛尾憲輔 [Kensuke Ushio]',\n",
       "       '田中宏和 [Hirokazu Tanaka] & 鈴木慶一 [Keiichi Suzuki]',\n",
       "       '目黒将司 [Shoji Meguro]',\n",
       "       '目黒将司 [Shoji Meguro] / 田崎寿子 [Toshiko Tasaki] / 土屋憲一 [Kenichi Tsuchiya]',\n",
       "       '近藤浩治 [Koji Kondo]', '長沼英樹 [Hideki Naganuma]',\n",
       "       '青葉市子 [Ichiko Aoba]', '鷺巣詩郎 [Shiro Sagisu]',\n",
       "       '공중도둑 [Mid-Air Thief]', '이달의 소녀 오드아이써클 [Loona Odd Eye Circle]'],\n",
       "      dtype=object)"
      ]
     },
     "execution_count": 15,
     "metadata": {},
     "output_type": "execute_result"
    }
   ],
   "source": [
    "artist_name = top_1000['Artist Name'].sort_values().unique()\n",
    "artist_name"
   ]
  },
  {
   "cell_type": "markdown",
   "metadata": {},
   "source": [
    "There are the same author names but with different spellings. Like Academy of St Martin in the Fields and Academy of St Martin-in-the-Fields"
   ]
  },
  {
   "cell_type": "code",
   "execution_count": 16,
   "metadata": {},
   "outputs": [],
   "source": [
    "top_1000['Artist Name'] = top_1000['Artist Name'].str.replace('-',' ')\n",
    "top_1000['Artist Name'] = top_1000['Artist Name'].str.replace('&','/')\n",
    "top_1000['Artist Name'] = top_1000['Artist Name'].str.replace(' and ',' / ')\n",
    "top_1000['Artist Name'] = top_1000['Artist Name'].str.replace('with','/')\n",
    "top_1000['Artist Name'] = top_1000['Artist Name'].str.replace('featuring','/')"
   ]
  },
  {
   "cell_type": "code",
   "execution_count": 17,
   "metadata": {},
   "outputs": [
    {
     "data": {
      "text/plain": [
       "array(['*Namco Consumer Software Sound Team', 'A Tribe Called Quest',\n",
       "       'Academy Of St Martin In The Fields', 'Ace+', 'Acid Bath',\n",
       "       'Africa 70', 'Agalloch', 'Agnes Baltsa', 'Akira Yamaoka',\n",
       "       'Al Green', 'Alan Loveday', 'Aldo Brizzi', 'Alfred Schnittke',\n",
       "       'Alice Coltrane', 'Alice Coltrane Featuring Pharoah Sanders',\n",
       "       'Alice In Chains', 'American Football', 'Amon Düül Ii',\n",
       "       'Andreas Scholl', 'Andrew Hill', 'Andrew Lloyd Webber',\n",
       "       'Andrew Lloyd Webber And Tim Rice', 'Andrew Prahlow',\n",
       "       'Angelo Badalamenti', 'Animal Collective', 'Anna Tomowa Sintow',\n",
       "       'Anthony Braxton', 'Antoinette Vischer', 'Antoni Wit',\n",
       "       'Aphex Twin', 'Arcade Fire', 'Arditti String Quartet',\n",
       "       'Aretha Franklin', 'Arnold Schoenberg Chor', 'Art Blakey',\n",
       "       'Art Blakey And The Jazz Messengers', 'Artillery',\n",
       "       'Artur Rubinstein', 'Asko Ensemble',\n",
       "       'Astor Piazzolla And The New Tango Quintet', 'At The Drive In',\n",
       "       'Atheist', 'Autopsy', 'Avey Tare And Panda Bear', 'Bad Brains',\n",
       "       'Baden Powell', 'Barbra Ericson', 'Basil Poledouris', 'Bathory',\n",
       "       'Bbc Symphony Orchestra', 'Beach House', 'Beastie Boys',\n",
       "       'Belchior', 'Belle And Sebastian', 'Berlin Philharmonic Orchestra',\n",
       "       'Berliner Philharmoniker', 'Bernard Herrmann', 'Bernarda Fink',\n",
       "       'Big Black', 'Big L', 'Big Star', 'Björk', 'Black Midi',\n",
       "       'Black Sabbath', 'Black Star', 'Blind Guardian', 'Blondie',\n",
       "       'Blue Öyster Cult', 'Boards Of Canada', 'Bob Dylan', 'Bob Marley',\n",
       "       'Bob Marley And The Wailers', 'Bolt Thrower', 'Bon Iver',\n",
       "       'Boredoms', 'Boris', 'Brand New', 'Brian Eno',\n",
       "       'Brian Eno With Daniel Lanois', 'British Sea Power',\n",
       "       'Brockhampton', 'Broken Social Scene', 'Bruce Springsteen',\n",
       "       'Bruno Pernadas', 'Buena Vista Social Club', 'Built To Spill',\n",
       "       'Burial', 'Burzum', 'C.L. Smooth', 'C418', 'Caetano Veloso',\n",
       "       'Café Tacvba', 'Camel', 'Can', 'Candlemass', 'Candy Claws',\n",
       "       'Cannibal Ox', 'Cannonball Adderley',\n",
       "       'Captain Beefheart And His Magic Band', 'Car Seat Headrest',\n",
       "       'Caravan', 'Carcass', \"Carissa'S Wierd\", 'Carlos Kleiber',\n",
       "       'Carly Rae Jepsen', 'Cartola', 'Charles Mingus', 'Charlie Mingus',\n",
       "       'Chicago Symphony Orchestra', 'Chico Buarque', 'Chico Science',\n",
       "       'Chor Des Bayerischen Rundfunks', 'Christa Ludwig',\n",
       "       'Christine Schäfer', 'Christoph Prégardien', 'Christopher Larkin',\n",
       "       'Claudio Abbado', 'Claudio Arrau', 'Cleveland Orchestra',\n",
       "       'Clifford Brown And Max Roach', 'Clint Mansell', 'Clipping.',\n",
       "       'Clipse', 'Cocteau Twins', 'Coil', 'Colin Davis',\n",
       "       'Collegium Vocale Gent', 'Columbia Symphony Orchestra', 'Common',\n",
       "       'Comus', 'Concentus Musicus Wien', 'Converge', 'Coroner',\n",
       "       'Creedence Clearwater Revival', 'Crosby, Stills, Nash',\n",
       "       'Cryptopsy', 'Cunninlynguists', 'Curtis Mayfield', \"D'Angelo\",\n",
       "       \"D'Angelo And The Vanguard\", 'Dadawah', 'Daft Punk', 'Danny Brown',\n",
       "       'Danny Elfman', 'Darkthrone', 'Daughters', 'David Bowie',\n",
       "       'David Kauffman', 'David Lynch', 'David Wise', 'David Zinman',\n",
       "       'Dawn Upshaw', 'De La Soul', 'Dead Can Dance', 'Dead Kennedys',\n",
       "       'Death', 'Death Grips', 'Deathspell Omega', 'Deep Purple',\n",
       "       'Deftones', 'Deltron 3030', 'Demilich', 'Demolition Hammer',\n",
       "       'Dennis Russell Davies', 'Depeche Mode', 'Dexter Gordon',\n",
       "       'Diamond Head', 'Dietrich Henschel', 'Digable Planets', 'Dinosaur',\n",
       "       'Dio', 'Dismember', 'Dissection', 'Dj Shadow', 'Don Cherry',\n",
       "       'Dorothea Röschmann', 'Dr. Dre', 'Drive Like Jehu',\n",
       "       'Duke Ellington', 'Duster', 'Dusty Springfield', 'Earl Sweatshirt',\n",
       "       'Edge Of Sanity', 'Edith Mathis', 'Electric Wizard',\n",
       "       'Elisabeth Von Magnus', 'Ella Fitzgerald', 'Elliott Smith',\n",
       "       'Elton John', 'Elvis Costello', 'Emerson String Quartet',\n",
       "       'Emperor', 'Ennio Morricone', 'Ennio Morricone E La Sua Orchestra',\n",
       "       'Eno', 'Entombed', 'Eric Caboor', 'Eric Dolphy', 'Ernest Bour',\n",
       "       'Erykah Badu', 'Eveline Fischer', 'Evgeni Koroliov', 'Exuma',\n",
       "       'Fabrizio De André', 'Fairport Convention', 'Faith No More',\n",
       "       'Farazi V Kayra', 'Fat Jon', 'Faust', 'Fela',\n",
       "       'Fela Anikulapo Kuti And Afrika 70', 'Fela Ransome Kuti',\n",
       "       'Fiona Apple', 'Fishmans', 'Fka Twigs', 'Fleet Foxes',\n",
       "       'Fleetwood Mac', 'Flux Quartet', 'Flying Lotus', 'Frank Lloyd',\n",
       "       'Frank Ocean', 'Frank Zappa',\n",
       "       'Frank Zappa And The Mothers Of Invention', 'Franz Josef Selig',\n",
       "       'Freddie Gibbs', 'Fritz Wunderlich', 'Fugazi', 'Funkadelic',\n",
       "       'Fẹla And Afrika 70', 'Gal Costa', 'Gang Of Four', 'Gang Starr',\n",
       "       'Garfunkel', 'Geinoh Yamashirogumi', 'Gene Clark', 'Genesis',\n",
       "       'Genius/Gza', 'Georg Solti', 'George Harrison', 'Gerd Nienstedt',\n",
       "       'Ghostface Killah', 'Gidon Kremer', 'Gil Scott Heron',\n",
       "       'Glenn Branca', 'Glenn Gould', 'Godspeed You Black Emperor!',\n",
       "       'Godspeed You! Black Emperor', 'Gojira', 'Goodie Mob', 'Gorguts',\n",
       "       'Gorillaz', 'Grand Valley State University New Music Ensemble',\n",
       "       'Grant Green', 'Gravediggaz', 'Grouper', 'Guided By Voices',\n",
       "       'Gustavo Cerati', 'Have A Nice Life', 'Helen Donath',\n",
       "       'Helga Müller Molinari', 'Helloween', 'Henry Rollins',\n",
       "       'Herbert Von Karajan', 'Herbie Hancock', 'Howard Shore',\n",
       "       'Hüsker Dü', 'Ian Bostridge', 'Iggy And The Stooges', 'Iggy Pop',\n",
       "       'Igor Stravinsky', 'Immolation', 'Immortal', 'Incantation',\n",
       "       'Injury Reserve', 'Interpol', 'Invisible', 'Iron Maiden',\n",
       "       'Isaac Hayes', 'Isis', 'J Dilla', 'Jackson C. Frank',\n",
       "       'Jacques Brel', 'Janelle Monáe', 'Janet', 'Jay Z', 'Jeff Buckley',\n",
       "       'Jeff Rosenstock', 'Jeremy Soule', 'Jessie Ware', 'Jethro Tull',\n",
       "       'Joanna Newsom', 'John Alldis Choir', 'John Coltrane',\n",
       "       'John Coltrane Quartet', 'John Eliot Gardiner', 'John Fahey',\n",
       "       'John Lennon', 'John Martyn', 'John Williams', 'Johnny Cash',\n",
       "       'Joni Mitchell', 'Jorge Ben', 'José Van Dam', 'Joy Division',\n",
       "       'João Gilberto', 'João Gilberto Featuring Antônio Carlos Jobim',\n",
       "       'Judas Priest', 'Julee Cruise', 'Júlia Hamari', 'Kanye West',\n",
       "       'Karl Böhm', 'Karl Ridderbusch', 'Kate Bush', 'Keith Jarrett',\n",
       "       'Kendrick Lamar', 'Kevin Penkin', 'Kids See Ghosts',\n",
       "       'King Crimson', 'King Diamond',\n",
       "       'King Gizzard And The Lizard Wizard', 'Kirov Orchestra',\n",
       "       'Kirsten Flagstad', 'Klaus Schulze', 'Komeda Quintet',\n",
       "       'Konzertvereinigung Wiener Staatsopernchor', 'Kraftwerk',\n",
       "       'Krystian Zimerman', 'Kyuss', 'La Petite Bande',\n",
       "       'Lasalle Quartett', 'Lauryn Hill', 'Lcd Soundsystem',\n",
       "       'Le Mystère Des Voix Bulgares', 'Led Zeppelin', 'Lee Morgan',\n",
       "       'Leonard Bernstein', 'Leonard Cohen', 'Lev Markiz',\n",
       "       'Lil Ugly Mane', 'Liliana Poli', 'Linda Mccartney',\n",
       "       'Linda Thompson', 'Lithuanian Chamber Orchestra', 'Little Simz',\n",
       "       'London Sinfonietta', 'London Symphony Orchestra', 'Lou Reed',\n",
       "       'Love', 'Low', 'Ludwig Suthaus', 'Lô Borges', 'Mach Hommy',\n",
       "       'Madlib', 'Madvillain', 'Magdalena Bay', 'Magnolia Electric Co.',\n",
       "       'Manami Kiyota', 'Mario Galaxy Orchestra', 'Markus Schäfer',\n",
       "       'Martha Argerich', 'Marvin Gaye', 'Massive Attack', 'Mastodon',\n",
       "       'Matthias Goerne', 'Maudlin Of The Well', 'Maurizio Ben Omar',\n",
       "       'Maurizio Pollini', 'Max Roach',\n",
       "       'Max Roach And His Chorus And Orchestra', 'Mayhem', 'Mccoy Tyner',\n",
       "       'Megadeth', 'Mercyful Fate', 'Metallica', 'Mf Doom',\n",
       "       'Michael Gielen', 'Michael Jackson', 'Michael Schade',\n",
       "       'Michiko Hirayama', 'Mike Oldfield', 'Miles Davis',\n",
       "       'Miles Davis Quintet', 'Milton Nascimento', 'Mingus', 'Minutemen',\n",
       "       'Misfits', 'Mobb Deep', 'Modest Mouse', 'Moonsorrow',\n",
       "       'Morbid Angel', 'Mos Def', 'Motörhead', 'Mount Eerie',\n",
       "       'Mr. Bungle', 'Mutantes', 'My Bloody Valentine', 'Nas',\n",
       "       'Natural Snow Buildings', 'Nação Zumbi', 'Neil Young',\n",
       "       'Neil Young With Crazy Horse', 'Neu!', 'Neurosis',\n",
       "       'Neutral Milk Hotel', 'Neville Marriner', 'New Order',\n",
       "       'New Philharmonia Orchestra', 'New Stockholm Chamber Orchestra',\n",
       "       'New York Philharmonic', 'Nicholas Britell', 'Nick Cave',\n",
       "       'Nick Cave And The Bad Seeds', 'Nick Drake', 'Nico',\n",
       "       'Nikolaus Harnoncourt', 'Nina Simone', 'Nine Inch Nails',\n",
       "       'Nino Rota', 'Nirvana', 'Nomeansno', 'Novos Baianos', 'Nujabes',\n",
       "       'Ocean Machine', 'Oliver Nelson', 'Oliver Widmer', 'Opeth',\n",
       "       'Organized Konfusion', 'Ornette Coleman', 'Os Mutantes',\n",
       "       'Otis Redding', 'Otto Klemperer', 'Outkast', 'Paata Burchuladze',\n",
       "       'Panda Bear', 'Parliament', 'Pascal Rogé', 'Patti Smith', 'Paul',\n",
       "       'Paul Mccartney', 'Paul Simon', 'Pavement', \"Paysage D'Hiver\",\n",
       "       'Pearl Jam', 'Pere Ubu', 'Pescado Rabioso', 'Pestilence',\n",
       "       'Pete La Roca', 'Pete Rock', 'Peter Gabriel', 'Peter Schreier',\n",
       "       'Pharoah Sanders', 'Philharmonia Orchestra', 'Philip Glass',\n",
       "       'Philippe Herreweghe', 'Pierre Boulez', 'Pierre Fournier',\n",
       "       'Pierre Hantaï', 'Pil', 'Pink Floyd', 'Pixies', 'Pj Harvey',\n",
       "       'Plastic Ono Band', 'Polish National Radio Symphony Orchestra',\n",
       "       'Popol Vuh', 'Porcupine Tree', 'Portishead', 'Prefab Sprout',\n",
       "       'Prince', 'Prince And The Revolution', 'Public Enemy', 'Pulp',\n",
       "       'Pusha T', 'Quatuor Arditti', 'Queen', 'Queens Of The Stone Age',\n",
       "       'Queensrÿche', 'R.E.M.', \"Racionais Mc'S\", 'Radiohead', 'Raekwon',\n",
       "       'Rage Against The Machine', 'Rainbow', 'Ramones',\n",
       "       'Red House Painters', 'Refused', 'Reinbert De Leeuw',\n",
       "       'Renaissance', 'Riccardo Chailly', 'Richard', 'Robbie Basho',\n",
       "       'Robert Wyatt', 'Roger Eno', 'Roland Kirk', 'Roxy Music',\n",
       "       'Royal Concertgebouw Orchestra', 'Run The Jewels', 'Rush',\n",
       "       'Russian State Symphonic Cappella', 'Ryan Amon', 'Ryland Davies',\n",
       "       'Sade', 'Sagopa Kajmer', 'Santana', 'Saulius Sondeckis',\n",
       "       'Scarface', 'Scott Engel', 'Scott Walker', 'Seatbelts',\n",
       "       'Sepultura', 'Serge Gainsbourg', 'Shiro Sagisu', 'Sibylla Rubens',\n",
       "       'Sigiswald Kuijken', 'Sigur Rós', 'Silvio Rodríguez', 'Simon',\n",
       "       'Simon And Garfunkel',\n",
       "       'Sinfonieorchester Des Hessischen Rundfunks',\n",
       "       'Sinfonieorchester Des Südwestfunks', 'Siouxsie And The Banshees',\n",
       "       'Sixteen Horsepower', 'Slayer', 'Sleater Kinney', 'Sleep', 'Slint',\n",
       "       'Slowdive', 'Sly', 'Smashing Pumpkins', 'Snoop Doggy Dogg',\n",
       "       'Soft Machine', 'Songs: Ohia', 'Sonic Youth', 'Sonny Rollins',\n",
       "       'Sonny Sharrock', 'Soundgarden', 'Spiritualized®',\n",
       "       'Staatsorchester Stuttgart', 'Stan Getz', 'Stars Of The Lid',\n",
       "       'Steely Dan', 'Stereolab', 'Steve Reich',\n",
       "       'Steve Reich And Musicians', 'Steve Roach', 'Steven Osborne',\n",
       "       'Stevie Wonder', 'Strapping Young Lad', 'Suede', 'Suffocation',\n",
       "       'Sufjan Stevens', 'Suicide', 'Sun Kil Moon', 'Sun Ra',\n",
       "       'Sun Ra And His Arkestra', 'Supertramp', 'Swans', 'Sweet Trip',\n",
       "       'System Of A Down', 'T. Rex', 'Takács Quartet', 'Talk Talk',\n",
       "       'Talking Heads', 'Tatiana Nikolayeva', 'Tatjana Grindenko',\n",
       "       'Tears For Fears', 'Television',\n",
       "       'The 12 Cellists Of The Berlin Philharmonic Orchestra',\n",
       "       'The Africa 70', 'The Afrika 70', 'The Allman Brothers Band',\n",
       "       'The Avalanches', 'The Bad Seeds', 'The Band', 'The Beach Boys',\n",
       "       'The Beatles', 'The Blasting Company', 'The Brave Little Abacus',\n",
       "       'The California Ear Unit', 'The Cannonball Adderley Quintet',\n",
       "       'The Chameleons', 'The Clash', 'The Congos', 'The Cure',\n",
       "       'The Dave Brubeck Quartet', 'The Dismemberment Plan', 'The Doors',\n",
       "       'The Fall', 'The Family Stone', 'The Feelies', 'The Flaming Lips',\n",
       "       'The Horace Silver Quintet', \"The Jazz Composer'S Orchestra\",\n",
       "       'The Jazz Messengers', 'The Jimi Hendrix Experience',\n",
       "       'The John Coltrane Quartet', 'The Kinks', 'The Magnetic Fields',\n",
       "       'The Mahavishnu Orchestra With John Mclaughlin', 'The Mars Volta',\n",
       "       'The Microphones', 'The Modern Lovers', 'The Mothers',\n",
       "       'The Mothers Of Invention', 'The Mountain Goats', 'The National',\n",
       "       'The Notorious B.I.G.', 'The Ornette Coleman Double Quartet',\n",
       "       'The Pharcyde', 'The Pillows', 'The Pretty Things',\n",
       "       'The Replacements', 'The Rolling Stones', 'The Roots',\n",
       "       'The Smashing Pumpkins', 'The Smiths', 'The Sonny Criss Orchestra',\n",
       "       'The Sound', 'The Stone Roses', 'The Stooges', 'The Strokes',\n",
       "       'The Tale Quartet', 'The Thelonious Monk Quartet',\n",
       "       'The Velvet Underground', 'The Wailers', 'The Who', 'The Zombies',\n",
       "       'Thelonious Monk', 'Thelonious Monk Septet', 'Thin Lizzy',\n",
       "       'This Heat', 'Three 6 Mafia', 'Tim Buckley', 'Tim Hecker',\n",
       "       'Tim Rice', 'Toby \"Radiation\" Fox', 'Tom Waits', 'Tom Zé', 'Tool',\n",
       "       'Townes Van Zandt', 'Travis Scott', 'Tyler, The Creator', 'Ugk',\n",
       "       'Ulver', 'Unwound', 'Valery Gergiev', 'Valery Polyansky',\n",
       "       'Valve Studio Orchestra', 'Van Der Graaf Generator',\n",
       "       'Van Morrison', 'Various Artists', 'Vienna Singverein',\n",
       "       'Viktor Vaughn', 'Vince Guaraldi', 'Vinicius De Moraes',\n",
       "       'Vinson Cole', 'Violent Femmes', 'W.A.S.P.', 'Walter Carlos',\n",
       "       'Wayne Shorter', 'Weakling', 'Ween', 'Weezer', 'Werner Güra',\n",
       "       'Weyes Blood', 'Widdly 2 Diddly', 'Wiener Philharmoniker',\n",
       "       'Wiener Singverein', 'Wiener Sängerknaben', 'Wiesław Ochman',\n",
       "       'Wilco', 'Wilhelm Furtwängler', 'Wings', 'Wipers', 'Wire',\n",
       "       'Wishbone Ash', 'Wolfgang Schubert', 'Wu Tang Clan', 'Xtc',\n",
       "       'Yasunori Mitsuda', 'Yes', 'Yo La Tengo', 'Yoko Kanno', 'Young',\n",
       "       'Yvonne Minton', 'Zofia Kilanowicz',\n",
       "       'Академический Симфонический Оркестр Московской Государственной Филармонии',\n",
       "       'Кирилл Кондрашин [Kirill Kondrashin]', '三宅優 [Yuu Miyake]',\n",
       "       '下村陽子 [Yoko Shimomura]', '久石譲 [Joe Hisaishi]',\n",
       "       '仲野順也 [Junya Nakano]', '佐藤仁美 [Hitomi Sato]',\n",
       "       '光田康典 [Yasunori Mitsuda]', '土屋憲一 [Kenichi Tsuchiya]',\n",
       "       '増田順一 [Junichi Masuda], 一之瀬剛 [Go Ichinose]', '大谷幸 [Ko Otani]',\n",
       "       '奥河英樹 [Hideki Okugawa]', '尾形雅史 [Masafumi Ogata]',\n",
       "       '山岡晃 [Akira Yamaoka]', '山根ミチル [Michiru Yamane]',\n",
       "       '岡部啓一 [Keiichi Okabe]',\n",
       "       '岡部啓一 [Keiichi Okabe], 石濱翔 [Kakeru Ishihama], 帆足圭吾 [Keigo Hoashi]',\n",
       "       '岩田恭明 [Yasuaki Iwata]', '帆足圭吾 [Keigo Hoashi]',\n",
       "       '幡谷尚史 [Naofumi Hataya]', '平沢進 [Susumu Hirasawa]',\n",
       "       '植松伸夫 [Nobuo Uematsu]', '椎名林檎 [Sheena Ringo]',\n",
       "       '永田権太 [Kenta Nagata], 若井淑 [Hajime Wakai], 峰岸透 [Toru Minegishi]',\n",
       "       '浜渦正志 [Masashi Hamauzu]', '渋さ知らズ [Shibusashirazu]',\n",
       "       '片岡真央 [Manaka Kataoka]', '牛尾憲輔 [Kensuke Ushio]',\n",
       "       '田中宏和 [Hirokazu Tanaka]', '田崎寿子 [Toshiko Tasaki]',\n",
       "       '目黒将司 [Shoji Meguro]', '若井淑 [Hajime Wakai]', '近藤浩治 [Koji Kondo]',\n",
       "       '鈴木慶一 [Keiichi Suzuki]', '長沼英樹 [Hideki Naganuma]',\n",
       "       '隆文西村 [Takafumi Nishimura]', '青葉市子 [Ichiko Aoba]',\n",
       "       '鷺巣詩郎 [Shiro Sagisu]', '공중도둑 [Mid Air Thief]',\n",
       "       '이달의 소녀 오드아이써클 [Loona Odd Eye Circle]'], dtype=object)"
      ]
     },
     "execution_count": 17,
     "metadata": {},
     "output_type": "execute_result"
    }
   ],
   "source": [
    "top_1000['Artist Name'].str.split(' / ').explode().sort_values().unique()"
   ]
  },
  {
   "cell_type": "code",
   "execution_count": 18,
   "metadata": {},
   "outputs": [],
   "source": [
    "top_1000['Artist Name'] = top_1000['Artist Name'].str.replace('The Africa 70','Africa 70')\n",
    "top_1000['Artist Name'] = top_1000['Artist Name'].str.replace('The Afrika 70','Africa 70')\n",
    "top_1000['Artist Name'] = top_1000['Artist Name'].str.replace('Afrika 70','Africa 70')\n",
    "top_1000['Artist Name'] = top_1000['Artist Name'].str.replace('Fela Ransome Kuti','Fela Anikulapo Kuti')\n",
    "top_1000['Artist Name'] = top_1000['Artist Name'].str.replace('Berlin Philharmonic Orchestra','Berliner Philharmoniker')\n",
    "top_1000['Artist Name'] = top_1000['Artist Name'].str.replace('Charlie Mingus','Charles Mingus')\n",
    "top_1000['Artist Name'] = top_1000['Artist Name'].str.replace('The Thelonious Monk Quartet','Thelonious Monk')\n",
    "top_1000['Artist Name'] = top_1000['Artist Name'].str.replace('Thelonious Monk Septet','Thelonious Monk')\n",
    "top_1000['Artist Name'] = top_1000['Artist Name'].str.replace('Ennio Morricone e la sua orchestra','Ennio Morricone')\n",
    "top_1000['Artist Name'] = top_1000['Artist Name'].str.replace('/ Philharmonia Orchestra ','')"
   ]
  },
  {
   "cell_type": "markdown",
   "metadata": {},
   "source": [
    "now let's check genre column"
   ]
  },
  {
   "cell_type": "code",
   "execution_count": 19,
   "metadata": {},
   "outputs": [
    {
     "data": {
      "text/plain": [
       "array(['16-Bit', 'Abstract Hip Hop', 'Acid House', 'Acid Jazz',\n",
       "       'Acid Rock', 'Acoustic Rock', 'Afrobeat', 'Alt-Country',\n",
       "       'Alternative Dance', 'Alternative Metal', 'Alternative R&B',\n",
       "       'Alternative Rock', 'Ambient', 'Ambient Pop', 'Ambient Techno',\n",
       "       'American Folk Music', 'American Primitivism', 'Americana',\n",
       "       'Art Pop', 'Art Punk', 'Art Rock', 'Atmospheric Black Metal',\n",
       "       'Atmospheric Sludge Metal', 'Avant-Folk', 'Avant-Garde Jazz',\n",
       "       'Avant-Garde Metal', 'Avant-Prog', 'Baggy / Madchester',\n",
       "       'Baroque Music', 'Baroque Pop', 'Berlin School', 'Big Band',\n",
       "       'Big Beat', 'Black Metal', 'Blue-Eyed Soul', 'Blues Rock',\n",
       "       'Bolero', 'Boom Bap', 'Bossa Nova', 'Breakbeat',\n",
       "       'British Folk Rock', 'Britpop', 'Brutal Death Metal',\n",
       "       'Bulgarian Folk Music', 'Canterbury Scene', \"Canzone D'Autore\",\n",
       "       'Caribbean Folk Music', 'Chamber Folk', 'Chamber Music',\n",
       "       'Chamber Pop', 'Chanson À Texte', 'Chicago Soul', 'Chipmunk Soul',\n",
       "       'Choral', 'Christian Liturgical Music', 'Christmas Music',\n",
       "       'Cinematic Classical', 'Classical Period', 'Concerto',\n",
       "       'Conscious Hip Hop', 'Contemporary Folk', 'Contemporary R&B',\n",
       "       'Cool Jazz', 'Country', 'Country Rock', 'Dance', 'Dance-Pop',\n",
       "       'Dance-Punk', 'Dark Folk', 'Dark Jazz', 'Death Metal', 'Deep Soul',\n",
       "       'Dirty South', 'Disco', 'Doom Metal', 'Downtempo', 'Dream Pop',\n",
       "       'Drill And Bass', 'Drone', 'Drone Metal', 'Dubstep',\n",
       "       'East Coast Hip Hop', 'Electroacoustic', 'Electronic',\n",
       "       'Electronic Dance Music', 'Emo', 'Epic Doom Metal',\n",
       "       'Ethereal Wave', 'Experimental', 'Experimental Big Band',\n",
       "       'Experimental Hip Hop', 'Experimental Rock', 'Expressionism',\n",
       "       'Film Score', 'Film Soundtrack', 'Folk Metal', 'Folk Pop',\n",
       "       'Folk Punk', 'Folk Rock', 'Folktronica', 'Freak Folk', 'Free Folk',\n",
       "       'Free Jazz', 'French House', 'French Pop', 'Funk', 'Funk Rock',\n",
       "       'Future Bass', 'Future Garage', 'G-Funk', 'Gangsta Rap',\n",
       "       'Garage Rock', 'Garage Rock Revival', 'Glam Rock', 'Glitch Hop',\n",
       "       'Glitch Pop', 'Gothic Country', 'Gothic Rock', 'Grunge',\n",
       "       'Hard Bop', 'Hard Rock', 'Hardcore Hip Hop', 'Hardcore Punk',\n",
       "       'Heartland Rock', 'Heavy Metal', 'Hip Hop', 'Holiday Music',\n",
       "       'Horror Punk', 'Horrorcore', 'House', 'Idm', 'Impressionism',\n",
       "       'Indie Folk', 'Indie Pop', 'Indie Rock', 'Indietronica',\n",
       "       'Industrial', 'Industrial Hip Hop', 'Industrial Metal',\n",
       "       'Industrial Rock', 'Instrumental Hip Hop', 'J-Rock', 'Jam Band',\n",
       "       'Jangle Pop', 'Jazz', 'Jazz Fusion', 'Jazz Pop', 'Jazz Rap',\n",
       "       'Jazz-Funk', 'Jazz-Rock', 'K-Pop', 'Krautrock', 'Latin Rock',\n",
       "       'Lo-Fi / Slacker Rock', 'Lounge', 'Manguebeat', 'Math Rock',\n",
       "       'Mathcore', 'Melodic Black Metal', 'Melodic Death Metal',\n",
       "       'Memphis Rap', 'Metalcore', 'Midwest Emo', 'Minimal Synth',\n",
       "       'Minimalism', 'Modal Jazz', 'Modern Classical', 'Modern Creative',\n",
       "       'Mpb', 'Neo-Psychedelia', 'Neo-Soul', 'Neoclassical Darkwave',\n",
       "       'Neoclassical New Age', 'New Age', 'New Wave', 'No Wave',\n",
       "       'Noise Pop', 'Noise Rock', 'Nueva Trova', 'Nwobhm', 'Nyahbinghi',\n",
       "       'Opera', 'Oratorio', 'Orchestral', 'P-Funk', 'Pagan Black Metal',\n",
       "       'Piano Blues', 'Piano Rock', 'Picopop', 'Plunderphonics',\n",
       "       'Political Hip Hop', 'Polyphonic Chant', 'Pop', 'Pop Punk',\n",
       "       'Pop Rap', 'Pop Rock', 'Pop Soul', 'Post-Bop', 'Post-Hardcore',\n",
       "       'Post-Industrial', 'Post-Metal', 'Post-Punk', 'Post-Punk Revival',\n",
       "       'Post-Rock', 'Power Metal', 'Power Pop', 'Progressive Big Band',\n",
       "       'Progressive Folk', 'Progressive Metal', 'Progressive Pop',\n",
       "       'Progressive Rock', 'Proto-Punk', 'Psychedelic Folk',\n",
       "       'Psychedelic Pop', 'Psychedelic Rock', 'Psychedelic Soul',\n",
       "       'Punk Rock', 'Ragtime', 'Rap Metal', 'Rhythm & Blues',\n",
       "       'Ritual Ambient', 'Rock', 'Rock Opera', 'Romanticism',\n",
       "       'Roots Reggae', 'Roots Rock', 'Samba', 'Samba Soul', 'Samba-Choro',\n",
       "       'Samba-Jazz', 'Samba-Rock', 'Satire', 'Sequencer & Tracker',\n",
       "       'Serialism', 'Shibuya-Kei', 'Shoegaze', 'Show Tunes',\n",
       "       'Singer/Songwriter', 'Slowcore', 'Sludge Metal', 'Smooth Soul',\n",
       "       'Soft Rock', 'Son Cubano', 'Sophisti-Pop', 'Soul', 'Soul Jazz',\n",
       "       'Soundtracks', 'Southern Hip Hop', 'Southern Rock',\n",
       "       'Southern Soul', 'Space Ambient', 'Space Rock',\n",
       "       'Spaghetti Western', 'Spiritual Jazz', 'Spoken Word', 'Standards',\n",
       "       'Stoner Metal', 'Stoner Rock', 'Swamp Rock',\n",
       "       'Symphonic Black Metal', 'Symphonic Prog', 'Symphony',\n",
       "       'Synth Funk', 'Synth Punk', 'Synthpop', 'Tango Nuevo',\n",
       "       'Technical Death Metal', 'Technical Thrash Metal',\n",
       "       'Television Music', 'Third Stream', 'Thrash Metal', 'Totalism',\n",
       "       'Traditional Doom Metal', 'Trap', 'Trip Hop', 'Tropicália',\n",
       "       'Twee Pop', 'Uk Hip Hop', 'Video Game Music', 'Viking Metal',\n",
       "       'Vocal Jazz', 'West Coast Hip Hop', 'Western Classical Music',\n",
       "       'White Voice', 'Wonky'], dtype=object)"
      ]
     },
     "execution_count": 19,
     "metadata": {},
     "output_type": "execute_result"
    }
   ],
   "source": [
    "top_1000['Genres'].str.split(', ').explode().sort_values().unique()"
   ]
  },
  {
   "cell_type": "code",
   "execution_count": 20,
   "metadata": {},
   "outputs": [],
   "source": [
    "top_1000['Genres'] = top_1000['Genres'].str.replace('Americana','American').str.title()"
   ]
  },
  {
   "cell_type": "markdown",
   "metadata": {},
   "source": [
    "Now let's do the same with Descriptors column"
   ]
  },
  {
   "cell_type": "code",
   "execution_count": 21,
   "metadata": {},
   "outputs": [
    {
     "data": {
      "text/plain": [
       "array(['...', 'A Cappella', 'Abstract', 'Acoustic', 'Aggressive',\n",
       "       'Alcohol', 'Alienation', 'Anarchism', 'Androgynous Vocals',\n",
       "       'Angry', 'Anthemic', 'Anti-Religious', 'Anxious', 'Apathetic',\n",
       "       'Apocalyptic', 'Aquatic', 'Atmospheric', 'Atonal', 'Autumn',\n",
       "       'Avant-Garde', 'Ballad', 'Bittersweet', 'Boastful', 'Breakup',\n",
       "       'Calm', 'Chamber Music', 'Chaotic', 'Choral', 'Christian',\n",
       "       'Christmas', 'Cold', 'Complex', 'Concept Album', 'Concerto',\n",
       "       'Conscious', 'Crime', 'Cryptic', 'Dark', 'Deadpan', 'Death',\n",
       "       'Dense', 'Depressive', 'Desert', 'Dissonant', 'Disturbing',\n",
       "       'Drugs', 'Eclectic', 'Energetic', 'Ensemble', 'Epic', 'Ethereal',\n",
       "       'Existential', 'Fairy Tale', 'Fantasy', 'Female Vocals',\n",
       "       'Folklore', 'Forest', 'Funereal', 'Futuristic', 'Halloween',\n",
       "       'Happy', 'Hateful', 'Heavy', 'Hedonistic', 'History', 'Humorous',\n",
       "       'Hypnotic', 'Improvisation', 'Infernal', 'Instrumental',\n",
       "       'Introspective', 'Jingle', 'Lethargic', 'Lgbt', 'Lo-Fi', 'Lobit',\n",
       "       'Lonely', 'Longing', 'Love', 'Lush', 'Male Vocals', 'Manic',\n",
       "       'Martial', 'Mechanical', 'Medieval', 'Meditative', 'Medley',\n",
       "       'Melancholic', 'Mellow', 'Melodic', 'Microtonal', 'Minimalistic',\n",
       "       'Misanthropic', 'Mood', 'Mysterious', 'Mythology', 'Natural',\n",
       "       'Nature', 'Nihilistic', 'No Data', 'Nocturnal', 'Noisy', 'Occult',\n",
       "       'Ominous', 'Opera', 'Optimistic', 'Oratorio', 'Orchestral',\n",
       "       'Pagan', 'Paranormal', 'Party', 'Passionate', 'Pastoral',\n",
       "       'Peaceful', 'Pessimistic', 'Philosophical', 'Playful', 'Poetic',\n",
       "       'Political', 'Polyphonic', 'Progressive', 'Protest', 'Psychedelic',\n",
       "       'Quirky', 'Rain', 'Raw', 'Rebellious', 'Religious', 'Repetitive',\n",
       "       'Rhythmic', 'Ritualistic', 'Rock Opera', 'Romantic', 'Sad',\n",
       "       'Sampling', 'Sarcastic', 'Satanic', 'Satirical', 'Scary',\n",
       "       'Science Fiction', 'Seasonal', 'Self-Hatred', 'Sensual',\n",
       "       'Sentimental', 'Serious', 'Sexual', 'Soft', 'Sombre', 'Soothing',\n",
       "       'Space', 'Sparse', 'Spiritual', 'Sports', 'Spring',\n",
       "       'String Quartet', 'Suicide', 'Suite', 'Summer', 'Surreal',\n",
       "       'Suspenseful', 'Symphony', 'Technical', 'Tone Poem', 'Tribal',\n",
       "       'Triumphant', 'Tropical', 'Uncommon Time Signatures', 'Uplifting',\n",
       "       'Urban', 'Violence', 'Vocal Group', 'Vulgar', 'Wall Of Sound',\n",
       "       'War', 'Warm', 'Winter'], dtype=object)"
      ]
     },
     "execution_count": 21,
     "metadata": {},
     "output_type": "execute_result"
    }
   ],
   "source": [
    "top_1000['Descriptors'].str.split(', ').explode().sort_values().unique()"
   ]
  },
  {
   "cell_type": "markdown",
   "metadata": {},
   "source": [
    "# Prepare Data for visualization"
   ]
  },
  {
   "cell_type": "code",
   "execution_count": 22,
   "metadata": {},
   "outputs": [],
   "source": [
    "# Genre and Descriptors of 1000 top song\n",
    "genre_count = top_1000['Genres'].str.split(', ').explode().value_counts()\n",
    "genre_count = pd.DataFrame(genre_count).reset_index()\n",
    "genre_count.columns = ['genre','count']\n",
    "\n",
    "descriptors_count = top_1000['Descriptors'].str.split(', ').explode().value_counts()\n",
    "descriptors_count = pd.DataFrame(descriptors_count).reset_index()\n",
    "descriptors_count.columns = ['decriptors','count']"
   ]
  },
  {
   "cell_type": "code",
   "execution_count": 23,
   "metadata": {},
   "outputs": [],
   "source": [
    "# Who made the most top 1000 albums and what era of these albums were release\n",
    "artist_count = top_1000['Artist Name'].str.split(' / ').explode().value_counts()\n",
    "artist_count = pd.DataFrame(artist_count).reset_index()\n",
    "artist_count.columns = ['artist','count']"
   ]
  },
  {
   "cell_type": "code",
   "execution_count": 24,
   "metadata": {},
   "outputs": [],
   "source": [
    "# Top 20 albums by rating\n",
    "year_count = df['year_release'].value_counts()\n",
    "year_count = pd.DataFrame(year_count).reset_index()\n",
    "year_count.columns = ['Year','Albums count']\n",
    "year_count.sort_values('Year',inplace = True)\n",
    "highest_rating = top_1000.sort_values('Average Rating',ascending= False).head(20)[['Album','Average Rating']]\n"
   ]
  },
  {
   "cell_type": "markdown",
   "metadata": {},
   "source": [
    "# Data visualization"
   ]
  },
  {
   "cell_type": "code",
   "execution_count": 25,
   "metadata": {},
   "outputs": [
    {
     "data": {
      "text/html": [
       "<div>\n",
       "<style scoped>\n",
       "    .dataframe tbody tr th:only-of-type {\n",
       "        vertical-align: middle;\n",
       "    }\n",
       "\n",
       "    .dataframe tbody tr th {\n",
       "        vertical-align: top;\n",
       "    }\n",
       "\n",
       "    .dataframe thead th {\n",
       "        text-align: right;\n",
       "    }\n",
       "</style>\n",
       "<table border=\"1\" class=\"dataframe\">\n",
       "  <thead>\n",
       "    <tr style=\"text-align: right;\">\n",
       "      <th></th>\n",
       "      <th>artist</th>\n",
       "      <th>count</th>\n",
       "    </tr>\n",
       "  </thead>\n",
       "  <tbody>\n",
       "    <tr>\n",
       "      <th>0</th>\n",
       "      <td>John Coltrane</td>\n",
       "      <td>9</td>\n",
       "    </tr>\n",
       "    <tr>\n",
       "      <th>1</th>\n",
       "      <td>Miles Davis</td>\n",
       "      <td>9</td>\n",
       "    </tr>\n",
       "    <tr>\n",
       "      <th>2</th>\n",
       "      <td>David Bowie</td>\n",
       "      <td>8</td>\n",
       "    </tr>\n",
       "    <tr>\n",
       "      <th>3</th>\n",
       "      <td>Wiener Philharmoniker</td>\n",
       "      <td>7</td>\n",
       "    </tr>\n",
       "    <tr>\n",
       "      <th>4</th>\n",
       "      <td>Swans</td>\n",
       "      <td>7</td>\n",
       "    </tr>\n",
       "    <tr>\n",
       "      <th>5</th>\n",
       "      <td>Herbert Von Karajan</td>\n",
       "      <td>7</td>\n",
       "    </tr>\n",
       "    <tr>\n",
       "      <th>6</th>\n",
       "      <td>Black Sabbath</td>\n",
       "      <td>7</td>\n",
       "    </tr>\n",
       "    <tr>\n",
       "      <th>7</th>\n",
       "      <td>Led Zeppelin</td>\n",
       "      <td>6</td>\n",
       "    </tr>\n",
       "    <tr>\n",
       "      <th>8</th>\n",
       "      <td>Berliner Philharmoniker</td>\n",
       "      <td>6</td>\n",
       "    </tr>\n",
       "    <tr>\n",
       "      <th>9</th>\n",
       "      <td>Bob Dylan</td>\n",
       "      <td>6</td>\n",
       "    </tr>\n",
       "    <tr>\n",
       "      <th>10</th>\n",
       "      <td>Tom Waits</td>\n",
       "      <td>6</td>\n",
       "    </tr>\n",
       "    <tr>\n",
       "      <th>11</th>\n",
       "      <td>Iron Maiden</td>\n",
       "      <td>6</td>\n",
       "    </tr>\n",
       "    <tr>\n",
       "      <th>12</th>\n",
       "      <td>Radiohead</td>\n",
       "      <td>6</td>\n",
       "    </tr>\n",
       "    <tr>\n",
       "      <th>13</th>\n",
       "      <td>Pink Floyd</td>\n",
       "      <td>6</td>\n",
       "    </tr>\n",
       "    <tr>\n",
       "      <th>14</th>\n",
       "      <td>The Beatles</td>\n",
       "      <td>6</td>\n",
       "    </tr>\n",
       "    <tr>\n",
       "      <th>15</th>\n",
       "      <td>Judas Priest</td>\n",
       "      <td>5</td>\n",
       "    </tr>\n",
       "    <tr>\n",
       "      <th>16</th>\n",
       "      <td>Charles Mingus</td>\n",
       "      <td>5</td>\n",
       "    </tr>\n",
       "    <tr>\n",
       "      <th>17</th>\n",
       "      <td>Death</td>\n",
       "      <td>5</td>\n",
       "    </tr>\n",
       "    <tr>\n",
       "      <th>18</th>\n",
       "      <td>Kanye West</td>\n",
       "      <td>5</td>\n",
       "    </tr>\n",
       "    <tr>\n",
       "      <th>19</th>\n",
       "      <td>植松伸夫 [Nobuo Uematsu]</td>\n",
       "      <td>5</td>\n",
       "    </tr>\n",
       "  </tbody>\n",
       "</table>\n",
       "</div>"
      ],
      "text/plain": [
       "                     artist  count\n",
       "0             John Coltrane      9\n",
       "1               Miles Davis      9\n",
       "2               David Bowie      8\n",
       "3     Wiener Philharmoniker      7\n",
       "4                     Swans      7\n",
       "5       Herbert Von Karajan      7\n",
       "6             Black Sabbath      7\n",
       "7              Led Zeppelin      6\n",
       "8   Berliner Philharmoniker      6\n",
       "9                 Bob Dylan      6\n",
       "10                Tom Waits      6\n",
       "11              Iron Maiden      6\n",
       "12                Radiohead      6\n",
       "13               Pink Floyd      6\n",
       "14              The Beatles      6\n",
       "15             Judas Priest      5\n",
       "16           Charles Mingus      5\n",
       "17                    Death      5\n",
       "18               Kanye West      5\n",
       "19     植松伸夫 [Nobuo Uematsu]      5"
      ]
     },
     "execution_count": 25,
     "metadata": {},
     "output_type": "execute_result"
    }
   ],
   "source": [
    "top_genre =  genre_count.iloc[0:10]\n",
    "top_descriptors = descriptors_count.iloc[0:10]\n",
    "top_artist = artist_count.iloc[0:20]\n",
    "top_artist"
   ]
  },
  {
   "cell_type": "code",
   "execution_count": 26,
   "metadata": {},
   "outputs": [
    {
     "data": {
      "application/vnd.plotly.v1+json": {
       "config": {
        "plotlyServerURL": "https://plot.ly"
       },
       "data": [
        {
         "hovertemplate": "Year=%{x}<br>Albums count=%{y}<extra></extra>",
         "legendgroup": "",
         "line": {
          "color": "#636efa",
          "dash": "solid"
         },
         "marker": {
          "symbol": "circle"
         },
         "mode": "lines",
         "name": "",
         "orientation": "v",
         "showlegend": false,
         "type": "scatter",
         "x": [
          1947,
          1951,
          1952,
          1953,
          1954,
          1955,
          1956,
          1957,
          1958,
          1959,
          1960,
          1961,
          1962,
          1963,
          1964,
          1965,
          1966,
          1967,
          1968,
          1969,
          1970,
          1971,
          1972,
          1973,
          1974,
          1975,
          1976,
          1977,
          1978,
          1979,
          1980,
          1981,
          1982,
          1983,
          1984,
          1985,
          1986,
          1987,
          1988,
          1989,
          1990,
          1991,
          1992,
          1993,
          1994,
          1995,
          1996,
          1997,
          1998,
          1999,
          2000,
          2001,
          2002,
          2003,
          2004,
          2005,
          2006,
          2007,
          2008,
          2009,
          2010,
          2011,
          2012,
          2013,
          2014,
          2015,
          2016,
          2017,
          2018,
          2019,
          2020,
          2021
         ],
         "xaxis": "x",
         "y": [
          1,
          1,
          1,
          2,
          6,
          8,
          15,
          24,
          25,
          38,
          23,
          31,
          35,
          29,
          44,
          52,
          58,
          80,
          85,
          127,
          142,
          160,
          144,
          159,
          132,
          120,
          89,
          101,
          94,
          91,
          74,
          55,
          66,
          58,
          70,
          64,
          72,
          66,
          80,
          83,
          75,
          88,
          97,
          102,
          135,
          123,
          120,
          116,
          116,
          108,
          109,
          108,
          105,
          109,
          98,
          104,
          81,
          67,
          47,
          54,
          43,
          40,
          30,
          41,
          36,
          37,
          49,
          44,
          36,
          26,
          31,
          20
         ],
         "yaxis": "y"
        }
       ],
       "layout": {
        "legend": {
         "tracegroupgap": 0
        },
        "template": {
         "data": {
          "bar": [
           {
            "error_x": {
             "color": "#2a3f5f"
            },
            "error_y": {
             "color": "#2a3f5f"
            },
            "marker": {
             "line": {
              "color": "#E5ECF6",
              "width": 0.5
             },
             "pattern": {
              "fillmode": "overlay",
              "size": 10,
              "solidity": 0.2
             }
            },
            "type": "bar"
           }
          ],
          "barpolar": [
           {
            "marker": {
             "line": {
              "color": "#E5ECF6",
              "width": 0.5
             },
             "pattern": {
              "fillmode": "overlay",
              "size": 10,
              "solidity": 0.2
             }
            },
            "type": "barpolar"
           }
          ],
          "carpet": [
           {
            "aaxis": {
             "endlinecolor": "#2a3f5f",
             "gridcolor": "white",
             "linecolor": "white",
             "minorgridcolor": "white",
             "startlinecolor": "#2a3f5f"
            },
            "baxis": {
             "endlinecolor": "#2a3f5f",
             "gridcolor": "white",
             "linecolor": "white",
             "minorgridcolor": "white",
             "startlinecolor": "#2a3f5f"
            },
            "type": "carpet"
           }
          ],
          "choropleth": [
           {
            "colorbar": {
             "outlinewidth": 0,
             "ticks": ""
            },
            "type": "choropleth"
           }
          ],
          "contour": [
           {
            "colorbar": {
             "outlinewidth": 0,
             "ticks": ""
            },
            "colorscale": [
             [
              0,
              "#0d0887"
             ],
             [
              0.1111111111111111,
              "#46039f"
             ],
             [
              0.2222222222222222,
              "#7201a8"
             ],
             [
              0.3333333333333333,
              "#9c179e"
             ],
             [
              0.4444444444444444,
              "#bd3786"
             ],
             [
              0.5555555555555556,
              "#d8576b"
             ],
             [
              0.6666666666666666,
              "#ed7953"
             ],
             [
              0.7777777777777778,
              "#fb9f3a"
             ],
             [
              0.8888888888888888,
              "#fdca26"
             ],
             [
              1,
              "#f0f921"
             ]
            ],
            "type": "contour"
           }
          ],
          "contourcarpet": [
           {
            "colorbar": {
             "outlinewidth": 0,
             "ticks": ""
            },
            "type": "contourcarpet"
           }
          ],
          "heatmap": [
           {
            "colorbar": {
             "outlinewidth": 0,
             "ticks": ""
            },
            "colorscale": [
             [
              0,
              "#0d0887"
             ],
             [
              0.1111111111111111,
              "#46039f"
             ],
             [
              0.2222222222222222,
              "#7201a8"
             ],
             [
              0.3333333333333333,
              "#9c179e"
             ],
             [
              0.4444444444444444,
              "#bd3786"
             ],
             [
              0.5555555555555556,
              "#d8576b"
             ],
             [
              0.6666666666666666,
              "#ed7953"
             ],
             [
              0.7777777777777778,
              "#fb9f3a"
             ],
             [
              0.8888888888888888,
              "#fdca26"
             ],
             [
              1,
              "#f0f921"
             ]
            ],
            "type": "heatmap"
           }
          ],
          "heatmapgl": [
           {
            "colorbar": {
             "outlinewidth": 0,
             "ticks": ""
            },
            "colorscale": [
             [
              0,
              "#0d0887"
             ],
             [
              0.1111111111111111,
              "#46039f"
             ],
             [
              0.2222222222222222,
              "#7201a8"
             ],
             [
              0.3333333333333333,
              "#9c179e"
             ],
             [
              0.4444444444444444,
              "#bd3786"
             ],
             [
              0.5555555555555556,
              "#d8576b"
             ],
             [
              0.6666666666666666,
              "#ed7953"
             ],
             [
              0.7777777777777778,
              "#fb9f3a"
             ],
             [
              0.8888888888888888,
              "#fdca26"
             ],
             [
              1,
              "#f0f921"
             ]
            ],
            "type": "heatmapgl"
           }
          ],
          "histogram": [
           {
            "marker": {
             "pattern": {
              "fillmode": "overlay",
              "size": 10,
              "solidity": 0.2
             }
            },
            "type": "histogram"
           }
          ],
          "histogram2d": [
           {
            "colorbar": {
             "outlinewidth": 0,
             "ticks": ""
            },
            "colorscale": [
             [
              0,
              "#0d0887"
             ],
             [
              0.1111111111111111,
              "#46039f"
             ],
             [
              0.2222222222222222,
              "#7201a8"
             ],
             [
              0.3333333333333333,
              "#9c179e"
             ],
             [
              0.4444444444444444,
              "#bd3786"
             ],
             [
              0.5555555555555556,
              "#d8576b"
             ],
             [
              0.6666666666666666,
              "#ed7953"
             ],
             [
              0.7777777777777778,
              "#fb9f3a"
             ],
             [
              0.8888888888888888,
              "#fdca26"
             ],
             [
              1,
              "#f0f921"
             ]
            ],
            "type": "histogram2d"
           }
          ],
          "histogram2dcontour": [
           {
            "colorbar": {
             "outlinewidth": 0,
             "ticks": ""
            },
            "colorscale": [
             [
              0,
              "#0d0887"
             ],
             [
              0.1111111111111111,
              "#46039f"
             ],
             [
              0.2222222222222222,
              "#7201a8"
             ],
             [
              0.3333333333333333,
              "#9c179e"
             ],
             [
              0.4444444444444444,
              "#bd3786"
             ],
             [
              0.5555555555555556,
              "#d8576b"
             ],
             [
              0.6666666666666666,
              "#ed7953"
             ],
             [
              0.7777777777777778,
              "#fb9f3a"
             ],
             [
              0.8888888888888888,
              "#fdca26"
             ],
             [
              1,
              "#f0f921"
             ]
            ],
            "type": "histogram2dcontour"
           }
          ],
          "mesh3d": [
           {
            "colorbar": {
             "outlinewidth": 0,
             "ticks": ""
            },
            "type": "mesh3d"
           }
          ],
          "parcoords": [
           {
            "line": {
             "colorbar": {
              "outlinewidth": 0,
              "ticks": ""
             }
            },
            "type": "parcoords"
           }
          ],
          "pie": [
           {
            "automargin": true,
            "type": "pie"
           }
          ],
          "scatter": [
           {
            "marker": {
             "colorbar": {
              "outlinewidth": 0,
              "ticks": ""
             }
            },
            "type": "scatter"
           }
          ],
          "scatter3d": [
           {
            "line": {
             "colorbar": {
              "outlinewidth": 0,
              "ticks": ""
             }
            },
            "marker": {
             "colorbar": {
              "outlinewidth": 0,
              "ticks": ""
             }
            },
            "type": "scatter3d"
           }
          ],
          "scattercarpet": [
           {
            "marker": {
             "colorbar": {
              "outlinewidth": 0,
              "ticks": ""
             }
            },
            "type": "scattercarpet"
           }
          ],
          "scattergeo": [
           {
            "marker": {
             "colorbar": {
              "outlinewidth": 0,
              "ticks": ""
             }
            },
            "type": "scattergeo"
           }
          ],
          "scattergl": [
           {
            "marker": {
             "colorbar": {
              "outlinewidth": 0,
              "ticks": ""
             }
            },
            "type": "scattergl"
           }
          ],
          "scattermapbox": [
           {
            "marker": {
             "colorbar": {
              "outlinewidth": 0,
              "ticks": ""
             }
            },
            "type": "scattermapbox"
           }
          ],
          "scatterpolar": [
           {
            "marker": {
             "colorbar": {
              "outlinewidth": 0,
              "ticks": ""
             }
            },
            "type": "scatterpolar"
           }
          ],
          "scatterpolargl": [
           {
            "marker": {
             "colorbar": {
              "outlinewidth": 0,
              "ticks": ""
             }
            },
            "type": "scatterpolargl"
           }
          ],
          "scatterternary": [
           {
            "marker": {
             "colorbar": {
              "outlinewidth": 0,
              "ticks": ""
             }
            },
            "type": "scatterternary"
           }
          ],
          "surface": [
           {
            "colorbar": {
             "outlinewidth": 0,
             "ticks": ""
            },
            "colorscale": [
             [
              0,
              "#0d0887"
             ],
             [
              0.1111111111111111,
              "#46039f"
             ],
             [
              0.2222222222222222,
              "#7201a8"
             ],
             [
              0.3333333333333333,
              "#9c179e"
             ],
             [
              0.4444444444444444,
              "#bd3786"
             ],
             [
              0.5555555555555556,
              "#d8576b"
             ],
             [
              0.6666666666666666,
              "#ed7953"
             ],
             [
              0.7777777777777778,
              "#fb9f3a"
             ],
             [
              0.8888888888888888,
              "#fdca26"
             ],
             [
              1,
              "#f0f921"
             ]
            ],
            "type": "surface"
           }
          ],
          "table": [
           {
            "cells": {
             "fill": {
              "color": "#EBF0F8"
             },
             "line": {
              "color": "white"
             }
            },
            "header": {
             "fill": {
              "color": "#C8D4E3"
             },
             "line": {
              "color": "white"
             }
            },
            "type": "table"
           }
          ]
         },
         "layout": {
          "annotationdefaults": {
           "arrowcolor": "#2a3f5f",
           "arrowhead": 0,
           "arrowwidth": 1
          },
          "autotypenumbers": "strict",
          "coloraxis": {
           "colorbar": {
            "outlinewidth": 0,
            "ticks": ""
           }
          },
          "colorscale": {
           "diverging": [
            [
             0,
             "#8e0152"
            ],
            [
             0.1,
             "#c51b7d"
            ],
            [
             0.2,
             "#de77ae"
            ],
            [
             0.3,
             "#f1b6da"
            ],
            [
             0.4,
             "#fde0ef"
            ],
            [
             0.5,
             "#f7f7f7"
            ],
            [
             0.6,
             "#e6f5d0"
            ],
            [
             0.7,
             "#b8e186"
            ],
            [
             0.8,
             "#7fbc41"
            ],
            [
             0.9,
             "#4d9221"
            ],
            [
             1,
             "#276419"
            ]
           ],
           "sequential": [
            [
             0,
             "#0d0887"
            ],
            [
             0.1111111111111111,
             "#46039f"
            ],
            [
             0.2222222222222222,
             "#7201a8"
            ],
            [
             0.3333333333333333,
             "#9c179e"
            ],
            [
             0.4444444444444444,
             "#bd3786"
            ],
            [
             0.5555555555555556,
             "#d8576b"
            ],
            [
             0.6666666666666666,
             "#ed7953"
            ],
            [
             0.7777777777777778,
             "#fb9f3a"
            ],
            [
             0.8888888888888888,
             "#fdca26"
            ],
            [
             1,
             "#f0f921"
            ]
           ],
           "sequentialminus": [
            [
             0,
             "#0d0887"
            ],
            [
             0.1111111111111111,
             "#46039f"
            ],
            [
             0.2222222222222222,
             "#7201a8"
            ],
            [
             0.3333333333333333,
             "#9c179e"
            ],
            [
             0.4444444444444444,
             "#bd3786"
            ],
            [
             0.5555555555555556,
             "#d8576b"
            ],
            [
             0.6666666666666666,
             "#ed7953"
            ],
            [
             0.7777777777777778,
             "#fb9f3a"
            ],
            [
             0.8888888888888888,
             "#fdca26"
            ],
            [
             1,
             "#f0f921"
            ]
           ]
          },
          "colorway": [
           "#636efa",
           "#EF553B",
           "#00cc96",
           "#ab63fa",
           "#FFA15A",
           "#19d3f3",
           "#FF6692",
           "#B6E880",
           "#FF97FF",
           "#FECB52"
          ],
          "font": {
           "color": "#2a3f5f"
          },
          "geo": {
           "bgcolor": "white",
           "lakecolor": "white",
           "landcolor": "#E5ECF6",
           "showlakes": true,
           "showland": true,
           "subunitcolor": "white"
          },
          "hoverlabel": {
           "align": "left"
          },
          "hovermode": "closest",
          "mapbox": {
           "style": "light"
          },
          "paper_bgcolor": "white",
          "plot_bgcolor": "#E5ECF6",
          "polar": {
           "angularaxis": {
            "gridcolor": "white",
            "linecolor": "white",
            "ticks": ""
           },
           "bgcolor": "#E5ECF6",
           "radialaxis": {
            "gridcolor": "white",
            "linecolor": "white",
            "ticks": ""
           }
          },
          "scene": {
           "xaxis": {
            "backgroundcolor": "#E5ECF6",
            "gridcolor": "white",
            "gridwidth": 2,
            "linecolor": "white",
            "showbackground": true,
            "ticks": "",
            "zerolinecolor": "white"
           },
           "yaxis": {
            "backgroundcolor": "#E5ECF6",
            "gridcolor": "white",
            "gridwidth": 2,
            "linecolor": "white",
            "showbackground": true,
            "ticks": "",
            "zerolinecolor": "white"
           },
           "zaxis": {
            "backgroundcolor": "#E5ECF6",
            "gridcolor": "white",
            "gridwidth": 2,
            "linecolor": "white",
            "showbackground": true,
            "ticks": "",
            "zerolinecolor": "white"
           }
          },
          "shapedefaults": {
           "line": {
            "color": "#2a3f5f"
           }
          },
          "ternary": {
           "aaxis": {
            "gridcolor": "white",
            "linecolor": "white",
            "ticks": ""
           },
           "baxis": {
            "gridcolor": "white",
            "linecolor": "white",
            "ticks": ""
           },
           "bgcolor": "#E5ECF6",
           "caxis": {
            "gridcolor": "white",
            "linecolor": "white",
            "ticks": ""
           }
          },
          "title": {
           "x": 0.05
          },
          "xaxis": {
           "automargin": true,
           "gridcolor": "white",
           "linecolor": "white",
           "ticks": "",
           "title": {
            "standoff": 15
           },
           "zerolinecolor": "white",
           "zerolinewidth": 2
          },
          "yaxis": {
           "automargin": true,
           "gridcolor": "white",
           "linecolor": "white",
           "ticks": "",
           "title": {
            "standoff": 15
           },
           "zerolinecolor": "white",
           "zerolinewidth": 2
          }
         }
        },
        "title": {
         "text": "Top 1000 albums released each year"
        },
        "xaxis": {
         "anchor": "y",
         "domain": [
          0,
          1
         ],
         "title": {
          "text": "Year"
         }
        },
        "yaxis": {
         "anchor": "x",
         "domain": [
          0,
          1
         ],
         "title": {
          "text": "Albums count"
         }
        }
       }
      }
     },
     "metadata": {},
     "output_type": "display_data"
    }
   ],
   "source": [
    "px.line(year_count,x = 'Year',y = 'Albums count',title = 'Top 1000 albums released each year')"
   ]
  },
  {
   "cell_type": "code",
   "execution_count": 27,
   "metadata": {},
   "outputs": [
    {
     "data": {
      "application/vnd.plotly.v1+json": {
       "config": {
        "plotlyServerURL": "https://plot.ly"
       },
       "data": [
        {
         "cells": {
          "fill": {
           "color": "White"
          },
          "line": {
           "color": "darkslategray"
          },
          "values": [
           [
            "The Black Saint and the Sinner Lady",
            "In the Court of the Crimson King",
            "A Love Supreme",
            "Wish You Were Here",
            "To Pimp a Butterfly",
            "Madvillainy",
            "The Rise and Fall of Ziggy Stardust and the Spiders From Mars",
            "Abbey Road",
            "Remain in Light",
            "Loveless",
            "OK Computer",
            "Kind of Blue",
            "Revolver",
            "The Velvet Underground & Nico",
            "Kid A",
            "Red",
            "In a Silent Way",
            "Illmatic",
            "The Dark Side of the Moon",
            "good kid, m.A.A.d city"
           ],
           [
            4.34,
            4.3,
            4.3,
            4.29,
            4.27,
            4.26,
            4.26,
            4.25,
            4.25,
            4.24,
            4.23,
            4.23,
            4.23,
            4.23,
            4.21,
            4.21,
            4.21,
            4.2,
            4.2,
            4.2
           ]
          ]
         },
         "columnorder": [
          1,
          2
         ],
         "columnwidth": [
          100,
          50
         ],
         "header": {
          "fill": {
           "color": "Salmon"
          },
          "height": 30,
          "line": {
           "color": "darkslategray"
          },
          "values": [
           "Album",
           "Average Rating"
          ]
         },
         "type": "table"
        }
       ],
       "layout": {
        "font": {
         "color": "black",
         "family": "Arial",
         "size": 12
        },
        "showlegend": false,
        "template": {
         "data": {
          "bar": [
           {
            "error_x": {
             "color": "#2a3f5f"
            },
            "error_y": {
             "color": "#2a3f5f"
            },
            "marker": {
             "line": {
              "color": "#E5ECF6",
              "width": 0.5
             },
             "pattern": {
              "fillmode": "overlay",
              "size": 10,
              "solidity": 0.2
             }
            },
            "type": "bar"
           }
          ],
          "barpolar": [
           {
            "marker": {
             "line": {
              "color": "#E5ECF6",
              "width": 0.5
             },
             "pattern": {
              "fillmode": "overlay",
              "size": 10,
              "solidity": 0.2
             }
            },
            "type": "barpolar"
           }
          ],
          "carpet": [
           {
            "aaxis": {
             "endlinecolor": "#2a3f5f",
             "gridcolor": "white",
             "linecolor": "white",
             "minorgridcolor": "white",
             "startlinecolor": "#2a3f5f"
            },
            "baxis": {
             "endlinecolor": "#2a3f5f",
             "gridcolor": "white",
             "linecolor": "white",
             "minorgridcolor": "white",
             "startlinecolor": "#2a3f5f"
            },
            "type": "carpet"
           }
          ],
          "choropleth": [
           {
            "colorbar": {
             "outlinewidth": 0,
             "ticks": ""
            },
            "type": "choropleth"
           }
          ],
          "contour": [
           {
            "colorbar": {
             "outlinewidth": 0,
             "ticks": ""
            },
            "colorscale": [
             [
              0,
              "#0d0887"
             ],
             [
              0.1111111111111111,
              "#46039f"
             ],
             [
              0.2222222222222222,
              "#7201a8"
             ],
             [
              0.3333333333333333,
              "#9c179e"
             ],
             [
              0.4444444444444444,
              "#bd3786"
             ],
             [
              0.5555555555555556,
              "#d8576b"
             ],
             [
              0.6666666666666666,
              "#ed7953"
             ],
             [
              0.7777777777777778,
              "#fb9f3a"
             ],
             [
              0.8888888888888888,
              "#fdca26"
             ],
             [
              1,
              "#f0f921"
             ]
            ],
            "type": "contour"
           }
          ],
          "contourcarpet": [
           {
            "colorbar": {
             "outlinewidth": 0,
             "ticks": ""
            },
            "type": "contourcarpet"
           }
          ],
          "heatmap": [
           {
            "colorbar": {
             "outlinewidth": 0,
             "ticks": ""
            },
            "colorscale": [
             [
              0,
              "#0d0887"
             ],
             [
              0.1111111111111111,
              "#46039f"
             ],
             [
              0.2222222222222222,
              "#7201a8"
             ],
             [
              0.3333333333333333,
              "#9c179e"
             ],
             [
              0.4444444444444444,
              "#bd3786"
             ],
             [
              0.5555555555555556,
              "#d8576b"
             ],
             [
              0.6666666666666666,
              "#ed7953"
             ],
             [
              0.7777777777777778,
              "#fb9f3a"
             ],
             [
              0.8888888888888888,
              "#fdca26"
             ],
             [
              1,
              "#f0f921"
             ]
            ],
            "type": "heatmap"
           }
          ],
          "heatmapgl": [
           {
            "colorbar": {
             "outlinewidth": 0,
             "ticks": ""
            },
            "colorscale": [
             [
              0,
              "#0d0887"
             ],
             [
              0.1111111111111111,
              "#46039f"
             ],
             [
              0.2222222222222222,
              "#7201a8"
             ],
             [
              0.3333333333333333,
              "#9c179e"
             ],
             [
              0.4444444444444444,
              "#bd3786"
             ],
             [
              0.5555555555555556,
              "#d8576b"
             ],
             [
              0.6666666666666666,
              "#ed7953"
             ],
             [
              0.7777777777777778,
              "#fb9f3a"
             ],
             [
              0.8888888888888888,
              "#fdca26"
             ],
             [
              1,
              "#f0f921"
             ]
            ],
            "type": "heatmapgl"
           }
          ],
          "histogram": [
           {
            "marker": {
             "pattern": {
              "fillmode": "overlay",
              "size": 10,
              "solidity": 0.2
             }
            },
            "type": "histogram"
           }
          ],
          "histogram2d": [
           {
            "colorbar": {
             "outlinewidth": 0,
             "ticks": ""
            },
            "colorscale": [
             [
              0,
              "#0d0887"
             ],
             [
              0.1111111111111111,
              "#46039f"
             ],
             [
              0.2222222222222222,
              "#7201a8"
             ],
             [
              0.3333333333333333,
              "#9c179e"
             ],
             [
              0.4444444444444444,
              "#bd3786"
             ],
             [
              0.5555555555555556,
              "#d8576b"
             ],
             [
              0.6666666666666666,
              "#ed7953"
             ],
             [
              0.7777777777777778,
              "#fb9f3a"
             ],
             [
              0.8888888888888888,
              "#fdca26"
             ],
             [
              1,
              "#f0f921"
             ]
            ],
            "type": "histogram2d"
           }
          ],
          "histogram2dcontour": [
           {
            "colorbar": {
             "outlinewidth": 0,
             "ticks": ""
            },
            "colorscale": [
             [
              0,
              "#0d0887"
             ],
             [
              0.1111111111111111,
              "#46039f"
             ],
             [
              0.2222222222222222,
              "#7201a8"
             ],
             [
              0.3333333333333333,
              "#9c179e"
             ],
             [
              0.4444444444444444,
              "#bd3786"
             ],
             [
              0.5555555555555556,
              "#d8576b"
             ],
             [
              0.6666666666666666,
              "#ed7953"
             ],
             [
              0.7777777777777778,
              "#fb9f3a"
             ],
             [
              0.8888888888888888,
              "#fdca26"
             ],
             [
              1,
              "#f0f921"
             ]
            ],
            "type": "histogram2dcontour"
           }
          ],
          "mesh3d": [
           {
            "colorbar": {
             "outlinewidth": 0,
             "ticks": ""
            },
            "type": "mesh3d"
           }
          ],
          "parcoords": [
           {
            "line": {
             "colorbar": {
              "outlinewidth": 0,
              "ticks": ""
             }
            },
            "type": "parcoords"
           }
          ],
          "pie": [
           {
            "automargin": true,
            "type": "pie"
           }
          ],
          "scatter": [
           {
            "marker": {
             "colorbar": {
              "outlinewidth": 0,
              "ticks": ""
             }
            },
            "type": "scatter"
           }
          ],
          "scatter3d": [
           {
            "line": {
             "colorbar": {
              "outlinewidth": 0,
              "ticks": ""
             }
            },
            "marker": {
             "colorbar": {
              "outlinewidth": 0,
              "ticks": ""
             }
            },
            "type": "scatter3d"
           }
          ],
          "scattercarpet": [
           {
            "marker": {
             "colorbar": {
              "outlinewidth": 0,
              "ticks": ""
             }
            },
            "type": "scattercarpet"
           }
          ],
          "scattergeo": [
           {
            "marker": {
             "colorbar": {
              "outlinewidth": 0,
              "ticks": ""
             }
            },
            "type": "scattergeo"
           }
          ],
          "scattergl": [
           {
            "marker": {
             "colorbar": {
              "outlinewidth": 0,
              "ticks": ""
             }
            },
            "type": "scattergl"
           }
          ],
          "scattermapbox": [
           {
            "marker": {
             "colorbar": {
              "outlinewidth": 0,
              "ticks": ""
             }
            },
            "type": "scattermapbox"
           }
          ],
          "scatterpolar": [
           {
            "marker": {
             "colorbar": {
              "outlinewidth": 0,
              "ticks": ""
             }
            },
            "type": "scatterpolar"
           }
          ],
          "scatterpolargl": [
           {
            "marker": {
             "colorbar": {
              "outlinewidth": 0,
              "ticks": ""
             }
            },
            "type": "scatterpolargl"
           }
          ],
          "scatterternary": [
           {
            "marker": {
             "colorbar": {
              "outlinewidth": 0,
              "ticks": ""
             }
            },
            "type": "scatterternary"
           }
          ],
          "surface": [
           {
            "colorbar": {
             "outlinewidth": 0,
             "ticks": ""
            },
            "colorscale": [
             [
              0,
              "#0d0887"
             ],
             [
              0.1111111111111111,
              "#46039f"
             ],
             [
              0.2222222222222222,
              "#7201a8"
             ],
             [
              0.3333333333333333,
              "#9c179e"
             ],
             [
              0.4444444444444444,
              "#bd3786"
             ],
             [
              0.5555555555555556,
              "#d8576b"
             ],
             [
              0.6666666666666666,
              "#ed7953"
             ],
             [
              0.7777777777777778,
              "#fb9f3a"
             ],
             [
              0.8888888888888888,
              "#fdca26"
             ],
             [
              1,
              "#f0f921"
             ]
            ],
            "type": "surface"
           }
          ],
          "table": [
           {
            "cells": {
             "fill": {
              "color": "#EBF0F8"
             },
             "line": {
              "color": "white"
             }
            },
            "header": {
             "fill": {
              "color": "#C8D4E3"
             },
             "line": {
              "color": "white"
             }
            },
            "type": "table"
           }
          ]
         },
         "layout": {
          "annotationdefaults": {
           "arrowcolor": "#2a3f5f",
           "arrowhead": 0,
           "arrowwidth": 1
          },
          "autotypenumbers": "strict",
          "coloraxis": {
           "colorbar": {
            "outlinewidth": 0,
            "ticks": ""
           }
          },
          "colorscale": {
           "diverging": [
            [
             0,
             "#8e0152"
            ],
            [
             0.1,
             "#c51b7d"
            ],
            [
             0.2,
             "#de77ae"
            ],
            [
             0.3,
             "#f1b6da"
            ],
            [
             0.4,
             "#fde0ef"
            ],
            [
             0.5,
             "#f7f7f7"
            ],
            [
             0.6,
             "#e6f5d0"
            ],
            [
             0.7,
             "#b8e186"
            ],
            [
             0.8,
             "#7fbc41"
            ],
            [
             0.9,
             "#4d9221"
            ],
            [
             1,
             "#276419"
            ]
           ],
           "sequential": [
            [
             0,
             "#0d0887"
            ],
            [
             0.1111111111111111,
             "#46039f"
            ],
            [
             0.2222222222222222,
             "#7201a8"
            ],
            [
             0.3333333333333333,
             "#9c179e"
            ],
            [
             0.4444444444444444,
             "#bd3786"
            ],
            [
             0.5555555555555556,
             "#d8576b"
            ],
            [
             0.6666666666666666,
             "#ed7953"
            ],
            [
             0.7777777777777778,
             "#fb9f3a"
            ],
            [
             0.8888888888888888,
             "#fdca26"
            ],
            [
             1,
             "#f0f921"
            ]
           ],
           "sequentialminus": [
            [
             0,
             "#0d0887"
            ],
            [
             0.1111111111111111,
             "#46039f"
            ],
            [
             0.2222222222222222,
             "#7201a8"
            ],
            [
             0.3333333333333333,
             "#9c179e"
            ],
            [
             0.4444444444444444,
             "#bd3786"
            ],
            [
             0.5555555555555556,
             "#d8576b"
            ],
            [
             0.6666666666666666,
             "#ed7953"
            ],
            [
             0.7777777777777778,
             "#fb9f3a"
            ],
            [
             0.8888888888888888,
             "#fdca26"
            ],
            [
             1,
             "#f0f921"
            ]
           ]
          },
          "colorway": [
           "#636efa",
           "#EF553B",
           "#00cc96",
           "#ab63fa",
           "#FFA15A",
           "#19d3f3",
           "#FF6692",
           "#B6E880",
           "#FF97FF",
           "#FECB52"
          ],
          "font": {
           "color": "#2a3f5f"
          },
          "geo": {
           "bgcolor": "white",
           "lakecolor": "white",
           "landcolor": "#E5ECF6",
           "showlakes": true,
           "showland": true,
           "subunitcolor": "white"
          },
          "hoverlabel": {
           "align": "left"
          },
          "hovermode": "closest",
          "mapbox": {
           "style": "light"
          },
          "paper_bgcolor": "white",
          "plot_bgcolor": "#E5ECF6",
          "polar": {
           "angularaxis": {
            "gridcolor": "white",
            "linecolor": "white",
            "ticks": ""
           },
           "bgcolor": "#E5ECF6",
           "radialaxis": {
            "gridcolor": "white",
            "linecolor": "white",
            "ticks": ""
           }
          },
          "scene": {
           "xaxis": {
            "backgroundcolor": "#E5ECF6",
            "gridcolor": "white",
            "gridwidth": 2,
            "linecolor": "white",
            "showbackground": true,
            "ticks": "",
            "zerolinecolor": "white"
           },
           "yaxis": {
            "backgroundcolor": "#E5ECF6",
            "gridcolor": "white",
            "gridwidth": 2,
            "linecolor": "white",
            "showbackground": true,
            "ticks": "",
            "zerolinecolor": "white"
           },
           "zaxis": {
            "backgroundcolor": "#E5ECF6",
            "gridcolor": "white",
            "gridwidth": 2,
            "linecolor": "white",
            "showbackground": true,
            "ticks": "",
            "zerolinecolor": "white"
           }
          },
          "shapedefaults": {
           "line": {
            "color": "#2a3f5f"
           }
          },
          "ternary": {
           "aaxis": {
            "gridcolor": "white",
            "linecolor": "white",
            "ticks": ""
           },
           "baxis": {
            "gridcolor": "white",
            "linecolor": "white",
            "ticks": ""
           },
           "bgcolor": "#E5ECF6",
           "caxis": {
            "gridcolor": "white",
            "linecolor": "white",
            "ticks": ""
           }
          },
          "title": {
           "x": 0.05
          },
          "xaxis": {
           "automargin": true,
           "gridcolor": "white",
           "linecolor": "white",
           "ticks": "",
           "title": {
            "standoff": 15
           },
           "zerolinecolor": "white",
           "zerolinewidth": 2
          },
          "yaxis": {
           "automargin": true,
           "gridcolor": "white",
           "linecolor": "white",
           "ticks": "",
           "title": {
            "standoff": 15
           },
           "zerolinecolor": "white",
           "zerolinewidth": 2
          }
         }
        },
        "title": {
         "font": {
          "family": "Arial",
          "size": 16
         },
         "text": "Top 20 albums by average rating",
         "x": 0.5
        },
        "xaxis": {
         "anchor": "y",
         "domain": [
          0,
          1
         ]
        },
        "yaxis": {
         "anchor": "x",
         "domain": [
          0,
          1
         ]
        }
       }
      }
     },
     "metadata": {},
     "output_type": "display_data"
    },
    {
     "data": {
      "application/vnd.plotly.v1+json": {
       "config": {
        "plotlyServerURL": "https://plot.ly"
       },
       "data": [
        {
         "name": "Genre",
         "type": "bar",
         "x": [
          "Singer/Songwriter",
          "Video Game Music",
          "Art Rock",
          "Progressive Rock",
          "East Coast Hip Hop",
          "Alternative Rock",
          "Film Score",
          "Post-Punk",
          "Experimental Rock",
          "Art Pop"
         ],
         "xaxis": "x",
         "y": [
          77,
          47,
          47,
          40,
          36,
          35,
          33,
          32,
          32,
          32
         ],
         "yaxis": "y"
        },
        {
         "name": "Expression",
         "type": "bar",
         "x": [
          "Male Vocals",
          "Melodic",
          "Energetic",
          "Passionate",
          "Atmospheric",
          "Melancholic",
          "Rhythmic",
          "Instrumental",
          "Warm",
          "Dark"
         ],
         "xaxis": "x2",
         "y": [
          607,
          333,
          284,
          278,
          244,
          215,
          203,
          202,
          178,
          176
         ],
         "yaxis": "y2"
        }
       ],
       "layout": {
        "annotations": [
         {
          "font": {
           "size": 16
          },
          "showarrow": false,
          "text": "Top 10 genres by number top 1000 albums",
          "x": 0.225,
          "xanchor": "center",
          "xref": "paper",
          "y": 1,
          "yanchor": "bottom",
          "yref": "paper"
         },
         {
          "font": {
           "size": 16
          },
          "showarrow": false,
          "text": "Top 10 song descriptors by number of top 1000 albums",
          "x": 0.775,
          "xanchor": "center",
          "xref": "paper",
          "y": 1,
          "yanchor": "bottom",
          "yref": "paper"
         }
        ],
        "template": {
         "data": {
          "bar": [
           {
            "error_x": {
             "color": "#2a3f5f"
            },
            "error_y": {
             "color": "#2a3f5f"
            },
            "marker": {
             "line": {
              "color": "#E5ECF6",
              "width": 0.5
             },
             "pattern": {
              "fillmode": "overlay",
              "size": 10,
              "solidity": 0.2
             }
            },
            "type": "bar"
           }
          ],
          "barpolar": [
           {
            "marker": {
             "line": {
              "color": "#E5ECF6",
              "width": 0.5
             },
             "pattern": {
              "fillmode": "overlay",
              "size": 10,
              "solidity": 0.2
             }
            },
            "type": "barpolar"
           }
          ],
          "carpet": [
           {
            "aaxis": {
             "endlinecolor": "#2a3f5f",
             "gridcolor": "white",
             "linecolor": "white",
             "minorgridcolor": "white",
             "startlinecolor": "#2a3f5f"
            },
            "baxis": {
             "endlinecolor": "#2a3f5f",
             "gridcolor": "white",
             "linecolor": "white",
             "minorgridcolor": "white",
             "startlinecolor": "#2a3f5f"
            },
            "type": "carpet"
           }
          ],
          "choropleth": [
           {
            "colorbar": {
             "outlinewidth": 0,
             "ticks": ""
            },
            "type": "choropleth"
           }
          ],
          "contour": [
           {
            "colorbar": {
             "outlinewidth": 0,
             "ticks": ""
            },
            "colorscale": [
             [
              0,
              "#0d0887"
             ],
             [
              0.1111111111111111,
              "#46039f"
             ],
             [
              0.2222222222222222,
              "#7201a8"
             ],
             [
              0.3333333333333333,
              "#9c179e"
             ],
             [
              0.4444444444444444,
              "#bd3786"
             ],
             [
              0.5555555555555556,
              "#d8576b"
             ],
             [
              0.6666666666666666,
              "#ed7953"
             ],
             [
              0.7777777777777778,
              "#fb9f3a"
             ],
             [
              0.8888888888888888,
              "#fdca26"
             ],
             [
              1,
              "#f0f921"
             ]
            ],
            "type": "contour"
           }
          ],
          "contourcarpet": [
           {
            "colorbar": {
             "outlinewidth": 0,
             "ticks": ""
            },
            "type": "contourcarpet"
           }
          ],
          "heatmap": [
           {
            "colorbar": {
             "outlinewidth": 0,
             "ticks": ""
            },
            "colorscale": [
             [
              0,
              "#0d0887"
             ],
             [
              0.1111111111111111,
              "#46039f"
             ],
             [
              0.2222222222222222,
              "#7201a8"
             ],
             [
              0.3333333333333333,
              "#9c179e"
             ],
             [
              0.4444444444444444,
              "#bd3786"
             ],
             [
              0.5555555555555556,
              "#d8576b"
             ],
             [
              0.6666666666666666,
              "#ed7953"
             ],
             [
              0.7777777777777778,
              "#fb9f3a"
             ],
             [
              0.8888888888888888,
              "#fdca26"
             ],
             [
              1,
              "#f0f921"
             ]
            ],
            "type": "heatmap"
           }
          ],
          "heatmapgl": [
           {
            "colorbar": {
             "outlinewidth": 0,
             "ticks": ""
            },
            "colorscale": [
             [
              0,
              "#0d0887"
             ],
             [
              0.1111111111111111,
              "#46039f"
             ],
             [
              0.2222222222222222,
              "#7201a8"
             ],
             [
              0.3333333333333333,
              "#9c179e"
             ],
             [
              0.4444444444444444,
              "#bd3786"
             ],
             [
              0.5555555555555556,
              "#d8576b"
             ],
             [
              0.6666666666666666,
              "#ed7953"
             ],
             [
              0.7777777777777778,
              "#fb9f3a"
             ],
             [
              0.8888888888888888,
              "#fdca26"
             ],
             [
              1,
              "#f0f921"
             ]
            ],
            "type": "heatmapgl"
           }
          ],
          "histogram": [
           {
            "marker": {
             "pattern": {
              "fillmode": "overlay",
              "size": 10,
              "solidity": 0.2
             }
            },
            "type": "histogram"
           }
          ],
          "histogram2d": [
           {
            "colorbar": {
             "outlinewidth": 0,
             "ticks": ""
            },
            "colorscale": [
             [
              0,
              "#0d0887"
             ],
             [
              0.1111111111111111,
              "#46039f"
             ],
             [
              0.2222222222222222,
              "#7201a8"
             ],
             [
              0.3333333333333333,
              "#9c179e"
             ],
             [
              0.4444444444444444,
              "#bd3786"
             ],
             [
              0.5555555555555556,
              "#d8576b"
             ],
             [
              0.6666666666666666,
              "#ed7953"
             ],
             [
              0.7777777777777778,
              "#fb9f3a"
             ],
             [
              0.8888888888888888,
              "#fdca26"
             ],
             [
              1,
              "#f0f921"
             ]
            ],
            "type": "histogram2d"
           }
          ],
          "histogram2dcontour": [
           {
            "colorbar": {
             "outlinewidth": 0,
             "ticks": ""
            },
            "colorscale": [
             [
              0,
              "#0d0887"
             ],
             [
              0.1111111111111111,
              "#46039f"
             ],
             [
              0.2222222222222222,
              "#7201a8"
             ],
             [
              0.3333333333333333,
              "#9c179e"
             ],
             [
              0.4444444444444444,
              "#bd3786"
             ],
             [
              0.5555555555555556,
              "#d8576b"
             ],
             [
              0.6666666666666666,
              "#ed7953"
             ],
             [
              0.7777777777777778,
              "#fb9f3a"
             ],
             [
              0.8888888888888888,
              "#fdca26"
             ],
             [
              1,
              "#f0f921"
             ]
            ],
            "type": "histogram2dcontour"
           }
          ],
          "mesh3d": [
           {
            "colorbar": {
             "outlinewidth": 0,
             "ticks": ""
            },
            "type": "mesh3d"
           }
          ],
          "parcoords": [
           {
            "line": {
             "colorbar": {
              "outlinewidth": 0,
              "ticks": ""
             }
            },
            "type": "parcoords"
           }
          ],
          "pie": [
           {
            "automargin": true,
            "type": "pie"
           }
          ],
          "scatter": [
           {
            "marker": {
             "colorbar": {
              "outlinewidth": 0,
              "ticks": ""
             }
            },
            "type": "scatter"
           }
          ],
          "scatter3d": [
           {
            "line": {
             "colorbar": {
              "outlinewidth": 0,
              "ticks": ""
             }
            },
            "marker": {
             "colorbar": {
              "outlinewidth": 0,
              "ticks": ""
             }
            },
            "type": "scatter3d"
           }
          ],
          "scattercarpet": [
           {
            "marker": {
             "colorbar": {
              "outlinewidth": 0,
              "ticks": ""
             }
            },
            "type": "scattercarpet"
           }
          ],
          "scattergeo": [
           {
            "marker": {
             "colorbar": {
              "outlinewidth": 0,
              "ticks": ""
             }
            },
            "type": "scattergeo"
           }
          ],
          "scattergl": [
           {
            "marker": {
             "colorbar": {
              "outlinewidth": 0,
              "ticks": ""
             }
            },
            "type": "scattergl"
           }
          ],
          "scattermapbox": [
           {
            "marker": {
             "colorbar": {
              "outlinewidth": 0,
              "ticks": ""
             }
            },
            "type": "scattermapbox"
           }
          ],
          "scatterpolar": [
           {
            "marker": {
             "colorbar": {
              "outlinewidth": 0,
              "ticks": ""
             }
            },
            "type": "scatterpolar"
           }
          ],
          "scatterpolargl": [
           {
            "marker": {
             "colorbar": {
              "outlinewidth": 0,
              "ticks": ""
             }
            },
            "type": "scatterpolargl"
           }
          ],
          "scatterternary": [
           {
            "marker": {
             "colorbar": {
              "outlinewidth": 0,
              "ticks": ""
             }
            },
            "type": "scatterternary"
           }
          ],
          "surface": [
           {
            "colorbar": {
             "outlinewidth": 0,
             "ticks": ""
            },
            "colorscale": [
             [
              0,
              "#0d0887"
             ],
             [
              0.1111111111111111,
              "#46039f"
             ],
             [
              0.2222222222222222,
              "#7201a8"
             ],
             [
              0.3333333333333333,
              "#9c179e"
             ],
             [
              0.4444444444444444,
              "#bd3786"
             ],
             [
              0.5555555555555556,
              "#d8576b"
             ],
             [
              0.6666666666666666,
              "#ed7953"
             ],
             [
              0.7777777777777778,
              "#fb9f3a"
             ],
             [
              0.8888888888888888,
              "#fdca26"
             ],
             [
              1,
              "#f0f921"
             ]
            ],
            "type": "surface"
           }
          ],
          "table": [
           {
            "cells": {
             "fill": {
              "color": "#EBF0F8"
             },
             "line": {
              "color": "white"
             }
            },
            "header": {
             "fill": {
              "color": "#C8D4E3"
             },
             "line": {
              "color": "white"
             }
            },
            "type": "table"
           }
          ]
         },
         "layout": {
          "annotationdefaults": {
           "arrowcolor": "#2a3f5f",
           "arrowhead": 0,
           "arrowwidth": 1
          },
          "autotypenumbers": "strict",
          "coloraxis": {
           "colorbar": {
            "outlinewidth": 0,
            "ticks": ""
           }
          },
          "colorscale": {
           "diverging": [
            [
             0,
             "#8e0152"
            ],
            [
             0.1,
             "#c51b7d"
            ],
            [
             0.2,
             "#de77ae"
            ],
            [
             0.3,
             "#f1b6da"
            ],
            [
             0.4,
             "#fde0ef"
            ],
            [
             0.5,
             "#f7f7f7"
            ],
            [
             0.6,
             "#e6f5d0"
            ],
            [
             0.7,
             "#b8e186"
            ],
            [
             0.8,
             "#7fbc41"
            ],
            [
             0.9,
             "#4d9221"
            ],
            [
             1,
             "#276419"
            ]
           ],
           "sequential": [
            [
             0,
             "#0d0887"
            ],
            [
             0.1111111111111111,
             "#46039f"
            ],
            [
             0.2222222222222222,
             "#7201a8"
            ],
            [
             0.3333333333333333,
             "#9c179e"
            ],
            [
             0.4444444444444444,
             "#bd3786"
            ],
            [
             0.5555555555555556,
             "#d8576b"
            ],
            [
             0.6666666666666666,
             "#ed7953"
            ],
            [
             0.7777777777777778,
             "#fb9f3a"
            ],
            [
             0.8888888888888888,
             "#fdca26"
            ],
            [
             1,
             "#f0f921"
            ]
           ],
           "sequentialminus": [
            [
             0,
             "#0d0887"
            ],
            [
             0.1111111111111111,
             "#46039f"
            ],
            [
             0.2222222222222222,
             "#7201a8"
            ],
            [
             0.3333333333333333,
             "#9c179e"
            ],
            [
             0.4444444444444444,
             "#bd3786"
            ],
            [
             0.5555555555555556,
             "#d8576b"
            ],
            [
             0.6666666666666666,
             "#ed7953"
            ],
            [
             0.7777777777777778,
             "#fb9f3a"
            ],
            [
             0.8888888888888888,
             "#fdca26"
            ],
            [
             1,
             "#f0f921"
            ]
           ]
          },
          "colorway": [
           "#636efa",
           "#EF553B",
           "#00cc96",
           "#ab63fa",
           "#FFA15A",
           "#19d3f3",
           "#FF6692",
           "#B6E880",
           "#FF97FF",
           "#FECB52"
          ],
          "font": {
           "color": "#2a3f5f"
          },
          "geo": {
           "bgcolor": "white",
           "lakecolor": "white",
           "landcolor": "#E5ECF6",
           "showlakes": true,
           "showland": true,
           "subunitcolor": "white"
          },
          "hoverlabel": {
           "align": "left"
          },
          "hovermode": "closest",
          "mapbox": {
           "style": "light"
          },
          "paper_bgcolor": "white",
          "plot_bgcolor": "#E5ECF6",
          "polar": {
           "angularaxis": {
            "gridcolor": "white",
            "linecolor": "white",
            "ticks": ""
           },
           "bgcolor": "#E5ECF6",
           "radialaxis": {
            "gridcolor": "white",
            "linecolor": "white",
            "ticks": ""
           }
          },
          "scene": {
           "xaxis": {
            "backgroundcolor": "#E5ECF6",
            "gridcolor": "white",
            "gridwidth": 2,
            "linecolor": "white",
            "showbackground": true,
            "ticks": "",
            "zerolinecolor": "white"
           },
           "yaxis": {
            "backgroundcolor": "#E5ECF6",
            "gridcolor": "white",
            "gridwidth": 2,
            "linecolor": "white",
            "showbackground": true,
            "ticks": "",
            "zerolinecolor": "white"
           },
           "zaxis": {
            "backgroundcolor": "#E5ECF6",
            "gridcolor": "white",
            "gridwidth": 2,
            "linecolor": "white",
            "showbackground": true,
            "ticks": "",
            "zerolinecolor": "white"
           }
          },
          "shapedefaults": {
           "line": {
            "color": "#2a3f5f"
           }
          },
          "ternary": {
           "aaxis": {
            "gridcolor": "white",
            "linecolor": "white",
            "ticks": ""
           },
           "baxis": {
            "gridcolor": "white",
            "linecolor": "white",
            "ticks": ""
           },
           "bgcolor": "#E5ECF6",
           "caxis": {
            "gridcolor": "white",
            "linecolor": "white",
            "ticks": ""
           }
          },
          "title": {
           "x": 0.05
          },
          "xaxis": {
           "automargin": true,
           "gridcolor": "white",
           "linecolor": "white",
           "ticks": "",
           "title": {
            "standoff": 15
           },
           "zerolinecolor": "white",
           "zerolinewidth": 2
          },
          "yaxis": {
           "automargin": true,
           "gridcolor": "white",
           "linecolor": "white",
           "ticks": "",
           "title": {
            "standoff": 15
           },
           "zerolinecolor": "white",
           "zerolinewidth": 2
          }
         }
        },
        "xaxis": {
         "anchor": "y",
         "domain": [
          0,
          0.45
         ]
        },
        "xaxis2": {
         "anchor": "y2",
         "domain": [
          0.55,
          1
         ]
        },
        "yaxis": {
         "anchor": "x",
         "domain": [
          0,
          1
         ]
        },
        "yaxis2": {
         "anchor": "x2",
         "domain": [
          0,
          1
         ]
        }
       }
      }
     },
     "metadata": {},
     "output_type": "display_data"
    },
    {
     "data": {
      "application/vnd.plotly.v1+json": {
       "config": {
        "plotlyServerURL": "https://plot.ly"
       },
       "data": [
        {
         "marker": {
          "color": "#3eb489"
         },
         "type": "bar",
         "x": [
          "John Coltrane",
          "Miles Davis",
          "David Bowie",
          "Wiener Philharmoniker",
          "Swans",
          "Herbert Von Karajan",
          "Black Sabbath",
          "Led Zeppelin",
          "Berliner Philharmoniker",
          "Bob Dylan",
          "Tom Waits",
          "Iron Maiden",
          "Radiohead",
          "Pink Floyd",
          "The Beatles",
          "Judas Priest",
          "Charles Mingus",
          "Death",
          "Kanye West",
          "植松伸夫 [Nobuo Uematsu]"
         ],
         "y": [
          9,
          9,
          8,
          7,
          7,
          7,
          7,
          6,
          6,
          6,
          6,
          6,
          6,
          6,
          6,
          5,
          5,
          5,
          5,
          5
         ]
        }
       ],
       "layout": {
        "font": {
         "color": "black",
         "family": "Arial",
         "size": 12
        },
        "template": {
         "data": {
          "bar": [
           {
            "error_x": {
             "color": "#2a3f5f"
            },
            "error_y": {
             "color": "#2a3f5f"
            },
            "marker": {
             "line": {
              "color": "#E5ECF6",
              "width": 0.5
             },
             "pattern": {
              "fillmode": "overlay",
              "size": 10,
              "solidity": 0.2
             }
            },
            "type": "bar"
           }
          ],
          "barpolar": [
           {
            "marker": {
             "line": {
              "color": "#E5ECF6",
              "width": 0.5
             },
             "pattern": {
              "fillmode": "overlay",
              "size": 10,
              "solidity": 0.2
             }
            },
            "type": "barpolar"
           }
          ],
          "carpet": [
           {
            "aaxis": {
             "endlinecolor": "#2a3f5f",
             "gridcolor": "white",
             "linecolor": "white",
             "minorgridcolor": "white",
             "startlinecolor": "#2a3f5f"
            },
            "baxis": {
             "endlinecolor": "#2a3f5f",
             "gridcolor": "white",
             "linecolor": "white",
             "minorgridcolor": "white",
             "startlinecolor": "#2a3f5f"
            },
            "type": "carpet"
           }
          ],
          "choropleth": [
           {
            "colorbar": {
             "outlinewidth": 0,
             "ticks": ""
            },
            "type": "choropleth"
           }
          ],
          "contour": [
           {
            "colorbar": {
             "outlinewidth": 0,
             "ticks": ""
            },
            "colorscale": [
             [
              0,
              "#0d0887"
             ],
             [
              0.1111111111111111,
              "#46039f"
             ],
             [
              0.2222222222222222,
              "#7201a8"
             ],
             [
              0.3333333333333333,
              "#9c179e"
             ],
             [
              0.4444444444444444,
              "#bd3786"
             ],
             [
              0.5555555555555556,
              "#d8576b"
             ],
             [
              0.6666666666666666,
              "#ed7953"
             ],
             [
              0.7777777777777778,
              "#fb9f3a"
             ],
             [
              0.8888888888888888,
              "#fdca26"
             ],
             [
              1,
              "#f0f921"
             ]
            ],
            "type": "contour"
           }
          ],
          "contourcarpet": [
           {
            "colorbar": {
             "outlinewidth": 0,
             "ticks": ""
            },
            "type": "contourcarpet"
           }
          ],
          "heatmap": [
           {
            "colorbar": {
             "outlinewidth": 0,
             "ticks": ""
            },
            "colorscale": [
             [
              0,
              "#0d0887"
             ],
             [
              0.1111111111111111,
              "#46039f"
             ],
             [
              0.2222222222222222,
              "#7201a8"
             ],
             [
              0.3333333333333333,
              "#9c179e"
             ],
             [
              0.4444444444444444,
              "#bd3786"
             ],
             [
              0.5555555555555556,
              "#d8576b"
             ],
             [
              0.6666666666666666,
              "#ed7953"
             ],
             [
              0.7777777777777778,
              "#fb9f3a"
             ],
             [
              0.8888888888888888,
              "#fdca26"
             ],
             [
              1,
              "#f0f921"
             ]
            ],
            "type": "heatmap"
           }
          ],
          "heatmapgl": [
           {
            "colorbar": {
             "outlinewidth": 0,
             "ticks": ""
            },
            "colorscale": [
             [
              0,
              "#0d0887"
             ],
             [
              0.1111111111111111,
              "#46039f"
             ],
             [
              0.2222222222222222,
              "#7201a8"
             ],
             [
              0.3333333333333333,
              "#9c179e"
             ],
             [
              0.4444444444444444,
              "#bd3786"
             ],
             [
              0.5555555555555556,
              "#d8576b"
             ],
             [
              0.6666666666666666,
              "#ed7953"
             ],
             [
              0.7777777777777778,
              "#fb9f3a"
             ],
             [
              0.8888888888888888,
              "#fdca26"
             ],
             [
              1,
              "#f0f921"
             ]
            ],
            "type": "heatmapgl"
           }
          ],
          "histogram": [
           {
            "marker": {
             "pattern": {
              "fillmode": "overlay",
              "size": 10,
              "solidity": 0.2
             }
            },
            "type": "histogram"
           }
          ],
          "histogram2d": [
           {
            "colorbar": {
             "outlinewidth": 0,
             "ticks": ""
            },
            "colorscale": [
             [
              0,
              "#0d0887"
             ],
             [
              0.1111111111111111,
              "#46039f"
             ],
             [
              0.2222222222222222,
              "#7201a8"
             ],
             [
              0.3333333333333333,
              "#9c179e"
             ],
             [
              0.4444444444444444,
              "#bd3786"
             ],
             [
              0.5555555555555556,
              "#d8576b"
             ],
             [
              0.6666666666666666,
              "#ed7953"
             ],
             [
              0.7777777777777778,
              "#fb9f3a"
             ],
             [
              0.8888888888888888,
              "#fdca26"
             ],
             [
              1,
              "#f0f921"
             ]
            ],
            "type": "histogram2d"
           }
          ],
          "histogram2dcontour": [
           {
            "colorbar": {
             "outlinewidth": 0,
             "ticks": ""
            },
            "colorscale": [
             [
              0,
              "#0d0887"
             ],
             [
              0.1111111111111111,
              "#46039f"
             ],
             [
              0.2222222222222222,
              "#7201a8"
             ],
             [
              0.3333333333333333,
              "#9c179e"
             ],
             [
              0.4444444444444444,
              "#bd3786"
             ],
             [
              0.5555555555555556,
              "#d8576b"
             ],
             [
              0.6666666666666666,
              "#ed7953"
             ],
             [
              0.7777777777777778,
              "#fb9f3a"
             ],
             [
              0.8888888888888888,
              "#fdca26"
             ],
             [
              1,
              "#f0f921"
             ]
            ],
            "type": "histogram2dcontour"
           }
          ],
          "mesh3d": [
           {
            "colorbar": {
             "outlinewidth": 0,
             "ticks": ""
            },
            "type": "mesh3d"
           }
          ],
          "parcoords": [
           {
            "line": {
             "colorbar": {
              "outlinewidth": 0,
              "ticks": ""
             }
            },
            "type": "parcoords"
           }
          ],
          "pie": [
           {
            "automargin": true,
            "type": "pie"
           }
          ],
          "scatter": [
           {
            "marker": {
             "colorbar": {
              "outlinewidth": 0,
              "ticks": ""
             }
            },
            "type": "scatter"
           }
          ],
          "scatter3d": [
           {
            "line": {
             "colorbar": {
              "outlinewidth": 0,
              "ticks": ""
             }
            },
            "marker": {
             "colorbar": {
              "outlinewidth": 0,
              "ticks": ""
             }
            },
            "type": "scatter3d"
           }
          ],
          "scattercarpet": [
           {
            "marker": {
             "colorbar": {
              "outlinewidth": 0,
              "ticks": ""
             }
            },
            "type": "scattercarpet"
           }
          ],
          "scattergeo": [
           {
            "marker": {
             "colorbar": {
              "outlinewidth": 0,
              "ticks": ""
             }
            },
            "type": "scattergeo"
           }
          ],
          "scattergl": [
           {
            "marker": {
             "colorbar": {
              "outlinewidth": 0,
              "ticks": ""
             }
            },
            "type": "scattergl"
           }
          ],
          "scattermapbox": [
           {
            "marker": {
             "colorbar": {
              "outlinewidth": 0,
              "ticks": ""
             }
            },
            "type": "scattermapbox"
           }
          ],
          "scatterpolar": [
           {
            "marker": {
             "colorbar": {
              "outlinewidth": 0,
              "ticks": ""
             }
            },
            "type": "scatterpolar"
           }
          ],
          "scatterpolargl": [
           {
            "marker": {
             "colorbar": {
              "outlinewidth": 0,
              "ticks": ""
             }
            },
            "type": "scatterpolargl"
           }
          ],
          "scatterternary": [
           {
            "marker": {
             "colorbar": {
              "outlinewidth": 0,
              "ticks": ""
             }
            },
            "type": "scatterternary"
           }
          ],
          "surface": [
           {
            "colorbar": {
             "outlinewidth": 0,
             "ticks": ""
            },
            "colorscale": [
             [
              0,
              "#0d0887"
             ],
             [
              0.1111111111111111,
              "#46039f"
             ],
             [
              0.2222222222222222,
              "#7201a8"
             ],
             [
              0.3333333333333333,
              "#9c179e"
             ],
             [
              0.4444444444444444,
              "#bd3786"
             ],
             [
              0.5555555555555556,
              "#d8576b"
             ],
             [
              0.6666666666666666,
              "#ed7953"
             ],
             [
              0.7777777777777778,
              "#fb9f3a"
             ],
             [
              0.8888888888888888,
              "#fdca26"
             ],
             [
              1,
              "#f0f921"
             ]
            ],
            "type": "surface"
           }
          ],
          "table": [
           {
            "cells": {
             "fill": {
              "color": "#EBF0F8"
             },
             "line": {
              "color": "white"
             }
            },
            "header": {
             "fill": {
              "color": "#C8D4E3"
             },
             "line": {
              "color": "white"
             }
            },
            "type": "table"
           }
          ]
         },
         "layout": {
          "annotationdefaults": {
           "arrowcolor": "#2a3f5f",
           "arrowhead": 0,
           "arrowwidth": 1
          },
          "autotypenumbers": "strict",
          "coloraxis": {
           "colorbar": {
            "outlinewidth": 0,
            "ticks": ""
           }
          },
          "colorscale": {
           "diverging": [
            [
             0,
             "#8e0152"
            ],
            [
             0.1,
             "#c51b7d"
            ],
            [
             0.2,
             "#de77ae"
            ],
            [
             0.3,
             "#f1b6da"
            ],
            [
             0.4,
             "#fde0ef"
            ],
            [
             0.5,
             "#f7f7f7"
            ],
            [
             0.6,
             "#e6f5d0"
            ],
            [
             0.7,
             "#b8e186"
            ],
            [
             0.8,
             "#7fbc41"
            ],
            [
             0.9,
             "#4d9221"
            ],
            [
             1,
             "#276419"
            ]
           ],
           "sequential": [
            [
             0,
             "#0d0887"
            ],
            [
             0.1111111111111111,
             "#46039f"
            ],
            [
             0.2222222222222222,
             "#7201a8"
            ],
            [
             0.3333333333333333,
             "#9c179e"
            ],
            [
             0.4444444444444444,
             "#bd3786"
            ],
            [
             0.5555555555555556,
             "#d8576b"
            ],
            [
             0.6666666666666666,
             "#ed7953"
            ],
            [
             0.7777777777777778,
             "#fb9f3a"
            ],
            [
             0.8888888888888888,
             "#fdca26"
            ],
            [
             1,
             "#f0f921"
            ]
           ],
           "sequentialminus": [
            [
             0,
             "#0d0887"
            ],
            [
             0.1111111111111111,
             "#46039f"
            ],
            [
             0.2222222222222222,
             "#7201a8"
            ],
            [
             0.3333333333333333,
             "#9c179e"
            ],
            [
             0.4444444444444444,
             "#bd3786"
            ],
            [
             0.5555555555555556,
             "#d8576b"
            ],
            [
             0.6666666666666666,
             "#ed7953"
            ],
            [
             0.7777777777777778,
             "#fb9f3a"
            ],
            [
             0.8888888888888888,
             "#fdca26"
            ],
            [
             1,
             "#f0f921"
            ]
           ]
          },
          "colorway": [
           "#636efa",
           "#EF553B",
           "#00cc96",
           "#ab63fa",
           "#FFA15A",
           "#19d3f3",
           "#FF6692",
           "#B6E880",
           "#FF97FF",
           "#FECB52"
          ],
          "font": {
           "color": "#2a3f5f"
          },
          "geo": {
           "bgcolor": "white",
           "lakecolor": "white",
           "landcolor": "#E5ECF6",
           "showlakes": true,
           "showland": true,
           "subunitcolor": "white"
          },
          "hoverlabel": {
           "align": "left"
          },
          "hovermode": "closest",
          "mapbox": {
           "style": "light"
          },
          "paper_bgcolor": "white",
          "plot_bgcolor": "#E5ECF6",
          "polar": {
           "angularaxis": {
            "gridcolor": "white",
            "linecolor": "white",
            "ticks": ""
           },
           "bgcolor": "#E5ECF6",
           "radialaxis": {
            "gridcolor": "white",
            "linecolor": "white",
            "ticks": ""
           }
          },
          "scene": {
           "xaxis": {
            "backgroundcolor": "#E5ECF6",
            "gridcolor": "white",
            "gridwidth": 2,
            "linecolor": "white",
            "showbackground": true,
            "ticks": "",
            "zerolinecolor": "white"
           },
           "yaxis": {
            "backgroundcolor": "#E5ECF6",
            "gridcolor": "white",
            "gridwidth": 2,
            "linecolor": "white",
            "showbackground": true,
            "ticks": "",
            "zerolinecolor": "white"
           },
           "zaxis": {
            "backgroundcolor": "#E5ECF6",
            "gridcolor": "white",
            "gridwidth": 2,
            "linecolor": "white",
            "showbackground": true,
            "ticks": "",
            "zerolinecolor": "white"
           }
          },
          "shapedefaults": {
           "line": {
            "color": "#2a3f5f"
           }
          },
          "ternary": {
           "aaxis": {
            "gridcolor": "white",
            "linecolor": "white",
            "ticks": ""
           },
           "baxis": {
            "gridcolor": "white",
            "linecolor": "white",
            "ticks": ""
           },
           "bgcolor": "#E5ECF6",
           "caxis": {
            "gridcolor": "white",
            "linecolor": "white",
            "ticks": ""
           }
          },
          "title": {
           "x": 0.05
          },
          "xaxis": {
           "automargin": true,
           "gridcolor": "white",
           "linecolor": "white",
           "ticks": "",
           "title": {
            "standoff": 15
           },
           "zerolinecolor": "white",
           "zerolinewidth": 2
          },
          "yaxis": {
           "automargin": true,
           "gridcolor": "white",
           "linecolor": "white",
           "ticks": "",
           "title": {
            "standoff": 15
           },
           "zerolinecolor": "white",
           "zerolinewidth": 2
          }
         }
        },
        "title": {
         "text": "Top 20 artists by number of top 1000 albums",
         "x": 0.5
        },
        "xaxis": {
         "anchor": "y",
         "domain": [
          0,
          1
         ]
        },
        "yaxis": {
         "anchor": "x",
         "domain": [
          0,
          1
         ]
        }
       }
      }
     },
     "metadata": {},
     "output_type": "display_data"
    }
   ],
   "source": [
    "fig_0 = make_subplots(rows = 1,cols = 1, subplot_titles=(''))\n",
    "fig_0.add_trace(go.Table(columnorder = [1,2],\n",
    "                         columnwidth = [100,50],\n",
    "                         header=dict(values=highest_rating.columns, \n",
    "                                     line_color='darkslategray',\n",
    "                                     fill_color='Salmon',\n",
    "                                     height=30),\n",
    "                         cells=dict(values=[highest_rating['Album'],\n",
    "                                    highest_rating['Average Rating']], \n",
    "                                    line_color='darkslategray',\n",
    "                                    fill_color='White')))\n",
    "fig_0.update_layout(showlegend=False, \n",
    "                    title_text='Top 20 albums by average rating', \n",
    "                    title_font_size=16, \n",
    "                    title_font_family='Arial', \n",
    "                    title_x=0.5,\n",
    "                    font=dict(family='Arial', \n",
    "                              size=12, \n",
    "                              color='black'))\n",
    "fig_0.show()\n",
    "\n",
    "fig_1 = make_subplots(rows = 1,cols = 2,subplot_titles = (\"Top 10 genres by number top 1000 albums\",\"Top 10 song descriptors by number of top 1000 albums\"))\n",
    "fig_1.add_trace(go.Bar(x = top_genre['genre'],y = top_genre['count'],name = 'Genre'),row = 1,col =1,)\n",
    "fig_1.add_trace(go.Bar(x = top_descriptors['decriptors'],y =top_descriptors['count'],name = 'Expression'),row = 1,col =2)\n",
    "fig_1.show()\n",
    "\n",
    "fig_2 = make_subplots(rows = 1,cols = 1, subplot_titles=(''))\n",
    "fig_2.add_trace(go.Bar(x = top_artist['artist'],y = top_artist['count'],marker_color='#3eb489'))\n",
    "fig_2.update_layout(title_text='Top 20 artists by number of top 1000 albums', title_x = 0.5,font = dict(family = 'Arial',size = 12,color = 'black'))\n",
    "\n"
   ]
  },
  {
   "cell_type": "code",
   "execution_count": 28,
   "metadata": {},
   "outputs": [
    {
     "data": {
      "text/plain": [
       "0      Melancholic, Anxious, Futuristic, Alienation, ...\n",
       "1      Melancholic, Atmospheric, Progressive, Male Vo...\n",
       "2      Fantasy, Epic, Progressive, Philosophical, Com...\n",
       "3      Cold, Melancholic, Futuristic, Atmospheric, An...\n",
       "4      Political, Conscious, Poetic, Protest, Concept...\n",
       "                             ...                        \n",
       "995    String Quartet, Instrumental, Acoustic, Anxiou...\n",
       "996    Passionate, Complex, Cryptic, Energetic, Surre...\n",
       "997    Anxious, Rhythmic, Energetic, Hypnotic, Male V...\n",
       "998    Avant-Garde, Psychedelic, Cryptic, Sexual, Mal...\n",
       "999    Lonely, Acoustic, Suicide, Melancholic, Intros...\n",
       "Name: Descriptors, Length: 1000, dtype: object"
      ]
     },
     "execution_count": 28,
     "metadata": {},
     "output_type": "execute_result"
    }
   ],
   "source": [
    "top_1000['Descriptors']"
   ]
  },
  {
   "cell_type": "code",
   "execution_count": 29,
   "metadata": {},
   "outputs": [],
   "source": [
    "from collections import Counter\n",
    "genres = list(top_1000['Genres'])\n",
    "gen = []\n",
    "for i in genres:\n",
    "    i = list(i.split(', '))\n",
    "    for j in i:\n",
    "        gen.append(j) \n",
    "g = Counter(gen)\n",
    "\n",
    "descriptors = list(top_1000['Descriptors'])\n",
    "des = []\n",
    "for i in descriptors:\n",
    "    i = list(i.split(', '))\n",
    "    for j in i:\n",
    "        des.append(j)\n",
    "d = Counter(des)\n"
   ]
  },
  {
   "cell_type": "code",
   "execution_count": 30,
   "metadata": {},
   "outputs": [
    {
     "name": "stdout",
     "output_type": "stream",
     "text": [
      "Song Descriptors\n"
     ]
    },
    {
     "data": {
      "image/png": "[encoded data removed]",
      "text/plain": [
       "<Figure size 1080x360 with 1 Axes>"
      ]
     },
     "metadata": {
      "needs_background": "light"
     },
     "output_type": "display_data"
    }
   ],
   "source": [
    "print('Song Descriptors')\n",
    "from PIL import Image\n",
    "from wordcloud import WordCloud,STOPWORDS\n",
    "descriptors = (\" \").join(top_1000['Descriptors'])\n",
    "custom_mask = np.array(Image.open('Brain.jpg'))\n",
    "wordcloud =  WordCloud(background_color='White',mask = custom_mask,max_font_size=120,)\n",
    "wordcloud.generate_from_frequencies(d)\n",
    "#generate plot\n",
    "plt.figure(figsize=(15,5))\n",
    "plt.imshow(wordcloud,interpolation='bilinear')\n",
    "plt.axis(\"off\")\n",
    "plt.tight_layout(pad=0)\n",
    "plt.show()"
   ]
  },
  {
   "cell_type": "code",
   "execution_count": 31,
   "metadata": {},
   "outputs": [
    {
     "data": {
      "image/png": "[encoded data removed]",
      "text/plain": [
       "<Figure size 1080x360 with 1 Axes>"
      ]
     },
     "metadata": {
      "needs_background": "light"
     },
     "output_type": "display_data"
    }
   ],
   "source": [
    "genre = (\" \").join(top_1000['Genres'])\n",
    "custom_mask = np.array(Image.open('brain.jpg'))\n",
    "stopwords = set(STOPWORDS)\n",
    "\n",
    "wordcloud =  WordCloud(background_color='White',mask = custom_mask,stopwords=stopwords,max_font_size=120,max_words=60)\n",
    "wordcloud.generate_from_frequencies(g)\n",
    "#generate plot\n",
    "plt.figure(figsize=(15,5))\n",
    "plt.imshow(wordcloud,interpolation='bilinear')\n",
    "plt.axis(\"off\")\n",
    "plt.tight_layout(pad=0)\n",
    "plt.show()"
   ]
  },
  {
   "cell_type": "code",
   "execution_count": 32,
   "metadata": {},
   "outputs": [
    {
     "data": {
      "application/vnd.plotly.v1+json": {
       "config": {
        "plotlyServerURL": "https://plot.ly"
       },
       "data": [
        {
         "alignmentgroup": "True",
         "bingroup": "x",
         "hovertemplate": "Average Rating=%{x}<br>count=%{y}<extra></extra>",
         "legendgroup": "",
         "marker": {
          "color": "#636efa",
          "pattern": {
           "shape": ""
          }
         },
         "name": "",
         "offsetgroup": "",
         "orientation": "v",
         "showlegend": false,
         "type": "histogram",
         "x": [
          4.23,
          4.29,
          4.3,
          4.21,
          4.27,
          4.24,
          4.2,
          4.25,
          4.23,
          4.26,
          4.23,
          4.26,
          4.25,
          4.34,
          4.18,
          4.3,
          4.2,
          4.19,
          4.23,
          4.18,
          4.2,
          4.17,
          4.09,
          4.13,
          4.19,
          4.21,
          4.07,
          4.18,
          4.15,
          4.17,
          4.14,
          4.11,
          4.13,
          4.12,
          4.17,
          4.12,
          4.1,
          4.21,
          4.12,
          4.17,
          4.13,
          4.11,
          4.15,
          4.15,
          4.12,
          4.09,
          4.11,
          4.16,
          4.16,
          4.13,
          4.09,
          4.12,
          4.13,
          4.09,
          4.12,
          4.11,
          4.12,
          4.14,
          4.18,
          4.08,
          4.14,
          4.02,
          4.07,
          4.07,
          4.11,
          4.1,
          4.11,
          4.03,
          4.05,
          4.11,
          4.04,
          4.09,
          4.03,
          4.11,
          4.06,
          4.05,
          4.09,
          4.06,
          4.06,
          4.07,
          4.11,
          4.08,
          4.09,
          4.11,
          4.11,
          4.04,
          4.09,
          4.04,
          4.07,
          4.01,
          4.03,
          4.1,
          3.97,
          4,
          4.04,
          4.07,
          4.03,
          4.11,
          4.1,
          4.06,
          4.06,
          4.06,
          4.09,
          4.08,
          4.03,
          4.06,
          3.92,
          4.07,
          3.97,
          4.07,
          4.11,
          4.1,
          4.02,
          4.11,
          4.01,
          4.05,
          4.09,
          3.98,
          4.04,
          4.04,
          4.06,
          4.06,
          4.1,
          4.01,
          4.02,
          4.05,
          4.11,
          3.95,
          3.99,
          3.99,
          4.02,
          4.05,
          4.01,
          4.03,
          4,
          4.05,
          4.07,
          4.02,
          3.96,
          4.06,
          4.09,
          3.98,
          4.03,
          4.02,
          4.05,
          4.01,
          4.02,
          3.92,
          4.07,
          3.95,
          3.99,
          3.99,
          4.03,
          3.94,
          3.97,
          4,
          3.96,
          3.97,
          4,
          4.03,
          4.04,
          3.94,
          4.01,
          3.96,
          3.94,
          3.91,
          3.97,
          3.98,
          3.94,
          3.92,
          3.99,
          4,
          3.95,
          3.98,
          3.96,
          3.98,
          4.02,
          3.96,
          4.06,
          3.98,
          3.98,
          3.89,
          4.02,
          4.04,
          3.98,
          4,
          3.83,
          3.94,
          3.99,
          3.94,
          3.97,
          4,
          4.06,
          3.97,
          3.97,
          4.03,
          3.9,
          4.03,
          3.99,
          4.02,
          4.03,
          4.06,
          4.03,
          4.03,
          3.96,
          3.97,
          3.89,
          3.97,
          3.98,
          3.94,
          3.96,
          3.97,
          4,
          3.93,
          4,
          4.01,
          4.06,
          3.93,
          3.99,
          4.01,
          3.92,
          3.91,
          3.91,
          3.95,
          3.92,
          3.96,
          3.93,
          3.96,
          3.97,
          3.91,
          4.03,
          4.02,
          3.96,
          3.96,
          3.93,
          3.96,
          3.93,
          3.92,
          3.95,
          4.01,
          3.96,
          3.97,
          3.98,
          3.93,
          4.03,
          3.95,
          3.97,
          3.95,
          3.95,
          4.03,
          4,
          3.94,
          3.95,
          3.98,
          3.98,
          4.01,
          3.96,
          3.94,
          3.92,
          3.94,
          3.99,
          4.01,
          3.99,
          3.98,
          3.93,
          4.03,
          3.9,
          3.94,
          3.98,
          4.01,
          3.86,
          3.9,
          3.92,
          3.93,
          3.96,
          3.98,
          4.02,
          3.96,
          3.91,
          3.94,
          3.95,
          3.97,
          4,
          4.01,
          4.01,
          3.98,
          3.94,
          3.99,
          3.8,
          3.99,
          3.99,
          4.01,
          3.83,
          3.9,
          3.92,
          3.91,
          3.99,
          4,
          3.95,
          3.9,
          3.96,
          3.98,
          3.99,
          3.91,
          4,
          3.99,
          3.92,
          3.96,
          3.96,
          3.98,
          3.93,
          3.93,
          4.01,
          3.94,
          3.98,
          3.88,
          3.93,
          4,
          3.94,
          4,
          3.88,
          3.96,
          3.96,
          3.99,
          3.92,
          3.89,
          3.91,
          3.95,
          3.96,
          3.88,
          3.88,
          3.9,
          3.9,
          3.94,
          3.95,
          3.93,
          3.94,
          3.91,
          3.94,
          3.91,
          3.82,
          3.92,
          3.92,
          3.79,
          3.91,
          3.93,
          3.92,
          3.89,
          3.93,
          3.87,
          3.91,
          3.9,
          3.91,
          3.9,
          3.91,
          3.95,
          3.87,
          3.9,
          3.93,
          3.93,
          3.96,
          3.94,
          3.97,
          3.88,
          3.91,
          3.96,
          3.91,
          3.94,
          3.91,
          3.92,
          3.94,
          3.95,
          3.9,
          3.91,
          3.92,
          3.93,
          3.99,
          3.83,
          3.92,
          3.97,
          3.92,
          3.91,
          3.91,
          3.9,
          3.92,
          3.89,
          3.92,
          3.94,
          3.89,
          3.9,
          3.92,
          3.9,
          3.9,
          3.95,
          3.96,
          3.92,
          3.94,
          3.91,
          3.92,
          3.97,
          3.92,
          3.9,
          3.94,
          3.92,
          3.93,
          3.96,
          3.95,
          3.95,
          3.96,
          3.87,
          3.9,
          3.91,
          3.93,
          3.9,
          3.95,
          3.88,
          3.91,
          3.8,
          3.91,
          3.88,
          3.9,
          3.83,
          3.96,
          3.89,
          3.93,
          3.91,
          3.95,
          3.93,
          3.89,
          3.91,
          3.89,
          3.93,
          3.88,
          3.88,
          3.9,
          3.86,
          3.92,
          3.91,
          3.93,
          3.82,
          3.93,
          3.88,
          3.88,
          3.91,
          3.93,
          3.94,
          3.95,
          3.74,
          3.88,
          3.92,
          3.89,
          3.89,
          3.9,
          3.92,
          3.94,
          3.86,
          3.92,
          3.94,
          3.87,
          3.89,
          3.93,
          3.94,
          3.8,
          3.87,
          3.91,
          3.95,
          3.86,
          3.91,
          3.86,
          3.91,
          3.79,
          3.87,
          3.91,
          3.82,
          3.84,
          3.88,
          3.9,
          3.92,
          3.94,
          3.87,
          3.88,
          3.9,
          3.95,
          3.88,
          3.88,
          3.9,
          3.95,
          3.89,
          3.91,
          3.82,
          3.91,
          3.91,
          3.93,
          3.85,
          3.87,
          3.87,
          3.95,
          3.8,
          3.87,
          3.89,
          3.91,
          3.89,
          3.89,
          3.81,
          3.87,
          3.91,
          3.94,
          3.82,
          3.88,
          3.88,
          3.89,
          3.86,
          3.91,
          3.9,
          3.92,
          3.85,
          3.87,
          3.89,
          3.88,
          3.9,
          3.9,
          3.92,
          3.9,
          3.96,
          3.86,
          3.88,
          3.95,
          3.92,
          3.85,
          3.84,
          3.85,
          3.85,
          3.88,
          3.89,
          3.81,
          3.85,
          3.87,
          3.9,
          3.89,
          3.87,
          3.91,
          3.86,
          3.89,
          3.93,
          3.85,
          3.9,
          3.91,
          3.86,
          3.88,
          3.89,
          3.92,
          3.92,
          3.92,
          3.85,
          3.91,
          3.93,
          3.82,
          3.92,
          3.94,
          3.87,
          3.88,
          3.91,
          3.93,
          3.91,
          3.89,
          3.93,
          3.86,
          3.86,
          3.88,
          3.88,
          3.9,
          3.82,
          3.86,
          3.88,
          3.87,
          3.88,
          3.81,
          3.86,
          3.87,
          3.93,
          3.79,
          3.81,
          3.85,
          3.89,
          3.91,
          3.91,
          3.85,
          3.91,
          3.87,
          3.88,
          3.87,
          3.85,
          3.92,
          3.9,
          3.84,
          3.88,
          3.93,
          3.92,
          3.89,
          3.88,
          3.91,
          3.86,
          3.77,
          3.83,
          3.86,
          3.86,
          3.86,
          3.86,
          3.91,
          3.91,
          3.93,
          3.91,
          3.82,
          3.9,
          3.93,
          3.82,
          3.88,
          3.9,
          3.83,
          3.87,
          3.93,
          3.84,
          3.85,
          3.84,
          3.9,
          3.9,
          3.81,
          3.88,
          3.92,
          3.81,
          3.86,
          3.88,
          3.92,
          3.92,
          3.85,
          3.87,
          3.9,
          3.82,
          3.84,
          3.86,
          3.9,
          3.89,
          3.89,
          3.85,
          3.89,
          3.92,
          3.82,
          3.84,
          3.84,
          3.88,
          3.88,
          3.87,
          3.9,
          3.91,
          3.92,
          3.9,
          3.78,
          3.84,
          3.86,
          3.85,
          3.8,
          3.84,
          3.86,
          3.9,
          3.93,
          3.85,
          3.85,
          3.87,
          3.88,
          3.9,
          3.91,
          3.9,
          3.9,
          3.83,
          3.86,
          3.87,
          3.84,
          3.85,
          3.87,
          3.94,
          3.83,
          3.91,
          3.91,
          3.9,
          3.9,
          3.84,
          3.86,
          3.88,
          3.88,
          3.9,
          3.93,
          3.87,
          3.82,
          3.85,
          3.88,
          3.83,
          3.9,
          3.91,
          3.92,
          3.9,
          3.88,
          3.82,
          3.85,
          3.83,
          3.88,
          3.9,
          3.91,
          3.91,
          3.92,
          3.82,
          3.85,
          3.87,
          3.91,
          3.8,
          3.81,
          3.89,
          3.87,
          3.88,
          3.8,
          3.84,
          3.86,
          3.86,
          3.85,
          3.9,
          3.89,
          3.72,
          3.84,
          3.83,
          3.92,
          3.77,
          3.85,
          3.89,
          3.91,
          3.85,
          3.85,
          3.87,
          3.83,
          3.88,
          3.9,
          3.91,
          3.83,
          3.84,
          3.85,
          3.86,
          3.88,
          3.9,
          3.9,
          3.92,
          3.83,
          3.87,
          3.79,
          3.79,
          3.82,
          3.83,
          3.88,
          3.89,
          3.89,
          3.92,
          3.82,
          3.83,
          3.84,
          3.83,
          3.84,
          3.85,
          3.87,
          3.89,
          3.91,
          3.88,
          3.85,
          3.83,
          3.87,
          3.86,
          3.91,
          3.88,
          3.7,
          3.86,
          3.85,
          3.88,
          3.88,
          3.81,
          3.89,
          3.84,
          3.87,
          3.89,
          3.9,
          3.93,
          3.84,
          3.86,
          3.89,
          3.84,
          3.81,
          3.84,
          3.86,
          3.81,
          3.82,
          3.9,
          3.83,
          3.84,
          3.85,
          3.87,
          3.88,
          3.9,
          3.82,
          3.84,
          3.83,
          3.91,
          3.82,
          3.82,
          3.87,
          3.91,
          3.85,
          3.84,
          3.91,
          3.86,
          3.86,
          3.77,
          3.86,
          3.8,
          3.83,
          3.86,
          3.86,
          3.84,
          3.89,
          3.82,
          3.81,
          3.82,
          3.84,
          3.79,
          3.85,
          3.86,
          3.88,
          3.88,
          3.86,
          3.85,
          3.77,
          3.81,
          3.86,
          3.86,
          3.86,
          3.88,
          3.88,
          3.88,
          3.85,
          3.84,
          3.88,
          3.8,
          3.85,
          3.85,
          3.89,
          3.88,
          3.87,
          3.88,
          3.9,
          3.88,
          3.9,
          3.89,
          3.82,
          3.84,
          3.85,
          3.84,
          3.86,
          3.86,
          3.88,
          3.8,
          3.88,
          3.89,
          3.78,
          3.77,
          3.81,
          3.85,
          3.86,
          3.9,
          3.9,
          3.76,
          3.84,
          3.88,
          3.9,
          3.83,
          3.87,
          3.86,
          3.89,
          3.89,
          3.86,
          3.83,
          3.86,
          3.86,
          3.87,
          3.9,
          3.88,
          3.9,
          3.82,
          3.85,
          3.86,
          3.87,
          3.9,
          3.77,
          3.82,
          3.85,
          3.84,
          3.83,
          3.87,
          3.82,
          3.89,
          3.85,
          3.86,
          3.86,
          3.86,
          3.76,
          3.78,
          3.82,
          3.83,
          3.82,
          3.89,
          3.83,
          3.83,
          3.83,
          3.86,
          3.85,
          3.88,
          3.89,
          3.89,
          3.78,
          3.84,
          3.79,
          3.84,
          3.88,
          3.87,
          3.91,
          3.79,
          3.8,
          3.82,
          3.82,
          3.85,
          3.86,
          3.86,
          3.85,
          3.85,
          3.88,
          3.75,
          3.8,
          3.87,
          3.79,
          3.84,
          3.84,
          3.85,
          3.86,
          3.83,
          3.86,
          3.84,
          3.83,
          3.74,
          3.8,
          3.84,
          3.87,
          3.89,
          3.75,
          3.81,
          3.82,
          3.83,
          3.85,
          3.86,
          3.84,
          3.86,
          3.87,
          3.78,
          3.79,
          3.82,
          3.87,
          3.79,
          3.84,
          3.88,
          3.82,
          3.82,
          3.81,
          3.82,
          3.85,
          3.84,
          3.85,
          3.81,
          3.83,
          3.82,
          3.84,
          3.81,
          3.84,
          3.83,
          3.85,
          3.86,
          3.88,
          3.77,
          3.8,
          3.8,
          3.84,
          3.86,
          3.85,
          3.87,
          3.87,
          3.77,
          3.82,
          3.8,
          3.86
         ],
         "xaxis": "x",
         "yaxis": "y"
        }
       ],
       "layout": {
        "barmode": "relative",
        "legend": {
         "tracegroupgap": 0
        },
        "template": {
         "data": {
          "bar": [
           {
            "error_x": {
             "color": "#2a3f5f"
            },
            "error_y": {
             "color": "#2a3f5f"
            },
            "marker": {
             "line": {
              "color": "#E5ECF6",
              "width": 0.5
             },
             "pattern": {
              "fillmode": "overlay",
              "size": 10,
              "solidity": 0.2
             }
            },
            "type": "bar"
           }
          ],
          "barpolar": [
           {
            "marker": {
             "line": {
              "color": "#E5ECF6",
              "width": 0.5
             },
             "pattern": {
              "fillmode": "overlay",
              "size": 10,
              "solidity": 0.2
             }
            },
            "type": "barpolar"
           }
          ],
          "carpet": [
           {
            "aaxis": {
             "endlinecolor": "#2a3f5f",
             "gridcolor": "white",
             "linecolor": "white",
             "minorgridcolor": "white",
             "startlinecolor": "#2a3f5f"
            },
            "baxis": {
             "endlinecolor": "#2a3f5f",
             "gridcolor": "white",
             "linecolor": "white",
             "minorgridcolor": "white",
             "startlinecolor": "#2a3f5f"
            },
            "type": "carpet"
           }
          ],
          "choropleth": [
           {
            "colorbar": {
             "outlinewidth": 0,
             "ticks": ""
            },
            "type": "choropleth"
           }
          ],
          "contour": [
           {
            "colorbar": {
             "outlinewidth": 0,
             "ticks": ""
            },
            "colorscale": [
             [
              0,
              "#0d0887"
             ],
             [
              0.1111111111111111,
              "#46039f"
             ],
             [
              0.2222222222222222,
              "#7201a8"
             ],
             [
              0.3333333333333333,
              "#9c179e"
             ],
             [
              0.4444444444444444,
              "#bd3786"
             ],
             [
              0.5555555555555556,
              "#d8576b"
             ],
             [
              0.6666666666666666,
              "#ed7953"
             ],
             [
              0.7777777777777778,
              "#fb9f3a"
             ],
             [
              0.8888888888888888,
              "#fdca26"
             ],
             [
              1,
              "#f0f921"
             ]
            ],
            "type": "contour"
           }
          ],
          "contourcarpet": [
           {
            "colorbar": {
             "outlinewidth": 0,
             "ticks": ""
            },
            "type": "contourcarpet"
           }
          ],
          "heatmap": [
           {
            "colorbar": {
             "outlinewidth": 0,
             "ticks": ""
            },
            "colorscale": [
             [
              0,
              "#0d0887"
             ],
             [
              0.1111111111111111,
              "#46039f"
             ],
             [
              0.2222222222222222,
              "#7201a8"
             ],
             [
              0.3333333333333333,
              "#9c179e"
             ],
             [
              0.4444444444444444,
              "#bd3786"
             ],
             [
              0.5555555555555556,
              "#d8576b"
             ],
             [
              0.6666666666666666,
              "#ed7953"
             ],
             [
              0.7777777777777778,
              "#fb9f3a"
             ],
             [
              0.8888888888888888,
              "#fdca26"
             ],
             [
              1,
              "#f0f921"
             ]
            ],
            "type": "heatmap"
           }
          ],
          "heatmapgl": [
           {
            "colorbar": {
             "outlinewidth": 0,
             "ticks": ""
            },
            "colorscale": [
             [
              0,
              "#0d0887"
             ],
             [
              0.1111111111111111,
              "#46039f"
             ],
             [
              0.2222222222222222,
              "#7201a8"
             ],
             [
              0.3333333333333333,
              "#9c179e"
             ],
             [
              0.4444444444444444,
              "#bd3786"
             ],
             [
              0.5555555555555556,
              "#d8576b"
             ],
             [
              0.6666666666666666,
              "#ed7953"
             ],
             [
              0.7777777777777778,
              "#fb9f3a"
             ],
             [
              0.8888888888888888,
              "#fdca26"
             ],
             [
              1,
              "#f0f921"
             ]
            ],
            "type": "heatmapgl"
           }
          ],
          "histogram": [
           {
            "marker": {
             "pattern": {
              "fillmode": "overlay",
              "size": 10,
              "solidity": 0.2
             }
            },
            "type": "histogram"
           }
          ],
          "histogram2d": [
           {
            "colorbar": {
             "outlinewidth": 0,
             "ticks": ""
            },
            "colorscale": [
             [
              0,
              "#0d0887"
             ],
             [
              0.1111111111111111,
              "#46039f"
             ],
             [
              0.2222222222222222,
              "#7201a8"
             ],
             [
              0.3333333333333333,
              "#9c179e"
             ],
             [
              0.4444444444444444,
              "#bd3786"
             ],
             [
              0.5555555555555556,
              "#d8576b"
             ],
             [
              0.6666666666666666,
              "#ed7953"
             ],
             [
              0.7777777777777778,
              "#fb9f3a"
             ],
             [
              0.8888888888888888,
              "#fdca26"
             ],
             [
              1,
              "#f0f921"
             ]
            ],
            "type": "histogram2d"
           }
          ],
          "histogram2dcontour": [
           {
            "colorbar": {
             "outlinewidth": 0,
             "ticks": ""
            },
            "colorscale": [
             [
              0,
              "#0d0887"
             ],
             [
              0.1111111111111111,
              "#46039f"
             ],
             [
              0.2222222222222222,
              "#7201a8"
             ],
             [
              0.3333333333333333,
              "#9c179e"
             ],
             [
              0.4444444444444444,
              "#bd3786"
             ],
             [
              0.5555555555555556,
              "#d8576b"
             ],
             [
              0.6666666666666666,
              "#ed7953"
             ],
             [
              0.7777777777777778,
              "#fb9f3a"
             ],
             [
              0.8888888888888888,
              "#fdca26"
             ],
             [
              1,
              "#f0f921"
             ]
            ],
            "type": "histogram2dcontour"
           }
          ],
          "mesh3d": [
           {
            "colorbar": {
             "outlinewidth": 0,
             "ticks": ""
            },
            "type": "mesh3d"
           }
          ],
          "parcoords": [
           {
            "line": {
             "colorbar": {
              "outlinewidth": 0,
              "ticks": ""
             }
            },
            "type": "parcoords"
           }
          ],
          "pie": [
           {
            "automargin": true,
            "type": "pie"
           }
          ],
          "scatter": [
           {
            "marker": {
             "colorbar": {
              "outlinewidth": 0,
              "ticks": ""
             }
            },
            "type": "scatter"
           }
          ],
          "scatter3d": [
           {
            "line": {
             "colorbar": {
              "outlinewidth": 0,
              "ticks": ""
             }
            },
            "marker": {
             "colorbar": {
              "outlinewidth": 0,
              "ticks": ""
             }
            },
            "type": "scatter3d"
           }
          ],
          "scattercarpet": [
           {
            "marker": {
             "colorbar": {
              "outlinewidth": 0,
              "ticks": ""
             }
            },
            "type": "scattercarpet"
           }
          ],
          "scattergeo": [
           {
            "marker": {
             "colorbar": {
              "outlinewidth": 0,
              "ticks": ""
             }
            },
            "type": "scattergeo"
           }
          ],
          "scattergl": [
           {
            "marker": {
             "colorbar": {
              "outlinewidth": 0,
              "ticks": ""
             }
            },
            "type": "scattergl"
           }
          ],
          "scattermapbox": [
           {
            "marker": {
             "colorbar": {
              "outlinewidth": 0,
              "ticks": ""
             }
            },
            "type": "scattermapbox"
           }
          ],
          "scatterpolar": [
           {
            "marker": {
             "colorbar": {
              "outlinewidth": 0,
              "ticks": ""
             }
            },
            "type": "scatterpolar"
           }
          ],
          "scatterpolargl": [
           {
            "marker": {
             "colorbar": {
              "outlinewidth": 0,
              "ticks": ""
             }
            },
            "type": "scatterpolargl"
           }
          ],
          "scatterternary": [
           {
            "marker": {
             "colorbar": {
              "outlinewidth": 0,
              "ticks": ""
             }
            },
            "type": "scatterternary"
           }
          ],
          "surface": [
           {
            "colorbar": {
             "outlinewidth": 0,
             "ticks": ""
            },
            "colorscale": [
             [
              0,
              "#0d0887"
             ],
             [
              0.1111111111111111,
              "#46039f"
             ],
             [
              0.2222222222222222,
              "#7201a8"
             ],
             [
              0.3333333333333333,
              "#9c179e"
             ],
             [
              0.4444444444444444,
              "#bd3786"
             ],
             [
              0.5555555555555556,
              "#d8576b"
             ],
             [
              0.6666666666666666,
              "#ed7953"
             ],
             [
              0.7777777777777778,
              "#fb9f3a"
             ],
             [
              0.8888888888888888,
              "#fdca26"
             ],
             [
              1,
              "#f0f921"
             ]
            ],
            "type": "surface"
           }
          ],
          "table": [
           {
            "cells": {
             "fill": {
              "color": "#EBF0F8"
             },
             "line": {
              "color": "white"
             }
            },
            "header": {
             "fill": {
              "color": "#C8D4E3"
             },
             "line": {
              "color": "white"
             }
            },
            "type": "table"
           }
          ]
         },
         "layout": {
          "annotationdefaults": {
           "arrowcolor": "#2a3f5f",
           "arrowhead": 0,
           "arrowwidth": 1
          },
          "autotypenumbers": "strict",
          "coloraxis": {
           "colorbar": {
            "outlinewidth": 0,
            "ticks": ""
           }
          },
          "colorscale": {
           "diverging": [
            [
             0,
             "#8e0152"
            ],
            [
             0.1,
             "#c51b7d"
            ],
            [
             0.2,
             "#de77ae"
            ],
            [
             0.3,
             "#f1b6da"
            ],
            [
             0.4,
             "#fde0ef"
            ],
            [
             0.5,
             "#f7f7f7"
            ],
            [
             0.6,
             "#e6f5d0"
            ],
            [
             0.7,
             "#b8e186"
            ],
            [
             0.8,
             "#7fbc41"
            ],
            [
             0.9,
             "#4d9221"
            ],
            [
             1,
             "#276419"
            ]
           ],
           "sequential": [
            [
             0,
             "#0d0887"
            ],
            [
             0.1111111111111111,
             "#46039f"
            ],
            [
             0.2222222222222222,
             "#7201a8"
            ],
            [
             0.3333333333333333,
             "#9c179e"
            ],
            [
             0.4444444444444444,
             "#bd3786"
            ],
            [
             0.5555555555555556,
             "#d8576b"
            ],
            [
             0.6666666666666666,
             "#ed7953"
            ],
            [
             0.7777777777777778,
             "#fb9f3a"
            ],
            [
             0.8888888888888888,
             "#fdca26"
            ],
            [
             1,
             "#f0f921"
            ]
           ],
           "sequentialminus": [
            [
             0,
             "#0d0887"
            ],
            [
             0.1111111111111111,
             "#46039f"
            ],
            [
             0.2222222222222222,
             "#7201a8"
            ],
            [
             0.3333333333333333,
             "#9c179e"
            ],
            [
             0.4444444444444444,
             "#bd3786"
            ],
            [
             0.5555555555555556,
             "#d8576b"
            ],
            [
             0.6666666666666666,
             "#ed7953"
            ],
            [
             0.7777777777777778,
             "#fb9f3a"
            ],
            [
             0.8888888888888888,
             "#fdca26"
            ],
            [
             1,
             "#f0f921"
            ]
           ]
          },
          "colorway": [
           "#636efa",
           "#EF553B",
           "#00cc96",
           "#ab63fa",
           "#FFA15A",
           "#19d3f3",
           "#FF6692",
           "#B6E880",
           "#FF97FF",
           "#FECB52"
          ],
          "font": {
           "color": "#2a3f5f"
          },
          "geo": {
           "bgcolor": "white",
           "lakecolor": "white",
           "landcolor": "#E5ECF6",
           "showlakes": true,
           "showland": true,
           "subunitcolor": "white"
          },
          "hoverlabel": {
           "align": "left"
          },
          "hovermode": "closest",
          "mapbox": {
           "style": "light"
          },
          "paper_bgcolor": "white",
          "plot_bgcolor": "#E5ECF6",
          "polar": {
           "angularaxis": {
            "gridcolor": "white",
            "linecolor": "white",
            "ticks": ""
           },
           "bgcolor": "#E5ECF6",
           "radialaxis": {
            "gridcolor": "white",
            "linecolor": "white",
            "ticks": ""
           }
          },
          "scene": {
           "xaxis": {
            "backgroundcolor": "#E5ECF6",
            "gridcolor": "white",
            "gridwidth": 2,
            "linecolor": "white",
            "showbackground": true,
            "ticks": "",
            "zerolinecolor": "white"
           },
           "yaxis": {
            "backgroundcolor": "#E5ECF6",
            "gridcolor": "white",
            "gridwidth": 2,
            "linecolor": "white",
            "showbackground": true,
            "ticks": "",
            "zerolinecolor": "white"
           },
           "zaxis": {
            "backgroundcolor": "#E5ECF6",
            "gridcolor": "white",
            "gridwidth": 2,
            "linecolor": "white",
            "showbackground": true,
            "ticks": "",
            "zerolinecolor": "white"
           }
          },
          "shapedefaults": {
           "line": {
            "color": "#2a3f5f"
           }
          },
          "ternary": {
           "aaxis": {
            "gridcolor": "white",
            "linecolor": "white",
            "ticks": ""
           },
           "baxis": {
            "gridcolor": "white",
            "linecolor": "white",
            "ticks": ""
           },
           "bgcolor": "#E5ECF6",
           "caxis": {
            "gridcolor": "white",
            "linecolor": "white",
            "ticks": ""
           }
          },
          "title": {
           "x": 0.05
          },
          "xaxis": {
           "automargin": true,
           "gridcolor": "white",
           "linecolor": "white",
           "ticks": "",
           "title": {
            "standoff": 15
           },
           "zerolinecolor": "white",
           "zerolinewidth": 2
          },
          "yaxis": {
           "automargin": true,
           "gridcolor": "white",
           "linecolor": "white",
           "ticks": "",
           "title": {
            "standoff": 15
           },
           "zerolinecolor": "white",
           "zerolinewidth": 2
          }
         }
        },
        "title": {
         "text": "Average Rating Distribution of Top 1000 Albums"
        },
        "xaxis": {
         "anchor": "y",
         "domain": [
          0,
          1
         ],
         "title": {
          "text": "Average Rating"
         }
        },
        "yaxis": {
         "anchor": "x",
         "domain": [
          0,
          1
         ],
         "title": {
          "text": "count"
         }
        }
       }
      }
     },
     "metadata": {},
     "output_type": "display_data"
    }
   ],
   "source": [
    "fig = px.histogram(top_1000, x=\"Average Rating\",title='Average Rating Distribution of Top 1000 Albums')\n",
    "fig.show()"
   ]
  },
  {
   "cell_type": "code",
   "execution_count": 33,
   "metadata": {},
   "outputs": [
    {
     "data": {
      "application/vnd.plotly.v1+json": {
       "config": {
        "plotlyServerURL": "https://plot.ly"
       },
       "data": [
        {
         "alignmentgroup": "True",
         "bingroup": "x",
         "hovertemplate": "Number of Reviews=%{x}<br>count=%{y}<extra></extra>",
         "legendgroup": "",
         "marker": {
          "color": "#636efa",
          "pattern": {
           "shape": ""
          }
         },
         "name": "",
         "offsetgroup": "",
         "orientation": "v",
         "showlegend": false,
         "type": "histogram",
         "x": [
          1531,
          983,
          870,
          734,
          379,
          1223,
          1549,
          961,
          929,
          721,
          1160,
          376,
          520,
          365,
          756,
          433,
          315,
          582,
          549,
          727,
          619,
          612,
          968,
          863,
          425,
          405,
          636,
          536,
          452,
          413,
          1085,
          573,
          695,
          530,
          604,
          548,
          873,
          282,
          518,
          151,
          391,
          398,
          266,
          457,
          361,
          563,
          410,
          321,
          425,
          454,
          297,
          446,
          261,
          558,
          290,
          275,
          512,
          435,
          242,
          193,
          289,
          311,
          403,
          310,
          220,
          275,
          287,
          272,
          499,
          329,
          289,
          399,
          721,
          341,
          297,
          546,
          358,
          559,
          560,
          479,
          386,
          205,
          380,
          158,
          248,
          496,
          451,
          510,
          354,
          747,
          300,
          172,
          837,
          730,
          214,
          313,
          503,
          242,
          192,
          260,
          222,
          359,
          324,
          419,
          333,
          141,
          996,
          94,
          535,
          215,
          85,
          156,
          412,
          145,
          286,
          248,
          171,
          230,
          181,
          282,
          289,
          189,
          88,
          287,
          309,
          325,
          83,
          582,
          390,
          273,
          377,
          121,
          527,
          239,
          566,
          329,
          150,
          376,
          531,
          142,
          74,
          267,
          308,
          240,
          187,
          247,
          284,
          518,
          83,
          490,
          347,
          297,
          224,
          583,
          292,
          321,
          298,
          559,
          336,
          191,
          221,
          282,
          161,
          467,
          439,
          307,
          332,
          315,
          368,
          459,
          118,
          254,
          608,
          401,
          529,
          321,
          139,
          268,
          60,
          375,
          326,
          481,
          69,
          101,
          424,
          254,
          789,
          346,
          135,
          309,
          281,
          231,
          12,
          214,
          367,
          127,
          194,
          76,
          186,
          191,
          114,
          10,
          107,
          93,
          191,
          309,
          279,
          226,
          99,
          464,
          220,
          229,
          92,
          452,
          101,
          141,
          19,
          258,
          96,
          65,
          371,
          241,
          435,
          268,
          310,
          266,
          353,
          272,
          202,
          228,
          79,
          81,
          310,
          159,
          253,
          175,
          284,
          447,
          257,
          25,
          171,
          246,
          171,
          333,
          6,
          224,
          145,
          116,
          147,
          44,
          68,
          276,
          299,
          102,
          148,
          16,
          210,
          213,
          295,
          131,
          88,
          10,
          122,
          118,
          250,
          5,
          456,
          228,
          86,
          29,
          691,
          227,
          299,
          325,
          212,
          93,
          7,
          241,
          313,
          245,
          265,
          50,
          53,
          16,
          13,
          14,
          157,
          52,
          747,
          83,
          7,
          20,
          215,
          206,
          263,
          322,
          52,
          23,
          179,
          364,
          95,
          48,
          30,
          253,
          30,
          19,
          193,
          139,
          73,
          45,
          110,
          115,
          16,
          220,
          26,
          234,
          133,
          8,
          169,
          32,
          370,
          75,
          13,
          49,
          307,
          332,
          246,
          91,
          56,
          217,
          220,
          180,
          292,
          229,
          79,
          166,
          175,
          150,
          134,
          234,
          426,
          129,
          212,
          544,
          253,
          91,
          158,
          303,
          176,
          465,
          164,
          178,
          214,
          30,
          153,
          81,
          203,
          271,
          87,
          171,
          27,
          23,
          9,
          217,
          222,
          62,
          281,
          118,
          209,
          146,
          152,
          122,
          225,
          157,
          167,
          104,
          3,
          484,
          243,
          28,
          121,
          135,
          78,
          215,
          94,
          254,
          97,
          111,
          205,
          149,
          147,
          161,
          118,
          39,
          48,
          90,
          122,
          134,
          107,
          9,
          150,
          200,
          58,
          143,
          124,
          30,
          40,
          48,
          30,
          258,
          118,
          200,
          32,
          130,
          16,
          143,
          5,
          397,
          77,
          163,
          176,
          180,
          4,
          145,
          97,
          137,
          18,
          14,
          139,
          183,
          126,
          63,
          213,
          135,
          122,
          221,
          147,
          138,
          114,
          102,
          44,
          135,
          130,
          164,
          60,
          17,
          12,
          373,
          163,
          37,
          225,
          194,
          55,
          42,
          46,
          312,
          28,
          42,
          193,
          221,
          50,
          6,
          239,
          139,
          62,
          11,
          137,
          123,
          137,
          95,
          182,
          62,
          12,
          221,
          263,
          160,
          168,
          66,
          12,
          225,
          169,
          72,
          6,
          145,
          113,
          79,
          2,
          109,
          61,
          277,
          50,
          114,
          49,
          170,
          154,
          215,
          1,
          577,
          211,
          147,
          134,
          88,
          107,
          421,
          188,
          52,
          2,
          290,
          118,
          128,
          108,
          158,
          94,
          56,
          37,
          191,
          197,
          144,
          101,
          113,
          64,
          16,
          70,
          0,
          195,
          144,
          1,
          44,
          103,
          205,
          279,
          193,
          55,
          47,
          163,
          177,
          74,
          96,
          6,
          136,
          12,
          105,
          50,
          7,
          118,
          101,
          83,
          154,
          116,
          70,
          24,
          9,
          17,
          132,
          60,
          32,
          192,
          7,
          5,
          149,
          62,
          35,
          18,
          15,
          21,
          1,
          133,
          200,
          108,
          82,
          10,
          198,
          65,
          100,
          128,
          137,
          181,
          117,
          124,
          19,
          298,
          376,
          119,
          100,
          63,
          38,
          190,
          6,
          100,
          125,
          103,
          111,
          15,
          70,
          158,
          84,
          14,
          8,
          61,
          44,
          12,
          119,
          565,
          329,
          150,
          149,
          164,
          112,
          30,
          17,
          31,
          17,
          109,
          11,
          16,
          208,
          91,
          56,
          325,
          165,
          4,
          167,
          175,
          189,
          32,
          44,
          292,
          55,
          28,
          179,
          130,
          36,
          8,
          4,
          171,
          98,
          7,
          208,
          151,
          172,
          36,
          51,
          4,
          39,
          12,
          6,
          104,
          189,
          161,
          119,
          100,
          95,
          6,
          5,
          10,
          2,
          184,
          119,
          191,
          142,
          233,
          248,
          116,
          12,
          2,
          141,
          138,
          121,
          117,
          57,
          13,
          3,
          2,
          264,
          69,
          121,
          152,
          100,
          59,
          1,
          141,
          33,
          16,
          20,
          49,
          73,
          91,
          48,
          53,
          10,
          2,
          122,
          257,
          141,
          55,
          64,
          11,
          5,
          16,
          10,
          5,
          83,
          143,
          62,
          68,
          36,
          13,
          25,
          5,
          272,
          192,
          133,
          6,
          222,
          189,
          48,
          36,
          12,
          275,
          185,
          88,
          69,
          112,
          18,
          43,
          643,
          153,
          232,
          8,
          398,
          52,
          7,
          12,
          76,
          71,
          72,
          82,
          31,
          21,
          24,
          171,
          121,
          76,
          134,
          40,
          13,
          2,
          2,
          189,
          87,
          109,
          188,
          253,
          178,
          56,
          8,
          51,
          2,
          129,
          94,
          151,
          110,
          71,
          179,
          81,
          20,
          8,
          2,
          144,
          72,
          73,
          57,
          2,
          5,
          277,
          158,
          103,
          76,
          63,
          293,
          4,
          72,
          58,
          20,
          7,
          4,
          203,
          90,
          25,
          124,
          242,
          139,
          50,
          152,
          93,
          3,
          93,
          225,
          100,
          86,
          65,
          14,
          189,
          93,
          55,
          6,
          174,
          186,
          21,
          1,
          120,
          209,
          4,
          118,
          137,
          105,
          59,
          103,
          195,
          100,
          76,
          26,
          5,
          158,
          117,
          87,
          145,
          204,
          69,
          115,
          37,
          12,
          127,
          79,
          226,
          251,
          83,
          113,
          111,
          36,
          35,
          28,
          92,
          71,
          7,
          193,
          119,
          64,
          7,
          58,
          16,
          6,
          1,
          12,
          12,
          7,
          150,
          92,
          32,
          114,
          34,
          43,
          27,
          193,
          17,
          6,
          277,
          159,
          135,
          55,
          101,
          5,
          4,
          133,
          136,
          31,
          4,
          98,
          32,
          43,
          7,
          2,
          75,
          54,
          74,
          65,
          12,
          4,
          28,
          3,
          135,
          73,
          65,
          46,
          2,
          405,
          179,
          85,
          104,
          167,
          33,
          20,
          8,
          49,
          61,
          37,
          30,
          256,
          233,
          139,
          113,
          110,
          0,
          91,
          68,
          83,
          42,
          34,
          17,
          7,
          4,
          175,
          107,
          99,
          125,
          8,
          10,
          1,
          169,
          107,
          193,
          199,
          53,
          38,
          18,
          21,
          23,
          6,
          233,
          214,
          22,
          204,
          121,
          51,
          56,
          18,
          160,
          9,
          42,
          46,
          85,
          233,
          46,
          14,
          7,
          246,
          201,
          85,
          47,
          97,
          3,
          25,
          15,
          11,
          86,
          208,
          90,
          2,
          162,
          93,
          16,
          94,
          84,
          55,
          70,
          43,
          48,
          51,
          86,
          81,
          116,
          56,
          61,
          99,
          50,
          48,
          23,
          4,
          273,
          181,
          191,
          57,
          31,
          42,
          15,
          8,
          321,
          127,
          150,
          15
         ],
         "xaxis": "x",
         "yaxis": "y"
        }
       ],
       "layout": {
        "barmode": "relative",
        "legend": {
         "tracegroupgap": 0
        },
        "template": {
         "data": {
          "bar": [
           {
            "error_x": {
             "color": "#2a3f5f"
            },
            "error_y": {
             "color": "#2a3f5f"
            },
            "marker": {
             "line": {
              "color": "#E5ECF6",
              "width": 0.5
             },
             "pattern": {
              "fillmode": "overlay",
              "size": 10,
              "solidity": 0.2
             }
            },
            "type": "bar"
           }
          ],
          "barpolar": [
           {
            "marker": {
             "line": {
              "color": "#E5ECF6",
              "width": 0.5
             },
             "pattern": {
              "fillmode": "overlay",
              "size": 10,
              "solidity": 0.2
             }
            },
            "type": "barpolar"
           }
          ],
          "carpet": [
           {
            "aaxis": {
             "endlinecolor": "#2a3f5f",
             "gridcolor": "white",
             "linecolor": "white",
             "minorgridcolor": "white",
             "startlinecolor": "#2a3f5f"
            },
            "baxis": {
             "endlinecolor": "#2a3f5f",
             "gridcolor": "white",
             "linecolor": "white",
             "minorgridcolor": "white",
             "startlinecolor": "#2a3f5f"
            },
            "type": "carpet"
           }
          ],
          "choropleth": [
           {
            "colorbar": {
             "outlinewidth": 0,
             "ticks": ""
            },
            "type": "choropleth"
           }
          ],
          "contour": [
           {
            "colorbar": {
             "outlinewidth": 0,
             "ticks": ""
            },
            "colorscale": [
             [
              0,
              "#0d0887"
             ],
             [
              0.1111111111111111,
              "#46039f"
             ],
             [
              0.2222222222222222,
              "#7201a8"
             ],
             [
              0.3333333333333333,
              "#9c179e"
             ],
             [
              0.4444444444444444,
              "#bd3786"
             ],
             [
              0.5555555555555556,
              "#d8576b"
             ],
             [
              0.6666666666666666,
              "#ed7953"
             ],
             [
              0.7777777777777778,
              "#fb9f3a"
             ],
             [
              0.8888888888888888,
              "#fdca26"
             ],
             [
              1,
              "#f0f921"
             ]
            ],
            "type": "contour"
           }
          ],
          "contourcarpet": [
           {
            "colorbar": {
             "outlinewidth": 0,
             "ticks": ""
            },
            "type": "contourcarpet"
           }
          ],
          "heatmap": [
           {
            "colorbar": {
             "outlinewidth": 0,
             "ticks": ""
            },
            "colorscale": [
             [
              0,
              "#0d0887"
             ],
             [
              0.1111111111111111,
              "#46039f"
             ],
             [
              0.2222222222222222,
              "#7201a8"
             ],
             [
              0.3333333333333333,
              "#9c179e"
             ],
             [
              0.4444444444444444,
              "#bd3786"
             ],
             [
              0.5555555555555556,
              "#d8576b"
             ],
             [
              0.6666666666666666,
              "#ed7953"
             ],
             [
              0.7777777777777778,
              "#fb9f3a"
             ],
             [
              0.8888888888888888,
              "#fdca26"
             ],
             [
              1,
              "#f0f921"
             ]
            ],
            "type": "heatmap"
           }
          ],
          "heatmapgl": [
           {
            "colorbar": {
             "outlinewidth": 0,
             "ticks": ""
            },
            "colorscale": [
             [
              0,
              "#0d0887"
             ],
             [
              0.1111111111111111,
              "#46039f"
             ],
             [
              0.2222222222222222,
              "#7201a8"
             ],
             [
              0.3333333333333333,
              "#9c179e"
             ],
             [
              0.4444444444444444,
              "#bd3786"
             ],
             [
              0.5555555555555556,
              "#d8576b"
             ],
             [
              0.6666666666666666,
              "#ed7953"
             ],
             [
              0.7777777777777778,
              "#fb9f3a"
             ],
             [
              0.8888888888888888,
              "#fdca26"
             ],
             [
              1,
              "#f0f921"
             ]
            ],
            "type": "heatmapgl"
           }
          ],
          "histogram": [
           {
            "marker": {
             "pattern": {
              "fillmode": "overlay",
              "size": 10,
              "solidity": 0.2
             }
            },
            "type": "histogram"
           }
          ],
          "histogram2d": [
           {
            "colorbar": {
             "outlinewidth": 0,
             "ticks": ""
            },
            "colorscale": [
             [
              0,
              "#0d0887"
             ],
             [
              0.1111111111111111,
              "#46039f"
             ],
             [
              0.2222222222222222,
              "#7201a8"
             ],
             [
              0.3333333333333333,
              "#9c179e"
             ],
             [
              0.4444444444444444,
              "#bd3786"
             ],
             [
              0.5555555555555556,
              "#d8576b"
             ],
             [
              0.6666666666666666,
              "#ed7953"
             ],
             [
              0.7777777777777778,
              "#fb9f3a"
             ],
             [
              0.8888888888888888,
              "#fdca26"
             ],
             [
              1,
              "#f0f921"
             ]
            ],
            "type": "histogram2d"
           }
          ],
          "histogram2dcontour": [
           {
            "colorbar": {
             "outlinewidth": 0,
             "ticks": ""
            },
            "colorscale": [
             [
              0,
              "#0d0887"
             ],
             [
              0.1111111111111111,
              "#46039f"
             ],
             [
              0.2222222222222222,
              "#7201a8"
             ],
             [
              0.3333333333333333,
              "#9c179e"
             ],
             [
              0.4444444444444444,
              "#bd3786"
             ],
             [
              0.5555555555555556,
              "#d8576b"
             ],
             [
              0.6666666666666666,
              "#ed7953"
             ],
             [
              0.7777777777777778,
              "#fb9f3a"
             ],
             [
              0.8888888888888888,
              "#fdca26"
             ],
             [
              1,
              "#f0f921"
             ]
            ],
            "type": "histogram2dcontour"
           }
          ],
          "mesh3d": [
           {
            "colorbar": {
             "outlinewidth": 0,
             "ticks": ""
            },
            "type": "mesh3d"
           }
          ],
          "parcoords": [
           {
            "line": {
             "colorbar": {
              "outlinewidth": 0,
              "ticks": ""
             }
            },
            "type": "parcoords"
           }
          ],
          "pie": [
           {
            "automargin": true,
            "type": "pie"
           }
          ],
          "scatter": [
           {
            "marker": {
             "colorbar": {
              "outlinewidth": 0,
              "ticks": ""
             }
            },
            "type": "scatter"
           }
          ],
          "scatter3d": [
           {
            "line": {
             "colorbar": {
              "outlinewidth": 0,
              "ticks": ""
             }
            },
            "marker": {
             "colorbar": {
              "outlinewidth": 0,
              "ticks": ""
             }
            },
            "type": "scatter3d"
           }
          ],
          "scattercarpet": [
           {
            "marker": {
             "colorbar": {
              "outlinewidth": 0,
              "ticks": ""
             }
            },
            "type": "scattercarpet"
           }
          ],
          "scattergeo": [
           {
            "marker": {
             "colorbar": {
              "outlinewidth": 0,
              "ticks": ""
             }
            },
            "type": "scattergeo"
           }
          ],
          "scattergl": [
           {
            "marker": {
             "colorbar": {
              "outlinewidth": 0,
              "ticks": ""
             }
            },
            "type": "scattergl"
           }
          ],
          "scattermapbox": [
           {
            "marker": {
             "colorbar": {
              "outlinewidth": 0,
              "ticks": ""
             }
            },
            "type": "scattermapbox"
           }
          ],
          "scatterpolar": [
           {
            "marker": {
             "colorbar": {
              "outlinewidth": 0,
              "ticks": ""
             }
            },
            "type": "scatterpolar"
           }
          ],
          "scatterpolargl": [
           {
            "marker": {
             "colorbar": {
              "outlinewidth": 0,
              "ticks": ""
             }
            },
            "type": "scatterpolargl"
           }
          ],
          "scatterternary": [
           {
            "marker": {
             "colorbar": {
              "outlinewidth": 0,
              "ticks": ""
             }
            },
            "type": "scatterternary"
           }
          ],
          "surface": [
           {
            "colorbar": {
             "outlinewidth": 0,
             "ticks": ""
            },
            "colorscale": [
             [
              0,
              "#0d0887"
             ],
             [
              0.1111111111111111,
              "#46039f"
             ],
             [
              0.2222222222222222,
              "#7201a8"
             ],
             [
              0.3333333333333333,
              "#9c179e"
             ],
             [
              0.4444444444444444,
              "#bd3786"
             ],
             [
              0.5555555555555556,
              "#d8576b"
             ],
             [
              0.6666666666666666,
              "#ed7953"
             ],
             [
              0.7777777777777778,
              "#fb9f3a"
             ],
             [
              0.8888888888888888,
              "#fdca26"
             ],
             [
              1,
              "#f0f921"
             ]
            ],
            "type": "surface"
           }
          ],
          "table": [
           {
            "cells": {
             "fill": {
              "color": "#EBF0F8"
             },
             "line": {
              "color": "white"
             }
            },
            "header": {
             "fill": {
              "color": "#C8D4E3"
             },
             "line": {
              "color": "white"
             }
            },
            "type": "table"
           }
          ]
         },
         "layout": {
          "annotationdefaults": {
           "arrowcolor": "#2a3f5f",
           "arrowhead": 0,
           "arrowwidth": 1
          },
          "autotypenumbers": "strict",
          "coloraxis": {
           "colorbar": {
            "outlinewidth": 0,
            "ticks": ""
           }
          },
          "colorscale": {
           "diverging": [
            [
             0,
             "#8e0152"
            ],
            [
             0.1,
             "#c51b7d"
            ],
            [
             0.2,
             "#de77ae"
            ],
            [
             0.3,
             "#f1b6da"
            ],
            [
             0.4,
             "#fde0ef"
            ],
            [
             0.5,
             "#f7f7f7"
            ],
            [
             0.6,
             "#e6f5d0"
            ],
            [
             0.7,
             "#b8e186"
            ],
            [
             0.8,
             "#7fbc41"
            ],
            [
             0.9,
             "#4d9221"
            ],
            [
             1,
             "#276419"
            ]
           ],
           "sequential": [
            [
             0,
             "#0d0887"
            ],
            [
             0.1111111111111111,
             "#46039f"
            ],
            [
             0.2222222222222222,
             "#7201a8"
            ],
            [
             0.3333333333333333,
             "#9c179e"
            ],
            [
             0.4444444444444444,
             "#bd3786"
            ],
            [
             0.5555555555555556,
             "#d8576b"
            ],
            [
             0.6666666666666666,
             "#ed7953"
            ],
            [
             0.7777777777777778,
             "#fb9f3a"
            ],
            [
             0.8888888888888888,
             "#fdca26"
            ],
            [
             1,
             "#f0f921"
            ]
           ],
           "sequentialminus": [
            [
             0,
             "#0d0887"
            ],
            [
             0.1111111111111111,
             "#46039f"
            ],
            [
             0.2222222222222222,
             "#7201a8"
            ],
            [
             0.3333333333333333,
             "#9c179e"
            ],
            [
             0.4444444444444444,
             "#bd3786"
            ],
            [
             0.5555555555555556,
             "#d8576b"
            ],
            [
             0.6666666666666666,
             "#ed7953"
            ],
            [
             0.7777777777777778,
             "#fb9f3a"
            ],
            [
             0.8888888888888888,
             "#fdca26"
            ],
            [
             1,
             "#f0f921"
            ]
           ]
          },
          "colorway": [
           "#636efa",
           "#EF553B",
           "#00cc96",
           "#ab63fa",
           "#FFA15A",
           "#19d3f3",
           "#FF6692",
           "#B6E880",
           "#FF97FF",
           "#FECB52"
          ],
          "font": {
           "color": "#2a3f5f"
          },
          "geo": {
           "bgcolor": "white",
           "lakecolor": "white",
           "landcolor": "#E5ECF6",
           "showlakes": true,
           "showland": true,
           "subunitcolor": "white"
          },
          "hoverlabel": {
           "align": "left"
          },
          "hovermode": "closest",
          "mapbox": {
           "style": "light"
          },
          "paper_bgcolor": "white",
          "plot_bgcolor": "#E5ECF6",
          "polar": {
           "angularaxis": {
            "gridcolor": "white",
            "linecolor": "white",
            "ticks": ""
           },
           "bgcolor": "#E5ECF6",
           "radialaxis": {
            "gridcolor": "white",
            "linecolor": "white",
            "ticks": ""
           }
          },
          "scene": {
           "xaxis": {
            "backgroundcolor": "#E5ECF6",
            "gridcolor": "white",
            "gridwidth": 2,
            "linecolor": "white",
            "showbackground": true,
            "ticks": "",
            "zerolinecolor": "white"
           },
           "yaxis": {
            "backgroundcolor": "#E5ECF6",
            "gridcolor": "white",
            "gridwidth": 2,
            "linecolor": "white",
            "showbackground": true,
            "ticks": "",
            "zerolinecolor": "white"
           },
           "zaxis": {
            "backgroundcolor": "#E5ECF6",
            "gridcolor": "white",
            "gridwidth": 2,
            "linecolor": "white",
            "showbackground": true,
            "ticks": "",
            "zerolinecolor": "white"
           }
          },
          "shapedefaults": {
           "line": {
            "color": "#2a3f5f"
           }
          },
          "ternary": {
           "aaxis": {
            "gridcolor": "white",
            "linecolor": "white",
            "ticks": ""
           },
           "baxis": {
            "gridcolor": "white",
            "linecolor": "white",
            "ticks": ""
           },
           "bgcolor": "#E5ECF6",
           "caxis": {
            "gridcolor": "white",
            "linecolor": "white",
            "ticks": ""
           }
          },
          "title": {
           "x": 0.05
          },
          "xaxis": {
           "automargin": true,
           "gridcolor": "white",
           "linecolor": "white",
           "ticks": "",
           "title": {
            "standoff": 15
           },
           "zerolinecolor": "white",
           "zerolinewidth": 2
          },
          "yaxis": {
           "automargin": true,
           "gridcolor": "white",
           "linecolor": "white",
           "ticks": "",
           "title": {
            "standoff": 15
           },
           "zerolinecolor": "white",
           "zerolinewidth": 2
          }
         }
        },
        "title": {
         "text": "Number of Reviews Distribution of Top 1000 Albums"
        },
        "xaxis": {
         "anchor": "y",
         "domain": [
          0,
          1
         ],
         "title": {
          "text": "Number of Reviews"
         }
        },
        "yaxis": {
         "anchor": "x",
         "domain": [
          0,
          1
         ],
         "title": {
          "text": "count"
         }
        }
       }
      }
     },
     "metadata": {},
     "output_type": "display_data"
    }
   ],
   "source": [
    "fig = px.histogram(top_1000, x=\"Number of Reviews\",title='Number of Reviews Distribution of Top 1000 Albums')\n",
    "fig.show()"
   ]
  },
  {
   "cell_type": "code",
   "execution_count": 34,
   "metadata": {},
   "outputs": [
    {
     "data": {
      "image/png": "[encoded data removed]",
      "text/plain": [
       "<Figure size 1080x360 with 1 Axes>"
      ]
     },
     "metadata": {
      "needs_background": "light"
     },
     "output_type": "display_data"
    }
   ],
   "source": [
    "from PIL import Image\n",
    "from wordcloud import WordCloud\n",
    "descriptors = top_1000['Descriptors'].values\n",
    "custom_mask = np.array(Image.open('brain.jpg'))\n",
    "wordcloud =  WordCloud(background_color='White',mask = custom_mask,max_font_size=100)\n",
    "wordcloud.generate(str(descriptors))\n",
    "#generate plot\n",
    "plt.figure(figsize=(15,5))\n",
    "plt.imshow(wordcloud,interpolation='bilinear')\n",
    "plt.axis(\"off\")\n",
    "plt.tight_layout(pad=0)\n",
    "plt.show()"
   ]
  },
  {
   "cell_type": "markdown",
   "metadata": {},
   "source": [
    "# Conclusion\n",
    "1970-1970 were roughly the year that most top 1000 albums were produced. Artists that release most of top 1000 albums was John Coltrane and Miles Davis with 9 Albums. There are various of genres and song expressions but the most genre is  Singer/Songwriter and most expression is Male Vocals"
   ]
  }
 ],
 "metadata": {
  "interpreter": {
   "hash": "30f9049c53392b01b2f48ba0bba42773044d27f8d5f2852634d92641d1a4d25f"
  },
  "kernelspec": {
   "display_name": "Python 3.9.7 64-bit (conda)",
   "name": "python3"
  },
  "language_info": {
   "codemirror_mode": {
    "name": "ipython",
    "version": 3
   },
   "file_extension": ".py",
   "mimetype": "text/x-python",
   "name": "python",
   "nbconvert_exporter": "python",
   "pygments_lexer": "ipython3",
   "version": "3.9.7"
  },
  "orig_nbformat": 4
 },
 "nbformat": 4,
 "nbformat_minor": 2
}
