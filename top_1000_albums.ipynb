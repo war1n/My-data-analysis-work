{
 "cells": [
  {
   "cell_type": "code",
   "execution_count": 45,
   "metadata": {},
   "outputs": [],
   "source": [
    "import pandas as pd\n",
    "import numpy as np\n",
    "import matplotlib.pyplot as plt\n",
    "import plotly.express as px\n",
    "from plotly.subplots import make_subplots\n",
    "import plotly.graph_objects as go\n",
    "import plotly.io as pio\n",
    "\n",
    "%matplotlib inline\n"
   ]
  },
  {
   "cell_type": "code",
   "execution_count": 46,
   "metadata": {},
   "outputs": [],
   "source": [
    "df = pd.read_csv('rym_top_5000_all_time.csv')"
   ]
  },
  {
   "cell_type": "markdown",
   "metadata": {},
   "source": [
    "# Top 1000 album analysis\n",
    "This project aimed to answer the question \n",
    "* Which year was the most productive in terms of album production?- \n",
    "* What top 1000 albums likely to be?\n",
    "    * What are their common genres and descriptors?\n",
    "* Who produced most of the top 1000 albums?"
   ]
  },
  {
   "cell_type": "code",
   "execution_count": 47,
   "metadata": {},
   "outputs": [
    {
     "name": "stdout",
     "output_type": "stream",
     "text": [
      "<class 'pandas.core.frame.DataFrame'>\n",
      "RangeIndex: 5000 entries, 0 to 4999\n",
      "Data columns (total 9 columns):\n",
      " #   Column             Non-Null Count  Dtype  \n",
      "---  ------             --------------  -----  \n",
      " 0   Ranking            5000 non-null   float64\n",
      " 1   Album              5000 non-null   object \n",
      " 2   Artist Name        5000 non-null   object \n",
      " 3   Release Date       5000 non-null   object \n",
      " 4   Genres             5000 non-null   object \n",
      " 5   Descriptors        4886 non-null   object \n",
      " 6   Average Rating     5000 non-null   float64\n",
      " 7   Number of Ratings  5000 non-null   object \n",
      " 8   Number of Reviews  5000 non-null   int64  \n",
      "dtypes: float64(2), int64(1), object(6)\n",
      "memory usage: 351.7+ KB\n",
      "None\n"
     ]
    },
    {
     "data": {
      "text/html": [
       "<div>\n",
       "<style scoped>\n",
       "    .dataframe tbody tr th:only-of-type {\n",
       "        vertical-align: middle;\n",
       "    }\n",
       "\n",
       "    .dataframe tbody tr th {\n",
       "        vertical-align: top;\n",
       "    }\n",
       "\n",
       "    .dataframe thead th {\n",
       "        text-align: right;\n",
       "    }\n",
       "</style>\n",
       "<table border=\"1\" class=\"dataframe\">\n",
       "  <thead>\n",
       "    <tr style=\"text-align: right;\">\n",
       "      <th></th>\n",
       "      <th>Ranking</th>\n",
       "      <th>Album</th>\n",
       "      <th>Artist Name</th>\n",
       "      <th>Release Date</th>\n",
       "      <th>Genres</th>\n",
       "      <th>Descriptors</th>\n",
       "      <th>Average Rating</th>\n",
       "      <th>Number of Ratings</th>\n",
       "      <th>Number of Reviews</th>\n",
       "    </tr>\n",
       "  </thead>\n",
       "  <tbody>\n",
       "    <tr>\n",
       "      <th>0</th>\n",
       "      <td>1.0</td>\n",
       "      <td>OK Computer</td>\n",
       "      <td>Radiohead</td>\n",
       "      <td>16 June 1997</td>\n",
       "      <td>Alternative Rock, Art Rock</td>\n",
       "      <td>melancholic, anxious, futuristic, alienation, ...</td>\n",
       "      <td>4.23</td>\n",
       "      <td>70,382</td>\n",
       "      <td>1531</td>\n",
       "    </tr>\n",
       "    <tr>\n",
       "      <th>1</th>\n",
       "      <td>2.0</td>\n",
       "      <td>Wish You Were Here</td>\n",
       "      <td>Pink Floyd</td>\n",
       "      <td>12 September 1975</td>\n",
       "      <td>Progressive Rock, Art Rock</td>\n",
       "      <td>melancholic, atmospheric, progressive, male vo...</td>\n",
       "      <td>4.29</td>\n",
       "      <td>48,662</td>\n",
       "      <td>983</td>\n",
       "    </tr>\n",
       "    <tr>\n",
       "      <th>2</th>\n",
       "      <td>3.0</td>\n",
       "      <td>In the Court of the Crimson King</td>\n",
       "      <td>King Crimson</td>\n",
       "      <td>10 October 1969</td>\n",
       "      <td>Progressive Rock, Art Rock</td>\n",
       "      <td>fantasy, epic, progressive, philosophical, com...</td>\n",
       "      <td>4.30</td>\n",
       "      <td>44,943</td>\n",
       "      <td>870</td>\n",
       "    </tr>\n",
       "    <tr>\n",
       "      <th>3</th>\n",
       "      <td>4.0</td>\n",
       "      <td>Kid A</td>\n",
       "      <td>Radiohead</td>\n",
       "      <td>3 October 2000</td>\n",
       "      <td>Art Rock, Experimental Rock, Electronic</td>\n",
       "      <td>cold, melancholic, futuristic, atmospheric, an...</td>\n",
       "      <td>4.21</td>\n",
       "      <td>58,590</td>\n",
       "      <td>734</td>\n",
       "    </tr>\n",
       "    <tr>\n",
       "      <th>4</th>\n",
       "      <td>5.0</td>\n",
       "      <td>To Pimp a Butterfly</td>\n",
       "      <td>Kendrick Lamar</td>\n",
       "      <td>15 March 2015</td>\n",
       "      <td>Conscious Hip Hop, West Coast Hip Hop, Jazz Rap</td>\n",
       "      <td>political, conscious, poetic, protest, concept...</td>\n",
       "      <td>4.27</td>\n",
       "      <td>44,206</td>\n",
       "      <td>379</td>\n",
       "    </tr>\n",
       "    <tr>\n",
       "      <th>...</th>\n",
       "      <td>...</td>\n",
       "      <td>...</td>\n",
       "      <td>...</td>\n",
       "      <td>...</td>\n",
       "      <td>...</td>\n",
       "      <td>...</td>\n",
       "      <td>...</td>\n",
       "      <td>...</td>\n",
       "      <td>...</td>\n",
       "    </tr>\n",
       "    <tr>\n",
       "      <th>4995</th>\n",
       "      <td>4996.0</td>\n",
       "      <td>Gracious!</td>\n",
       "      <td>Gracious</td>\n",
       "      <td>17 July 1970</td>\n",
       "      <td>Progressive Rock, Symphonic Prog</td>\n",
       "      <td>NaN</td>\n",
       "      <td>3.69</td>\n",
       "      <td>565</td>\n",
       "      <td>32</td>\n",
       "    </tr>\n",
       "    <tr>\n",
       "      <th>4996</th>\n",
       "      <td>4997.0</td>\n",
       "      <td>Knights of the Cross</td>\n",
       "      <td>Grave Digger</td>\n",
       "      <td>18 May 1998</td>\n",
       "      <td>Power Metal, Heavy Metal</td>\n",
       "      <td>history, male vocals, heavy, concept album, an...</td>\n",
       "      <td>3.67</td>\n",
       "      <td>562</td>\n",
       "      <td>11</td>\n",
       "    </tr>\n",
       "    <tr>\n",
       "      <th>4997</th>\n",
       "      <td>4998.0</td>\n",
       "      <td>(Listen For) The Rag and Bone Man</td>\n",
       "      <td>And Also the Trees</td>\n",
       "      <td>12 November 2007</td>\n",
       "      <td>Art Rock</td>\n",
       "      <td>atmospheric, poetic, dark, male vocals, ominou...</td>\n",
       "      <td>3.68</td>\n",
       "      <td>524</td>\n",
       "      <td>15</td>\n",
       "    </tr>\n",
       "    <tr>\n",
       "      <th>4998</th>\n",
       "      <td>4999.0</td>\n",
       "      <td>Hymnen für elektronische und konkrete Klänge</td>\n",
       "      <td>Studio für elektronische Musik des Westdeutsch...</td>\n",
       "      <td>1969</td>\n",
       "      <td>Musique concrète, Modern Classical, Electronic</td>\n",
       "      <td>avant-garde, sampling, dense, complex, scary, ...</td>\n",
       "      <td>3.65</td>\n",
       "      <td>536</td>\n",
       "      <td>11</td>\n",
       "    </tr>\n",
       "    <tr>\n",
       "      <th>4999</th>\n",
       "      <td>5000.0</td>\n",
       "      <td>Adventures in Paradise</td>\n",
       "      <td>Minnie Riperton</td>\n",
       "      <td>22 May 1975</td>\n",
       "      <td>Smooth Soul, Pop Soul</td>\n",
       "      <td>lush, female vocals, romantic, uplifting, summ...</td>\n",
       "      <td>3.69</td>\n",
       "      <td>490</td>\n",
       "      <td>14</td>\n",
       "    </tr>\n",
       "  </tbody>\n",
       "</table>\n",
       "<p>5000 rows × 9 columns</p>\n",
       "</div>"
      ],
      "text/plain": [
       "      Ranking                                         Album  \\\n",
       "0         1.0                                   OK Computer   \n",
       "1         2.0                            Wish You Were Here   \n",
       "2         3.0              In the Court of the Crimson King   \n",
       "3         4.0                                         Kid A   \n",
       "4         5.0                           To Pimp a Butterfly   \n",
       "...       ...                                           ...   \n",
       "4995   4996.0                                     Gracious!   \n",
       "4996   4997.0                          Knights of the Cross   \n",
       "4997   4998.0             (Listen For) The Rag and Bone Man   \n",
       "4998   4999.0  Hymnen für elektronische und konkrete Klänge   \n",
       "4999   5000.0                        Adventures in Paradise   \n",
       "\n",
       "                                            Artist Name       Release Date  \\\n",
       "0                                             Radiohead       16 June 1997   \n",
       "1                                            Pink Floyd  12 September 1975   \n",
       "2                                          King Crimson    10 October 1969   \n",
       "3                                             Radiohead     3 October 2000   \n",
       "4                                        Kendrick Lamar      15 March 2015   \n",
       "...                                                 ...                ...   \n",
       "4995                                           Gracious       17 July 1970   \n",
       "4996                                       Grave Digger        18 May 1998   \n",
       "4997                                 And Also the Trees   12 November 2007   \n",
       "4998  Studio für elektronische Musik des Westdeutsch...               1969   \n",
       "4999                                    Minnie Riperton        22 May 1975   \n",
       "\n",
       "                                               Genres  \\\n",
       "0                          Alternative Rock, Art Rock   \n",
       "1                          Progressive Rock, Art Rock   \n",
       "2                          Progressive Rock, Art Rock   \n",
       "3             Art Rock, Experimental Rock, Electronic   \n",
       "4     Conscious Hip Hop, West Coast Hip Hop, Jazz Rap   \n",
       "...                                               ...   \n",
       "4995                 Progressive Rock, Symphonic Prog   \n",
       "4996                         Power Metal, Heavy Metal   \n",
       "4997                                         Art Rock   \n",
       "4998   Musique concrète, Modern Classical, Electronic   \n",
       "4999                            Smooth Soul, Pop Soul   \n",
       "\n",
       "                                            Descriptors  Average Rating  \\\n",
       "0     melancholic, anxious, futuristic, alienation, ...            4.23   \n",
       "1     melancholic, atmospheric, progressive, male vo...            4.29   \n",
       "2     fantasy, epic, progressive, philosophical, com...            4.30   \n",
       "3     cold, melancholic, futuristic, atmospheric, an...            4.21   \n",
       "4     political, conscious, poetic, protest, concept...            4.27   \n",
       "...                                                 ...             ...   \n",
       "4995                                                NaN            3.69   \n",
       "4996  history, male vocals, heavy, concept album, an...            3.67   \n",
       "4997  atmospheric, poetic, dark, male vocals, ominou...            3.68   \n",
       "4998  avant-garde, sampling, dense, complex, scary, ...            3.65   \n",
       "4999  lush, female vocals, romantic, uplifting, summ...            3.69   \n",
       "\n",
       "     Number of Ratings  Number of Reviews  \n",
       "0               70,382               1531  \n",
       "1               48,662                983  \n",
       "2               44,943                870  \n",
       "3               58,590                734  \n",
       "4               44,206                379  \n",
       "...                ...                ...  \n",
       "4995               565                 32  \n",
       "4996               562                 11  \n",
       "4997               524                 15  \n",
       "4998               536                 11  \n",
       "4999               490                 14  \n",
       "\n",
       "[5000 rows x 9 columns]"
      ]
     },
     "execution_count": 47,
     "metadata": {},
     "output_type": "execute_result"
    }
   ],
   "source": [
    "df = pd.read_csv('rym_top_5000_all_time.csv')\n",
    "print(df.info())\n",
    "df"
   ]
  },
  {
   "cell_type": "markdown",
   "metadata": {},
   "source": [
    "# Data Cleaning\n",
    "let's start by checking data type"
   ]
  },
  {
   "cell_type": "code",
   "execution_count": 48,
   "metadata": {},
   "outputs": [
    {
     "name": "stdout",
     "output_type": "stream",
     "text": [
      "<class 'pandas.core.frame.DataFrame'>\n",
      "RangeIndex: 5000 entries, 0 to 4999\n",
      "Data columns (total 9 columns):\n",
      " #   Column             Non-Null Count  Dtype  \n",
      "---  ------             --------------  -----  \n",
      " 0   Ranking            5000 non-null   float64\n",
      " 1   Album              5000 non-null   object \n",
      " 2   Artist Name        5000 non-null   object \n",
      " 3   Release Date       5000 non-null   object \n",
      " 4   Genres             5000 non-null   object \n",
      " 5   Descriptors        4886 non-null   object \n",
      " 6   Average Rating     5000 non-null   float64\n",
      " 7   Number of Ratings  5000 non-null   object \n",
      " 8   Number of Reviews  5000 non-null   int64  \n",
      "dtypes: float64(2), int64(1), object(6)\n",
      "memory usage: 351.7+ KB\n"
     ]
    }
   ],
   "source": [
    "df.info()"
   ]
  },
  {
   "cell_type": "markdown",
   "metadata": {},
   "source": [
    "Release date should be date time and Number of ratings should be numeric"
   ]
  },
  {
   "cell_type": "code",
   "execution_count": 49,
   "metadata": {},
   "outputs": [],
   "source": [
    "df['Release Date'] = pd.to_datetime(df['Release Date'])\n",
    "df['Number of Ratings'] = df['Number of Ratings'].str.replace(',','')\n",
    "df['Number of Ratings'] = df['Number of Ratings'].astype(int)"
   ]
  },
  {
   "cell_type": "markdown",
   "metadata": {},
   "source": [
    "we only need data of year these albums were made"
   ]
  },
  {
   "cell_type": "code",
   "execution_count": 50,
   "metadata": {},
   "outputs": [],
   "source": [
    "df['year_release'] = pd.DatetimeIndex(df['Release Date']).year"
   ]
  },
  {
   "cell_type": "code",
   "execution_count": 51,
   "metadata": {},
   "outputs": [
    {
     "name": "stdout",
     "output_type": "stream",
     "text": [
      "<class 'pandas.core.frame.DataFrame'>\n",
      "RangeIndex: 5000 entries, 0 to 4999\n",
      "Data columns (total 10 columns):\n",
      " #   Column             Non-Null Count  Dtype         \n",
      "---  ------             --------------  -----         \n",
      " 0   Ranking            5000 non-null   float64       \n",
      " 1   Album              5000 non-null   object        \n",
      " 2   Artist Name        5000 non-null   object        \n",
      " 3   Release Date       5000 non-null   datetime64[ns]\n",
      " 4   Genres             5000 non-null   object        \n",
      " 5   Descriptors        4886 non-null   object        \n",
      " 6   Average Rating     5000 non-null   float64       \n",
      " 7   Number of Ratings  5000 non-null   int32         \n",
      " 8   Number of Reviews  5000 non-null   int64         \n",
      " 9   year_release       5000 non-null   int64         \n",
      "dtypes: datetime64[ns](1), float64(2), int32(1), int64(2), object(4)\n",
      "memory usage: 371.2+ KB\n"
     ]
    }
   ],
   "source": [
    "#See the change we made\n",
    "df.info()"
   ]
  },
  {
   "cell_type": "markdown",
   "metadata": {},
   "source": [
    "In this project we only focus on the top 1000 albums"
   ]
  },
  {
   "cell_type": "code",
   "execution_count": 52,
   "metadata": {},
   "outputs": [
    {
     "name": "stdout",
     "output_type": "stream",
     "text": [
      "<class 'pandas.core.frame.DataFrame'>\n",
      "RangeIndex: 1000 entries, 0 to 999\n",
      "Data columns (total 10 columns):\n",
      " #   Column             Non-Null Count  Dtype         \n",
      "---  ------             --------------  -----         \n",
      " 0   Ranking            1000 non-null   float64       \n",
      " 1   Album              1000 non-null   object        \n",
      " 2   Artist Name        1000 non-null   object        \n",
      " 3   Release Date       1000 non-null   datetime64[ns]\n",
      " 4   Genres             1000 non-null   object        \n",
      " 5   Descriptors        999 non-null    object        \n",
      " 6   Average Rating     1000 non-null   float64       \n",
      " 7   Number of Ratings  1000 non-null   int32         \n",
      " 8   Number of Reviews  1000 non-null   int64         \n",
      " 9   year_release       1000 non-null   int64         \n",
      "dtypes: datetime64[ns](1), float64(2), int32(1), int64(2), object(4)\n",
      "memory usage: 74.3+ KB\n"
     ]
    }
   ],
   "source": [
    "top_1000 = df.copy().iloc[0:1000]\n",
    "top_1000.info()"
   ]
  },
  {
   "cell_type": "markdown",
   "metadata": {},
   "source": [
    "Now let's see the null value"
   ]
  },
  {
   "cell_type": "code",
   "execution_count": 53,
   "metadata": {},
   "outputs": [
    {
     "data": {
      "text/plain": [
       "Ranking              0\n",
       "Album                0\n",
       "Artist Name          0\n",
       "Release Date         0\n",
       "Genres               0\n",
       "Descriptors          1\n",
       "Average Rating       0\n",
       "Number of Ratings    0\n",
       "Number of Reviews    0\n",
       "year_release         0\n",
       "dtype: int64"
      ]
     },
     "execution_count": 53,
     "metadata": {},
     "output_type": "execute_result"
    }
   ],
   "source": [
    "top_1000.isnull().sum()"
   ]
  },
  {
   "cell_type": "code",
   "execution_count": 54,
   "metadata": {},
   "outputs": [],
   "source": [
    "top_1000['Descriptors'] = top_1000['Descriptors'].fillna('No Data')"
   ]
  },
  {
   "cell_type": "markdown",
   "metadata": {},
   "source": [
    "There is only 1 null value it should be fine Now let's see the Artist Name are there any extra space and misstyped name"
   ]
  },
  {
   "cell_type": "code",
   "execution_count": 55,
   "metadata": {},
   "outputs": [
    {
     "name": "stdout",
     "output_type": "stream",
     "text": [
      "artist name before : 619 After: 619\n",
      "Genres before : 598 After: 598\n",
      "Before descriptors: 1000 After descriptors: 1000\n"
     ]
    }
   ],
   "source": [
    "print(f\"artist name before : {len(set(top_1000['Artist Name']))} After: {len(set(top_1000['Artist Name'].str.title().str.strip()))}\")\n",
    "print(f\"Genres before : {len(set(top_1000['Genres']))} After: {len(set(top_1000['Genres'].str.title().str.strip()))}\")\n",
    "print(f\"Before descriptors: {len(set(top_1000['Descriptors']))} After descriptors: {len(set(top_1000['Descriptors'].str.title().str.strip()))}\" )"
   ]
  },
  {
   "cell_type": "code",
   "execution_count": 56,
   "metadata": {},
   "outputs": [
    {
     "data": {
      "text/html": [
       "<div>\n",
       "<style scoped>\n",
       "    .dataframe tbody tr th:only-of-type {\n",
       "        vertical-align: middle;\n",
       "    }\n",
       "\n",
       "    .dataframe tbody tr th {\n",
       "        vertical-align: top;\n",
       "    }\n",
       "\n",
       "    .dataframe thead th {\n",
       "        text-align: right;\n",
       "    }\n",
       "</style>\n",
       "<table border=\"1\" class=\"dataframe\">\n",
       "  <thead>\n",
       "    <tr style=\"text-align: right;\">\n",
       "      <th></th>\n",
       "      <th>Ranking</th>\n",
       "      <th>Album</th>\n",
       "      <th>Artist Name</th>\n",
       "      <th>Release Date</th>\n",
       "      <th>Genres</th>\n",
       "      <th>Descriptors</th>\n",
       "      <th>Average Rating</th>\n",
       "      <th>Number of Ratings</th>\n",
       "      <th>Number of Reviews</th>\n",
       "      <th>year_release</th>\n",
       "    </tr>\n",
       "  </thead>\n",
       "  <tbody>\n",
       "    <tr>\n",
       "      <th>0</th>\n",
       "      <td>1.0</td>\n",
       "      <td>OK Computer</td>\n",
       "      <td>Radiohead</td>\n",
       "      <td>1997-06-16</td>\n",
       "      <td>Alternative Rock, Art Rock</td>\n",
       "      <td>melancholic, anxious, futuristic, alienation, ...</td>\n",
       "      <td>4.23</td>\n",
       "      <td>70382</td>\n",
       "      <td>1531</td>\n",
       "      <td>1997</td>\n",
       "    </tr>\n",
       "    <tr>\n",
       "      <th>1</th>\n",
       "      <td>2.0</td>\n",
       "      <td>Wish You Were Here</td>\n",
       "      <td>Pink Floyd</td>\n",
       "      <td>1975-09-12</td>\n",
       "      <td>Progressive Rock, Art Rock</td>\n",
       "      <td>melancholic, atmospheric, progressive, male vo...</td>\n",
       "      <td>4.29</td>\n",
       "      <td>48662</td>\n",
       "      <td>983</td>\n",
       "      <td>1975</td>\n",
       "    </tr>\n",
       "    <tr>\n",
       "      <th>2</th>\n",
       "      <td>3.0</td>\n",
       "      <td>In the Court of the Crimson King</td>\n",
       "      <td>King Crimson</td>\n",
       "      <td>1969-10-10</td>\n",
       "      <td>Progressive Rock, Art Rock</td>\n",
       "      <td>fantasy, epic, progressive, philosophical, com...</td>\n",
       "      <td>4.30</td>\n",
       "      <td>44943</td>\n",
       "      <td>870</td>\n",
       "      <td>1969</td>\n",
       "    </tr>\n",
       "    <tr>\n",
       "      <th>3</th>\n",
       "      <td>4.0</td>\n",
       "      <td>Kid A</td>\n",
       "      <td>Radiohead</td>\n",
       "      <td>2000-10-03</td>\n",
       "      <td>Art Rock, Experimental Rock, Electronic</td>\n",
       "      <td>cold, melancholic, futuristic, atmospheric, an...</td>\n",
       "      <td>4.21</td>\n",
       "      <td>58590</td>\n",
       "      <td>734</td>\n",
       "      <td>2000</td>\n",
       "    </tr>\n",
       "    <tr>\n",
       "      <th>4</th>\n",
       "      <td>5.0</td>\n",
       "      <td>To Pimp a Butterfly</td>\n",
       "      <td>Kendrick Lamar</td>\n",
       "      <td>2015-03-15</td>\n",
       "      <td>Conscious Hip Hop, West Coast Hip Hop, Jazz Rap</td>\n",
       "      <td>political, conscious, poetic, protest, concept...</td>\n",
       "      <td>4.27</td>\n",
       "      <td>44206</td>\n",
       "      <td>379</td>\n",
       "      <td>2015</td>\n",
       "    </tr>\n",
       "    <tr>\n",
       "      <th>...</th>\n",
       "      <td>...</td>\n",
       "      <td>...</td>\n",
       "      <td>...</td>\n",
       "      <td>...</td>\n",
       "      <td>...</td>\n",
       "      <td>...</td>\n",
       "      <td>...</td>\n",
       "      <td>...</td>\n",
       "      <td>...</td>\n",
       "      <td>...</td>\n",
       "    </tr>\n",
       "    <tr>\n",
       "      <th>995</th>\n",
       "      <td>996.0</td>\n",
       "      <td>String Quartets Nos. 1-3</td>\n",
       "      <td>The Tale Quartet</td>\n",
       "      <td>1990-02-01</td>\n",
       "      <td>Chamber Music, Modern Classical</td>\n",
       "      <td>string quartet, instrumental, acoustic, anxiou...</td>\n",
       "      <td>3.87</td>\n",
       "      <td>591</td>\n",
       "      <td>8</td>\n",
       "      <td>1990</td>\n",
       "    </tr>\n",
       "    <tr>\n",
       "      <th>996</th>\n",
       "      <td>997.0</td>\n",
       "      <td>Frances the Mute</td>\n",
       "      <td>The Mars Volta</td>\n",
       "      <td>2005-03-01</td>\n",
       "      <td>Progressive Rock, Experimental Rock, Art Rock</td>\n",
       "      <td>passionate, complex, cryptic, energetic, surre...</td>\n",
       "      <td>3.77</td>\n",
       "      <td>12222</td>\n",
       "      <td>321</td>\n",
       "      <td>2005</td>\n",
       "    </tr>\n",
       "    <tr>\n",
       "      <th>997</th>\n",
       "      <td>998.0</td>\n",
       "      <td>Crazy Rhythms</td>\n",
       "      <td>The Feelies</td>\n",
       "      <td>1980-04-28</td>\n",
       "      <td>Post-Punk</td>\n",
       "      <td>anxious, rhythmic, energetic, hypnotic, male v...</td>\n",
       "      <td>3.82</td>\n",
       "      <td>7062</td>\n",
       "      <td>127</td>\n",
       "      <td>1980</td>\n",
       "    </tr>\n",
       "    <tr>\n",
       "      <th>998</th>\n",
       "      <td>999.0</td>\n",
       "      <td>Starsailor</td>\n",
       "      <td>Tim Buckley</td>\n",
       "      <td>1970-11-02</td>\n",
       "      <td>Experimental Rock, Avant-Folk, Singer/Songwriter</td>\n",
       "      <td>avant-garde, psychedelic, cryptic, sexual, mal...</td>\n",
       "      <td>3.80</td>\n",
       "      <td>7182</td>\n",
       "      <td>150</td>\n",
       "      <td>1970</td>\n",
       "    </tr>\n",
       "    <tr>\n",
       "      <th>999</th>\n",
       "      <td>1000.0</td>\n",
       "      <td>Songs From Suicide Bridge</td>\n",
       "      <td>David Kauffman &amp; Eric Caboor</td>\n",
       "      <td>1984-01-01</td>\n",
       "      <td>Contemporary Folk, Singer/Songwriter</td>\n",
       "      <td>lonely, acoustic, suicide, melancholic, intros...</td>\n",
       "      <td>3.86</td>\n",
       "      <td>1387</td>\n",
       "      <td>15</td>\n",
       "      <td>1984</td>\n",
       "    </tr>\n",
       "  </tbody>\n",
       "</table>\n",
       "<p>1000 rows × 10 columns</p>\n",
       "</div>"
      ],
      "text/plain": [
       "     Ranking                             Album                   Artist Name  \\\n",
       "0        1.0                       OK Computer                     Radiohead   \n",
       "1        2.0                Wish You Were Here                    Pink Floyd   \n",
       "2        3.0  In the Court of the Crimson King                  King Crimson   \n",
       "3        4.0                             Kid A                     Radiohead   \n",
       "4        5.0               To Pimp a Butterfly                Kendrick Lamar   \n",
       "..       ...                               ...                           ...   \n",
       "995    996.0          String Quartets Nos. 1-3              The Tale Quartet   \n",
       "996    997.0                  Frances the Mute                The Mars Volta   \n",
       "997    998.0                     Crazy Rhythms                   The Feelies   \n",
       "998    999.0                        Starsailor                   Tim Buckley   \n",
       "999   1000.0         Songs From Suicide Bridge  David Kauffman & Eric Caboor   \n",
       "\n",
       "    Release Date                                            Genres  \\\n",
       "0     1997-06-16                        Alternative Rock, Art Rock   \n",
       "1     1975-09-12                        Progressive Rock, Art Rock   \n",
       "2     1969-10-10                        Progressive Rock, Art Rock   \n",
       "3     2000-10-03           Art Rock, Experimental Rock, Electronic   \n",
       "4     2015-03-15   Conscious Hip Hop, West Coast Hip Hop, Jazz Rap   \n",
       "..           ...                                               ...   \n",
       "995   1990-02-01                   Chamber Music, Modern Classical   \n",
       "996   2005-03-01     Progressive Rock, Experimental Rock, Art Rock   \n",
       "997   1980-04-28                                         Post-Punk   \n",
       "998   1970-11-02  Experimental Rock, Avant-Folk, Singer/Songwriter   \n",
       "999   1984-01-01              Contemporary Folk, Singer/Songwriter   \n",
       "\n",
       "                                           Descriptors  Average Rating  \\\n",
       "0    melancholic, anxious, futuristic, alienation, ...            4.23   \n",
       "1    melancholic, atmospheric, progressive, male vo...            4.29   \n",
       "2    fantasy, epic, progressive, philosophical, com...            4.30   \n",
       "3    cold, melancholic, futuristic, atmospheric, an...            4.21   \n",
       "4    political, conscious, poetic, protest, concept...            4.27   \n",
       "..                                                 ...             ...   \n",
       "995  string quartet, instrumental, acoustic, anxiou...            3.87   \n",
       "996  passionate, complex, cryptic, energetic, surre...            3.77   \n",
       "997  anxious, rhythmic, energetic, hypnotic, male v...            3.82   \n",
       "998  avant-garde, psychedelic, cryptic, sexual, mal...            3.80   \n",
       "999  lonely, acoustic, suicide, melancholic, intros...            3.86   \n",
       "\n",
       "     Number of Ratings  Number of Reviews  year_release  \n",
       "0                70382               1531          1997  \n",
       "1                48662                983          1975  \n",
       "2                44943                870          1969  \n",
       "3                58590                734          2000  \n",
       "4                44206                379          2015  \n",
       "..                 ...                ...           ...  \n",
       "995                591                  8          1990  \n",
       "996              12222                321          2005  \n",
       "997               7062                127          1980  \n",
       "998               7182                150          1970  \n",
       "999               1387                 15          1984  \n",
       "\n",
       "[1000 rows x 10 columns]"
      ]
     },
     "execution_count": 56,
     "metadata": {},
     "output_type": "execute_result"
    }
   ],
   "source": [
    "top_1000"
   ]
  },
  {
   "cell_type": "code",
   "execution_count": 57,
   "metadata": {},
   "outputs": [],
   "source": [
    "top_1000['Artist Name'] =top_1000['Artist Name'].str.title()\n",
    "top_1000['Genres'] =top_1000['Genres'].str.title()\n",
    "top_1000['Descriptors'] = top_1000['Descriptors'].str.title()"
   ]
  },
  {
   "cell_type": "markdown",
   "metadata": {},
   "source": [
    "There is no extra space now let's check is there any mistyped name"
   ]
  },
  {
   "cell_type": "code",
   "execution_count": 58,
   "metadata": {},
   "outputs": [
    {
     "data": {
      "text/plain": [
       "array(['*Namco Consumer Software Sound Team', 'A Tribe Called Quest',\n",
       "       'Academy Of St Martin In The Fields / Neville Marriner / Alan Loveday',\n",
       "       'Academy Of St Martin-In-The-Fields / Neville Marriner',\n",
       "       'Acid Bath', 'Agalloch', 'Akira Yamaoka', 'Al Green',\n",
       "       'Alice Coltrane', 'Alice Coltrane Featuring Pharoah Sanders',\n",
       "       'Alice In Chains', 'American Football', 'Amon Düül Ii',\n",
       "       'Andrew Hill', 'Andrew Lloyd Webber & Tim Rice',\n",
       "       'Andrew Lloyd Webber And Tim Rice', 'Andrew Prahlow',\n",
       "       'Angelo Badalamenti', 'Angelo Badalamenti & David Lynch',\n",
       "       'Animal Collective', 'Anthony Braxton', 'Aphex Twin',\n",
       "       'Arcade Fire', 'Arditti String Quartet / Dawn Upshaw',\n",
       "       'Aretha Franklin', 'Art Blakey & The Jazz Messengers',\n",
       "       'Art Blakey And The Jazz Messengers', 'Artillery',\n",
       "       'Artur Rubinstein', 'Astor Piazzolla And The New Tango Quintet',\n",
       "       'At The Drive-In', 'Atheist', 'Autopsy',\n",
       "       'Avey Tare And Panda Bear', 'Bad Brains',\n",
       "       'Baden Powell & Vinicius De Moraes', 'Basil Poledouris', 'Bathory',\n",
       "       'Bbc Symphony Orchestra / Colin Davis / John Alldis Choir / Helen Donath / Yvonne Minton / Ryland Davies / Gerd Nienstedt',\n",
       "       'Beach House', 'Beastie Boys', 'Belchior', 'Belle And Sebastian',\n",
       "       'Berlin Philharmonic Orchestra / Herbert Von Karajan',\n",
       "       'Berlin Philharmonic Orchestra / Herbert Von Karajan / Vienna Singverein / Anna Tomowa-Sintow / Agnes Baltsa / Peter Schreier / José Van Dam',\n",
       "       'Berliner Philharmoniker / Claudio Abbado / Martha Argerich',\n",
       "       'Berliner Philharmoniker / Herbert Von Karajan',\n",
       "       'Bernard Herrmann', 'Big Black', 'Big L', 'Big Star', 'Björk',\n",
       "       'Black Midi', 'Black Sabbath', 'Black Star', 'Blind Guardian',\n",
       "       'Blondie', 'Blue Öyster Cult', 'Boards Of Canada', 'Bob Dylan',\n",
       "       'Bob Marley & The Wailers', 'Bob Marley And The Wailers',\n",
       "       'Bolt Thrower', 'Bon Iver', 'Boredoms', 'Boris', 'Brand New',\n",
       "       'Brian Eno', 'Brian Eno With Daniel Lanois & Roger Eno',\n",
       "       'British Sea Power', 'Brockhampton', 'Broken Social Scene',\n",
       "       'Bruce Springsteen', 'Bruno Pernadas', 'Buena Vista Social Club',\n",
       "       'Built To Spill', 'Burial', 'Burzum', 'C418', 'Caetano Veloso',\n",
       "       'Café Tacvba', 'Camel', 'Can', 'Candlemass', 'Candy Claws',\n",
       "       'Cannibal Ox', 'Cannonball Adderley',\n",
       "       'Captain Beefheart And His Magic Band', 'Car Seat Headrest',\n",
       "       'Caravan', 'Carcass', \"Carissa'S Wierd\", 'Carly Rae Jepsen',\n",
       "       'Cartola', 'Charles Mingus', 'Charlie Mingus',\n",
       "       'Chicago Symphony Orchestra / Georg Solti', 'Chico Buarque',\n",
       "       'Chico Science & Nação Zumbi', 'Christopher Larkin',\n",
       "       'Claudio Arrau', 'Cleveland Orchestra / Pierre Boulez',\n",
       "       'Clifford Brown And Max Roach', 'Clint Mansell', 'Clipping.',\n",
       "       'Clipse', 'Cocteau Twins', 'Coil',\n",
       "       'Collegium Vocale Gent / Philippe Herreweghe / Ian Bostridge / Franz-Josef Selig / Sibylla Rubens / Andreas Scholl / Werner Güra / Dietrich Henschel',\n",
       "       'Columbia Symphony Orchestra / Igor Stravinsky',\n",
       "       'Columbia Symphony Orchestra / New York Philharmonic / Leonard Bernstein',\n",
       "       'Common', 'Comus',\n",
       "       'Concentus Musicus Wien / Wiener Sängerknaben / Arnold Schoenberg Chor / Nikolaus Harnoncourt / Christoph Prégardien / Matthias Goerne / Christine Schäfer / Dorothea Röschmann / Bernarda Fink / Elisabeth Von Magnus / Michael Schade / Markus Schäfer / Dietrich Henschel / Oliver Widmer',\n",
       "       'Converge', 'Coroner', 'Creedence Clearwater Revival',\n",
       "       'Crosby, Stills, Nash & Young', 'Cryptopsy', 'Cunninlynguists',\n",
       "       'Curtis Mayfield', \"D'Angelo\", \"D'Angelo And The Vanguard\",\n",
       "       'Dadawah', 'Daft Punk', 'Danny Brown', 'Danny Elfman',\n",
       "       'Darkthrone', 'Daughters', 'David Bowie',\n",
       "       'David Kauffman & Eric Caboor', 'David Wise',\n",
       "       'David Wise / Eveline Fischer', 'De La Soul', 'Dead Can Dance',\n",
       "       'Dead Kennedys', 'Death', 'Death Grips', 'Deathspell Omega',\n",
       "       'Deep Purple', 'Deftones', 'Deltron 3030', 'Demilich',\n",
       "       'Demolition Hammer', 'Depeche Mode', 'Dexter Gordon',\n",
       "       'Diamond Head', 'Digable Planets', 'Dinosaur', 'Dio', 'Dismember',\n",
       "       'Dissection', 'Dj Shadow', 'Don Cherry', 'Dr. Dre',\n",
       "       'Drive Like Jehu', 'Duke Ellington',\n",
       "       'Duke Ellington / Charlie Mingus / Max Roach', 'Duster',\n",
       "       'Dusty Springfield', 'Earl Sweatshirt', 'Edge Of Sanity',\n",
       "       'Electric Wizard', 'Ella Fitzgerald', 'Elliott Smith',\n",
       "       'Elton John', 'Elvis Costello', 'Emerson String Quartet',\n",
       "       'Emperor', 'Ennio Morricone', 'Ennio Morricone E La Sua Orchestra',\n",
       "       'Eno', 'Entombed', 'Eric Dolphy', 'Erykah Badu', 'Evgeni Koroliov',\n",
       "       'Exuma', 'Fabrizio De André', 'Fairport Convention',\n",
       "       'Faith No More', 'Farazi V Kayra', 'Faust', 'Fela & The Africa 70',\n",
       "       'Fela Anikulapo Kuti And Afrika 70',\n",
       "       'Fela Ransome Kuti & Africa 70',\n",
       "       'Fela Ransome Kuti & The Afrika 70', 'Fiona Apple', 'Fishmans',\n",
       "       'Fka Twigs', 'Fleet Foxes', 'Fleetwood Mac', 'Flux Quartet',\n",
       "       'Flying Lotus', 'Frank Ocean', 'Frank Zappa',\n",
       "       'Frank Zappa And The Mothers Of Invention',\n",
       "       'Freddie Gibbs & Madlib', 'Fugazi', 'Funkadelic',\n",
       "       'Fẹla And Afrika 70', 'Gal Costa', 'Gang Of Four', 'Gang Starr',\n",
       "       'Geinoh Yamashirogumi', 'Gene Clark', 'Genesis', 'Genius/Gza',\n",
       "       'George Harrison', 'Ghostface Killah', 'Gil Scott-Heron',\n",
       "       'Glenn Branca', 'Glenn Gould', 'Godspeed You Black Emperor!',\n",
       "       'Godspeed You! Black Emperor', 'Gojira', 'Goodie Mob', 'Gorguts',\n",
       "       'Gorillaz', 'Grand Valley State University New Music Ensemble',\n",
       "       'Grant Green', 'Gravediggaz', 'Grouper', 'Guided By Voices',\n",
       "       'Gustavo Cerati', 'Have A Nice Life', 'Helloween', 'Henry Rollins',\n",
       "       'Herbie Hancock', 'Howard Shore', 'Hüsker Dü',\n",
       "       'Iggy And The Stooges', 'Iggy Pop', 'Immolation', 'Immortal',\n",
       "       'Incantation', 'Injury Reserve', 'Interpol', 'Invisible',\n",
       "       'Iron Maiden', 'Isaac Hayes', 'Isis', 'J Dilla',\n",
       "       'Jackson C. Frank', 'Jacques Brel', 'Janelle Monáe', 'Janet',\n",
       "       'Jay-Z', 'Jeff Buckley', 'Jeff Rosenstock', 'Jeremy Soule',\n",
       "       'Jessie Ware', 'Jethro Tull', 'Joanna Newsom', 'John Coltrane',\n",
       "       'John Coltrane Quartet', 'John Eliot Gardiner', 'John Fahey',\n",
       "       'John Lennon / Plastic Ono Band', 'John Martyn', 'John Williams',\n",
       "       'John Williams / London Symphony Orchestra', 'Johnny Cash',\n",
       "       'Joni Mitchell', 'Jorge Ben', 'Joy Division', 'João Gilberto',\n",
       "       'Judas Priest', 'Julee Cruise', 'Kanye West', 'Kate Bush',\n",
       "       'Kendrick Lamar', 'Kevin Penkin', 'Kids See Ghosts',\n",
       "       'King Crimson', 'King Diamond',\n",
       "       'King Gizzard And The Lizard Wizard',\n",
       "       'Kirov Orchestra / Valery Gergiev', 'Klaus Schulze',\n",
       "       'Komeda Quintet', 'Kraftwerk', 'Krystian Zimerman', 'Kyuss',\n",
       "       'La Petite Bande / Sigiswald Kuijken', 'Lasalle Quartett',\n",
       "       'Lauryn Hill', 'Lcd Soundsystem', 'Le Mystère Des Voix Bulgares',\n",
       "       'Led Zeppelin', 'Lee Morgan', 'Leonard Cohen', 'Lil Ugly Mane',\n",
       "       'Little Simz', 'London Sinfonietta / David Zinman / Dawn Upshaw',\n",
       "       'Lou Reed', 'Love', 'Low', 'Mach-Hommy', 'Madvillain',\n",
       "       'Magdalena Bay', 'Magnolia Electric Co.', 'Mario Galaxy Orchestra',\n",
       "       'Marvin Gaye', 'Massive Attack', 'Mastodon', 'Maudlin Of The Well',\n",
       "       'Maurizio Pollini', 'Max Roach',\n",
       "       'Max Roach And His Chorus And Orchestra', 'Mayhem', 'Mccoy Tyner',\n",
       "       'Megadeth', 'Mercyful Fate', 'Metallica', 'Mf Doom',\n",
       "       'Michael Jackson', 'Mike Oldfield', 'Miles Davis',\n",
       "       'Miles Davis Quintet', 'Milton Nascimento',\n",
       "       'Milton Nascimento & Lô Borges', 'Mingus', 'Minutemen', 'Misfits',\n",
       "       'Mobb Deep', 'Modest Mouse', 'Moonsorrow', 'Morbid Angel',\n",
       "       'Mos Def', 'Motörhead', 'Mount Eerie', 'Mr. Bungle', 'Mutantes',\n",
       "       'My Bloody Valentine', 'Nas', 'Natural Snow Buildings',\n",
       "       'Neil Young', 'Neil Young With Crazy Horse', 'Neu!', 'Neurosis',\n",
       "       'Neutral Milk Hotel', 'New Order',\n",
       "       'New Philharmonia Orchestra / Philharmonia Orchestra / Otto Klemperer / Christa Ludwig / Fritz Wunderlich',\n",
       "       'New Stockholm Chamber Orchestra / Lev Markiz',\n",
       "       'New York Philharmonic / Leonard Bernstein', 'Nicholas Britell',\n",
       "       'Nick Cave & The Bad Seeds', 'Nick Cave And The Bad Seeds',\n",
       "       'Nick Drake', 'Nico', 'Nina Simone', 'Nine Inch Nails',\n",
       "       'Nino Rota', 'Nirvana', 'Nomeansno', 'Novos Baianos', 'Nujabes',\n",
       "       'Nujabes / Fat Jon', 'Ocean Machine', 'Oliver Nelson', 'Opeth',\n",
       "       'Organized Konfusion', 'Ornette Coleman', 'Os Mutantes',\n",
       "       'Otis Redding', 'Outkast', 'Panda Bear', 'Parliament',\n",
       "       'Pascal Rogé', 'Patti Smith', 'Paul & Linda Mccartney',\n",
       "       'Paul Mccartney & Wings', 'Paul Simon', 'Pavement',\n",
       "       \"Paysage D'Hiver\", 'Pearl Jam', 'Pere Ubu', 'Pescado Rabioso',\n",
       "       'Pestilence', 'Pete La Roca', 'Pete Rock & C.L. Smooth',\n",
       "       'Peter Gabriel', 'Pharoah Sanders', 'Philip Glass',\n",
       "       'Pierre Boulez', 'Pierre Fournier', 'Pierre Hantaï', 'Pil',\n",
       "       'Pink Floyd', 'Pixies', 'Pj Harvey',\n",
       "       'Polish National Radio Symphony Orchestra / Antoni Wit / Zofia Kilanowicz',\n",
       "       'Popol Vuh', 'Porcupine Tree', 'Portishead', 'Prefab Sprout',\n",
       "       'Prince', 'Prince And The Revolution', 'Public Enemy', 'Pulp',\n",
       "       'Pusha T',\n",
       "       'Quatuor Arditti / Aldo Brizzi / Michiko Hirayama / Maurizio Ben Omar / Frank Lloyd',\n",
       "       'Queen', 'Queens Of The Stone Age', 'Queensrÿche', 'R.E.M.',\n",
       "       \"Racionais Mc'S\", 'Radiohead', 'Raekwon',\n",
       "       'Rage Against The Machine', 'Rainbow', 'Ramones',\n",
       "       'Red House Painters', 'Refused', 'Reinbert De Leeuw',\n",
       "       'Renaissance', 'Richard & Linda Thompson', 'Robbie Basho',\n",
       "       'Robert Wyatt', 'Roland Kirk', 'Roxy Music',\n",
       "       'Royal Concertgebouw Orchestra / Asko Ensemble / Riccardo Chailly',\n",
       "       'Run The Jewels', 'Rush',\n",
       "       'Russian State Symphonic Cappella / Valery Polyansky', 'Ryan Amon',\n",
       "       'Sade', 'Sagopa Kajmer', 'Santana', 'Scarface', 'Scott Engel',\n",
       "       'Scott Walker', 'Seatbelts', 'Sepultura', 'Serge Gainsbourg',\n",
       "       'Shiro Sagisu', 'Sigur Rós', 'Silvio Rodríguez',\n",
       "       'Simon & Garfunkel', 'Simon And Garfunkel',\n",
       "       'Sinfonieorchester Des Hessischen Rundfunks / Chor Des Bayerischen Rundfunks / Sinfonieorchester Des Südwestfunks / Michael Gielen / Wolfgang Schubert / Ernest Bour / Liliana Poli / Barbra Ericson / Antoinette Vischer',\n",
       "       'Siouxsie And The Banshees', 'Sixteen Horsepower', 'Slayer',\n",
       "       'Sleater-Kinney', 'Sleep', 'Slint', 'Slowdive',\n",
       "       'Sly & The Family Stone', 'Smashing Pumpkins', 'Snoop Doggy Dogg',\n",
       "       'Soft Machine', 'Songs: Ohia', 'Sonic Youth', 'Sonny Rollins',\n",
       "       'Sonny Sharrock', 'Soundgarden', 'Spiritualized®',\n",
       "       'Staatsorchester Stuttgart / Lithuanian Chamber Orchestra / The 12 Cellists Of The Berlin Philharmonic Orchestra / Dennis Russell Davies / Saulius Sondeckis / Gidon Kremer / Keith Jarrett / Tatjana Grindenko / Alfred Schnittke',\n",
       "       'Stan Getz & João Gilberto Featuring Antônio Carlos Jobim',\n",
       "       'Stars Of The Lid', 'Steely Dan', 'Stereolab', 'Steve Reich',\n",
       "       'Steve Reich And Musicians', 'Steve Roach', 'Steven Osborne',\n",
       "       'Stevie Wonder', 'Strapping Young Lad', 'Suede', 'Suffocation',\n",
       "       'Sufjan Stevens', 'Suicide', 'Sun Kil Moon', 'Sun Ra',\n",
       "       'Sun Ra And His Arkestra', 'Supertramp', 'Swans', 'Sweet Trip',\n",
       "       'System Of A Down', 'T. Rex', 'Takács Quartet', 'Talk Talk',\n",
       "       'Talking Heads', 'Tatiana Nikolayeva', 'Tears For Fears',\n",
       "       'Television', 'The Allman Brothers Band', 'The Avalanches',\n",
       "       'The Band', 'The Beach Boys', 'The Beatles',\n",
       "       'The Blasting Company', 'The Brave Little Abacus',\n",
       "       'The California Ear Unit', 'The Cannonball Adderley Quintet',\n",
       "       'The Chameleons', 'The Clash', 'The Congos', 'The Cure',\n",
       "       'The Dave Brubeck Quartet', 'The Dismemberment Plan', 'The Doors',\n",
       "       'The Fall', 'The Feelies', 'The Flaming Lips',\n",
       "       'The Horace Silver Quintet', \"The Jazz Composer'S Orchestra\",\n",
       "       'The Jimi Hendrix Experience', 'The John Coltrane Quartet',\n",
       "       'The Kinks', 'The Magnetic Fields',\n",
       "       'The Mahavishnu Orchestra With John Mclaughlin', 'The Mars Volta',\n",
       "       'The Microphones', 'The Modern Lovers', 'The Mothers',\n",
       "       'The Mothers Of Invention', 'The Mountain Goats', 'The National',\n",
       "       'The Notorious B.I.G.', 'The Ornette Coleman Double Quartet',\n",
       "       'The Pharcyde', 'The Pillows', 'The Pretty Things',\n",
       "       'The Replacements', 'The Rolling Stones', 'The Roots',\n",
       "       'The Smashing Pumpkins', 'The Smiths', 'The Sonny Criss Orchestra',\n",
       "       'The Sound', 'The Stone Roses', 'The Stooges', 'The Strokes',\n",
       "       'The Tale Quartet', 'The Thelonious Monk Quartet',\n",
       "       'The Velvet Underground', 'The Velvet Underground & Nico',\n",
       "       'The Who', 'The Zombies', 'Thelonious Monk',\n",
       "       'Thelonious Monk Septet', 'Thin Lizzy', 'This Heat',\n",
       "       'Three-6 Mafia', 'Tim Buckley', 'Tim Hecker',\n",
       "       'Toby \"Radiation\" Fox', 'Tom Waits', 'Tom Zé', 'Tool',\n",
       "       'Townes Van Zandt', 'Travis Scott', 'Tyler, The Creator', 'Ugk',\n",
       "       'Ulver', 'Unwound', 'Valve Studio Orchestra',\n",
       "       'Van Der Graaf Generator', 'Van Morrison', 'Various Artists',\n",
       "       'Viktor Vaughn', 'Vince Guaraldi', 'Violent Femmes', 'W.A.S.P.',\n",
       "       'Walter Carlos', 'Wayne Shorter', 'Weakling', 'Ween', 'Weezer',\n",
       "       'Weyes Blood', 'Widdly 2 Diddly',\n",
       "       'Wiener Philharmoniker / Carlos Kleiber',\n",
       "       'Wiener Philharmoniker / Herbert Von Karajan',\n",
       "       'Wiener Philharmoniker / Karl Böhm',\n",
       "       'Wiener Philharmoniker / Konzertvereinigung Wiener Staatsopernchor / Karl Böhm / Edith Mathis / Júlia Hamari / Wiesław Ochman / Karl Ridderbusch',\n",
       "       'Wiener Philharmoniker / Wiener Singverein / Herbert Von Karajan / Anna Tomowa-Sintow / Helga Müller-Molinari / Vinson Cole / Paata Burchuladze',\n",
       "       'Wilco', 'Wilhelm Furtwängler / Ludwig Suthaus / Kirsten Flagstad',\n",
       "       'Wipers', 'Wire', 'Wishbone Ash', 'Wu-Tang Clan', 'Xtc',\n",
       "       'Yasunori Mitsuda', 'Yes', 'Yo La Tengo', 'Yoko Kanno / Seatbelts',\n",
       "       'Академический Симфонический Оркестр Московской Государственной Филармонии / Кирилл Кондрашин [Kirill Kondrashin]',\n",
       "       '三宅優 [Yuu Miyake]', '下村陽子 [Yoko Shimomura]',\n",
       "       '下村陽子 [Yoko Shimomura] / Manami Kiyota / Ace+',\n",
       "       '久石譲 [Joe Hisaishi]',\n",
       "       '仲野順也 [Junya Nakano] / 浜渦正志 [Masashi Hamauzu] / 植松伸夫 [Nobuo Uematsu]',\n",
       "       '光田康典 [Yasunori Mitsuda]',\n",
       "       '増田順一 [Junichi Masuda], 一之瀬剛 [Go Ichinose] & 佐藤仁美 [Hitomi Sato]',\n",
       "       '大谷幸 [Ko Otani]', '奥河英樹 [Hideki Okugawa]',\n",
       "       '尾形雅史 [Masafumi Ogata] / 幡谷尚史 [Naofumi Hataya]',\n",
       "       '山岡晃 [Akira Yamaoka]', '山根ミチル [Michiru Yamane]',\n",
       "       '岡部啓一 [Keiichi Okabe] & 帆足圭吾 [Keigo Hoashi]',\n",
       "       '岡部啓一 [Keiichi Okabe], 石濱翔 [Kakeru Ishihama], 帆足圭吾 [Keigo Hoashi] & 隆文西村 [Takafumi Nishimura]',\n",
       "       '平沢進 [Susumu Hirasawa]', '植松伸夫 [Nobuo Uematsu]',\n",
       "       '椎名林檎 [Sheena Ringo]',\n",
       "       '永田権太 [Kenta Nagata], 若井淑 [Hajime Wakai], 峰岸透 [Toru Minegishi] & 近藤浩治 [Koji Kondo]',\n",
       "       '渋さ知らズ [Shibusashirazu]',\n",
       "       '片岡真央 [Manaka Kataoka] / 岩田恭明 [Yasuaki Iwata] / 若井淑 [Hajime Wakai]',\n",
       "       '牛尾憲輔 [Kensuke Ushio]',\n",
       "       '田中宏和 [Hirokazu Tanaka] & 鈴木慶一 [Keiichi Suzuki]',\n",
       "       '目黒将司 [Shoji Meguro]',\n",
       "       '目黒将司 [Shoji Meguro] / 田崎寿子 [Toshiko Tasaki] / 土屋憲一 [Kenichi Tsuchiya]',\n",
       "       '近藤浩治 [Koji Kondo]', '長沼英樹 [Hideki Naganuma]',\n",
       "       '青葉市子 [Ichiko Aoba]', '鷺巣詩郎 [Shiro Sagisu]',\n",
       "       '공중도둑 [Mid-Air Thief]', '이달의 소녀 오드아이써클 [Loona Odd Eye Circle]'],\n",
       "      dtype=object)"
      ]
     },
     "execution_count": 58,
     "metadata": {},
     "output_type": "execute_result"
    }
   ],
   "source": [
    "artist_name = top_1000['Artist Name'].sort_values().unique()\n",
    "artist_name"
   ]
  },
  {
   "cell_type": "markdown",
   "metadata": {},
   "source": [
    "There are the same author names but with different spellings. Like Academy of St Martin in the Fields and Academy of St Martin-in-the-Fields and there are a lot of different delimiter as well i will change them to ' / '"
   ]
  },
  {
   "cell_type": "code",
   "execution_count": 59,
   "metadata": {},
   "outputs": [],
   "source": [
    "top_1000['Artist Name'] = top_1000['Artist Name'].str.replace('-',' ')\n",
    "top_1000['Artist Name'] = top_1000['Artist Name'].str.replace('&','/')\n",
    "top_1000['Artist Name'] = top_1000['Artist Name'].str.replace(' and ',' / ')\n",
    "top_1000['Artist Name'] = top_1000['Artist Name'].str.replace('with','/')\n",
    "top_1000['Artist Name'] = top_1000['Artist Name'].str.replace('featuring','/')"
   ]
  },
  {
   "cell_type": "code",
   "execution_count": 60,
   "metadata": {},
   "outputs": [
    {
     "data": {
      "text/plain": [
       "array(['*Namco Consumer Software Sound Team', 'A Tribe Called Quest',\n",
       "       'Academy Of St Martin In The Fields', 'Ace+', 'Acid Bath',\n",
       "       'Africa 70', 'Agalloch', 'Agnes Baltsa', 'Akira Yamaoka',\n",
       "       'Al Green', 'Alan Loveday', 'Aldo Brizzi', 'Alfred Schnittke',\n",
       "       'Alice Coltrane', 'Alice Coltrane Featuring Pharoah Sanders',\n",
       "       'Alice In Chains', 'American Football', 'Amon Düül Ii',\n",
       "       'Andreas Scholl', 'Andrew Hill', 'Andrew Lloyd Webber',\n",
       "       'Andrew Lloyd Webber And Tim Rice', 'Andrew Prahlow',\n",
       "       'Angelo Badalamenti', 'Animal Collective', 'Anna Tomowa Sintow',\n",
       "       'Anthony Braxton', 'Antoinette Vischer', 'Antoni Wit',\n",
       "       'Aphex Twin', 'Arcade Fire', 'Arditti String Quartet',\n",
       "       'Aretha Franklin', 'Arnold Schoenberg Chor', 'Art Blakey',\n",
       "       'Art Blakey And The Jazz Messengers', 'Artillery',\n",
       "       'Artur Rubinstein', 'Asko Ensemble',\n",
       "       'Astor Piazzolla And The New Tango Quintet', 'At The Drive In',\n",
       "       'Atheist', 'Autopsy', 'Avey Tare And Panda Bear', 'Bad Brains',\n",
       "       'Baden Powell', 'Barbra Ericson', 'Basil Poledouris', 'Bathory',\n",
       "       'Bbc Symphony Orchestra', 'Beach House', 'Beastie Boys',\n",
       "       'Belchior', 'Belle And Sebastian', 'Berlin Philharmonic Orchestra',\n",
       "       'Berliner Philharmoniker', 'Bernard Herrmann', 'Bernarda Fink',\n",
       "       'Big Black', 'Big L', 'Big Star', 'Björk', 'Black Midi',\n",
       "       'Black Sabbath', 'Black Star', 'Blind Guardian', 'Blondie',\n",
       "       'Blue Öyster Cult', 'Boards Of Canada', 'Bob Dylan', 'Bob Marley',\n",
       "       'Bob Marley And The Wailers', 'Bolt Thrower', 'Bon Iver',\n",
       "       'Boredoms', 'Boris', 'Brand New', 'Brian Eno',\n",
       "       'Brian Eno With Daniel Lanois', 'British Sea Power',\n",
       "       'Brockhampton', 'Broken Social Scene', 'Bruce Springsteen',\n",
       "       'Bruno Pernadas', 'Buena Vista Social Club', 'Built To Spill',\n",
       "       'Burial', 'Burzum', 'C.L. Smooth', 'C418', 'Caetano Veloso',\n",
       "       'Café Tacvba', 'Camel', 'Can', 'Candlemass', 'Candy Claws',\n",
       "       'Cannibal Ox', 'Cannonball Adderley',\n",
       "       'Captain Beefheart And His Magic Band', 'Car Seat Headrest',\n",
       "       'Caravan', 'Carcass', \"Carissa'S Wierd\", 'Carlos Kleiber',\n",
       "       'Carly Rae Jepsen', 'Cartola', 'Charles Mingus', 'Charlie Mingus',\n",
       "       'Chicago Symphony Orchestra', 'Chico Buarque', 'Chico Science',\n",
       "       'Chor Des Bayerischen Rundfunks', 'Christa Ludwig',\n",
       "       'Christine Schäfer', 'Christoph Prégardien', 'Christopher Larkin',\n",
       "       'Claudio Abbado', 'Claudio Arrau', 'Cleveland Orchestra',\n",
       "       'Clifford Brown And Max Roach', 'Clint Mansell', 'Clipping.',\n",
       "       'Clipse', 'Cocteau Twins', 'Coil', 'Colin Davis',\n",
       "       'Collegium Vocale Gent', 'Columbia Symphony Orchestra', 'Common',\n",
       "       'Comus', 'Concentus Musicus Wien', 'Converge', 'Coroner',\n",
       "       'Creedence Clearwater Revival', 'Crosby, Stills, Nash',\n",
       "       'Cryptopsy', 'Cunninlynguists', 'Curtis Mayfield', \"D'Angelo\",\n",
       "       \"D'Angelo And The Vanguard\", 'Dadawah', 'Daft Punk', 'Danny Brown',\n",
       "       'Danny Elfman', 'Darkthrone', 'Daughters', 'David Bowie',\n",
       "       'David Kauffman', 'David Lynch', 'David Wise', 'David Zinman',\n",
       "       'Dawn Upshaw', 'De La Soul', 'Dead Can Dance', 'Dead Kennedys',\n",
       "       'Death', 'Death Grips', 'Deathspell Omega', 'Deep Purple',\n",
       "       'Deftones', 'Deltron 3030', 'Demilich', 'Demolition Hammer',\n",
       "       'Dennis Russell Davies', 'Depeche Mode', 'Dexter Gordon',\n",
       "       'Diamond Head', 'Dietrich Henschel', 'Digable Planets', 'Dinosaur',\n",
       "       'Dio', 'Dismember', 'Dissection', 'Dj Shadow', 'Don Cherry',\n",
       "       'Dorothea Röschmann', 'Dr. Dre', 'Drive Like Jehu',\n",
       "       'Duke Ellington', 'Duster', 'Dusty Springfield', 'Earl Sweatshirt',\n",
       "       'Edge Of Sanity', 'Edith Mathis', 'Electric Wizard',\n",
       "       'Elisabeth Von Magnus', 'Ella Fitzgerald', 'Elliott Smith',\n",
       "       'Elton John', 'Elvis Costello', 'Emerson String Quartet',\n",
       "       'Emperor', 'Ennio Morricone', 'Ennio Morricone E La Sua Orchestra',\n",
       "       'Eno', 'Entombed', 'Eric Caboor', 'Eric Dolphy', 'Ernest Bour',\n",
       "       'Erykah Badu', 'Eveline Fischer', 'Evgeni Koroliov', 'Exuma',\n",
       "       'Fabrizio De André', 'Fairport Convention', 'Faith No More',\n",
       "       'Farazi V Kayra', 'Fat Jon', 'Faust', 'Fela',\n",
       "       'Fela Anikulapo Kuti And Afrika 70', 'Fela Ransome Kuti',\n",
       "       'Fiona Apple', 'Fishmans', 'Fka Twigs', 'Fleet Foxes',\n",
       "       'Fleetwood Mac', 'Flux Quartet', 'Flying Lotus', 'Frank Lloyd',\n",
       "       'Frank Ocean', 'Frank Zappa',\n",
       "       'Frank Zappa And The Mothers Of Invention', 'Franz Josef Selig',\n",
       "       'Freddie Gibbs', 'Fritz Wunderlich', 'Fugazi', 'Funkadelic',\n",
       "       'Fẹla And Afrika 70', 'Gal Costa', 'Gang Of Four', 'Gang Starr',\n",
       "       'Garfunkel', 'Geinoh Yamashirogumi', 'Gene Clark', 'Genesis',\n",
       "       'Genius/Gza', 'Georg Solti', 'George Harrison', 'Gerd Nienstedt',\n",
       "       'Ghostface Killah', 'Gidon Kremer', 'Gil Scott Heron',\n",
       "       'Glenn Branca', 'Glenn Gould', 'Godspeed You Black Emperor!',\n",
       "       'Godspeed You! Black Emperor', 'Gojira', 'Goodie Mob', 'Gorguts',\n",
       "       'Gorillaz', 'Grand Valley State University New Music Ensemble',\n",
       "       'Grant Green', 'Gravediggaz', 'Grouper', 'Guided By Voices',\n",
       "       'Gustavo Cerati', 'Have A Nice Life', 'Helen Donath',\n",
       "       'Helga Müller Molinari', 'Helloween', 'Henry Rollins',\n",
       "       'Herbert Von Karajan', 'Herbie Hancock', 'Howard Shore',\n",
       "       'Hüsker Dü', 'Ian Bostridge', 'Iggy And The Stooges', 'Iggy Pop',\n",
       "       'Igor Stravinsky', 'Immolation', 'Immortal', 'Incantation',\n",
       "       'Injury Reserve', 'Interpol', 'Invisible', 'Iron Maiden',\n",
       "       'Isaac Hayes', 'Isis', 'J Dilla', 'Jackson C. Frank',\n",
       "       'Jacques Brel', 'Janelle Monáe', 'Janet', 'Jay Z', 'Jeff Buckley',\n",
       "       'Jeff Rosenstock', 'Jeremy Soule', 'Jessie Ware', 'Jethro Tull',\n",
       "       'Joanna Newsom', 'John Alldis Choir', 'John Coltrane',\n",
       "       'John Coltrane Quartet', 'John Eliot Gardiner', 'John Fahey',\n",
       "       'John Lennon', 'John Martyn', 'John Williams', 'Johnny Cash',\n",
       "       'Joni Mitchell', 'Jorge Ben', 'José Van Dam', 'Joy Division',\n",
       "       'João Gilberto', 'João Gilberto Featuring Antônio Carlos Jobim',\n",
       "       'Judas Priest', 'Julee Cruise', 'Júlia Hamari', 'Kanye West',\n",
       "       'Karl Böhm', 'Karl Ridderbusch', 'Kate Bush', 'Keith Jarrett',\n",
       "       'Kendrick Lamar', 'Kevin Penkin', 'Kids See Ghosts',\n",
       "       'King Crimson', 'King Diamond',\n",
       "       'King Gizzard And The Lizard Wizard', 'Kirov Orchestra',\n",
       "       'Kirsten Flagstad', 'Klaus Schulze', 'Komeda Quintet',\n",
       "       'Konzertvereinigung Wiener Staatsopernchor', 'Kraftwerk',\n",
       "       'Krystian Zimerman', 'Kyuss', 'La Petite Bande',\n",
       "       'Lasalle Quartett', 'Lauryn Hill', 'Lcd Soundsystem',\n",
       "       'Le Mystère Des Voix Bulgares', 'Led Zeppelin', 'Lee Morgan',\n",
       "       'Leonard Bernstein', 'Leonard Cohen', 'Lev Markiz',\n",
       "       'Lil Ugly Mane', 'Liliana Poli', 'Linda Mccartney',\n",
       "       'Linda Thompson', 'Lithuanian Chamber Orchestra', 'Little Simz',\n",
       "       'London Sinfonietta', 'London Symphony Orchestra', 'Lou Reed',\n",
       "       'Love', 'Low', 'Ludwig Suthaus', 'Lô Borges', 'Mach Hommy',\n",
       "       'Madlib', 'Madvillain', 'Magdalena Bay', 'Magnolia Electric Co.',\n",
       "       'Manami Kiyota', 'Mario Galaxy Orchestra', 'Markus Schäfer',\n",
       "       'Martha Argerich', 'Marvin Gaye', 'Massive Attack', 'Mastodon',\n",
       "       'Matthias Goerne', 'Maudlin Of The Well', 'Maurizio Ben Omar',\n",
       "       'Maurizio Pollini', 'Max Roach',\n",
       "       'Max Roach And His Chorus And Orchestra', 'Mayhem', 'Mccoy Tyner',\n",
       "       'Megadeth', 'Mercyful Fate', 'Metallica', 'Mf Doom',\n",
       "       'Michael Gielen', 'Michael Jackson', 'Michael Schade',\n",
       "       'Michiko Hirayama', 'Mike Oldfield', 'Miles Davis',\n",
       "       'Miles Davis Quintet', 'Milton Nascimento', 'Mingus', 'Minutemen',\n",
       "       'Misfits', 'Mobb Deep', 'Modest Mouse', 'Moonsorrow',\n",
       "       'Morbid Angel', 'Mos Def', 'Motörhead', 'Mount Eerie',\n",
       "       'Mr. Bungle', 'Mutantes', 'My Bloody Valentine', 'Nas',\n",
       "       'Natural Snow Buildings', 'Nação Zumbi', 'Neil Young',\n",
       "       'Neil Young With Crazy Horse', 'Neu!', 'Neurosis',\n",
       "       'Neutral Milk Hotel', 'Neville Marriner', 'New Order',\n",
       "       'New Philharmonia Orchestra', 'New Stockholm Chamber Orchestra',\n",
       "       'New York Philharmonic', 'Nicholas Britell', 'Nick Cave',\n",
       "       'Nick Cave And The Bad Seeds', 'Nick Drake', 'Nico',\n",
       "       'Nikolaus Harnoncourt', 'Nina Simone', 'Nine Inch Nails',\n",
       "       'Nino Rota', 'Nirvana', 'Nomeansno', 'Novos Baianos', 'Nujabes',\n",
       "       'Ocean Machine', 'Oliver Nelson', 'Oliver Widmer', 'Opeth',\n",
       "       'Organized Konfusion', 'Ornette Coleman', 'Os Mutantes',\n",
       "       'Otis Redding', 'Otto Klemperer', 'Outkast', 'Paata Burchuladze',\n",
       "       'Panda Bear', 'Parliament', 'Pascal Rogé', 'Patti Smith', 'Paul',\n",
       "       'Paul Mccartney', 'Paul Simon', 'Pavement', \"Paysage D'Hiver\",\n",
       "       'Pearl Jam', 'Pere Ubu', 'Pescado Rabioso', 'Pestilence',\n",
       "       'Pete La Roca', 'Pete Rock', 'Peter Gabriel', 'Peter Schreier',\n",
       "       'Pharoah Sanders', 'Philharmonia Orchestra', 'Philip Glass',\n",
       "       'Philippe Herreweghe', 'Pierre Boulez', 'Pierre Fournier',\n",
       "       'Pierre Hantaï', 'Pil', 'Pink Floyd', 'Pixies', 'Pj Harvey',\n",
       "       'Plastic Ono Band', 'Polish National Radio Symphony Orchestra',\n",
       "       'Popol Vuh', 'Porcupine Tree', 'Portishead', 'Prefab Sprout',\n",
       "       'Prince', 'Prince And The Revolution', 'Public Enemy', 'Pulp',\n",
       "       'Pusha T', 'Quatuor Arditti', 'Queen', 'Queens Of The Stone Age',\n",
       "       'Queensrÿche', 'R.E.M.', \"Racionais Mc'S\", 'Radiohead', 'Raekwon',\n",
       "       'Rage Against The Machine', 'Rainbow', 'Ramones',\n",
       "       'Red House Painters', 'Refused', 'Reinbert De Leeuw',\n",
       "       'Renaissance', 'Riccardo Chailly', 'Richard', 'Robbie Basho',\n",
       "       'Robert Wyatt', 'Roger Eno', 'Roland Kirk', 'Roxy Music',\n",
       "       'Royal Concertgebouw Orchestra', 'Run The Jewels', 'Rush',\n",
       "       'Russian State Symphonic Cappella', 'Ryan Amon', 'Ryland Davies',\n",
       "       'Sade', 'Sagopa Kajmer', 'Santana', 'Saulius Sondeckis',\n",
       "       'Scarface', 'Scott Engel', 'Scott Walker', 'Seatbelts',\n",
       "       'Sepultura', 'Serge Gainsbourg', 'Shiro Sagisu', 'Sibylla Rubens',\n",
       "       'Sigiswald Kuijken', 'Sigur Rós', 'Silvio Rodríguez', 'Simon',\n",
       "       'Simon And Garfunkel',\n",
       "       'Sinfonieorchester Des Hessischen Rundfunks',\n",
       "       'Sinfonieorchester Des Südwestfunks', 'Siouxsie And The Banshees',\n",
       "       'Sixteen Horsepower', 'Slayer', 'Sleater Kinney', 'Sleep', 'Slint',\n",
       "       'Slowdive', 'Sly', 'Smashing Pumpkins', 'Snoop Doggy Dogg',\n",
       "       'Soft Machine', 'Songs: Ohia', 'Sonic Youth', 'Sonny Rollins',\n",
       "       'Sonny Sharrock', 'Soundgarden', 'Spiritualized®',\n",
       "       'Staatsorchester Stuttgart', 'Stan Getz', 'Stars Of The Lid',\n",
       "       'Steely Dan', 'Stereolab', 'Steve Reich',\n",
       "       'Steve Reich And Musicians', 'Steve Roach', 'Steven Osborne',\n",
       "       'Stevie Wonder', 'Strapping Young Lad', 'Suede', 'Suffocation',\n",
       "       'Sufjan Stevens', 'Suicide', 'Sun Kil Moon', 'Sun Ra',\n",
       "       'Sun Ra And His Arkestra', 'Supertramp', 'Swans', 'Sweet Trip',\n",
       "       'System Of A Down', 'T. Rex', 'Takács Quartet', 'Talk Talk',\n",
       "       'Talking Heads', 'Tatiana Nikolayeva', 'Tatjana Grindenko',\n",
       "       'Tears For Fears', 'Television',\n",
       "       'The 12 Cellists Of The Berlin Philharmonic Orchestra',\n",
       "       'The Africa 70', 'The Afrika 70', 'The Allman Brothers Band',\n",
       "       'The Avalanches', 'The Bad Seeds', 'The Band', 'The Beach Boys',\n",
       "       'The Beatles', 'The Blasting Company', 'The Brave Little Abacus',\n",
       "       'The California Ear Unit', 'The Cannonball Adderley Quintet',\n",
       "       'The Chameleons', 'The Clash', 'The Congos', 'The Cure',\n",
       "       'The Dave Brubeck Quartet', 'The Dismemberment Plan', 'The Doors',\n",
       "       'The Fall', 'The Family Stone', 'The Feelies', 'The Flaming Lips',\n",
       "       'The Horace Silver Quintet', \"The Jazz Composer'S Orchestra\",\n",
       "       'The Jazz Messengers', 'The Jimi Hendrix Experience',\n",
       "       'The John Coltrane Quartet', 'The Kinks', 'The Magnetic Fields',\n",
       "       'The Mahavishnu Orchestra With John Mclaughlin', 'The Mars Volta',\n",
       "       'The Microphones', 'The Modern Lovers', 'The Mothers',\n",
       "       'The Mothers Of Invention', 'The Mountain Goats', 'The National',\n",
       "       'The Notorious B.I.G.', 'The Ornette Coleman Double Quartet',\n",
       "       'The Pharcyde', 'The Pillows', 'The Pretty Things',\n",
       "       'The Replacements', 'The Rolling Stones', 'The Roots',\n",
       "       'The Smashing Pumpkins', 'The Smiths', 'The Sonny Criss Orchestra',\n",
       "       'The Sound', 'The Stone Roses', 'The Stooges', 'The Strokes',\n",
       "       'The Tale Quartet', 'The Thelonious Monk Quartet',\n",
       "       'The Velvet Underground', 'The Wailers', 'The Who', 'The Zombies',\n",
       "       'Thelonious Monk', 'Thelonious Monk Septet', 'Thin Lizzy',\n",
       "       'This Heat', 'Three 6 Mafia', 'Tim Buckley', 'Tim Hecker',\n",
       "       'Tim Rice', 'Toby \"Radiation\" Fox', 'Tom Waits', 'Tom Zé', 'Tool',\n",
       "       'Townes Van Zandt', 'Travis Scott', 'Tyler, The Creator', 'Ugk',\n",
       "       'Ulver', 'Unwound', 'Valery Gergiev', 'Valery Polyansky',\n",
       "       'Valve Studio Orchestra', 'Van Der Graaf Generator',\n",
       "       'Van Morrison', 'Various Artists', 'Vienna Singverein',\n",
       "       'Viktor Vaughn', 'Vince Guaraldi', 'Vinicius De Moraes',\n",
       "       'Vinson Cole', 'Violent Femmes', 'W.A.S.P.', 'Walter Carlos',\n",
       "       'Wayne Shorter', 'Weakling', 'Ween', 'Weezer', 'Werner Güra',\n",
       "       'Weyes Blood', 'Widdly 2 Diddly', 'Wiener Philharmoniker',\n",
       "       'Wiener Singverein', 'Wiener Sängerknaben', 'Wiesław Ochman',\n",
       "       'Wilco', 'Wilhelm Furtwängler', 'Wings', 'Wipers', 'Wire',\n",
       "       'Wishbone Ash', 'Wolfgang Schubert', 'Wu Tang Clan', 'Xtc',\n",
       "       'Yasunori Mitsuda', 'Yes', 'Yo La Tengo', 'Yoko Kanno', 'Young',\n",
       "       'Yvonne Minton', 'Zofia Kilanowicz',\n",
       "       'Академический Симфонический Оркестр Московской Государственной Филармонии',\n",
       "       'Кирилл Кондрашин [Kirill Kondrashin]', '三宅優 [Yuu Miyake]',\n",
       "       '下村陽子 [Yoko Shimomura]', '久石譲 [Joe Hisaishi]',\n",
       "       '仲野順也 [Junya Nakano]', '佐藤仁美 [Hitomi Sato]',\n",
       "       '光田康典 [Yasunori Mitsuda]', '土屋憲一 [Kenichi Tsuchiya]',\n",
       "       '増田順一 [Junichi Masuda], 一之瀬剛 [Go Ichinose]', '大谷幸 [Ko Otani]',\n",
       "       '奥河英樹 [Hideki Okugawa]', '尾形雅史 [Masafumi Ogata]',\n",
       "       '山岡晃 [Akira Yamaoka]', '山根ミチル [Michiru Yamane]',\n",
       "       '岡部啓一 [Keiichi Okabe]',\n",
       "       '岡部啓一 [Keiichi Okabe], 石濱翔 [Kakeru Ishihama], 帆足圭吾 [Keigo Hoashi]',\n",
       "       '岩田恭明 [Yasuaki Iwata]', '帆足圭吾 [Keigo Hoashi]',\n",
       "       '幡谷尚史 [Naofumi Hataya]', '平沢進 [Susumu Hirasawa]',\n",
       "       '植松伸夫 [Nobuo Uematsu]', '椎名林檎 [Sheena Ringo]',\n",
       "       '永田権太 [Kenta Nagata], 若井淑 [Hajime Wakai], 峰岸透 [Toru Minegishi]',\n",
       "       '浜渦正志 [Masashi Hamauzu]', '渋さ知らズ [Shibusashirazu]',\n",
       "       '片岡真央 [Manaka Kataoka]', '牛尾憲輔 [Kensuke Ushio]',\n",
       "       '田中宏和 [Hirokazu Tanaka]', '田崎寿子 [Toshiko Tasaki]',\n",
       "       '目黒将司 [Shoji Meguro]', '若井淑 [Hajime Wakai]', '近藤浩治 [Koji Kondo]',\n",
       "       '鈴木慶一 [Keiichi Suzuki]', '長沼英樹 [Hideki Naganuma]',\n",
       "       '隆文西村 [Takafumi Nishimura]', '青葉市子 [Ichiko Aoba]',\n",
       "       '鷺巣詩郎 [Shiro Sagisu]', '공중도둑 [Mid Air Thief]',\n",
       "       '이달의 소녀 오드아이써클 [Loona Odd Eye Circle]'], dtype=object)"
      ]
     },
     "execution_count": 60,
     "metadata": {},
     "output_type": "execute_result"
    }
   ],
   "source": [
    "top_1000['Artist Name'].str.split(' / ').explode().sort_values().unique()"
   ]
  },
  {
   "cell_type": "markdown",
   "metadata": {},
   "source": [
    "Now i have to clean the artist name column"
   ]
  },
  {
   "cell_type": "code",
   "execution_count": 61,
   "metadata": {},
   "outputs": [],
   "source": [
    "top_1000['Artist Name'] = top_1000['Artist Name'].str.replace('The Africa 70','Africa 70')\n",
    "top_1000['Artist Name'] = top_1000['Artist Name'].str.replace('The Afrika 70','Africa 70')\n",
    "top_1000['Artist Name'] = top_1000['Artist Name'].str.replace('Afrika 70','Africa 70')\n",
    "top_1000['Artist Name'] = top_1000['Artist Name'].str.replace('Fela Ransome Kuti','Fela Anikulapo Kuti')\n",
    "top_1000['Artist Name'] = top_1000['Artist Name'].str.replace('Berlin Philharmonic Orchestra','Berliner Philharmoniker')\n",
    "top_1000['Artist Name'] = top_1000['Artist Name'].str.replace('Charlie Mingus','Charles Mingus')\n",
    "top_1000['Artist Name'] = top_1000['Artist Name'].str.replace('The Thelonious Monk Quartet','Thelonious Monk')\n",
    "top_1000['Artist Name'] = top_1000['Artist Name'].str.replace('Thelonious Monk Septet','Thelonious Monk')\n",
    "top_1000['Artist Name'] = top_1000['Artist Name'].str.replace('Ennio Morricone e la sua orchestra','Ennio Morricone')\n",
    "top_1000['Artist Name'] = top_1000['Artist Name'].str.replace('/ Philharmonia Orchestra ','')"
   ]
  },
  {
   "cell_type": "markdown",
   "metadata": {},
   "source": [
    "now let's check genre column"
   ]
  },
  {
   "cell_type": "code",
   "execution_count": 62,
   "metadata": {},
   "outputs": [
    {
     "data": {
      "text/plain": [
       "array(['16-Bit', 'Abstract Hip Hop', 'Acid House', 'Acid Jazz',\n",
       "       'Acid Rock', 'Acoustic Rock', 'Afrobeat', 'Alt-Country',\n",
       "       'Alternative Dance', 'Alternative Metal', 'Alternative R&B',\n",
       "       'Alternative Rock', 'Ambient', 'Ambient Pop', 'Ambient Techno',\n",
       "       'American Folk Music', 'American Primitivism', 'Americana',\n",
       "       'Art Pop', 'Art Punk', 'Art Rock', 'Atmospheric Black Metal',\n",
       "       'Atmospheric Sludge Metal', 'Avant-Folk', 'Avant-Garde Jazz',\n",
       "       'Avant-Garde Metal', 'Avant-Prog', 'Baggy / Madchester',\n",
       "       'Baroque Music', 'Baroque Pop', 'Berlin School', 'Big Band',\n",
       "       'Big Beat', 'Black Metal', 'Blue-Eyed Soul', 'Blues Rock',\n",
       "       'Bolero', 'Boom Bap', 'Bossa Nova', 'Breakbeat',\n",
       "       'British Folk Rock', 'Britpop', 'Brutal Death Metal',\n",
       "       'Bulgarian Folk Music', 'Canterbury Scene', \"Canzone D'Autore\",\n",
       "       'Caribbean Folk Music', 'Chamber Folk', 'Chamber Music',\n",
       "       'Chamber Pop', 'Chanson À Texte', 'Chicago Soul', 'Chipmunk Soul',\n",
       "       'Choral', 'Christian Liturgical Music', 'Christmas Music',\n",
       "       'Cinematic Classical', 'Classical Period', 'Concerto',\n",
       "       'Conscious Hip Hop', 'Contemporary Folk', 'Contemporary R&B',\n",
       "       'Cool Jazz', 'Country', 'Country Rock', 'Dance', 'Dance-Pop',\n",
       "       'Dance-Punk', 'Dark Folk', 'Dark Jazz', 'Death Metal', 'Deep Soul',\n",
       "       'Dirty South', 'Disco', 'Doom Metal', 'Downtempo', 'Dream Pop',\n",
       "       'Drill And Bass', 'Drone', 'Drone Metal', 'Dubstep',\n",
       "       'East Coast Hip Hop', 'Electroacoustic', 'Electronic',\n",
       "       'Electronic Dance Music', 'Emo', 'Epic Doom Metal',\n",
       "       'Ethereal Wave', 'Experimental', 'Experimental Big Band',\n",
       "       'Experimental Hip Hop', 'Experimental Rock', 'Expressionism',\n",
       "       'Film Score', 'Film Soundtrack', 'Folk Metal', 'Folk Pop',\n",
       "       'Folk Punk', 'Folk Rock', 'Folktronica', 'Freak Folk', 'Free Folk',\n",
       "       'Free Jazz', 'French House', 'French Pop', 'Funk', 'Funk Rock',\n",
       "       'Future Bass', 'Future Garage', 'G-Funk', 'Gangsta Rap',\n",
       "       'Garage Rock', 'Garage Rock Revival', 'Glam Rock', 'Glitch Hop',\n",
       "       'Glitch Pop', 'Gothic Country', 'Gothic Rock', 'Grunge',\n",
       "       'Hard Bop', 'Hard Rock', 'Hardcore Hip Hop', 'Hardcore Punk',\n",
       "       'Heartland Rock', 'Heavy Metal', 'Hip Hop', 'Holiday Music',\n",
       "       'Horror Punk', 'Horrorcore', 'House', 'Idm', 'Impressionism',\n",
       "       'Indie Folk', 'Indie Pop', 'Indie Rock', 'Indietronica',\n",
       "       'Industrial', 'Industrial Hip Hop', 'Industrial Metal',\n",
       "       'Industrial Rock', 'Instrumental Hip Hop', 'J-Rock', 'Jam Band',\n",
       "       'Jangle Pop', 'Jazz', 'Jazz Fusion', 'Jazz Pop', 'Jazz Rap',\n",
       "       'Jazz-Funk', 'Jazz-Rock', 'K-Pop', 'Krautrock', 'Latin Rock',\n",
       "       'Lo-Fi / Slacker Rock', 'Lounge', 'Manguebeat', 'Math Rock',\n",
       "       'Mathcore', 'Melodic Black Metal', 'Melodic Death Metal',\n",
       "       'Memphis Rap', 'Metalcore', 'Midwest Emo', 'Minimal Synth',\n",
       "       'Minimalism', 'Modal Jazz', 'Modern Classical', 'Modern Creative',\n",
       "       'Mpb', 'Neo-Psychedelia', 'Neo-Soul', 'Neoclassical Darkwave',\n",
       "       'Neoclassical New Age', 'New Age', 'New Wave', 'No Wave',\n",
       "       'Noise Pop', 'Noise Rock', 'Nueva Trova', 'Nwobhm', 'Nyahbinghi',\n",
       "       'Opera', 'Oratorio', 'Orchestral', 'P-Funk', 'Pagan Black Metal',\n",
       "       'Piano Blues', 'Piano Rock', 'Picopop', 'Plunderphonics',\n",
       "       'Political Hip Hop', 'Polyphonic Chant', 'Pop', 'Pop Punk',\n",
       "       'Pop Rap', 'Pop Rock', 'Pop Soul', 'Post-Bop', 'Post-Hardcore',\n",
       "       'Post-Industrial', 'Post-Metal', 'Post-Punk', 'Post-Punk Revival',\n",
       "       'Post-Rock', 'Power Metal', 'Power Pop', 'Progressive Big Band',\n",
       "       'Progressive Folk', 'Progressive Metal', 'Progressive Pop',\n",
       "       'Progressive Rock', 'Proto-Punk', 'Psychedelic Folk',\n",
       "       'Psychedelic Pop', 'Psychedelic Rock', 'Psychedelic Soul',\n",
       "       'Punk Rock', 'Ragtime', 'Rap Metal', 'Rhythm & Blues',\n",
       "       'Ritual Ambient', 'Rock', 'Rock Opera', 'Romanticism',\n",
       "       'Roots Reggae', 'Roots Rock', 'Samba', 'Samba Soul', 'Samba-Choro',\n",
       "       'Samba-Jazz', 'Samba-Rock', 'Satire', 'Sequencer & Tracker',\n",
       "       'Serialism', 'Shibuya-Kei', 'Shoegaze', 'Show Tunes',\n",
       "       'Singer/Songwriter', 'Slowcore', 'Sludge Metal', 'Smooth Soul',\n",
       "       'Soft Rock', 'Son Cubano', 'Sophisti-Pop', 'Soul', 'Soul Jazz',\n",
       "       'Soundtracks', 'Southern Hip Hop', 'Southern Rock',\n",
       "       'Southern Soul', 'Space Ambient', 'Space Rock',\n",
       "       'Spaghetti Western', 'Spiritual Jazz', 'Spoken Word', 'Standards',\n",
       "       'Stoner Metal', 'Stoner Rock', 'Swamp Rock',\n",
       "       'Symphonic Black Metal', 'Symphonic Prog', 'Symphony',\n",
       "       'Synth Funk', 'Synth Punk', 'Synthpop', 'Tango Nuevo',\n",
       "       'Technical Death Metal', 'Technical Thrash Metal',\n",
       "       'Television Music', 'Third Stream', 'Thrash Metal', 'Totalism',\n",
       "       'Traditional Doom Metal', 'Trap', 'Trip Hop', 'Tropicália',\n",
       "       'Twee Pop', 'Uk Hip Hop', 'Video Game Music', 'Viking Metal',\n",
       "       'Vocal Jazz', 'West Coast Hip Hop', 'Western Classical Music',\n",
       "       'White Voice', 'Wonky'], dtype=object)"
      ]
     },
     "execution_count": 62,
     "metadata": {},
     "output_type": "execute_result"
    }
   ],
   "source": [
    "top_1000['Genres'].str.split(', ').explode().sort_values().unique()"
   ]
  },
  {
   "cell_type": "code",
   "execution_count": 63,
   "metadata": {},
   "outputs": [],
   "source": [
    "top_1000['Genres'] = top_1000['Genres'].str.replace('Americana','American').str.title()"
   ]
  },
  {
   "cell_type": "markdown",
   "metadata": {},
   "source": [
    "Now let's do the same with Descriptors column"
   ]
  },
  {
   "cell_type": "code",
   "execution_count": 64,
   "metadata": {},
   "outputs": [
    {
     "data": {
      "text/plain": [
       "array(['...', 'A Cappella', 'Abstract', 'Acoustic', 'Aggressive',\n",
       "       'Alcohol', 'Alienation', 'Anarchism', 'Androgynous Vocals',\n",
       "       'Angry', 'Anthemic', 'Anti-Religious', 'Anxious', 'Apathetic',\n",
       "       'Apocalyptic', 'Aquatic', 'Atmospheric', 'Atonal', 'Autumn',\n",
       "       'Avant-Garde', 'Ballad', 'Bittersweet', 'Boastful', 'Breakup',\n",
       "       'Calm', 'Chamber Music', 'Chaotic', 'Choral', 'Christian',\n",
       "       'Christmas', 'Cold', 'Complex', 'Concept Album', 'Concerto',\n",
       "       'Conscious', 'Crime', 'Cryptic', 'Dark', 'Deadpan', 'Death',\n",
       "       'Dense', 'Depressive', 'Desert', 'Dissonant', 'Disturbing',\n",
       "       'Drugs', 'Eclectic', 'Energetic', 'Ensemble', 'Epic', 'Ethereal',\n",
       "       'Existential', 'Fairy Tale', 'Fantasy', 'Female Vocals',\n",
       "       'Folklore', 'Forest', 'Funereal', 'Futuristic', 'Halloween',\n",
       "       'Happy', 'Hateful', 'Heavy', 'Hedonistic', 'History', 'Humorous',\n",
       "       'Hypnotic', 'Improvisation', 'Infernal', 'Instrumental',\n",
       "       'Introspective', 'Jingle', 'Lethargic', 'Lgbt', 'Lo-Fi', 'Lobit',\n",
       "       'Lonely', 'Longing', 'Love', 'Lush', 'Male Vocals', 'Manic',\n",
       "       'Martial', 'Mechanical', 'Medieval', 'Meditative', 'Medley',\n",
       "       'Melancholic', 'Mellow', 'Melodic', 'Microtonal', 'Minimalistic',\n",
       "       'Misanthropic', 'Mood', 'Mysterious', 'Mythology', 'Natural',\n",
       "       'Nature', 'Nihilistic', 'No Data', 'Nocturnal', 'Noisy', 'Occult',\n",
       "       'Ominous', 'Opera', 'Optimistic', 'Oratorio', 'Orchestral',\n",
       "       'Pagan', 'Paranormal', 'Party', 'Passionate', 'Pastoral',\n",
       "       'Peaceful', 'Pessimistic', 'Philosophical', 'Playful', 'Poetic',\n",
       "       'Political', 'Polyphonic', 'Progressive', 'Protest', 'Psychedelic',\n",
       "       'Quirky', 'Rain', 'Raw', 'Rebellious', 'Religious', 'Repetitive',\n",
       "       'Rhythmic', 'Ritualistic', 'Rock Opera', 'Romantic', 'Sad',\n",
       "       'Sampling', 'Sarcastic', 'Satanic', 'Satirical', 'Scary',\n",
       "       'Science Fiction', 'Seasonal', 'Self-Hatred', 'Sensual',\n",
       "       'Sentimental', 'Serious', 'Sexual', 'Soft', 'Sombre', 'Soothing',\n",
       "       'Space', 'Sparse', 'Spiritual', 'Sports', 'Spring',\n",
       "       'String Quartet', 'Suicide', 'Suite', 'Summer', 'Surreal',\n",
       "       'Suspenseful', 'Symphony', 'Technical', 'Tone Poem', 'Tribal',\n",
       "       'Triumphant', 'Tropical', 'Uncommon Time Signatures', 'Uplifting',\n",
       "       'Urban', 'Violence', 'Vocal Group', 'Vulgar', 'Wall Of Sound',\n",
       "       'War', 'Warm', 'Winter'], dtype=object)"
      ]
     },
     "execution_count": 64,
     "metadata": {},
     "output_type": "execute_result"
    }
   ],
   "source": [
    "top_1000['Descriptors'].str.split(', ').explode().sort_values().unique()"
   ]
  },
  {
   "cell_type": "markdown",
   "metadata": {},
   "source": [
    "# Prepare Data for visualization"
   ]
  },
  {
   "cell_type": "code",
   "execution_count": 65,
   "metadata": {},
   "outputs": [],
   "source": [
    "# Genre and Descriptors of 1000 top song\n",
    "genre_count = top_1000['Genres'].str.split(', ').explode().value_counts()\n",
    "genre_count = pd.DataFrame(genre_count).reset_index()\n",
    "genre_count.columns = ['genre','count']\n",
    "\n",
    "descriptors_count = top_1000['Descriptors'].str.split(', ').explode().value_counts()\n",
    "descriptors_count = pd.DataFrame(descriptors_count).reset_index()\n",
    "descriptors_count.columns = ['decriptors','count']"
   ]
  },
  {
   "cell_type": "code",
   "execution_count": 66,
   "metadata": {},
   "outputs": [],
   "source": [
    "# Who made the most top 1000 albums and what era of these albums were release\n",
    "artist_count = top_1000['Artist Name'].str.split(' / ').explode().value_counts()\n",
    "artist_count = pd.DataFrame(artist_count).reset_index()\n",
    "artist_count.columns = ['artist','count']"
   ]
  },
  {
   "cell_type": "code",
   "execution_count": 67,
   "metadata": {},
   "outputs": [],
   "source": [
    "# Top 20 albums by rating\n",
    "year_count = df['year_release'].value_counts()\n",
    "year_count = pd.DataFrame(year_count).reset_index()\n",
    "year_count.columns = ['Year','Album count']\n",
    "year_count.sort_values('Year',inplace = True)\n",
    "highest_rating = top_1000.sort_values('Average Rating',ascending= False).head(20)[['Album','Average Rating']]\n"
   ]
  },
  {
   "cell_type": "markdown",
   "metadata": {},
   "source": [
    "# Data visualization"
   ]
  },
  {
   "cell_type": "code",
   "execution_count": 68,
   "metadata": {},
   "outputs": [],
   "source": [
    "top_genre =  genre_count.iloc[0:10]\n",
    "top_descriptors = descriptors_count.iloc[0:10]\n",
    "top_artist = artist_count.iloc[0:20]"
   ]
  },
  {
   "cell_type": "code",
   "execution_count": 69,
   "metadata": {},
   "outputs": [
    {
     "data": {
      "image/png": "[encoded data removed]"
     },
     "metadata": {},
     "output_type": "display_data"
    }
   ],
   "source": [
    "fig = px.line(year_count,x = 'Year',y = 'Album count',title = 'Top 1000 albums released each year')\n",
    "fig.show(\"png\")"
   ]
  },
  {
   "cell_type": "markdown",
   "metadata": {},
   "source": [
    "Most of top 1000 albums were produced in 1970s"
   ]
  },
  {
   "cell_type": "code",
   "execution_count": 70,
   "metadata": {},
   "outputs": [
    {
     "data": {
      "image/svg+xml": "<svg class=\"main-svg\" xmlns=\"http://www.w3.org/2000/svg\" xmlns:xlink=\"http://www.w3.org/1999/xlink\" width=\"700\" height=\"500\" style=\"\" viewBox=\"0 0 700 500\"><rect x=\"0\" y=\"0\" width=\"700\" height=\"500\" style=\"fill: rgb(255, 255, 255); fill-opacity: 1;\"/><defs id=\"defs-441c5a\"><g class=\"clips\"/><g class=\"gradients\"/><g class=\"patterns\"/></defs><g class=\"bglayer\"/><g class=\"layer-below\"><g class=\"imagelayer\"/><g class=\"shapelayer\"/></g><g class=\"cartesianlayer\"/><g class=\"polarlayer\"/><g class=\"ternarylayer\"/><g class=\"geolayer\"/><g class=\"funnelarealayer\"/><g class=\"pielayer\"/><g class=\"iciclelayer\"/><g class=\"treemaplayer\"/><g class=\"sunburstlayer\"/><g class=\"glimages\"/><g class=\"table\" overflow=\"visible\" width=\"700\" height=\"500\" transform=\"\" style=\"box-sizing: content-box; position: absolute; left: 0px; overflow: visible; shape-rendering: crispedges; pointer-events: all;\"><g class=\"table-control-view\" transform=\"translate(80,100)\" clip-path=\"url(#clip441c5a_scrollAreaBottomClip_f02c4ftrue)\" style=\"box-sizing: content-box;\"><rect class=\"scroll-background\" fill=\"none\" width=\"540\" height=\"320\"/><g class=\"y-column\" transform=\"\" clip-path=\"url(#clip441c5a_columnBoundaryClippath_f02c4ftrue_0)\"><g class=\"column-block\" id=\"cells1\" transform=\"\" style=\"cursor: default;\"><g class=\"column-cells\"><g class=\"column-cell\" transform=\"translate(0,30)\"><rect class=\"cell-rect\" width=\"360\" stroke-width=\"1\" style=\"stroke: rgb(47, 79, 79); stroke-opacity: 1; fill: rgb(255, 255, 255); fill-opacity: 1;\" height=\"20\"/><g class=\"cell-text-holder\" transform=\"translate(180,8)\" text-anchor=\"middle\" style=\"shape-rendering: geometricprecision;\"><text class=\"cell-text\" dy=\"0.75em\" x=\"0\" y=\"0\" style=\"cursor: auto; font-family: Arial; font-size: 12px; fill: rgb(0, 0, 0); fill-opacity: 1; white-space: pre;\">The Black Saint and the Sinner Lady</text></g></g><g class=\"column-cell\" transform=\"translate(0,50)\"><rect class=\"cell-rect\" width=\"360\" stroke-width=\"1\" style=\"stroke: rgb(47, 79, 79); stroke-opacity: 1; fill: rgb(255, 255, 255); fill-opacity: 1;\" height=\"20\"/><g class=\"cell-text-holder\" transform=\"translate(180,8)\" text-anchor=\"middle\" style=\"shape-rendering: geometricprecision;\"><text class=\"cell-text\" dy=\"0.75em\" x=\"0\" y=\"0\" style=\"cursor: auto; font-family: Arial; font-size: 12px; fill: rgb(0, 0, 0); fill-opacity: 1; white-space: pre;\">In the Court of the Crimson King</text></g></g><g class=\"column-cell\" transform=\"translate(0,70)\"><rect class=\"cell-rect\" width=\"360\" stroke-width=\"1\" style=\"stroke: rgb(47, 79, 79); stroke-opacity: 1; fill: rgb(255, 255, 255); fill-opacity: 1;\" height=\"20\"/><g class=\"cell-text-holder\" transform=\"translate(180,8)\" text-anchor=\"middle\" style=\"shape-rendering: geometricprecision;\"><text class=\"cell-text\" dy=\"0.75em\" x=\"0\" y=\"0\" style=\"cursor: auto; font-family: Arial; font-size: 12px; fill: rgb(0, 0, 0); fill-opacity: 1; white-space: pre;\">A Love Supreme</text></g></g><g class=\"column-cell\" transform=\"translate(0,90)\"><rect class=\"cell-rect\" width=\"360\" stroke-width=\"1\" style=\"stroke: rgb(47, 79, 79); stroke-opacity: 1; fill: rgb(255, 255, 255); fill-opacity: 1;\" height=\"20\"/><g class=\"cell-text-holder\" transform=\"translate(180,8)\" text-anchor=\"middle\" style=\"shape-rendering: geometricprecision;\"><text class=\"cell-text\" dy=\"0.75em\" x=\"0\" y=\"0\" style=\"cursor: auto; font-family: Arial; font-size: 12px; fill: rgb(0, 0, 0); fill-opacity: 1; white-space: pre;\">Wish You Were Here</text></g></g><g class=\"column-cell\" transform=\"translate(0,110)\"><rect class=\"cell-rect\" width=\"360\" stroke-width=\"1\" style=\"stroke: rgb(47, 79, 79); stroke-opacity: 1; fill: rgb(255, 255, 255); fill-opacity: 1;\" height=\"20\"/><g class=\"cell-text-holder\" transform=\"translate(180,8)\" text-anchor=\"middle\" style=\"shape-rendering: geometricprecision;\"><text class=\"cell-text\" dy=\"0.75em\" x=\"0\" y=\"0\" style=\"cursor: auto; font-family: Arial; font-size: 12px; fill: rgb(0, 0, 0); fill-opacity: 1; white-space: pre;\">To Pimp a Butterfly</text></g></g><g class=\"column-cell\" transform=\"translate(0,130)\"><rect class=\"cell-rect\" width=\"360\" stroke-width=\"1\" style=\"stroke: rgb(47, 79, 79); stroke-opacity: 1; fill: rgb(255, 255, 255); fill-opacity: 1;\" height=\"20\"/><g class=\"cell-text-holder\" transform=\"translate(180,8)\" text-anchor=\"middle\" style=\"shape-rendering: geometricprecision;\"><text class=\"cell-text\" dy=\"0.75em\" style=\"cursor: auto; font-family: Arial; font-size: 12px; fill: rgb(0, 0, 0); fill-opacity: 1;\">Madvillainy</text></g></g><g class=\"column-cell\" transform=\"translate(0,150)\"><rect class=\"cell-rect\" width=\"360\" stroke-width=\"1\" style=\"stroke: rgb(47, 79, 79); stroke-opacity: 1; fill: rgb(255, 255, 255); fill-opacity: 1;\" height=\"20\"/><g class=\"cell-text-holder\" transform=\"translate(180,8)\" text-anchor=\"middle\" style=\"shape-rendering: geometricprecision;\"><text class=\"cell-text\" dy=\"0.75em\" x=\"0\" y=\"0\" style=\"cursor: auto; font-family: Arial; font-size: 12px; fill: rgb(0, 0, 0); fill-opacity: 1; white-space: pre;\">The Rise and Fall of Ziggy Stardust and the Spiders From Mars</text></g></g><g class=\"column-cell\" transform=\"translate(0,170)\"><rect class=\"cell-rect\" width=\"360\" stroke-width=\"1\" style=\"stroke: rgb(47, 79, 79); stroke-opacity: 1; fill: rgb(255, 255, 255); fill-opacity: 1;\" height=\"20\"/><g class=\"cell-text-holder\" transform=\"translate(180,8)\" text-anchor=\"middle\" style=\"shape-rendering: geometricprecision;\"><text class=\"cell-text\" dy=\"0.75em\" x=\"0\" y=\"0\" style=\"cursor: auto; font-family: Arial; font-size: 12px; fill: rgb(0, 0, 0); fill-opacity: 1; white-space: pre;\">Abbey Road</text></g></g><g class=\"column-cell\" transform=\"translate(0,190)\"><rect class=\"cell-rect\" width=\"360\" stroke-width=\"1\" style=\"stroke: rgb(47, 79, 79); stroke-opacity: 1; fill: rgb(255, 255, 255); fill-opacity: 1;\" height=\"20\"/><g class=\"cell-text-holder\" transform=\"translate(180,8)\" text-anchor=\"middle\" style=\"shape-rendering: geometricprecision;\"><text class=\"cell-text\" dy=\"0.75em\" x=\"0\" y=\"0\" style=\"cursor: auto; font-family: Arial; font-size: 12px; fill: rgb(0, 0, 0); fill-opacity: 1; white-space: pre;\">Remain in Light</text></g></g><g class=\"column-cell\" transform=\"translate(0,210)\"><rect class=\"cell-rect\" width=\"360\" stroke-width=\"1\" style=\"stroke: rgb(47, 79, 79); stroke-opacity: 1; fill: rgb(255, 255, 255); fill-opacity: 1;\" height=\"20\"/><g class=\"cell-text-holder\" transform=\"translate(180,8)\" text-anchor=\"middle\" style=\"shape-rendering: geometricprecision;\"><text class=\"cell-text\" dy=\"0.75em\" style=\"cursor: auto; font-family: Arial; font-size: 12px; fill: rgb(0, 0, 0); fill-opacity: 1;\">Loveless</text></g></g><g class=\"column-cell\" transform=\"translate(0,230)\"><rect class=\"cell-rect\" width=\"360\" stroke-width=\"1\" style=\"stroke: rgb(47, 79, 79); stroke-opacity: 1; fill: rgb(255, 255, 255); fill-opacity: 1;\" height=\"20\"/><g class=\"cell-text-holder\" transform=\"translate(180,8)\" text-anchor=\"middle\" style=\"shape-rendering: geometricprecision;\"><text class=\"cell-text\" dy=\"0.75em\" x=\"0\" y=\"0\" style=\"cursor: auto; font-family: Arial; font-size: 12px; fill: rgb(0, 0, 0); fill-opacity: 1; white-space: pre;\">OK Computer</text></g></g><g class=\"column-cell\" transform=\"translate(0,250)\"><rect class=\"cell-rect\" width=\"360\" stroke-width=\"1\" style=\"stroke: rgb(47, 79, 79); stroke-opacity: 1; fill: rgb(255, 255, 255); fill-opacity: 1;\" height=\"20\"/><g class=\"cell-text-holder\" transform=\"translate(180,8)\" text-anchor=\"middle\" style=\"shape-rendering: geometricprecision;\"><text class=\"cell-text\" dy=\"0.75em\" x=\"0\" y=\"0\" style=\"cursor: auto; font-family: Arial; font-size: 12px; fill: rgb(0, 0, 0); fill-opacity: 1; white-space: pre;\">Kind of Blue</text></g></g><g class=\"column-cell\" transform=\"translate(0,270)\"><rect class=\"cell-rect\" width=\"360\" stroke-width=\"1\" style=\"stroke: rgb(47, 79, 79); stroke-opacity: 1; fill: rgb(255, 255, 255); fill-opacity: 1;\" height=\"20\"/><g class=\"cell-text-holder\" transform=\"translate(180,8)\" text-anchor=\"middle\" style=\"shape-rendering: geometricprecision;\"><text class=\"cell-text\" dy=\"0.75em\" style=\"cursor: auto; font-family: Arial; font-size: 12px; fill: rgb(0, 0, 0); fill-opacity: 1;\">Revolver</text></g></g><g class=\"column-cell\" transform=\"translate(0,290)\"><rect class=\"cell-rect\" width=\"360\" stroke-width=\"1\" style=\"stroke: rgb(47, 79, 79); stroke-opacity: 1; fill: rgb(255, 255, 255); fill-opacity: 1;\" height=\"30\"/><g class=\"cell-text-holder\" transform=\"translate(95.453125,19)\" style=\"shape-rendering: geometricprecision;\"><text class=\"cell-text\" dy=\"0\" x=\"0\" y=\"0\" style=\"cursor: auto; font-family: Arial; font-size: 12px; fill: rgb(0, 0, 0); fill-opacity: 1; white-space: pre;\">The Velvet Underground &amp; Nico</text></g></g><g class=\"column-cell\" transform=\"translate(0,320)\"><rect class=\"cell-rect\" width=\"360\" stroke-width=\"1\" style=\"stroke: rgb(47, 79, 79); stroke-opacity: 1; fill: rgb(255, 255, 255); fill-opacity: 1;\" height=\"20\"/><g class=\"cell-text-holder\" transform=\"translate(180,8)\" text-anchor=\"middle\" style=\"shape-rendering: geometricprecision;\"><text class=\"cell-text\" dy=\"0.75em\" x=\"0\" y=\"0\" style=\"cursor: auto; font-family: Arial; font-size: 12px; fill: rgb(0, 0, 0); fill-opacity: 1; white-space: pre;\">Kid A</text></g></g></g></g><g class=\"column-block\" id=\"cells2\" transform=\"translate(0,310)\" style=\"cursor: default;\"><g class=\"column-cells\"><g class=\"column-cell\" transform=\"translate(0,30)\"><rect class=\"cell-rect\" width=\"360\" stroke-width=\"1\" style=\"stroke: rgb(47, 79, 79); stroke-opacity: 1; fill: rgb(255, 255, 255); fill-opacity: 1;\" height=\"20\"/><g class=\"cell-text-holder\" transform=\"translate(180,8)\" text-anchor=\"middle\" style=\"shape-rendering: geometricprecision;\"><text class=\"cell-text\" dy=\"0.75em\" style=\"cursor: auto; font-family: Arial; font-size: 12px; fill: rgb(0, 0, 0); fill-opacity: 1;\">Red</text></g></g><g class=\"column-cell\" transform=\"translate(0,50)\"><rect class=\"cell-rect\" width=\"360\" stroke-width=\"1\" style=\"stroke: rgb(47, 79, 79); stroke-opacity: 1; fill: rgb(255, 255, 255); fill-opacity: 1;\" height=\"20\"/><g class=\"cell-text-holder\" transform=\"translate(180,8)\" text-anchor=\"middle\" style=\"shape-rendering: geometricprecision;\"><text class=\"cell-text\" dy=\"0.75em\" x=\"0\" y=\"0\" style=\"cursor: auto; font-family: Arial; font-size: 12px; fill: rgb(0, 0, 0); fill-opacity: 1; white-space: pre;\">In a Silent Way</text></g></g><g class=\"column-cell\" transform=\"translate(0,70)\"><rect class=\"cell-rect\" width=\"360\" stroke-width=\"1\" style=\"stroke: rgb(47, 79, 79); stroke-opacity: 1; fill: rgb(255, 255, 255); fill-opacity: 1;\" height=\"20\"/><g class=\"cell-text-holder\" transform=\"translate(180,8)\" text-anchor=\"middle\" style=\"shape-rendering: geometricprecision;\"><text class=\"cell-text\" dy=\"0.75em\" style=\"cursor: auto; font-family: Arial; font-size: 12px; fill: rgb(0, 0, 0); fill-opacity: 1;\">Illmatic</text></g></g><g class=\"column-cell\" transform=\"translate(0,90)\"><rect class=\"cell-rect\" width=\"360\" stroke-width=\"1\" style=\"stroke: rgb(47, 79, 79); stroke-opacity: 1; fill: rgb(255, 255, 255); fill-opacity: 1;\" height=\"20\"/><g class=\"cell-text-holder\" transform=\"translate(180,8)\" text-anchor=\"middle\" style=\"shape-rendering: geometricprecision;\"><text class=\"cell-text\" dy=\"0.75em\" x=\"0\" y=\"0\" style=\"cursor: auto; font-family: Arial; font-size: 12px; fill: rgb(0, 0, 0); fill-opacity: 1; white-space: pre;\">The Dark Side of the Moon</text></g></g><g class=\"column-cell\" transform=\"translate(0,110)\"><rect class=\"cell-rect\" width=\"360\" stroke-width=\"1\" style=\"stroke: rgb(47, 79, 79); stroke-opacity: 1; fill: rgb(255, 255, 255); fill-opacity: 1;\" height=\"20\"/><g class=\"cell-text-holder\" transform=\"translate(180,8)\" text-anchor=\"middle\" style=\"shape-rendering: geometricprecision;\"><text class=\"cell-text\" dy=\"0.75em\" x=\"0\" y=\"0\" style=\"cursor: auto; font-family: Arial; font-size: 12px; fill: rgb(0, 0, 0); fill-opacity: 1; white-space: pre;\">good kid, m.A.A.d city</text></g></g></g></g><g class=\"column-block\" id=\"header\" style=\"cursor: ew-resize;\"><g class=\"column-cells\"><g class=\"column-cell\" transform=\"\"><rect class=\"cell-rect\" width=\"360\" stroke-width=\"1\" style=\"stroke: rgb(47, 79, 79); stroke-opacity: 1; fill: rgb(250, 128, 114); fill-opacity: 1;\" height=\"30\"/><g class=\"cell-text-holder\" transform=\"translate(180,8)\" text-anchor=\"middle\" style=\"shape-rendering: geometricprecision;\"><text class=\"cell-text\" dy=\"0.75em\" style=\"cursor: auto; font-family: Arial; font-size: 12px; fill: rgb(0, 0, 0); fill-opacity: 1;\">Album</text></g></g></g></g><g class=\"column-boundary\"/><clipPath class=\"column-boundary-clippath\" id=\"clip441c5a_columnBoundaryClippath_f02c4ftrue_0\"><rect class=\"column-boundary-rect\" fill=\"none\" width=\"362\" height=\"327\" x=\"-1\" y=\"-1\"/></clipPath></g><g class=\"y-column\" transform=\"translate(360,0)\" clip-path=\"url(#clip441c5a_columnBoundaryClippath_f02c4ftrue_1)\"><g class=\"column-block\" id=\"cells1\" transform=\"\" style=\"cursor: default;\"><g class=\"column-cells\"><g class=\"column-cell\" transform=\"translate(0,30)\"><rect class=\"cell-rect\" width=\"180\" stroke-width=\"1\" style=\"stroke: rgb(47, 79, 79); stroke-opacity: 1; fill: rgb(255, 255, 255); fill-opacity: 1;\" height=\"20\"/><g class=\"cell-text-holder\" transform=\"translate(90,8)\" text-anchor=\"middle\" style=\"shape-rendering: geometricprecision;\"><text class=\"cell-text\" dy=\"0.75em\" style=\"cursor: auto; font-family: Arial; font-size: 12px; fill: rgb(0, 0, 0); fill-opacity: 1;\">4.34</text></g></g><g class=\"column-cell\" transform=\"translate(0,50)\"><rect class=\"cell-rect\" width=\"180\" stroke-width=\"1\" style=\"stroke: rgb(47, 79, 79); stroke-opacity: 1; fill: rgb(255, 255, 255); fill-opacity: 1;\" height=\"20\"/><g class=\"cell-text-holder\" transform=\"translate(90,8)\" text-anchor=\"middle\" style=\"shape-rendering: geometricprecision;\"><text class=\"cell-text\" dy=\"0.75em\" style=\"cursor: auto; font-family: Arial; font-size: 12px; fill: rgb(0, 0, 0); fill-opacity: 1;\">4.3</text></g></g><g class=\"column-cell\" transform=\"translate(0,70)\"><rect class=\"cell-rect\" width=\"180\" stroke-width=\"1\" style=\"stroke: rgb(47, 79, 79); stroke-opacity: 1; fill: rgb(255, 255, 255); fill-opacity: 1;\" height=\"20\"/><g class=\"cell-text-holder\" transform=\"translate(90,8)\" text-anchor=\"middle\" style=\"shape-rendering: geometricprecision;\"><text class=\"cell-text\" dy=\"0.75em\" style=\"cursor: auto; font-family: Arial; font-size: 12px; fill: rgb(0, 0, 0); fill-opacity: 1;\">4.3</text></g></g><g class=\"column-cell\" transform=\"translate(0,90)\"><rect class=\"cell-rect\" width=\"180\" stroke-width=\"1\" style=\"stroke: rgb(47, 79, 79); stroke-opacity: 1; fill: rgb(255, 255, 255); fill-opacity: 1;\" height=\"20\"/><g class=\"cell-text-holder\" transform=\"translate(90,8)\" text-anchor=\"middle\" style=\"shape-rendering: geometricprecision;\"><text class=\"cell-text\" dy=\"0.75em\" style=\"cursor: auto; font-family: Arial; font-size: 12px; fill: rgb(0, 0, 0); fill-opacity: 1;\">4.29</text></g></g><g class=\"column-cell\" transform=\"translate(0,110)\"><rect class=\"cell-rect\" width=\"180\" stroke-width=\"1\" style=\"stroke: rgb(47, 79, 79); stroke-opacity: 1; fill: rgb(255, 255, 255); fill-opacity: 1;\" height=\"20\"/><g class=\"cell-text-holder\" transform=\"translate(90,8)\" text-anchor=\"middle\" style=\"shape-rendering: geometricprecision;\"><text class=\"cell-text\" dy=\"0.75em\" style=\"cursor: auto; font-family: Arial; font-size: 12px; fill: rgb(0, 0, 0); fill-opacity: 1;\">4.27</text></g></g><g class=\"column-cell\" transform=\"translate(0,130)\"><rect class=\"cell-rect\" width=\"180\" stroke-width=\"1\" style=\"stroke: rgb(47, 79, 79); stroke-opacity: 1; fill: rgb(255, 255, 255); fill-opacity: 1;\" height=\"20\"/><g class=\"cell-text-holder\" transform=\"translate(90,8)\" text-anchor=\"middle\" style=\"shape-rendering: geometricprecision;\"><text class=\"cell-text\" dy=\"0.75em\" style=\"cursor: auto; font-family: Arial; font-size: 12px; fill: rgb(0, 0, 0); fill-opacity: 1;\">4.26</text></g></g><g class=\"column-cell\" transform=\"translate(0,150)\"><rect class=\"cell-rect\" width=\"180\" stroke-width=\"1\" style=\"stroke: rgb(47, 79, 79); stroke-opacity: 1; fill: rgb(255, 255, 255); fill-opacity: 1;\" height=\"20\"/><g class=\"cell-text-holder\" transform=\"translate(90,8)\" text-anchor=\"middle\" style=\"shape-rendering: geometricprecision;\"><text class=\"cell-text\" dy=\"0.75em\" style=\"cursor: auto; font-family: Arial; font-size: 12px; fill: rgb(0, 0, 0); fill-opacity: 1;\">4.26</text></g></g><g class=\"column-cell\" transform=\"translate(0,170)\"><rect class=\"cell-rect\" width=\"180\" stroke-width=\"1\" style=\"stroke: rgb(47, 79, 79); stroke-opacity: 1; fill: rgb(255, 255, 255); fill-opacity: 1;\" height=\"20\"/><g class=\"cell-text-holder\" transform=\"translate(90,8)\" text-anchor=\"middle\" style=\"shape-rendering: geometricprecision;\"><text class=\"cell-text\" dy=\"0.75em\" style=\"cursor: auto; font-family: Arial; font-size: 12px; fill: rgb(0, 0, 0); fill-opacity: 1;\">4.25</text></g></g><g class=\"column-cell\" transform=\"translate(0,190)\"><rect class=\"cell-rect\" width=\"180\" stroke-width=\"1\" style=\"stroke: rgb(47, 79, 79); stroke-opacity: 1; fill: rgb(255, 255, 255); fill-opacity: 1;\" height=\"20\"/><g class=\"cell-text-holder\" transform=\"translate(90,8)\" text-anchor=\"middle\" style=\"shape-rendering: geometricprecision;\"><text class=\"cell-text\" dy=\"0.75em\" style=\"cursor: auto; font-family: Arial; font-size: 12px; fill: rgb(0, 0, 0); fill-opacity: 1;\">4.25</text></g></g><g class=\"column-cell\" transform=\"translate(0,210)\"><rect class=\"cell-rect\" width=\"180\" stroke-width=\"1\" style=\"stroke: rgb(47, 79, 79); stroke-opacity: 1; fill: rgb(255, 255, 255); fill-opacity: 1;\" height=\"20\"/><g class=\"cell-text-holder\" transform=\"translate(90,8)\" text-anchor=\"middle\" style=\"shape-rendering: geometricprecision;\"><text class=\"cell-text\" dy=\"0.75em\" style=\"cursor: auto; font-family: Arial; font-size: 12px; fill: rgb(0, 0, 0); fill-opacity: 1;\">4.24</text></g></g><g class=\"column-cell\" transform=\"translate(0,230)\"><rect class=\"cell-rect\" width=\"180\" stroke-width=\"1\" style=\"stroke: rgb(47, 79, 79); stroke-opacity: 1; fill: rgb(255, 255, 255); fill-opacity: 1;\" height=\"20\"/><g class=\"cell-text-holder\" transform=\"translate(90,8)\" text-anchor=\"middle\" style=\"shape-rendering: geometricprecision;\"><text class=\"cell-text\" dy=\"0.75em\" style=\"cursor: auto; font-family: Arial; font-size: 12px; fill: rgb(0, 0, 0); fill-opacity: 1;\">4.23</text></g></g><g class=\"column-cell\" transform=\"translate(0,250)\"><rect class=\"cell-rect\" width=\"180\" stroke-width=\"1\" style=\"stroke: rgb(47, 79, 79); stroke-opacity: 1; fill: rgb(255, 255, 255); fill-opacity: 1;\" height=\"20\"/><g class=\"cell-text-holder\" transform=\"translate(90,8)\" text-anchor=\"middle\" style=\"shape-rendering: geometricprecision;\"><text class=\"cell-text\" dy=\"0.75em\" style=\"cursor: auto; font-family: Arial; font-size: 12px; fill: rgb(0, 0, 0); fill-opacity: 1;\">4.23</text></g></g><g class=\"column-cell\" transform=\"translate(0,270)\"><rect class=\"cell-rect\" width=\"180\" stroke-width=\"1\" style=\"stroke: rgb(47, 79, 79); stroke-opacity: 1; fill: rgb(255, 255, 255); fill-opacity: 1;\" height=\"20\"/><g class=\"cell-text-holder\" transform=\"translate(90,8)\" text-anchor=\"middle\" style=\"shape-rendering: geometricprecision;\"><text class=\"cell-text\" dy=\"0.75em\" style=\"cursor: auto; font-family: Arial; font-size: 12px; fill: rgb(0, 0, 0); fill-opacity: 1;\">4.23</text></g></g><g class=\"column-cell\" transform=\"translate(0,290)\"><rect class=\"cell-rect\" width=\"180\" stroke-width=\"1\" style=\"stroke: rgb(47, 79, 79); stroke-opacity: 1; fill: rgb(255, 255, 255); fill-opacity: 1;\" height=\"30\"/><g class=\"cell-text-holder\" transform=\"translate(90,8)\" text-anchor=\"middle\" style=\"shape-rendering: geometricprecision;\"><text class=\"cell-text\" dy=\"0.75em\" style=\"cursor: auto; font-family: Arial; font-size: 12px; fill: rgb(0, 0, 0); fill-opacity: 1;\">4.23</text></g></g><g class=\"column-cell\" transform=\"translate(0,320)\"><rect class=\"cell-rect\" width=\"180\" stroke-width=\"1\" style=\"stroke: rgb(47, 79, 79); stroke-opacity: 1; fill: rgb(255, 255, 255); fill-opacity: 1;\" height=\"20\"/><g class=\"cell-text-holder\" transform=\"translate(90,8)\" text-anchor=\"middle\" style=\"shape-rendering: geometricprecision;\"><text class=\"cell-text\" dy=\"0.75em\" style=\"cursor: auto; font-family: Arial; font-size: 12px; fill: rgb(0, 0, 0); fill-opacity: 1;\">4.21</text></g></g></g></g><g class=\"column-block\" id=\"cells2\" transform=\"translate(0,310)\" style=\"cursor: default;\"><g class=\"column-cells\"><g class=\"column-cell\" transform=\"translate(0,30)\"><rect class=\"cell-rect\" width=\"180\" stroke-width=\"1\" style=\"stroke: rgb(47, 79, 79); stroke-opacity: 1; fill: rgb(255, 255, 255); fill-opacity: 1;\" height=\"20\"/><g class=\"cell-text-holder\" transform=\"translate(90,8)\" text-anchor=\"middle\" style=\"shape-rendering: geometricprecision;\"><text class=\"cell-text\" dy=\"0.75em\" style=\"cursor: auto; font-family: Arial; font-size: 12px; fill: rgb(0, 0, 0); fill-opacity: 1;\">4.21</text></g></g><g class=\"column-cell\" transform=\"translate(0,50)\"><rect class=\"cell-rect\" width=\"180\" stroke-width=\"1\" style=\"stroke: rgb(47, 79, 79); stroke-opacity: 1; fill: rgb(255, 255, 255); fill-opacity: 1;\" height=\"20\"/><g class=\"cell-text-holder\" transform=\"translate(90,8)\" text-anchor=\"middle\" style=\"shape-rendering: geometricprecision;\"><text class=\"cell-text\" dy=\"0.75em\" style=\"cursor: auto; font-family: Arial; font-size: 12px; fill: rgb(0, 0, 0); fill-opacity: 1;\">4.21</text></g></g><g class=\"column-cell\" transform=\"translate(0,70)\"><rect class=\"cell-rect\" width=\"180\" stroke-width=\"1\" style=\"stroke: rgb(47, 79, 79); stroke-opacity: 1; fill: rgb(255, 255, 255); fill-opacity: 1;\" height=\"20\"/><g class=\"cell-text-holder\" transform=\"translate(90,8)\" text-anchor=\"middle\" style=\"shape-rendering: geometricprecision;\"><text class=\"cell-text\" dy=\"0.75em\" style=\"cursor: auto; font-family: Arial; font-size: 12px; fill: rgb(0, 0, 0); fill-opacity: 1;\">4.2</text></g></g><g class=\"column-cell\" transform=\"translate(0,90)\"><rect class=\"cell-rect\" width=\"180\" stroke-width=\"1\" style=\"stroke: rgb(47, 79, 79); stroke-opacity: 1; fill: rgb(255, 255, 255); fill-opacity: 1;\" height=\"20\"/><g class=\"cell-text-holder\" transform=\"translate(90,8)\" text-anchor=\"middle\" style=\"shape-rendering: geometricprecision;\"><text class=\"cell-text\" dy=\"0.75em\" style=\"cursor: auto; font-family: Arial; font-size: 12px; fill: rgb(0, 0, 0); fill-opacity: 1;\">4.2</text></g></g><g class=\"column-cell\" transform=\"translate(0,110)\"><rect class=\"cell-rect\" width=\"180\" stroke-width=\"1\" style=\"stroke: rgb(47, 79, 79); stroke-opacity: 1; fill: rgb(255, 255, 255); fill-opacity: 1;\" height=\"20\"/><g class=\"cell-text-holder\" transform=\"translate(90,8)\" text-anchor=\"middle\" style=\"shape-rendering: geometricprecision;\"><text class=\"cell-text\" dy=\"0.75em\" style=\"cursor: auto; font-family: Arial; font-size: 12px; fill: rgb(0, 0, 0); fill-opacity: 1;\">4.2</text></g></g></g></g><g class=\"column-block\" id=\"header\" style=\"cursor: ew-resize;\"><g class=\"column-cells\"><g class=\"column-cell\" transform=\"\"><rect class=\"cell-rect\" width=\"180\" stroke-width=\"1\" style=\"stroke: rgb(47, 79, 79); stroke-opacity: 1; fill: rgb(250, 128, 114); fill-opacity: 1;\" height=\"30\"/><g class=\"cell-text-holder\" transform=\"translate(90,8)\" text-anchor=\"middle\" style=\"shape-rendering: geometricprecision;\"><text class=\"cell-text\" dy=\"0.75em\" x=\"0\" y=\"0\" style=\"cursor: auto; font-family: Arial; font-size: 12px; fill: rgb(0, 0, 0); fill-opacity: 1; white-space: pre;\">Average Rating</text></g></g></g></g><g class=\"column-boundary\"/><clipPath class=\"column-boundary-clippath\" id=\"clip441c5a_columnBoundaryClippath_f02c4ftrue_1\"><rect class=\"column-boundary-rect\" fill=\"none\" width=\"182\" height=\"327\" x=\"-1\" y=\"-1\"/></clipPath></g><g class=\"scrollbar-kit\" transform=\"translate(549,30)\" style=\"shape-rendering: geometricprecision;\"><g class=\"scrollbar\"><g class=\"scrollbar-slider\" transform=\"\"/></g></g><clipPath class=\"scroll-area-clip\" id=\"clip441c5a_scrollAreaBottomClip_f02c4ftrue\"><rect class=\"scroll-area-clip-rect\" x=\"-45\" y=\"-5\" fill=\"none\" width=\"630\" height=\"325\"/></clipPath></g></g><defs id=\"topdefs-441c5a\"><g class=\"clips\"/></defs><g class=\"layer-above\"><g class=\"imagelayer\"/><g class=\"shapelayer\"/></g><g class=\"infolayer\"><g class=\"g-gtitle\"><text class=\"gtitle\" x=\"350\" y=\"50\" text-anchor=\"middle\" dy=\"0em\" style=\"font-family: Arial; font-size: 16px; fill: rgb(0, 0, 0); opacity: 1; font-weight: normal; white-space: pre;\">Top 20 albums by average rating</text></g></g></svg>"
     },
     "metadata": {},
     "output_type": "display_data"
    },
    {
     "data": {
      "image/svg+xml": "<svg class=\"main-svg\" xmlns=\"http://www.w3.org/2000/svg\" xmlns:xlink=\"http://www.w3.org/1999/xlink\" width=\"700\" height=\"500\" style=\"\" viewBox=\"0 0 700 500\"><rect x=\"0\" y=\"0\" width=\"700\" height=\"500\" style=\"fill: rgb(255, 255, 255); fill-opacity: 1;\"/><defs id=\"defs-40300a\"><g class=\"clips\"><clipPath id=\"clip40300axyplot\" class=\"plotclip\"><rect width=\"219.15\" height=\"265\"/></clipPath><clipPath id=\"clip40300ax2y2plot\" class=\"plotclip\"><rect width=\"219.14999999999998\" height=\"265\"/></clipPath><clipPath class=\"axesclip\" id=\"clip40300ax\"><rect x=\"80\" y=\"0\" width=\"219.15\" height=\"500\"/></clipPath><clipPath class=\"axesclip\" id=\"clip40300ay\"><rect x=\"0\" y=\"100\" width=\"700\" height=\"265\"/></clipPath><clipPath class=\"axesclip\" id=\"clip40300axy\"><rect x=\"80\" y=\"100\" width=\"219.15\" height=\"265\"/></clipPath><clipPath class=\"axesclip\" id=\"clip40300ay2\"><rect x=\"0\" y=\"100\" width=\"700\" height=\"265\"/></clipPath><clipPath class=\"axesclip\" id=\"clip40300axy2\"><rect x=\"80\" y=\"100\" width=\"219.15\" height=\"265\"/></clipPath><clipPath class=\"axesclip\" id=\"clip40300ax2\"><rect x=\"347.85\" y=\"0\" width=\"219.14999999999998\" height=\"500\"/></clipPath><clipPath class=\"axesclip\" id=\"clip40300ax2y\"><rect x=\"347.85\" y=\"100\" width=\"219.14999999999998\" height=\"265\"/></clipPath><clipPath class=\"axesclip\" id=\"clip40300ax2y2\"><rect x=\"347.85\" y=\"100\" width=\"219.14999999999998\" height=\"265\"/></clipPath></g><g class=\"gradients\"/><g class=\"patterns\"/></defs><g class=\"bglayer\"><rect class=\"bg\" x=\"80\" y=\"100\" width=\"219.15\" height=\"265\" style=\"fill: rgb(229, 236, 246); fill-opacity: 1; stroke-width: 0;\"/><rect class=\"bg\" x=\"347.85\" y=\"100\" width=\"219.14999999999998\" height=\"265\" style=\"fill: rgb(229, 236, 246); fill-opacity: 1; stroke-width: 0;\"/></g><g class=\"layer-below\"><g class=\"imagelayer\"/><g class=\"shapelayer\"/></g><g class=\"cartesianlayer\"><g class=\"subplot xy\"><g class=\"layer-subplot\"><g class=\"shapelayer\"/><g class=\"imagelayer\"/></g><g class=\"gridlayer\"><g class=\"x\"/><g class=\"y\"><path class=\"ygrid crisp\" transform=\"translate(0,299.61)\" d=\"M80,0h219.15\" style=\"stroke: rgb(255, 255, 255); stroke-opacity: 1; stroke-width: 1px;\"/><path class=\"ygrid crisp\" transform=\"translate(0,234.22)\" d=\"M80,0h219.15\" style=\"stroke: rgb(255, 255, 255); stroke-opacity: 1; stroke-width: 1px;\"/><path class=\"ygrid crisp\" transform=\"translate(0,168.82999999999998)\" d=\"M80,0h219.15\" style=\"stroke: rgb(255, 255, 255); stroke-opacity: 1; stroke-width: 1px;\"/><path class=\"ygrid crisp\" transform=\"translate(0,103.44)\" d=\"M80,0h219.15\" style=\"stroke: rgb(255, 255, 255); stroke-opacity: 1; stroke-width: 1px;\"/></g></g><g class=\"zerolinelayer\"><path class=\"yzl zl crisp\" transform=\"translate(0,365)\" d=\"M80,0h219.15\" style=\"stroke: rgb(255, 255, 255); stroke-opacity: 1; stroke-width: 2px;\"/></g><path class=\"xlines-below\"/><path class=\"ylines-below\"/><g class=\"overlines-below\"/><g class=\"xaxislayer-below\"/><g class=\"yaxislayer-below\"/><g class=\"overaxes-below\"/><g class=\"plot\" transform=\"translate(80,100)\" clip-path=\"url(#clip40300axyplot)\"><g class=\"barlayer mlayer\"><g class=\"trace bars\" style=\"opacity: 1;\"><g class=\"points\"><g class=\"point\"><path d=\"M2.19,265V13.25H19.72V265Z\" style=\"vector-effect: non-scaling-stroke; opacity: 1; stroke-width: 0.5px; fill: rgb(99, 110, 250); fill-opacity: 1; stroke: rgb(229, 236, 246); stroke-opacity: 1;\"/></g><g class=\"point\"><path d=\"M24.11,265V111.33H41.64V265Z\" style=\"vector-effect: non-scaling-stroke; opacity: 1; stroke-width: 0.5px; fill: rgb(99, 110, 250); fill-opacity: 1; stroke: rgb(229, 236, 246); stroke-opacity: 1;\"/></g><g class=\"point\"><path d=\"M46.02,265V111.33H63.55V265Z\" style=\"vector-effect: non-scaling-stroke; opacity: 1; stroke-width: 0.5px; fill: rgb(99, 110, 250); fill-opacity: 1; stroke: rgb(229, 236, 246); stroke-opacity: 1;\"/></g><g class=\"point\"><path d=\"M67.94,265V134.22H85.47V265Z\" style=\"vector-effect: non-scaling-stroke; opacity: 1; stroke-width: 0.5px; fill: rgb(99, 110, 250); fill-opacity: 1; stroke: rgb(229, 236, 246); stroke-opacity: 1;\"/></g><g class=\"point\"><path d=\"M89.85,265V147.3H107.38V265Z\" style=\"vector-effect: non-scaling-stroke; opacity: 1; stroke-width: 0.5px; fill: rgb(99, 110, 250); fill-opacity: 1; stroke: rgb(229, 236, 246); stroke-opacity: 1;\"/></g><g class=\"point\"><path d=\"M111.77,265V150.57H129.3V265Z\" style=\"vector-effect: non-scaling-stroke; opacity: 1; stroke-width: 0.5px; fill: rgb(99, 110, 250); fill-opacity: 1; stroke: rgb(229, 236, 246); stroke-opacity: 1;\"/></g><g class=\"point\"><path d=\"M133.68,265V157.11H151.21V265Z\" style=\"vector-effect: non-scaling-stroke; opacity: 1; stroke-width: 0.5px; fill: rgb(99, 110, 250); fill-opacity: 1; stroke: rgb(229, 236, 246); stroke-opacity: 1;\"/></g><g class=\"point\"><path d=\"M155.6,265V160.38H173.13V265Z\" style=\"vector-effect: non-scaling-stroke; opacity: 1; stroke-width: 0.5px; fill: rgb(99, 110, 250); fill-opacity: 1; stroke: rgb(229, 236, 246); stroke-opacity: 1;\"/></g><g class=\"point\"><path d=\"M177.51,265V160.38H195.04V265Z\" style=\"vector-effect: non-scaling-stroke; opacity: 1; stroke-width: 0.5px; fill: rgb(99, 110, 250); fill-opacity: 1; stroke: rgb(229, 236, 246); stroke-opacity: 1;\"/></g><g class=\"point\"><path d=\"M199.43,265V160.38H216.96V265Z\" style=\"vector-effect: non-scaling-stroke; opacity: 1; stroke-width: 0.5px; fill: rgb(99, 110, 250); fill-opacity: 1; stroke: rgb(229, 236, 246); stroke-opacity: 1;\"/></g></g></g></g></g><g class=\"overplot\"/><path class=\"xlines-above crisp\" d=\"M0,0\" style=\"fill: none;\"/><path class=\"ylines-above crisp\" d=\"M0,0\" style=\"fill: none;\"/><g class=\"overlines-above\"/><g class=\"xaxislayer-above\"><g class=\"xtick\"><text text-anchor=\"start\" x=\"0\" y=\"378\" transform=\"translate(90.96000000000001,0) rotate(90,0,372)\" style=\"font-family: 'Open Sans', verdana, arial, sans-serif; font-size: 12px; fill: rgb(42, 63, 95); fill-opacity: 1; white-space: pre; opacity: 1;\">Singer/Songwriter</text></g><g class=\"xtick\"><text text-anchor=\"start\" x=\"0\" y=\"378\" transform=\"translate(112.87,0) rotate(90,0,372)\" style=\"font-family: 'Open Sans', verdana, arial, sans-serif; font-size: 12px; fill: rgb(42, 63, 95); fill-opacity: 1; white-space: pre; opacity: 1;\">Video Game Music</text></g><g class=\"xtick\"><text text-anchor=\"start\" x=\"0\" y=\"378\" transform=\"translate(134.79,0) rotate(90,0,372)\" style=\"font-family: 'Open Sans', verdana, arial, sans-serif; font-size: 12px; fill: rgb(42, 63, 95); fill-opacity: 1; white-space: pre; opacity: 1;\">Art Rock</text></g><g class=\"xtick\"><text text-anchor=\"start\" x=\"0\" y=\"378\" transform=\"translate(156.7,0) rotate(90,0,372)\" style=\"font-family: 'Open Sans', verdana, arial, sans-serif; font-size: 12px; fill: rgb(42, 63, 95); fill-opacity: 1; white-space: pre; opacity: 1;\">Progressive Rock</text></g><g class=\"xtick\"><text text-anchor=\"start\" x=\"0\" y=\"378\" transform=\"translate(178.62,0) rotate(90,0,372)\" style=\"font-family: 'Open Sans', verdana, arial, sans-serif; font-size: 12px; fill: rgb(42, 63, 95); fill-opacity: 1; white-space: pre; opacity: 1;\">East Coast Hip Hop</text></g><g class=\"xtick\"><text text-anchor=\"start\" x=\"0\" y=\"378\" transform=\"translate(200.53,0) rotate(90,0,372)\" style=\"font-family: 'Open Sans', verdana, arial, sans-serif; font-size: 12px; fill: rgb(42, 63, 95); fill-opacity: 1; white-space: pre; opacity: 1;\">Alternative Rock</text></g><g class=\"xtick\"><text text-anchor=\"start\" x=\"0\" y=\"378\" transform=\"translate(222.45,0) rotate(90,0,372)\" style=\"font-family: 'Open Sans', verdana, arial, sans-serif; font-size: 12px; fill: rgb(42, 63, 95); fill-opacity: 1; white-space: pre; opacity: 1;\">Film Score</text></g><g class=\"xtick\"><text text-anchor=\"start\" x=\"0\" y=\"378\" transform=\"translate(244.36,0) rotate(90,0,372)\" style=\"font-family: 'Open Sans', verdana, arial, sans-serif; font-size: 12px; fill: rgb(42, 63, 95); fill-opacity: 1; white-space: pre; opacity: 1;\">Post-Punk</text></g><g class=\"xtick\"><text text-anchor=\"start\" x=\"0\" y=\"378\" transform=\"translate(266.28,0) rotate(90,0,372)\" style=\"font-family: 'Open Sans', verdana, arial, sans-serif; font-size: 12px; fill: rgb(42, 63, 95); fill-opacity: 1; white-space: pre; opacity: 1;\">Experimental Rock</text></g><g class=\"xtick\"><text text-anchor=\"start\" x=\"0\" y=\"378\" transform=\"translate(288.19,0) rotate(90,0,372)\" style=\"font-family: 'Open Sans', verdana, arial, sans-serif; font-size: 12px; fill: rgb(42, 63, 95); fill-opacity: 1; white-space: pre; opacity: 1;\">Art Pop</text></g></g><g class=\"yaxislayer-above\"><g class=\"ytick\"><text text-anchor=\"end\" x=\"79\" y=\"4.199999999999999\" transform=\"translate(0,365)\" style=\"font-family: 'Open Sans', verdana, arial, sans-serif; font-size: 12px; fill: rgb(42, 63, 95); fill-opacity: 1; white-space: pre; opacity: 1;\">0</text></g><g class=\"ytick\"><text text-anchor=\"end\" x=\"79\" y=\"4.199999999999999\" style=\"font-family: 'Open Sans', verdana, arial, sans-serif; font-size: 12px; fill: rgb(42, 63, 95); fill-opacity: 1; white-space: pre; opacity: 1;\" transform=\"translate(0,299.61)\">20</text></g><g class=\"ytick\"><text text-anchor=\"end\" x=\"79\" y=\"4.199999999999999\" style=\"font-family: 'Open Sans', verdana, arial, sans-serif; font-size: 12px; fill: rgb(42, 63, 95); fill-opacity: 1; white-space: pre; opacity: 1;\" transform=\"translate(0,234.22)\">40</text></g><g class=\"ytick\"><text text-anchor=\"end\" x=\"79\" y=\"4.199999999999999\" style=\"font-family: 'Open Sans', verdana, arial, sans-serif; font-size: 12px; fill: rgb(42, 63, 95); fill-opacity: 1; white-space: pre; opacity: 1;\" transform=\"translate(0,168.82999999999998)\">60</text></g><g class=\"ytick\"><text text-anchor=\"end\" x=\"79\" y=\"4.199999999999999\" style=\"font-family: 'Open Sans', verdana, arial, sans-serif; font-size: 12px; fill: rgb(42, 63, 95); fill-opacity: 1; white-space: pre; opacity: 1;\" transform=\"translate(0,103.44)\">80</text></g></g><g class=\"overaxes-above\"/></g><g class=\"subplot x2y2\"><g class=\"layer-subplot\"><g class=\"shapelayer\"/><g class=\"imagelayer\"/></g><g class=\"gridlayer\"><g class=\"x2\"/><g class=\"y2\"><path class=\"y2grid crisp\" transform=\"translate(0,323.53)\" d=\"M347.85,0h219.14999999999998\" style=\"stroke: rgb(255, 255, 255); stroke-opacity: 1; stroke-width: 1px;\"/><path class=\"y2grid crisp\" transform=\"translate(0,282.05)\" d=\"M347.85,0h219.14999999999998\" style=\"stroke: rgb(255, 255, 255); stroke-opacity: 1; stroke-width: 1px;\"/><path class=\"y2grid crisp\" transform=\"translate(0,240.58)\" d=\"M347.85,0h219.14999999999998\" style=\"stroke: rgb(255, 255, 255); stroke-opacity: 1; stroke-width: 1px;\"/><path class=\"y2grid crisp\" transform=\"translate(0,199.1)\" d=\"M347.85,0h219.14999999999998\" style=\"stroke: rgb(255, 255, 255); stroke-opacity: 1; stroke-width: 1px;\"/><path class=\"y2grid crisp\" transform=\"translate(0,157.63)\" d=\"M347.85,0h219.14999999999998\" style=\"stroke: rgb(255, 255, 255); stroke-opacity: 1; stroke-width: 1px;\"/><path class=\"y2grid crisp\" transform=\"translate(0,116.15)\" d=\"M347.85,0h219.14999999999998\" style=\"stroke: rgb(255, 255, 255); stroke-opacity: 1; stroke-width: 1px;\"/></g></g><g class=\"zerolinelayer\"><path class=\"y2zl zl crisp\" transform=\"translate(0,365)\" d=\"M347.85,0h219.14999999999998\" style=\"stroke: rgb(255, 255, 255); stroke-opacity: 1; stroke-width: 2px;\"/></g><path class=\"xlines-below\"/><path class=\"ylines-below\"/><g class=\"overlines-below\"/><g class=\"xaxislayer-below\"/><g class=\"yaxislayer-below\"/><g class=\"overaxes-below\"/><g class=\"plot\" transform=\"translate(347.85,100)\" clip-path=\"url(#clip40300ax2y2plot)\"><g class=\"barlayer mlayer\"><g class=\"trace bars\" style=\"opacity: 1;\"><g class=\"points\"><g class=\"point\"><path d=\"M2.19,265V13.25H19.72V265Z\" style=\"vector-effect: non-scaling-stroke; opacity: 1; stroke-width: 0.5px; fill: rgb(239, 85, 59); fill-opacity: 1; stroke: rgb(229, 236, 246); stroke-opacity: 1;\"/></g><g class=\"point\"><path d=\"M24.11,265V126.89H41.64V265Z\" style=\"vector-effect: non-scaling-stroke; opacity: 1; stroke-width: 0.5px; fill: rgb(239, 85, 59); fill-opacity: 1; stroke: rgb(229, 236, 246); stroke-opacity: 1;\"/></g><g class=\"point\"><path d=\"M46.02,265V147.21H63.55V265Z\" style=\"vector-effect: non-scaling-stroke; opacity: 1; stroke-width: 0.5px; fill: rgb(239, 85, 59); fill-opacity: 1; stroke: rgb(229, 236, 246); stroke-opacity: 1;\"/></g><g class=\"point\"><path d=\"M67.94,265V149.7H85.47V265Z\" style=\"vector-effect: non-scaling-stroke; opacity: 1; stroke-width: 0.5px; fill: rgb(239, 85, 59); fill-opacity: 1; stroke: rgb(229, 236, 246); stroke-opacity: 1;\"/></g><g class=\"point\"><path d=\"M89.85,265V163.8H107.38V265Z\" style=\"vector-effect: non-scaling-stroke; opacity: 1; stroke-width: 0.5px; fill: rgb(239, 85, 59); fill-opacity: 1; stroke: rgb(229, 236, 246); stroke-opacity: 1;\"/></g><g class=\"point\"><path d=\"M111.77,265V175.83H129.3V265Z\" style=\"vector-effect: non-scaling-stroke; opacity: 1; stroke-width: 0.5px; fill: rgb(239, 85, 59); fill-opacity: 1; stroke: rgb(229, 236, 246); stroke-opacity: 1;\"/></g><g class=\"point\"><path d=\"M133.68,265V180.81H151.21V265Z\" style=\"vector-effect: non-scaling-stroke; opacity: 1; stroke-width: 0.5px; fill: rgb(239, 85, 59); fill-opacity: 1; stroke: rgb(229, 236, 246); stroke-opacity: 1;\"/></g><g class=\"point\"><path d=\"M155.6,265V181.22H173.13V265Z\" style=\"vector-effect: non-scaling-stroke; opacity: 1; stroke-width: 0.5px; fill: rgb(239, 85, 59); fill-opacity: 1; stroke: rgb(229, 236, 246); stroke-opacity: 1;\"/></g><g class=\"point\"><path d=\"M177.51,265V191.18H195.04V265Z\" style=\"vector-effect: non-scaling-stroke; opacity: 1; stroke-width: 0.5px; fill: rgb(239, 85, 59); fill-opacity: 1; stroke: rgb(229, 236, 246); stroke-opacity: 1;\"/></g><g class=\"point\"><path d=\"M199.43,265V192H216.96V265Z\" style=\"vector-effect: non-scaling-stroke; opacity: 1; stroke-width: 0.5px; fill: rgb(239, 85, 59); fill-opacity: 1; stroke: rgb(229, 236, 246); stroke-opacity: 1;\"/></g></g></g></g></g><g class=\"overplot\"/><path class=\"xlines-above crisp\" d=\"M0,0\" style=\"fill: none;\"/><path class=\"ylines-above crisp\" d=\"M0,0\" style=\"fill: none;\"/><g class=\"overlines-above\"/><g class=\"xaxislayer-above\"><g class=\"x2tick\"><text text-anchor=\"start\" x=\"0\" y=\"378\" transform=\"translate(358.81,0) rotate(90,0,372)\" style=\"font-family: 'Open Sans', verdana, arial, sans-serif; font-size: 12px; fill: rgb(42, 63, 95); fill-opacity: 1; white-space: pre; opacity: 1;\">Male Vocals</text></g><g class=\"x2tick\"><text text-anchor=\"start\" x=\"0\" y=\"378\" transform=\"translate(380.72,0) rotate(90,0,372)\" style=\"font-family: 'Open Sans', verdana, arial, sans-serif; font-size: 12px; fill: rgb(42, 63, 95); fill-opacity: 1; white-space: pre; opacity: 1;\">Melodic</text></g><g class=\"x2tick\"><text text-anchor=\"start\" x=\"0\" y=\"378\" transform=\"translate(402.64000000000004,0) rotate(90,0,372)\" style=\"font-family: 'Open Sans', verdana, arial, sans-serif; font-size: 12px; fill: rgb(42, 63, 95); fill-opacity: 1; white-space: pre; opacity: 1;\">Energetic</text></g><g class=\"x2tick\"><text text-anchor=\"start\" x=\"0\" y=\"378\" transform=\"translate(424.55,0) rotate(90,0,372)\" style=\"font-family: 'Open Sans', verdana, arial, sans-serif; font-size: 12px; fill: rgb(42, 63, 95); fill-opacity: 1; white-space: pre; opacity: 1;\">Passionate</text></g><g class=\"x2tick\"><text text-anchor=\"start\" x=\"0\" y=\"378\" transform=\"translate(446.47,0) rotate(90,0,372)\" style=\"font-family: 'Open Sans', verdana, arial, sans-serif; font-size: 12px; fill: rgb(42, 63, 95); fill-opacity: 1; white-space: pre; opacity: 1;\">Atmospheric</text></g><g class=\"x2tick\"><text text-anchor=\"start\" x=\"0\" y=\"378\" transform=\"translate(468.38,0) rotate(90,0,372)\" style=\"font-family: 'Open Sans', verdana, arial, sans-serif; font-size: 12px; fill: rgb(42, 63, 95); fill-opacity: 1; white-space: pre; opacity: 1;\">Melancholic</text></g><g class=\"x2tick\"><text text-anchor=\"start\" x=\"0\" y=\"378\" transform=\"translate(490.3,0) rotate(90,0,372)\" style=\"font-family: 'Open Sans', verdana, arial, sans-serif; font-size: 12px; fill: rgb(42, 63, 95); fill-opacity: 1; white-space: pre; opacity: 1;\">Rhythmic</text></g><g class=\"x2tick\"><text text-anchor=\"start\" x=\"0\" y=\"378\" transform=\"translate(512.21,0) rotate(90,0,372)\" style=\"font-family: 'Open Sans', verdana, arial, sans-serif; font-size: 12px; fill: rgb(42, 63, 95); fill-opacity: 1; white-space: pre; opacity: 1;\">Instrumental</text></g><g class=\"x2tick\"><text text-anchor=\"start\" x=\"0\" y=\"378\" transform=\"translate(534.13,0) rotate(90,0,372)\" style=\"font-family: 'Open Sans', verdana, arial, sans-serif; font-size: 12px; fill: rgb(42, 63, 95); fill-opacity: 1; white-space: pre; opacity: 1;\">Warm</text></g><g class=\"x2tick\"><text text-anchor=\"start\" x=\"0\" y=\"378\" transform=\"translate(556.04,0) rotate(90,0,372)\" style=\"font-family: 'Open Sans', verdana, arial, sans-serif; font-size: 12px; fill: rgb(42, 63, 95); fill-opacity: 1; white-space: pre; opacity: 1;\">Dark</text></g></g><g class=\"yaxislayer-above\"><g class=\"y2tick\"><text text-anchor=\"end\" x=\"346.85\" y=\"4.199999999999999\" transform=\"translate(0,365)\" style=\"font-family: 'Open Sans', verdana, arial, sans-serif; font-size: 12px; fill: rgb(42, 63, 95); fill-opacity: 1; white-space: pre; opacity: 1;\">0</text></g><g class=\"y2tick\"><text text-anchor=\"end\" x=\"346.85\" y=\"4.199999999999999\" style=\"font-family: 'Open Sans', verdana, arial, sans-serif; font-size: 12px; fill: rgb(42, 63, 95); fill-opacity: 1; white-space: pre; opacity: 1;\" transform=\"translate(0,323.53)\">100</text></g><g class=\"y2tick\"><text text-anchor=\"end\" x=\"346.85\" y=\"4.199999999999999\" style=\"font-family: 'Open Sans', verdana, arial, sans-serif; font-size: 12px; fill: rgb(42, 63, 95); fill-opacity: 1; white-space: pre; opacity: 1;\" transform=\"translate(0,282.05)\">200</text></g><g class=\"y2tick\"><text text-anchor=\"end\" x=\"346.85\" y=\"4.199999999999999\" style=\"font-family: 'Open Sans', verdana, arial, sans-serif; font-size: 12px; fill: rgb(42, 63, 95); fill-opacity: 1; white-space: pre; opacity: 1;\" transform=\"translate(0,240.58)\">300</text></g><g class=\"y2tick\"><text text-anchor=\"end\" x=\"346.85\" y=\"4.199999999999999\" style=\"font-family: 'Open Sans', verdana, arial, sans-serif; font-size: 12px; fill: rgb(42, 63, 95); fill-opacity: 1; white-space: pre; opacity: 1;\" transform=\"translate(0,199.1)\">400</text></g><g class=\"y2tick\"><text text-anchor=\"end\" x=\"346.85\" y=\"4.199999999999999\" style=\"font-family: 'Open Sans', verdana, arial, sans-serif; font-size: 12px; fill: rgb(42, 63, 95); fill-opacity: 1; white-space: pre; opacity: 1;\" transform=\"translate(0,157.63)\">500</text></g><g class=\"y2tick\"><text text-anchor=\"end\" x=\"346.85\" y=\"4.199999999999999\" style=\"font-family: 'Open Sans', verdana, arial, sans-serif; font-size: 12px; fill: rgb(42, 63, 95); fill-opacity: 1; white-space: pre; opacity: 1;\" transform=\"translate(0,116.15)\">600</text></g></g><g class=\"overaxes-above\"/></g></g><g class=\"polarlayer\"/><g class=\"ternarylayer\"/><g class=\"geolayer\"/><g class=\"funnelarealayer\"/><g class=\"pielayer\"/><g class=\"iciclelayer\"/><g class=\"treemaplayer\"/><g class=\"sunburstlayer\"/><g class=\"glimages\"/><defs id=\"topdefs-40300a\"><g class=\"clips\"/><clipPath id=\"legend40300a\"><rect width=\"111\" height=\"48\" x=\"0\" y=\"0\"/></clipPath></defs><g class=\"layer-above\"><g class=\"imagelayer\"/><g class=\"shapelayer\"/></g><g class=\"infolayer\"><g class=\"legend\" pointer-events=\"all\" transform=\"translate(576.74,100)\"><rect class=\"bg\" shape-rendering=\"crispEdges\" width=\"111\" height=\"48\" x=\"0\" y=\"0\" style=\"stroke: rgb(68, 68, 68); stroke-opacity: 1; fill: rgb(255, 255, 255); fill-opacity: 1; stroke-width: 0px;\"/><g class=\"scrollbox\" transform=\"\" clip-path=\"url(#legend40300a)\"><g class=\"groups\"><g class=\"traces\" transform=\"translate(0,14.5)\" style=\"opacity: 1;\"><text class=\"legendtext\" text-anchor=\"start\" x=\"40\" y=\"4.680000000000001\" style=\"font-family: 'Open Sans', verdana, arial, sans-serif; font-size: 12px; fill: rgb(42, 63, 95); fill-opacity: 1; white-space: pre;\">Genre</text><g class=\"layers\" style=\"opacity: 1;\"><g class=\"legendfill\"/><g class=\"legendlines\"/><g class=\"legendsymbols\"><g class=\"legendpoints\"><path class=\"legendundefined\" d=\"M6,6H-6V-6H6Z\" transform=\"translate(20,0)\" style=\"stroke-width: 0.5px; fill: rgb(99, 110, 250); fill-opacity: 1; stroke: rgb(229, 236, 246); stroke-opacity: 1;\"/></g></g></g><rect class=\"legendtoggle\" x=\"0\" y=\"-9.5\" width=\"105.109375\" height=\"19\" style=\"fill: rgb(0, 0, 0); fill-opacity: 0;\"/></g><g class=\"traces\" transform=\"translate(0,33.5)\" style=\"opacity: 1;\"><text class=\"legendtext\" text-anchor=\"start\" x=\"40\" y=\"4.680000000000001\" style=\"font-family: 'Open Sans', verdana, arial, sans-serif; font-size: 12px; fill: rgb(42, 63, 95); fill-opacity: 1; white-space: pre;\">Expression</text><g class=\"layers\" style=\"opacity: 1;\"><g class=\"legendfill\"/><g class=\"legendlines\"/><g class=\"legendsymbols\"><g class=\"legendpoints\"><path class=\"legendundefined\" d=\"M6,6H-6V-6H6Z\" transform=\"translate(20,0)\" style=\"stroke-width: 0.5px; fill: rgb(239, 85, 59); fill-opacity: 1; stroke: rgb(229, 236, 246); stroke-opacity: 1;\"/></g></g></g><rect class=\"legendtoggle\" x=\"0\" y=\"-9.5\" width=\"105.109375\" height=\"19\" style=\"fill: rgb(0, 0, 0); fill-opacity: 0;\"/></g></g></g><rect class=\"scrollbar\" rx=\"20\" ry=\"3\" width=\"0\" height=\"0\" x=\"0\" y=\"0\" style=\"fill: rgb(128, 139, 164); fill-opacity: 1;\"/></g><g class=\"g-gtitle\"/><g class=\"g-xtitle\"/><g class=\"g-x2title\"/><g class=\"g-ytitle\"/><g class=\"g-y2title\"/><g class=\"annotation\" data-index=\"0\" style=\"opacity: 1;\"><g class=\"annotation-text-g\" transform=\"rotate(0,189.575,88.49999999999999)\"><g class=\"cursor-pointer\" transform=\"translate(13,77)\"><rect class=\"bg\" x=\"0.5\" y=\"0.5\" width=\"352\" height=\"22\" style=\"stroke-width: 1px; stroke: rgb(0, 0, 0); stroke-opacity: 0; fill: rgb(0, 0, 0); fill-opacity: 0;\"/><text class=\"annotation-text\" text-anchor=\"middle\" x=\"177.03125\" y=\"18\" style=\"font-family: 'Open Sans', verdana, arial, sans-serif; font-size: 16px; fill: rgb(42, 63, 95); fill-opacity: 1; white-space: pre;\">Top 10 genres by number top 1000 albums</text></g></g></g><g class=\"annotation\" data-index=\"1\" style=\"opacity: 1;\"><g class=\"annotation-text-g\" transform=\"rotate(0,457.425,88.49999999999999)\"><g class=\"cursor-pointer\" transform=\"translate(231,77)\"><rect class=\"bg\" x=\"0.5\" y=\"0.5\" width=\"451\" height=\"22\" style=\"stroke-width: 1px; stroke: rgb(0, 0, 0); stroke-opacity: 0; fill: rgb(0, 0, 0); fill-opacity: 0;\"/><text class=\"annotation-text\" text-anchor=\"middle\" x=\"226.515625\" y=\"18\" style=\"font-family: 'Open Sans', verdana, arial, sans-serif; font-size: 16px; fill: rgb(42, 63, 95); fill-opacity: 1; white-space: pre;\">Top 10 song descriptors by number of top 1000 albums</text></g></g></g></g></svg>"
     },
     "metadata": {},
     "output_type": "display_data"
    },
    {
     "data": {
      "image/svg+xml": "<svg class=\"main-svg\" xmlns=\"http://www.w3.org/2000/svg\" xmlns:xlink=\"http://www.w3.org/1999/xlink\" width=\"700\" height=\"500\" style=\"\" viewBox=\"0 0 700 500\"><rect x=\"0\" y=\"0\" width=\"700\" height=\"500\" style=\"fill: rgb(255, 255, 255); fill-opacity: 1;\"/><defs id=\"defs-1cfe9f\"><g class=\"clips\"><clipPath id=\"clip1cfe9fxyplot\" class=\"plotclip\"><rect width=\"540\" height=\"236\"/></clipPath><clipPath class=\"axesclip\" id=\"clip1cfe9fx\"><rect x=\"80\" y=\"0\" width=\"540\" height=\"500\"/></clipPath><clipPath class=\"axesclip\" id=\"clip1cfe9fy\"><rect x=\"0\" y=\"100\" width=\"700\" height=\"236\"/></clipPath><clipPath class=\"axesclip\" id=\"clip1cfe9fxy\"><rect x=\"80\" y=\"100\" width=\"540\" height=\"236\"/></clipPath></g><g class=\"gradients\"/><g class=\"patterns\"/></defs><g class=\"bglayer\"><rect class=\"bg\" x=\"80\" y=\"100\" width=\"540\" height=\"236\" style=\"fill: rgb(229, 236, 246); fill-opacity: 1; stroke-width: 0;\"/></g><g class=\"layer-below\"><g class=\"imagelayer\"/><g class=\"shapelayer\"/></g><g class=\"cartesianlayer\"><g class=\"subplot xy\"><g class=\"layer-subplot\"><g class=\"shapelayer\"/><g class=\"imagelayer\"/></g><g class=\"gridlayer\"><g class=\"x\"/><g class=\"y\"><path class=\"ygrid crisp\" transform=\"translate(0,286.18)\" d=\"M80,0h540\" style=\"stroke: rgb(255, 255, 255); stroke-opacity: 1; stroke-width: 1px;\"/><path class=\"ygrid crisp\" transform=\"translate(0,236.36)\" d=\"M80,0h540\" style=\"stroke: rgb(255, 255, 255); stroke-opacity: 1; stroke-width: 1px;\"/><path class=\"ygrid crisp\" transform=\"translate(0,186.53)\" d=\"M80,0h540\" style=\"stroke: rgb(255, 255, 255); stroke-opacity: 1; stroke-width: 1px;\"/><path class=\"ygrid crisp\" transform=\"translate(0,136.71)\" d=\"M80,0h540\" style=\"stroke: rgb(255, 255, 255); stroke-opacity: 1; stroke-width: 1px;\"/></g></g><g class=\"zerolinelayer\"><path class=\"yzl zl crisp\" transform=\"translate(0,336)\" d=\"M80,0h540\" style=\"stroke: rgb(255, 255, 255); stroke-opacity: 1; stroke-width: 2px;\"/></g><path class=\"xlines-below\"/><path class=\"ylines-below\"/><g class=\"overlines-below\"/><g class=\"xaxislayer-below\"/><g class=\"yaxislayer-below\"/><g class=\"overaxes-below\"/><g class=\"plot\" transform=\"translate(80,100)\" clip-path=\"url(#clip1cfe9fxyplot)\"><g class=\"barlayer mlayer\"><g class=\"trace bars\" style=\"opacity: 1;\"><g class=\"points\"><g class=\"point\"><path d=\"M2.7,236V11.8H24.3V236Z\" style=\"vector-effect: non-scaling-stroke; opacity: 1; stroke-width: 0.5px; fill: rgb(62, 180, 137); fill-opacity: 1; stroke: rgb(229, 236, 246); stroke-opacity: 1;\"/></g><g class=\"point\"><path d=\"M29.7,236V11.8H51.3V236Z\" style=\"vector-effect: non-scaling-stroke; opacity: 1; stroke-width: 0.5px; fill: rgb(62, 180, 137); fill-opacity: 1; stroke: rgb(229, 236, 246); stroke-opacity: 1;\"/></g><g class=\"point\"><path d=\"M56.7,236V36.71H78.3V236Z\" style=\"vector-effect: non-scaling-stroke; opacity: 1; stroke-width: 0.5px; fill: rgb(62, 180, 137); fill-opacity: 1; stroke: rgb(229, 236, 246); stroke-opacity: 1;\"/></g><g class=\"point\"><path d=\"M83.7,236V61.62H105.3V236Z\" style=\"vector-effect: non-scaling-stroke; opacity: 1; stroke-width: 0.5px; fill: rgb(62, 180, 137); fill-opacity: 1; stroke: rgb(229, 236, 246); stroke-opacity: 1;\"/></g><g class=\"point\"><path d=\"M110.7,236V61.62H132.3V236Z\" style=\"vector-effect: non-scaling-stroke; opacity: 1; stroke-width: 0.5px; fill: rgb(62, 180, 137); fill-opacity: 1; stroke: rgb(229, 236, 246); stroke-opacity: 1;\"/></g><g class=\"point\"><path d=\"M137.7,236V61.62H159.3V236Z\" style=\"vector-effect: non-scaling-stroke; opacity: 1; stroke-width: 0.5px; fill: rgb(62, 180, 137); fill-opacity: 1; stroke: rgb(229, 236, 246); stroke-opacity: 1;\"/></g><g class=\"point\"><path d=\"M164.7,236V61.62H186.3V236Z\" style=\"vector-effect: non-scaling-stroke; opacity: 1; stroke-width: 0.5px; fill: rgb(62, 180, 137); fill-opacity: 1; stroke: rgb(229, 236, 246); stroke-opacity: 1;\"/></g><g class=\"point\"><path d=\"M191.7,236V86.53H213.3V236Z\" style=\"vector-effect: non-scaling-stroke; opacity: 1; stroke-width: 0.5px; fill: rgb(62, 180, 137); fill-opacity: 1; stroke: rgb(229, 236, 246); stroke-opacity: 1;\"/></g><g class=\"point\"><path d=\"M218.7,236V86.53H240.3V236Z\" style=\"vector-effect: non-scaling-stroke; opacity: 1; stroke-width: 0.5px; fill: rgb(62, 180, 137); fill-opacity: 1; stroke: rgb(229, 236, 246); stroke-opacity: 1;\"/></g><g class=\"point\"><path d=\"M245.7,236V86.53H267.3V236Z\" style=\"vector-effect: non-scaling-stroke; opacity: 1; stroke-width: 0.5px; fill: rgb(62, 180, 137); fill-opacity: 1; stroke: rgb(229, 236, 246); stroke-opacity: 1;\"/></g><g class=\"point\"><path d=\"M272.7,236V86.53H294.3V236Z\" style=\"vector-effect: non-scaling-stroke; opacity: 1; stroke-width: 0.5px; fill: rgb(62, 180, 137); fill-opacity: 1; stroke: rgb(229, 236, 246); stroke-opacity: 1;\"/></g><g class=\"point\"><path d=\"M299.7,236V86.53H321.3V236Z\" style=\"vector-effect: non-scaling-stroke; opacity: 1; stroke-width: 0.5px; fill: rgb(62, 180, 137); fill-opacity: 1; stroke: rgb(229, 236, 246); stroke-opacity: 1;\"/></g><g class=\"point\"><path d=\"M326.7,236V86.53H348.3V236Z\" style=\"vector-effect: non-scaling-stroke; opacity: 1; stroke-width: 0.5px; fill: rgb(62, 180, 137); fill-opacity: 1; stroke: rgb(229, 236, 246); stroke-opacity: 1;\"/></g><g class=\"point\"><path d=\"M353.7,236V86.53H375.3V236Z\" style=\"vector-effect: non-scaling-stroke; opacity: 1; stroke-width: 0.5px; fill: rgb(62, 180, 137); fill-opacity: 1; stroke: rgb(229, 236, 246); stroke-opacity: 1;\"/></g><g class=\"point\"><path d=\"M380.7,236V86.53H402.3V236Z\" style=\"vector-effect: non-scaling-stroke; opacity: 1; stroke-width: 0.5px; fill: rgb(62, 180, 137); fill-opacity: 1; stroke: rgb(229, 236, 246); stroke-opacity: 1;\"/></g><g class=\"point\"><path d=\"M407.7,236V111.44H429.3V236Z\" style=\"vector-effect: non-scaling-stroke; opacity: 1; stroke-width: 0.5px; fill: rgb(62, 180, 137); fill-opacity: 1; stroke: rgb(229, 236, 246); stroke-opacity: 1;\"/></g><g class=\"point\"><path d=\"M434.7,236V111.44H456.3V236Z\" style=\"vector-effect: non-scaling-stroke; opacity: 1; stroke-width: 0.5px; fill: rgb(62, 180, 137); fill-opacity: 1; stroke: rgb(229, 236, 246); stroke-opacity: 1;\"/></g><g class=\"point\"><path d=\"M461.7,236V111.44H483.3V236Z\" style=\"vector-effect: non-scaling-stroke; opacity: 1; stroke-width: 0.5px; fill: rgb(62, 180, 137); fill-opacity: 1; stroke: rgb(229, 236, 246); stroke-opacity: 1;\"/></g><g class=\"point\"><path d=\"M488.7,236V111.44H510.3V236Z\" style=\"vector-effect: non-scaling-stroke; opacity: 1; stroke-width: 0.5px; fill: rgb(62, 180, 137); fill-opacity: 1; stroke: rgb(229, 236, 246); stroke-opacity: 1;\"/></g><g class=\"point\"><path d=\"M515.7,236V111.44H537.3V236Z\" style=\"vector-effect: non-scaling-stroke; opacity: 1; stroke-width: 0.5px; fill: rgb(62, 180, 137); fill-opacity: 1; stroke: rgb(229, 236, 246); stroke-opacity: 1;\"/></g></g></g></g></g><g class=\"overplot\"/><path class=\"xlines-above crisp\" d=\"M0,0\" style=\"fill: none;\"/><path class=\"ylines-above crisp\" d=\"M0,0\" style=\"fill: none;\"/><g class=\"overlines-above\"/><g class=\"xaxislayer-above\"><g class=\"xtick\"><text text-anchor=\"start\" x=\"0\" y=\"349\" transform=\"translate(93.5,0) rotate(90,0,343)\" style=\"font-family: Arial; font-size: 12px; fill: rgb(0, 0, 0); fill-opacity: 1; white-space: pre; opacity: 1;\">John Coltrane</text></g><g class=\"xtick\"><text text-anchor=\"start\" x=\"0\" y=\"349\" transform=\"translate(120.5,0) rotate(90,0,343)\" style=\"font-family: Arial; font-size: 12px; fill: rgb(0, 0, 0); fill-opacity: 1; white-space: pre; opacity: 1;\">Miles Davis</text></g><g class=\"xtick\"><text text-anchor=\"start\" x=\"0\" y=\"349\" transform=\"translate(147.5,0) rotate(90,0,343)\" style=\"font-family: Arial; font-size: 12px; fill: rgb(0, 0, 0); fill-opacity: 1; white-space: pre; opacity: 1;\">David Bowie</text></g><g class=\"xtick\"><text text-anchor=\"start\" x=\"0\" y=\"349\" transform=\"translate(174.5,0) rotate(90,0,343)\" style=\"font-family: Arial; font-size: 12px; fill: rgb(0, 0, 0); fill-opacity: 1; white-space: pre; opacity: 1;\">Wiener Philharmoniker</text></g><g class=\"xtick\"><text text-anchor=\"start\" x=\"0\" y=\"349\" transform=\"translate(201.5,0) rotate(90,0,343)\" style=\"font-family: Arial; font-size: 12px; fill: rgb(0, 0, 0); fill-opacity: 1; white-space: pre; opacity: 1;\">Swans</text></g><g class=\"xtick\"><text text-anchor=\"start\" x=\"0\" y=\"349\" transform=\"translate(228.5,0) rotate(90,0,343)\" style=\"font-family: Arial; font-size: 12px; fill: rgb(0, 0, 0); fill-opacity: 1; white-space: pre; opacity: 1;\">Herbert Von Karajan</text></g><g class=\"xtick\"><text text-anchor=\"start\" x=\"0\" y=\"349\" transform=\"translate(255.5,0) rotate(90,0,343)\" style=\"font-family: Arial; font-size: 12px; fill: rgb(0, 0, 0); fill-opacity: 1; white-space: pre; opacity: 1;\">Black Sabbath</text></g><g class=\"xtick\"><text text-anchor=\"start\" x=\"0\" y=\"349\" transform=\"translate(282.5,0) rotate(90,0,343)\" style=\"font-family: Arial; font-size: 12px; fill: rgb(0, 0, 0); fill-opacity: 1; white-space: pre; opacity: 1;\">Led Zeppelin</text></g><g class=\"xtick\"><text text-anchor=\"start\" x=\"0\" y=\"349\" transform=\"translate(309.5,0) rotate(90,0,343)\" style=\"font-family: Arial; font-size: 12px; fill: rgb(0, 0, 0); fill-opacity: 1; white-space: pre; opacity: 1;\">Berliner Philharmoniker</text></g><g class=\"xtick\"><text text-anchor=\"start\" x=\"0\" y=\"349\" transform=\"translate(336.5,0) rotate(90,0,343)\" style=\"font-family: Arial; font-size: 12px; fill: rgb(0, 0, 0); fill-opacity: 1; white-space: pre; opacity: 1;\">Bob Dylan</text></g><g class=\"xtick\"><text text-anchor=\"start\" x=\"0\" y=\"349\" transform=\"translate(363.5,0) rotate(90,0,343)\" style=\"font-family: Arial; font-size: 12px; fill: rgb(0, 0, 0); fill-opacity: 1; white-space: pre; opacity: 1;\">Tom Waits</text></g><g class=\"xtick\"><text text-anchor=\"start\" x=\"0\" y=\"349\" transform=\"translate(390.5,0) rotate(90,0,343)\" style=\"font-family: Arial; font-size: 12px; fill: rgb(0, 0, 0); fill-opacity: 1; white-space: pre; opacity: 1;\">Iron Maiden</text></g><g class=\"xtick\"><text text-anchor=\"start\" x=\"0\" y=\"349\" transform=\"translate(417.5,0) rotate(90,0,343)\" style=\"font-family: Arial; font-size: 12px; fill: rgb(0, 0, 0); fill-opacity: 1; white-space: pre; opacity: 1;\">Radiohead</text></g><g class=\"xtick\"><text text-anchor=\"start\" x=\"0\" y=\"349\" transform=\"translate(444.5,0) rotate(90,0,343)\" style=\"font-family: Arial; font-size: 12px; fill: rgb(0, 0, 0); fill-opacity: 1; white-space: pre; opacity: 1;\">Pink Floyd</text></g><g class=\"xtick\"><text text-anchor=\"start\" x=\"0\" y=\"349\" transform=\"translate(471.5,0) rotate(90,0,343)\" style=\"font-family: Arial; font-size: 12px; fill: rgb(0, 0, 0); fill-opacity: 1; white-space: pre; opacity: 1;\">The Beatles</text></g><g class=\"xtick\"><text text-anchor=\"start\" x=\"0\" y=\"349\" transform=\"translate(498.5,0) rotate(90,0,343)\" style=\"font-family: Arial; font-size: 12px; fill: rgb(0, 0, 0); fill-opacity: 1; white-space: pre; opacity: 1;\">Judas Priest</text></g><g class=\"xtick\"><text text-anchor=\"start\" x=\"0\" y=\"349\" transform=\"translate(525.5,0) rotate(90,0,343)\" style=\"font-family: Arial; font-size: 12px; fill: rgb(0, 0, 0); fill-opacity: 1; white-space: pre; opacity: 1;\">Charles Mingus</text></g><g class=\"xtick\"><text text-anchor=\"start\" x=\"0\" y=\"349\" transform=\"translate(552.5,0) rotate(90,0,343)\" style=\"font-family: Arial; font-size: 12px; fill: rgb(0, 0, 0); fill-opacity: 1; white-space: pre; opacity: 1;\">Death</text></g><g class=\"xtick\"><text text-anchor=\"start\" x=\"0\" y=\"349\" transform=\"translate(579.5,0) rotate(90,0,343)\" style=\"font-family: Arial; font-size: 12px; fill: rgb(0, 0, 0); fill-opacity: 1; white-space: pre; opacity: 1;\">Kanye West</text></g><g class=\"xtick\"><text text-anchor=\"start\" x=\"0\" y=\"349\" transform=\"translate(606.5,0) rotate(90,0,343)\" style=\"font-family: Arial; font-size: 12px; fill: rgb(0, 0, 0); fill-opacity: 1; white-space: pre; opacity: 1;\">植松伸夫 [Nobuo Uematsu]</text></g></g><g class=\"yaxislayer-above\"><g class=\"ytick\"><text text-anchor=\"end\" x=\"79\" y=\"4.199999999999999\" transform=\"translate(0,336)\" style=\"font-family: Arial; font-size: 12px; fill: rgb(0, 0, 0); fill-opacity: 1; white-space: pre; opacity: 1;\">0</text></g><g class=\"ytick\"><text text-anchor=\"end\" x=\"79\" y=\"4.199999999999999\" style=\"font-family: Arial; font-size: 12px; fill: rgb(0, 0, 0); fill-opacity: 1; white-space: pre; opacity: 1;\" transform=\"translate(0,286.18)\">2</text></g><g class=\"ytick\"><text text-anchor=\"end\" x=\"79\" y=\"4.199999999999999\" style=\"font-family: Arial; font-size: 12px; fill: rgb(0, 0, 0); fill-opacity: 1; white-space: pre; opacity: 1;\" transform=\"translate(0,236.36)\">4</text></g><g class=\"ytick\"><text text-anchor=\"end\" x=\"79\" y=\"4.199999999999999\" style=\"font-family: Arial; font-size: 12px; fill: rgb(0, 0, 0); fill-opacity: 1; white-space: pre; opacity: 1;\" transform=\"translate(0,186.53)\">6</text></g><g class=\"ytick\"><text text-anchor=\"end\" x=\"79\" y=\"4.199999999999999\" style=\"font-family: Arial; font-size: 12px; fill: rgb(0, 0, 0); fill-opacity: 1; white-space: pre; opacity: 1;\" transform=\"translate(0,136.71)\">8</text></g></g><g class=\"overaxes-above\"/></g></g><g class=\"polarlayer\"/><g class=\"ternarylayer\"/><g class=\"geolayer\"/><g class=\"funnelarealayer\"/><g class=\"pielayer\"/><g class=\"iciclelayer\"/><g class=\"treemaplayer\"/><g class=\"sunburstlayer\"/><g class=\"glimages\"/><defs id=\"topdefs-1cfe9f\"><g class=\"clips\"/></defs><g class=\"layer-above\"><g class=\"imagelayer\"/><g class=\"shapelayer\"/></g><g class=\"infolayer\"><g class=\"g-gtitle\"><text class=\"gtitle\" x=\"350\" y=\"50\" text-anchor=\"middle\" dy=\"0em\" style=\"font-family: Arial; font-size: 17px; fill: rgb(0, 0, 0); opacity: 1; font-weight: normal; white-space: pre;\">Top 20 artists by number of top 1000 albums</text></g><g class=\"g-xtitle\"/><g class=\"g-ytitle\"/></g></svg>"
     },
     "metadata": {},
     "output_type": "display_data"
    }
   ],
   "source": [
    "fig_0 = make_subplots(rows = 1,cols = 1, subplot_titles=(''))\n",
    "fig_0.add_trace(go.Table(columnorder = [1,2],\n",
    "                         columnwidth = [100,50],\n",
    "                         header=dict(values=highest_rating.columns, \n",
    "                                     line_color='darkslategray',\n",
    "                                     fill_color='Salmon',\n",
    "                                     height=30),\n",
    "                         cells=dict(values=[highest_rating['Album'],\n",
    "                                    highest_rating['Average Rating']], \n",
    "                                    line_color='darkslategray',\n",
    "                                    fill_color='White')))\n",
    "fig_0.update_layout(showlegend=False, \n",
    "                    title_text='Top 20 albums by average rating', \n",
    "                    title_font_size=16, \n",
    "                    title_font_family='Arial', \n",
    "                    title_x=0.5,\n",
    "                    font=dict(family='Arial', \n",
    "                              size=12, \n",
    "                              color='black'))\n",
    "fig_0.show(\"svg\")\n",
    "\n",
    "\n",
    "fig_1 = make_subplots(rows = 1,cols = 2,subplot_titles = (\"Top 10 genres by number top 1000 albums\",\"Top 10 song descriptors by number of top 1000 albums\"))\n",
    "fig_1.add_trace(go.Bar(x = top_genre['genre'],y = top_genre['count'],name = 'Genre'),row = 1,col =1,)\n",
    "fig_1.add_trace(go.Bar(x = top_descriptors['decriptors'],y =top_descriptors['count'],name = 'Expression'),row = 1,col =2)\n",
    "fig_1.show(\"svg\")\n",
    "\n",
    "fig_2 = make_subplots(rows = 1,cols = 1, subplot_titles=(''))\n",
    "fig_2.add_trace(go.Bar(x = top_artist['artist'],y = top_artist['count'],marker_color='#3eb489'))\n",
    "fig_2.update_layout(title_text='Top 20 artists by number of top 1000 albums', title_x = 0.5,font = dict(family = 'Arial',size = 12,color = 'black'))\n",
    "fig_2.show(\"svg\")\n",
    "\n"
   ]
  },
  {
   "cell_type": "markdown",
   "metadata": {},
   "source": [
    "We can see that John Coltrane and Miles Davis are the most productive artists of top 1000 albums with 9 albums. The most common genres is singer/songwriter but only 77 song from 1000 second are video game music and art rock (47 songs). From song descriptors we learn that a lot of albums were sung by male there are 600 albums with this descriptors second is melodic with 333 albums."
   ]
  },
  {
   "cell_type": "markdown",
   "metadata": {},
   "source": [
    "Now let's see what the song genres and descriptors of top 1000 song as word cloud format"
   ]
  },
  {
   "cell_type": "code",
   "execution_count": 71,
   "metadata": {},
   "outputs": [],
   "source": [
    "from collections import Counter\n",
    "genres = list(top_1000['Genres'])\n",
    "gen = []\n",
    "for i in genres:\n",
    "    i = list(i.split(', '))\n",
    "    for j in i:\n",
    "        gen.append(j) \n",
    "g = Counter(gen)\n",
    "\n",
    "descriptors = list(top_1000['Descriptors'])\n",
    "des = []\n",
    "for i in descriptors:\n",
    "    i = list(i.split(', '))\n",
    "    for j in i:\n",
    "        des.append(j)\n",
    "d = Counter(des)\n"
   ]
  },
  {
   "cell_type": "code",
   "execution_count": 72,
   "metadata": {},
   "outputs": [
    {
     "name": "stdout",
     "output_type": "stream",
     "text": [
      "Song Descriptors\n"
     ]
    },
    {
     "data": {
      "image/png": "[encoded data removed]",
      "text/plain": [
       "<Figure size 1080x360 with 1 Axes>"
      ]
     },
     "metadata": {
      "needs_background": "light"
     },
     "output_type": "display_data"
    }
   ],
   "source": [
    "print('Song Descriptors')\n",
    "from PIL import Image\n",
    "from wordcloud import WordCloud,STOPWORDS\n",
    "descriptors = (\" \").join(top_1000['Descriptors'])\n",
    "custom_mask = np.array(Image.open('Brain.jpg'))\n",
    "wordcloud =  WordCloud(background_color='White',mask = custom_mask,max_font_size=120,)\n",
    "wordcloud.generate_from_frequencies(d)\n",
    "#generate plot\n",
    "plt.figure(figsize=(15,5))\n",
    "plt.imshow(wordcloud,interpolation='bilinear')\n",
    "plt.axis(\"off\")\n",
    "plt.tight_layout(pad=0)\n",
    "plt.show()"
   ]
  },
  {
   "cell_type": "code",
   "execution_count": 73,
   "metadata": {},
   "outputs": [
    {
     "name": "stdout",
     "output_type": "stream",
     "text": [
      "Genres\n"
     ]
    },
    {
     "data": {
      "image/png": "[encoded data removed]",
      "text/plain": [
       "<Figure size 1080x360 with 1 Axes>"
      ]
     },
     "metadata": {
      "needs_background": "light"
     },
     "output_type": "display_data"
    }
   ],
   "source": [
    "print('Genres')\n",
    "genre = (\" \").join(top_1000['Genres'])\n",
    "custom_mask = np.array(Image.open('brain.jpg'))\n",
    "stopwords = set(STOPWORDS)\n",
    "\n",
    "wordcloud =  WordCloud(background_color='White',mask = custom_mask,stopwords=stopwords,max_font_size=120,max_words=60)\n",
    "wordcloud.generate_from_frequencies(g)\n",
    "#generate plot\n",
    "plt.figure(figsize=(15,5))\n",
    "plt.imshow(wordcloud,interpolation='bilinear')\n",
    "plt.axis(\"off\")\n",
    "plt.tight_layout(pad=0)\n",
    "plt.show()"
   ]
  },
  {
   "cell_type": "code",
   "execution_count": 87,
   "metadata": {},
   "outputs": [
    {
     "data": {
      "image/svg+xml": "<svg class=\"main-svg\" xmlns=\"http://www.w3.org/2000/svg\" xmlns:xlink=\"http://www.w3.org/1999/xlink\" width=\"700\" height=\"500\" style=\"\" viewBox=\"0 0 700 500\"><rect x=\"0\" y=\"0\" width=\"700\" height=\"500\" style=\"fill: rgb(255, 255, 255); fill-opacity: 1;\"/><defs id=\"defs-bdc542\"><g class=\"clips\"><clipPath id=\"clipbdc542xyplot\" class=\"plotclip\"><rect width=\"540\" height=\"320\"/></clipPath><clipPath class=\"axesclip\" id=\"clipbdc542x\"><rect x=\"80\" y=\"0\" width=\"540\" height=\"500\"/></clipPath><clipPath class=\"axesclip\" id=\"clipbdc542y\"><rect x=\"0\" y=\"100\" width=\"700\" height=\"320\"/></clipPath><clipPath class=\"axesclip\" id=\"clipbdc542xy\"><rect x=\"80\" y=\"100\" width=\"540\" height=\"320\"/></clipPath></g><g class=\"gradients\"/><g class=\"patterns\"/></defs><g class=\"bglayer\"><rect class=\"bg\" x=\"80\" y=\"100\" width=\"540\" height=\"320\" style=\"fill: rgb(229, 236, 246); fill-opacity: 1; stroke-width: 0;\"/></g><g class=\"layer-below\"><g class=\"imagelayer\"/><g class=\"shapelayer\"/></g><g class=\"cartesianlayer\"><g class=\"subplot xy\"><g class=\"layer-subplot\"><g class=\"shapelayer\"/><g class=\"imagelayer\"/></g><g class=\"gridlayer\"><g class=\"x\"/><g class=\"y\"><path class=\"ygrid crisp\" transform=\"translate(0,373.59)\" d=\"M80,0h540\" style=\"stroke: rgb(255, 255, 255); stroke-opacity: 1; stroke-width: 1px;\"/><path class=\"ygrid crisp\" transform=\"translate(0,327.18)\" d=\"M80,0h540\" style=\"stroke: rgb(255, 255, 255); stroke-opacity: 1; stroke-width: 1px;\"/><path class=\"ygrid crisp\" transform=\"translate(0,280.76)\" d=\"M80,0h540\" style=\"stroke: rgb(255, 255, 255); stroke-opacity: 1; stroke-width: 1px;\"/><path class=\"ygrid crisp\" transform=\"translate(0,234.35)\" d=\"M80,0h540\" style=\"stroke: rgb(255, 255, 255); stroke-opacity: 1; stroke-width: 1px;\"/><path class=\"ygrid crisp\" transform=\"translate(0,187.94)\" d=\"M80,0h540\" style=\"stroke: rgb(255, 255, 255); stroke-opacity: 1; stroke-width: 1px;\"/><path class=\"ygrid crisp\" transform=\"translate(0,141.53)\" d=\"M80,0h540\" style=\"stroke: rgb(255, 255, 255); stroke-opacity: 1; stroke-width: 1px;\"/></g></g><g class=\"zerolinelayer\"><path class=\"yzl zl crisp\" transform=\"translate(0,420)\" d=\"M80,0h540\" style=\"stroke: rgb(255, 255, 255); stroke-opacity: 1; stroke-width: 2px;\"/></g><path class=\"xlines-below\"/><path class=\"ylines-below\"/><g class=\"overlines-below\"/><g class=\"xaxislayer-below\"/><g class=\"yaxislayer-below\"/><g class=\"overaxes-below\"/><g class=\"plot\" transform=\"translate(80,100)\" clip-path=\"url(#clipbdc542xyplot)\"><g class=\"barlayer mlayer\"><g class=\"trace bars\" shape-rendering=\"crispEdges\" style=\"opacity: 1;\"><g class=\"points\"><g class=\"point\"><path d=\"M0,320V317.68H17.42V320Z\" style=\"vector-effect: non-scaling-stroke; opacity: 1; stroke-width: 0px; fill: rgb(99, 110, 250); fill-opacity: 1;\"/></g><g class=\"point\"><path d=\"M17.42,320V317.68H34.84V320Z\" style=\"vector-effect: non-scaling-stroke; opacity: 1; stroke-width: 0px; fill: rgb(99, 110, 250); fill-opacity: 1;\"/></g><g class=\"point\"><path d=\"M34.84,320V310.72H52.26V320Z\" style=\"vector-effect: non-scaling-stroke; opacity: 1; stroke-width: 0px; fill: rgb(99, 110, 250); fill-opacity: 1;\"/></g><g class=\"point\"><path d=\"M52.26,320V296.79H69.68V320Z\" style=\"vector-effect: non-scaling-stroke; opacity: 1; stroke-width: 0px; fill: rgb(99, 110, 250); fill-opacity: 1;\"/></g><g class=\"point\"><path d=\"M69.68,320V282.87H87.1V320Z\" style=\"vector-effect: non-scaling-stroke; opacity: 1; stroke-width: 0px; fill: rgb(99, 110, 250); fill-opacity: 1;\"/></g><g class=\"point\"><path d=\"M87.1,320V243.42H104.52V320Z\" style=\"vector-effect: non-scaling-stroke; opacity: 1; stroke-width: 0px; fill: rgb(99, 110, 250); fill-opacity: 1;\"/></g><g class=\"point\"><path d=\"M104.52,320V157.56H121.94V320Z\" style=\"vector-effect: non-scaling-stroke; opacity: 1; stroke-width: 0px; fill: rgb(99, 110, 250); fill-opacity: 1;\"/></g><g class=\"point\"><path d=\"M121.94,320V101.86H139.35V320Z\" style=\"vector-effect: non-scaling-stroke; opacity: 1; stroke-width: 0px; fill: rgb(99, 110, 250); fill-opacity: 1;\"/></g><g class=\"point\"><path d=\"M139.35,320V67.05H156.77V320Z\" style=\"vector-effect: non-scaling-stroke; opacity: 1; stroke-width: 0px; fill: rgb(99, 110, 250); fill-opacity: 1;\"/></g><g class=\"point\"><path d=\"M156.77,320V50.81H174.19V320Z\" style=\"vector-effect: non-scaling-stroke; opacity: 1; stroke-width: 0px; fill: rgb(99, 110, 250); fill-opacity: 1;\"/></g><g class=\"point\"><path d=\"M174.19,320V16H191.61V320Z\" style=\"vector-effect: non-scaling-stroke; opacity: 1; stroke-width: 0px; fill: rgb(99, 110, 250); fill-opacity: 1;\"/></g><g class=\"point\"><path d=\"M191.61,320V115.79H209.03V320Z\" style=\"vector-effect: non-scaling-stroke; opacity: 1; stroke-width: 0px; fill: rgb(99, 110, 250); fill-opacity: 1;\"/></g><g class=\"point\"><path d=\"M209.03,320V185.4H226.45V320Z\" style=\"vector-effect: non-scaling-stroke; opacity: 1; stroke-width: 0px; fill: rgb(99, 110, 250); fill-opacity: 1;\"/></g><g class=\"point\"><path d=\"M226.45,320V210.93H243.87V320Z\" style=\"vector-effect: non-scaling-stroke; opacity: 1; stroke-width: 0px; fill: rgb(99, 110, 250); fill-opacity: 1;\"/></g><g class=\"point\"><path d=\"M243.87,320V234.14H261.29V320Z\" style=\"vector-effect: non-scaling-stroke; opacity: 1; stroke-width: 0px; fill: rgb(99, 110, 250); fill-opacity: 1;\"/></g><g class=\"point\"><path d=\"M261.29,320V248.06H278.71V320Z\" style=\"vector-effect: non-scaling-stroke; opacity: 1; stroke-width: 0px; fill: rgb(99, 110, 250); fill-opacity: 1;\"/></g><g class=\"point\"><path d=\"M278.71,320V250.38H296.13V320Z\" style=\"vector-effect: non-scaling-stroke; opacity: 1; stroke-width: 0px; fill: rgb(99, 110, 250); fill-opacity: 1;\"/></g><g class=\"point\"><path d=\"M296.13,320V285.19H313.55V320Z\" style=\"vector-effect: non-scaling-stroke; opacity: 1; stroke-width: 0px; fill: rgb(99, 110, 250); fill-opacity: 1;\"/></g><g class=\"point\"><path d=\"M313.55,320V264.31H330.97V320Z\" style=\"vector-effect: non-scaling-stroke; opacity: 1; stroke-width: 0px; fill: rgb(99, 110, 250); fill-opacity: 1;\"/></g><g class=\"point\"><path d=\"M330.97,320V287.51H348.39V320Z\" style=\"vector-effect: non-scaling-stroke; opacity: 1; stroke-width: 0px; fill: rgb(99, 110, 250); fill-opacity: 1;\"/></g><g class=\"point\"><path d=\"M348.39,320V271.27H365.81V320Z\" style=\"vector-effect: non-scaling-stroke; opacity: 1; stroke-width: 0px; fill: rgb(99, 110, 250); fill-opacity: 1;\"/></g><g class=\"point\"><path d=\"M365.81,320V292.15H383.23V320Z\" style=\"vector-effect: non-scaling-stroke; opacity: 1; stroke-width: 0px; fill: rgb(99, 110, 250); fill-opacity: 1;\"/></g><g class=\"point\"><path d=\"M383.23,320V306.08H400.65V320Z\" style=\"vector-effect: non-scaling-stroke; opacity: 1; stroke-width: 0px; fill: rgb(99, 110, 250); fill-opacity: 1;\"/></g><g class=\"point\"><path d=\"M400.65,320V306.08H418.06V320Z\" style=\"vector-effect: non-scaling-stroke; opacity: 1; stroke-width: 0px; fill: rgb(99, 110, 250); fill-opacity: 1;\"/></g><g class=\"point\"><path d=\"M418.06,320V306.08H435.48V320Z\" style=\"vector-effect: non-scaling-stroke; opacity: 1; stroke-width: 0px; fill: rgb(99, 110, 250); fill-opacity: 1;\"/></g><g class=\"point\"><path d=\"M435.48,320V306.08H452.9V320Z\" style=\"vector-effect: non-scaling-stroke; opacity: 1; stroke-width: 0px; fill: rgb(99, 110, 250); fill-opacity: 1;\"/></g><g class=\"point\"><path d=\"M452.9,320V310.72H470.32V320Z\" style=\"vector-effect: non-scaling-stroke; opacity: 1; stroke-width: 0px; fill: rgb(99, 110, 250); fill-opacity: 1;\"/></g><g class=\"point\"><path d=\"M470.32,320V313.04H487.74V320Z\" style=\"vector-effect: non-scaling-stroke; opacity: 1; stroke-width: 0px; fill: rgb(99, 110, 250); fill-opacity: 1;\"/></g><g class=\"point\"><path d=\"M487.74,320V313.04H505.16V320Z\" style=\"vector-effect: non-scaling-stroke; opacity: 1; stroke-width: 0px; fill: rgb(99, 110, 250); fill-opacity: 1;\"/></g><g class=\"point\"><path d=\"M505.16,320V317.68H522.58V320Z\" style=\"vector-effect: non-scaling-stroke; opacity: 1; stroke-width: 0px; fill: rgb(99, 110, 250); fill-opacity: 1;\"/></g><g class=\"point\"><path d=\"M522.58,320V315.36H540V320Z\" style=\"vector-effect: non-scaling-stroke; opacity: 1; stroke-width: 0px; fill: rgb(99, 110, 250); fill-opacity: 1;\"/></g></g></g></g></g><g class=\"overplot\"/><path class=\"xlines-above crisp\" d=\"M0,0\" style=\"fill: none;\"/><path class=\"ylines-above crisp\" d=\"M0,0\" style=\"fill: none;\"/><g class=\"overlines-above\"/><g class=\"xaxislayer-above\"><g class=\"xtick\"><text text-anchor=\"middle\" x=\"0\" y=\"433\" transform=\"translate(80,0)\" style=\"font-family: 'Open Sans', verdana, arial, sans-serif; font-size: 12px; fill: rgb(42, 63, 95); fill-opacity: 1; white-space: pre; opacity: 1;\">3.7</text></g><g class=\"xtick\"><text text-anchor=\"middle\" x=\"0\" y=\"433\" style=\"font-family: 'Open Sans', verdana, arial, sans-serif; font-size: 12px; fill: rgb(42, 63, 95); fill-opacity: 1; white-space: pre; opacity: 1;\" transform=\"translate(167.1,0)\">3.8</text></g><g class=\"xtick\"><text text-anchor=\"middle\" x=\"0\" y=\"433\" style=\"font-family: 'Open Sans', verdana, arial, sans-serif; font-size: 12px; fill: rgb(42, 63, 95); fill-opacity: 1; white-space: pre; opacity: 1;\" transform=\"translate(254.19,0)\">3.9</text></g><g class=\"xtick\"><text text-anchor=\"middle\" x=\"0\" y=\"433\" style=\"font-family: 'Open Sans', verdana, arial, sans-serif; font-size: 12px; fill: rgb(42, 63, 95); fill-opacity: 1; white-space: pre; opacity: 1;\" transform=\"translate(341.29,0)\">4</text></g><g class=\"xtick\"><text text-anchor=\"middle\" x=\"0\" y=\"433\" style=\"font-family: 'Open Sans', verdana, arial, sans-serif; font-size: 12px; fill: rgb(42, 63, 95); fill-opacity: 1; white-space: pre; opacity: 1;\" transform=\"translate(428.39,0)\">4.1</text></g><g class=\"xtick\"><text text-anchor=\"middle\" x=\"0\" y=\"433\" style=\"font-family: 'Open Sans', verdana, arial, sans-serif; font-size: 12px; fill: rgb(42, 63, 95); fill-opacity: 1; white-space: pre; opacity: 1;\" transform=\"translate(515.48,0)\">4.2</text></g><g class=\"xtick\"><text text-anchor=\"middle\" x=\"0\" y=\"433\" style=\"font-family: 'Open Sans', verdana, arial, sans-serif; font-size: 12px; fill: rgb(42, 63, 95); fill-opacity: 1; white-space: pre; opacity: 1;\" transform=\"translate(602.58,0)\">4.3</text></g></g><g class=\"yaxislayer-above\"><g class=\"ytick\"><text text-anchor=\"end\" x=\"79\" y=\"4.199999999999999\" transform=\"translate(0,420)\" style=\"font-family: 'Open Sans', verdana, arial, sans-serif; font-size: 12px; fill: rgb(42, 63, 95); fill-opacity: 1; white-space: pre; opacity: 1;\">0</text></g><g class=\"ytick\"><text text-anchor=\"end\" x=\"79\" y=\"4.199999999999999\" style=\"font-family: 'Open Sans', verdana, arial, sans-serif; font-size: 12px; fill: rgb(42, 63, 95); fill-opacity: 1; white-space: pre; opacity: 1;\" transform=\"translate(0,373.59)\">20</text></g><g class=\"ytick\"><text text-anchor=\"end\" x=\"79\" y=\"4.199999999999999\" style=\"font-family: 'Open Sans', verdana, arial, sans-serif; font-size: 12px; fill: rgb(42, 63, 95); fill-opacity: 1; white-space: pre; opacity: 1;\" transform=\"translate(0,327.18)\">40</text></g><g class=\"ytick\"><text text-anchor=\"end\" x=\"79\" y=\"4.199999999999999\" style=\"font-family: 'Open Sans', verdana, arial, sans-serif; font-size: 12px; fill: rgb(42, 63, 95); fill-opacity: 1; white-space: pre; opacity: 1;\" transform=\"translate(0,280.76)\">60</text></g><g class=\"ytick\"><text text-anchor=\"end\" x=\"79\" y=\"4.199999999999999\" style=\"font-family: 'Open Sans', verdana, arial, sans-serif; font-size: 12px; fill: rgb(42, 63, 95); fill-opacity: 1; white-space: pre; opacity: 1;\" transform=\"translate(0,234.35)\">80</text></g><g class=\"ytick\"><text text-anchor=\"end\" x=\"79\" y=\"4.199999999999999\" style=\"font-family: 'Open Sans', verdana, arial, sans-serif; font-size: 12px; fill: rgb(42, 63, 95); fill-opacity: 1; white-space: pre; opacity: 1;\" transform=\"translate(0,187.94)\">100</text></g><g class=\"ytick\"><text text-anchor=\"end\" x=\"79\" y=\"4.199999999999999\" style=\"font-family: 'Open Sans', verdana, arial, sans-serif; font-size: 12px; fill: rgb(42, 63, 95); fill-opacity: 1; white-space: pre; opacity: 1;\" transform=\"translate(0,141.53)\">120</text></g></g><g class=\"overaxes-above\"/></g></g><g class=\"polarlayer\"/><g class=\"ternarylayer\"/><g class=\"geolayer\"/><g class=\"funnelarealayer\"/><g class=\"pielayer\"/><g class=\"iciclelayer\"/><g class=\"treemaplayer\"/><g class=\"sunburstlayer\"/><g class=\"glimages\"/><defs id=\"topdefs-bdc542\"><g class=\"clips\"/></defs><g class=\"layer-above\"><g class=\"imagelayer\"/><g class=\"shapelayer\"/></g><g class=\"infolayer\"><g class=\"g-gtitle\"><text class=\"gtitle\" x=\"35\" y=\"50\" text-anchor=\"start\" dy=\"0em\" style=\"font-family: 'Open Sans', verdana, arial, sans-serif; font-size: 17px; fill: rgb(42, 63, 95); opacity: 1; font-weight: normal; white-space: pre;\">Average Rating Distribution of Top 1000 Albums</text></g><g class=\"g-xtitle\"><text class=\"xtitle\" x=\"350\" y=\"460.8\" text-anchor=\"middle\" style=\"font-family: 'Open Sans', verdana, arial, sans-serif; font-size: 14px; fill: rgb(42, 63, 95); opacity: 1; font-weight: normal; white-space: pre;\">Average Rating</text></g><g class=\"g-ytitle\"><text class=\"ytitle\" transform=\"rotate(-90,31.309375000000003,260)\" x=\"31.309375000000003\" y=\"260\" text-anchor=\"middle\" style=\"font-family: 'Open Sans', verdana, arial, sans-serif; font-size: 14px; fill: rgb(42, 63, 95); opacity: 1; font-weight: normal; white-space: pre;\">count</text></g></g></svg>"
     },
     "metadata": {},
     "output_type": "display_data"
    }
   ],
   "source": [
    "fig = px.histogram(top_1000, x=\"Average Rating\",title='Average Rating Distribution of Top 1000 Albums')\n",
    "fig.show(\"svg\")"
   ]
  },
  {
   "cell_type": "code",
   "execution_count": 75,
   "metadata": {},
   "outputs": [
    {
     "data": {
      "application/vnd.plotly.v1+json": {
       "config": {
        "plotlyServerURL": "https://plot.ly"
       },
       "data": [
        {
         "alignmentgroup": "True",
         "bingroup": "x",
         "hovertemplate": "Number of Reviews=%{x}<br>count=%{y}<extra></extra>",
         "legendgroup": "",
         "marker": {
          "color": "#636efa",
          "pattern": {
           "shape": ""
          }
         },
         "name": "",
         "offsetgroup": "",
         "orientation": "v",
         "showlegend": false,
         "type": "histogram",
         "x": [
          1531,
          983,
          870,
          734,
          379,
          1223,
          1549,
          961,
          929,
          721,
          1160,
          376,
          520,
          365,
          756,
          433,
          315,
          582,
          549,
          727,
          619,
          612,
          968,
          863,
          425,
          405,
          636,
          536,
          452,
          413,
          1085,
          573,
          695,
          530,
          604,
          548,
          873,
          282,
          518,
          151,
          391,
          398,
          266,
          457,
          361,
          563,
          410,
          321,
          425,
          454,
          297,
          446,
          261,
          558,
          290,
          275,
          512,
          435,
          242,
          193,
          289,
          311,
          403,
          310,
          220,
          275,
          287,
          272,
          499,
          329,
          289,
          399,
          721,
          341,
          297,
          546,
          358,
          559,
          560,
          479,
          386,
          205,
          380,
          158,
          248,
          496,
          451,
          510,
          354,
          747,
          300,
          172,
          837,
          730,
          214,
          313,
          503,
          242,
          192,
          260,
          222,
          359,
          324,
          419,
          333,
          141,
          996,
          94,
          535,
          215,
          85,
          156,
          412,
          145,
          286,
          248,
          171,
          230,
          181,
          282,
          289,
          189,
          88,
          287,
          309,
          325,
          83,
          582,
          390,
          273,
          377,
          121,
          527,
          239,
          566,
          329,
          150,
          376,
          531,
          142,
          74,
          267,
          308,
          240,
          187,
          247,
          284,
          518,
          83,
          490,
          347,
          297,
          224,
          583,
          292,
          321,
          298,
          559,
          336,
          191,
          221,
          282,
          161,
          467,
          439,
          307,
          332,
          315,
          368,
          459,
          118,
          254,
          608,
          401,
          529,
          321,
          139,
          268,
          60,
          375,
          326,
          481,
          69,
          101,
          424,
          254,
          789,
          346,
          135,
          309,
          281,
          231,
          12,
          214,
          367,
          127,
          194,
          76,
          186,
          191,
          114,
          10,
          107,
          93,
          191,
          309,
          279,
          226,
          99,
          464,
          220,
          229,
          92,
          452,
          101,
          141,
          19,
          258,
          96,
          65,
          371,
          241,
          435,
          268,
          310,
          266,
          353,
          272,
          202,
          228,
          79,
          81,
          310,
          159,
          253,
          175,
          284,
          447,
          257,
          25,
          171,
          246,
          171,
          333,
          6,
          224,
          145,
          116,
          147,
          44,
          68,
          276,
          299,
          102,
          148,
          16,
          210,
          213,
          295,
          131,
          88,
          10,
          122,
          118,
          250,
          5,
          456,
          228,
          86,
          29,
          691,
          227,
          299,
          325,
          212,
          93,
          7,
          241,
          313,
          245,
          265,
          50,
          53,
          16,
          13,
          14,
          157,
          52,
          747,
          83,
          7,
          20,
          215,
          206,
          263,
          322,
          52,
          23,
          179,
          364,
          95,
          48,
          30,
          253,
          30,
          19,
          193,
          139,
          73,
          45,
          110,
          115,
          16,
          220,
          26,
          234,
          133,
          8,
          169,
          32,
          370,
          75,
          13,
          49,
          307,
          332,
          246,
          91,
          56,
          217,
          220,
          180,
          292,
          229,
          79,
          166,
          175,
          150,
          134,
          234,
          426,
          129,
          212,
          544,
          253,
          91,
          158,
          303,
          176,
          465,
          164,
          178,
          214,
          30,
          153,
          81,
          203,
          271,
          87,
          171,
          27,
          23,
          9,
          217,
          222,
          62,
          281,
          118,
          209,
          146,
          152,
          122,
          225,
          157,
          167,
          104,
          3,
          484,
          243,
          28,
          121,
          135,
          78,
          215,
          94,
          254,
          97,
          111,
          205,
          149,
          147,
          161,
          118,
          39,
          48,
          90,
          122,
          134,
          107,
          9,
          150,
          200,
          58,
          143,
          124,
          30,
          40,
          48,
          30,
          258,
          118,
          200,
          32,
          130,
          16,
          143,
          5,
          397,
          77,
          163,
          176,
          180,
          4,
          145,
          97,
          137,
          18,
          14,
          139,
          183,
          126,
          63,
          213,
          135,
          122,
          221,
          147,
          138,
          114,
          102,
          44,
          135,
          130,
          164,
          60,
          17,
          12,
          373,
          163,
          37,
          225,
          194,
          55,
          42,
          46,
          312,
          28,
          42,
          193,
          221,
          50,
          6,
          239,
          139,
          62,
          11,
          137,
          123,
          137,
          95,
          182,
          62,
          12,
          221,
          263,
          160,
          168,
          66,
          12,
          225,
          169,
          72,
          6,
          145,
          113,
          79,
          2,
          109,
          61,
          277,
          50,
          114,
          49,
          170,
          154,
          215,
          1,
          577,
          211,
          147,
          134,
          88,
          107,
          421,
          188,
          52,
          2,
          290,
          118,
          128,
          108,
          158,
          94,
          56,
          37,
          191,
          197,
          144,
          101,
          113,
          64,
          16,
          70,
          0,
          195,
          144,
          1,
          44,
          103,
          205,
          279,
          193,
          55,
          47,
          163,
          177,
          74,
          96,
          6,
          136,
          12,
          105,
          50,
          7,
          118,
          101,
          83,
          154,
          116,
          70,
          24,
          9,
          17,
          132,
          60,
          32,
          192,
          7,
          5,
          149,
          62,
          35,
          18,
          15,
          21,
          1,
          133,
          200,
          108,
          82,
          10,
          198,
          65,
          100,
          128,
          137,
          181,
          117,
          124,
          19,
          298,
          376,
          119,
          100,
          63,
          38,
          190,
          6,
          100,
          125,
          103,
          111,
          15,
          70,
          158,
          84,
          14,
          8,
          61,
          44,
          12,
          119,
          565,
          329,
          150,
          149,
          164,
          112,
          30,
          17,
          31,
          17,
          109,
          11,
          16,
          208,
          91,
          56,
          325,
          165,
          4,
          167,
          175,
          189,
          32,
          44,
          292,
          55,
          28,
          179,
          130,
          36,
          8,
          4,
          171,
          98,
          7,
          208,
          151,
          172,
          36,
          51,
          4,
          39,
          12,
          6,
          104,
          189,
          161,
          119,
          100,
          95,
          6,
          5,
          10,
          2,
          184,
          119,
          191,
          142,
          233,
          248,
          116,
          12,
          2,
          141,
          138,
          121,
          117,
          57,
          13,
          3,
          2,
          264,
          69,
          121,
          152,
          100,
          59,
          1,
          141,
          33,
          16,
          20,
          49,
          73,
          91,
          48,
          53,
          10,
          2,
          122,
          257,
          141,
          55,
          64,
          11,
          5,
          16,
          10,
          5,
          83,
          143,
          62,
          68,
          36,
          13,
          25,
          5,
          272,
          192,
          133,
          6,
          222,
          189,
          48,
          36,
          12,
          275,
          185,
          88,
          69,
          112,
          18,
          43,
          643,
          153,
          232,
          8,
          398,
          52,
          7,
          12,
          76,
          71,
          72,
          82,
          31,
          21,
          24,
          171,
          121,
          76,
          134,
          40,
          13,
          2,
          2,
          189,
          87,
          109,
          188,
          253,
          178,
          56,
          8,
          51,
          2,
          129,
          94,
          151,
          110,
          71,
          179,
          81,
          20,
          8,
          2,
          144,
          72,
          73,
          57,
          2,
          5,
          277,
          158,
          103,
          76,
          63,
          293,
          4,
          72,
          58,
          20,
          7,
          4,
          203,
          90,
          25,
          124,
          242,
          139,
          50,
          152,
          93,
          3,
          93,
          225,
          100,
          86,
          65,
          14,
          189,
          93,
          55,
          6,
          174,
          186,
          21,
          1,
          120,
          209,
          4,
          118,
          137,
          105,
          59,
          103,
          195,
          100,
          76,
          26,
          5,
          158,
          117,
          87,
          145,
          204,
          69,
          115,
          37,
          12,
          127,
          79,
          226,
          251,
          83,
          113,
          111,
          36,
          35,
          28,
          92,
          71,
          7,
          193,
          119,
          64,
          7,
          58,
          16,
          6,
          1,
          12,
          12,
          7,
          150,
          92,
          32,
          114,
          34,
          43,
          27,
          193,
          17,
          6,
          277,
          159,
          135,
          55,
          101,
          5,
          4,
          133,
          136,
          31,
          4,
          98,
          32,
          43,
          7,
          2,
          75,
          54,
          74,
          65,
          12,
          4,
          28,
          3,
          135,
          73,
          65,
          46,
          2,
          405,
          179,
          85,
          104,
          167,
          33,
          20,
          8,
          49,
          61,
          37,
          30,
          256,
          233,
          139,
          113,
          110,
          0,
          91,
          68,
          83,
          42,
          34,
          17,
          7,
          4,
          175,
          107,
          99,
          125,
          8,
          10,
          1,
          169,
          107,
          193,
          199,
          53,
          38,
          18,
          21,
          23,
          6,
          233,
          214,
          22,
          204,
          121,
          51,
          56,
          18,
          160,
          9,
          42,
          46,
          85,
          233,
          46,
          14,
          7,
          246,
          201,
          85,
          47,
          97,
          3,
          25,
          15,
          11,
          86,
          208,
          90,
          2,
          162,
          93,
          16,
          94,
          84,
          55,
          70,
          43,
          48,
          51,
          86,
          81,
          116,
          56,
          61,
          99,
          50,
          48,
          23,
          4,
          273,
          181,
          191,
          57,
          31,
          42,
          15,
          8,
          321,
          127,
          150,
          15
         ],
         "xaxis": "x",
         "yaxis": "y"
        }
       ],
       "layout": {
        "barmode": "relative",
        "legend": {
         "tracegroupgap": 0
        },
        "template": {
         "data": {
          "bar": [
           {
            "error_x": {
             "color": "#2a3f5f"
            },
            "error_y": {
             "color": "#2a3f5f"
            },
            "marker": {
             "line": {
              "color": "#E5ECF6",
              "width": 0.5
             },
             "pattern": {
              "fillmode": "overlay",
              "size": 10,
              "solidity": 0.2
             }
            },
            "type": "bar"
           }
          ],
          "barpolar": [
           {
            "marker": {
             "line": {
              "color": "#E5ECF6",
              "width": 0.5
             },
             "pattern": {
              "fillmode": "overlay",
              "size": 10,
              "solidity": 0.2
             }
            },
            "type": "barpolar"
           }
          ],
          "carpet": [
           {
            "aaxis": {
             "endlinecolor": "#2a3f5f",
             "gridcolor": "white",
             "linecolor": "white",
             "minorgridcolor": "white",
             "startlinecolor": "#2a3f5f"
            },
            "baxis": {
             "endlinecolor": "#2a3f5f",
             "gridcolor": "white",
             "linecolor": "white",
             "minorgridcolor": "white",
             "startlinecolor": "#2a3f5f"
            },
            "type": "carpet"
           }
          ],
          "choropleth": [
           {
            "colorbar": {
             "outlinewidth": 0,
             "ticks": ""
            },
            "type": "choropleth"
           }
          ],
          "contour": [
           {
            "colorbar": {
             "outlinewidth": 0,
             "ticks": ""
            },
            "colorscale": [
             [
              0,
              "#0d0887"
             ],
             [
              0.1111111111111111,
              "#46039f"
             ],
             [
              0.2222222222222222,
              "#7201a8"
             ],
             [
              0.3333333333333333,
              "#9c179e"
             ],
             [
              0.4444444444444444,
              "#bd3786"
             ],
             [
              0.5555555555555556,
              "#d8576b"
             ],
             [
              0.6666666666666666,
              "#ed7953"
             ],
             [
              0.7777777777777778,
              "#fb9f3a"
             ],
             [
              0.8888888888888888,
              "#fdca26"
             ],
             [
              1,
              "#f0f921"
             ]
            ],
            "type": "contour"
           }
          ],
          "contourcarpet": [
           {
            "colorbar": {
             "outlinewidth": 0,
             "ticks": ""
            },
            "type": "contourcarpet"
           }
          ],
          "heatmap": [
           {
            "colorbar": {
             "outlinewidth": 0,
             "ticks": ""
            },
            "colorscale": [
             [
              0,
              "#0d0887"
             ],
             [
              0.1111111111111111,
              "#46039f"
             ],
             [
              0.2222222222222222,
              "#7201a8"
             ],
             [
              0.3333333333333333,
              "#9c179e"
             ],
             [
              0.4444444444444444,
              "#bd3786"
             ],
             [
              0.5555555555555556,
              "#d8576b"
             ],
             [
              0.6666666666666666,
              "#ed7953"
             ],
             [
              0.7777777777777778,
              "#fb9f3a"
             ],
             [
              0.8888888888888888,
              "#fdca26"
             ],
             [
              1,
              "#f0f921"
             ]
            ],
            "type": "heatmap"
           }
          ],
          "heatmapgl": [
           {
            "colorbar": {
             "outlinewidth": 0,
             "ticks": ""
            },
            "colorscale": [
             [
              0,
              "#0d0887"
             ],
             [
              0.1111111111111111,
              "#46039f"
             ],
             [
              0.2222222222222222,
              "#7201a8"
             ],
             [
              0.3333333333333333,
              "#9c179e"
             ],
             [
              0.4444444444444444,
              "#bd3786"
             ],
             [
              0.5555555555555556,
              "#d8576b"
             ],
             [
              0.6666666666666666,
              "#ed7953"
             ],
             [
              0.7777777777777778,
              "#fb9f3a"
             ],
             [
              0.8888888888888888,
              "#fdca26"
             ],
             [
              1,
              "#f0f921"
             ]
            ],
            "type": "heatmapgl"
           }
          ],
          "histogram": [
           {
            "marker": {
             "pattern": {
              "fillmode": "overlay",
              "size": 10,
              "solidity": 0.2
             }
            },
            "type": "histogram"
           }
          ],
          "histogram2d": [
           {
            "colorbar": {
             "outlinewidth": 0,
             "ticks": ""
            },
            "colorscale": [
             [
              0,
              "#0d0887"
             ],
             [
              0.1111111111111111,
              "#46039f"
             ],
             [
              0.2222222222222222,
              "#7201a8"
             ],
             [
              0.3333333333333333,
              "#9c179e"
             ],
             [
              0.4444444444444444,
              "#bd3786"
             ],
             [
              0.5555555555555556,
              "#d8576b"
             ],
             [
              0.6666666666666666,
              "#ed7953"
             ],
             [
              0.7777777777777778,
              "#fb9f3a"
             ],
             [
              0.8888888888888888,
              "#fdca26"
             ],
             [
              1,
              "#f0f921"
             ]
            ],
            "type": "histogram2d"
           }
          ],
          "histogram2dcontour": [
           {
            "colorbar": {
             "outlinewidth": 0,
             "ticks": ""
            },
            "colorscale": [
             [
              0,
              "#0d0887"
             ],
             [
              0.1111111111111111,
              "#46039f"
             ],
             [
              0.2222222222222222,
              "#7201a8"
             ],
             [
              0.3333333333333333,
              "#9c179e"
             ],
             [
              0.4444444444444444,
              "#bd3786"
             ],
             [
              0.5555555555555556,
              "#d8576b"
             ],
             [
              0.6666666666666666,
              "#ed7953"
             ],
             [
              0.7777777777777778,
              "#fb9f3a"
             ],
             [
              0.8888888888888888,
              "#fdca26"
             ],
             [
              1,
              "#f0f921"
             ]
            ],
            "type": "histogram2dcontour"
           }
          ],
          "mesh3d": [
           {
            "colorbar": {
             "outlinewidth": 0,
             "ticks": ""
            },
            "type": "mesh3d"
           }
          ],
          "parcoords": [
           {
            "line": {
             "colorbar": {
              "outlinewidth": 0,
              "ticks": ""
             }
            },
            "type": "parcoords"
           }
          ],
          "pie": [
           {
            "automargin": true,
            "type": "pie"
           }
          ],
          "scatter": [
           {
            "marker": {
             "colorbar": {
              "outlinewidth": 0,
              "ticks": ""
             }
            },
            "type": "scatter"
           }
          ],
          "scatter3d": [
           {
            "line": {
             "colorbar": {
              "outlinewidth": 0,
              "ticks": ""
             }
            },
            "marker": {
             "colorbar": {
              "outlinewidth": 0,
              "ticks": ""
             }
            },
            "type": "scatter3d"
           }
          ],
          "scattercarpet": [
           {
            "marker": {
             "colorbar": {
              "outlinewidth": 0,
              "ticks": ""
             }
            },
            "type": "scattercarpet"
           }
          ],
          "scattergeo": [
           {
            "marker": {
             "colorbar": {
              "outlinewidth": 0,
              "ticks": ""
             }
            },
            "type": "scattergeo"
           }
          ],
          "scattergl": [
           {
            "marker": {
             "colorbar": {
              "outlinewidth": 0,
              "ticks": ""
             }
            },
            "type": "scattergl"
           }
          ],
          "scattermapbox": [
           {
            "marker": {
             "colorbar": {
              "outlinewidth": 0,
              "ticks": ""
             }
            },
            "type": "scattermapbox"
           }
          ],
          "scatterpolar": [
           {
            "marker": {
             "colorbar": {
              "outlinewidth": 0,
              "ticks": ""
             }
            },
            "type": "scatterpolar"
           }
          ],
          "scatterpolargl": [
           {
            "marker": {
             "colorbar": {
              "outlinewidth": 0,
              "ticks": ""
             }
            },
            "type": "scatterpolargl"
           }
          ],
          "scatterternary": [
           {
            "marker": {
             "colorbar": {
              "outlinewidth": 0,
              "ticks": ""
             }
            },
            "type": "scatterternary"
           }
          ],
          "surface": [
           {
            "colorbar": {
             "outlinewidth": 0,
             "ticks": ""
            },
            "colorscale": [
             [
              0,
              "#0d0887"
             ],
             [
              0.1111111111111111,
              "#46039f"
             ],
             [
              0.2222222222222222,
              "#7201a8"
             ],
             [
              0.3333333333333333,
              "#9c179e"
             ],
             [
              0.4444444444444444,
              "#bd3786"
             ],
             [
              0.5555555555555556,
              "#d8576b"
             ],
             [
              0.6666666666666666,
              "#ed7953"
             ],
             [
              0.7777777777777778,
              "#fb9f3a"
             ],
             [
              0.8888888888888888,
              "#fdca26"
             ],
             [
              1,
              "#f0f921"
             ]
            ],
            "type": "surface"
           }
          ],
          "table": [
           {
            "cells": {
             "fill": {
              "color": "#EBF0F8"
             },
             "line": {
              "color": "white"
             }
            },
            "header": {
             "fill": {
              "color": "#C8D4E3"
             },
             "line": {
              "color": "white"
             }
            },
            "type": "table"
           }
          ]
         },
         "layout": {
          "annotationdefaults": {
           "arrowcolor": "#2a3f5f",
           "arrowhead": 0,
           "arrowwidth": 1
          },
          "autotypenumbers": "strict",
          "coloraxis": {
           "colorbar": {
            "outlinewidth": 0,
            "ticks": ""
           }
          },
          "colorscale": {
           "diverging": [
            [
             0,
             "#8e0152"
            ],
            [
             0.1,
             "#c51b7d"
            ],
            [
             0.2,
             "#de77ae"
            ],
            [
             0.3,
             "#f1b6da"
            ],
            [
             0.4,
             "#fde0ef"
            ],
            [
             0.5,
             "#f7f7f7"
            ],
            [
             0.6,
             "#e6f5d0"
            ],
            [
             0.7,
             "#b8e186"
            ],
            [
             0.8,
             "#7fbc41"
            ],
            [
             0.9,
             "#4d9221"
            ],
            [
             1,
             "#276419"
            ]
           ],
           "sequential": [
            [
             0,
             "#0d0887"
            ],
            [
             0.1111111111111111,
             "#46039f"
            ],
            [
             0.2222222222222222,
             "#7201a8"
            ],
            [
             0.3333333333333333,
             "#9c179e"
            ],
            [
             0.4444444444444444,
             "#bd3786"
            ],
            [
             0.5555555555555556,
             "#d8576b"
            ],
            [
             0.6666666666666666,
             "#ed7953"
            ],
            [
             0.7777777777777778,
             "#fb9f3a"
            ],
            [
             0.8888888888888888,
             "#fdca26"
            ],
            [
             1,
             "#f0f921"
            ]
           ],
           "sequentialminus": [
            [
             0,
             "#0d0887"
            ],
            [
             0.1111111111111111,
             "#46039f"
            ],
            [
             0.2222222222222222,
             "#7201a8"
            ],
            [
             0.3333333333333333,
             "#9c179e"
            ],
            [
             0.4444444444444444,
             "#bd3786"
            ],
            [
             0.5555555555555556,
             "#d8576b"
            ],
            [
             0.6666666666666666,
             "#ed7953"
            ],
            [
             0.7777777777777778,
             "#fb9f3a"
            ],
            [
             0.8888888888888888,
             "#fdca26"
            ],
            [
             1,
             "#f0f921"
            ]
           ]
          },
          "colorway": [
           "#636efa",
           "#EF553B",
           "#00cc96",
           "#ab63fa",
           "#FFA15A",
           "#19d3f3",
           "#FF6692",
           "#B6E880",
           "#FF97FF",
           "#FECB52"
          ],
          "font": {
           "color": "#2a3f5f"
          },
          "geo": {
           "bgcolor": "white",
           "lakecolor": "white",
           "landcolor": "#E5ECF6",
           "showlakes": true,
           "showland": true,
           "subunitcolor": "white"
          },
          "hoverlabel": {
           "align": "left"
          },
          "hovermode": "closest",
          "mapbox": {
           "style": "light"
          },
          "paper_bgcolor": "white",
          "plot_bgcolor": "#E5ECF6",
          "polar": {
           "angularaxis": {
            "gridcolor": "white",
            "linecolor": "white",
            "ticks": ""
           },
           "bgcolor": "#E5ECF6",
           "radialaxis": {
            "gridcolor": "white",
            "linecolor": "white",
            "ticks": ""
           }
          },
          "scene": {
           "xaxis": {
            "backgroundcolor": "#E5ECF6",
            "gridcolor": "white",
            "gridwidth": 2,
            "linecolor": "white",
            "showbackground": true,
            "ticks": "",
            "zerolinecolor": "white"
           },
           "yaxis": {
            "backgroundcolor": "#E5ECF6",
            "gridcolor": "white",
            "gridwidth": 2,
            "linecolor": "white",
            "showbackground": true,
            "ticks": "",
            "zerolinecolor": "white"
           },
           "zaxis": {
            "backgroundcolor": "#E5ECF6",
            "gridcolor": "white",
            "gridwidth": 2,
            "linecolor": "white",
            "showbackground": true,
            "ticks": "",
            "zerolinecolor": "white"
           }
          },
          "shapedefaults": {
           "line": {
            "color": "#2a3f5f"
           }
          },
          "ternary": {
           "aaxis": {
            "gridcolor": "white",
            "linecolor": "white",
            "ticks": ""
           },
           "baxis": {
            "gridcolor": "white",
            "linecolor": "white",
            "ticks": ""
           },
           "bgcolor": "#E5ECF6",
           "caxis": {
            "gridcolor": "white",
            "linecolor": "white",
            "ticks": ""
           }
          },
          "title": {
           "x": 0.05
          },
          "xaxis": {
           "automargin": true,
           "gridcolor": "white",
           "linecolor": "white",
           "ticks": "",
           "title": {
            "standoff": 15
           },
           "zerolinecolor": "white",
           "zerolinewidth": 2
          },
          "yaxis": {
           "automargin": true,
           "gridcolor": "white",
           "linecolor": "white",
           "ticks": "",
           "title": {
            "standoff": 15
           },
           "zerolinecolor": "white",
           "zerolinewidth": 2
          }
         }
        },
        "title": {
         "text": "Number of Reviews Distribution of Top 1000 Albums"
        },
        "xaxis": {
         "anchor": "y",
         "domain": [
          0,
          1
         ],
         "title": {
          "text": "Number of Reviews"
         }
        },
        "yaxis": {
         "anchor": "x",
         "domain": [
          0,
          1
         ],
         "title": {
          "text": "count"
         }
        }
       }
      }
     },
     "metadata": {},
     "output_type": "display_data"
    }
   ],
   "source": [
    "fig = px.histogram(top_1000, x=\"Number of Reviews\",title='Number of Reviews Distribution of Top 1000 Albums')\n",
    "fig.show(renderers='svg')"
   ]
  },
  {
   "cell_type": "markdown",
   "metadata": {},
   "source": [
    "from now on we will try to do classification to see the pattern in data start by changing format and structure of this dataset"
   ]
  },
  {
   "cell_type": "markdown",
   "metadata": {},
   "source": [
    "# Clean Genres and Descriptors for clustering"
   ]
  },
  {
   "cell_type": "code",
   "execution_count": 76,
   "metadata": {},
   "outputs": [],
   "source": [
    "cluster_df = top_1000.copy()"
   ]
  },
  {
   "cell_type": "markdown",
   "metadata": {},
   "source": [
    "### Genres"
   ]
  },
  {
   "cell_type": "code",
   "execution_count": 77,
   "metadata": {},
   "outputs": [],
   "source": [
    "genre_split =cluster_df['Genres'].str.split(', ').apply(pd.Series).stack()\n",
    "genre_split.index = genre_split.index.droplevel(-1)\n",
    "genre_split.name = 'Genres'\n",
    "del cluster_df['Genres']\n"
   ]
  },
  {
   "cell_type": "code",
   "execution_count": 78,
   "metadata": {},
   "outputs": [],
   "source": [
    "cluster_df = cluster_df.join(genre_split)\n",
    "dummy_gen = pd.get_dummies(cluster_df['Genres'],prefix ='Gen')\n",
    "dummy_gen = dummy_gen.reset_index().groupby('index').sum()\n",
    "cluster_df = cluster_df.drop_duplicates('Ranking',keep='first').drop('Genres',axis=1)"
   ]
  },
  {
   "cell_type": "code",
   "execution_count": 79,
   "metadata": {},
   "outputs": [
    {
     "data": {
      "text/html": [
       "<div>\n",
       "<style scoped>\n",
       "    .dataframe tbody tr th:only-of-type {\n",
       "        vertical-align: middle;\n",
       "    }\n",
       "\n",
       "    .dataframe tbody tr th {\n",
       "        vertical-align: top;\n",
       "    }\n",
       "\n",
       "    .dataframe thead th {\n",
       "        text-align: right;\n",
       "    }\n",
       "</style>\n",
       "<table border=\"1\" class=\"dataframe\">\n",
       "  <thead>\n",
       "    <tr style=\"text-align: right;\">\n",
       "      <th></th>\n",
       "      <th>Ranking</th>\n",
       "      <th>Album</th>\n",
       "      <th>Artist Name</th>\n",
       "      <th>Release Date</th>\n",
       "      <th>Descriptors</th>\n",
       "      <th>Average Rating</th>\n",
       "      <th>Number of Ratings</th>\n",
       "      <th>Number of Reviews</th>\n",
       "      <th>year_release</th>\n",
       "    </tr>\n",
       "  </thead>\n",
       "  <tbody>\n",
       "    <tr>\n",
       "      <th>0</th>\n",
       "      <td>1.0</td>\n",
       "      <td>OK Computer</td>\n",
       "      <td>Radiohead</td>\n",
       "      <td>1997-06-16</td>\n",
       "      <td>Melancholic, Anxious, Futuristic, Alienation, ...</td>\n",
       "      <td>4.23</td>\n",
       "      <td>70382</td>\n",
       "      <td>1531</td>\n",
       "      <td>1997</td>\n",
       "    </tr>\n",
       "    <tr>\n",
       "      <th>1</th>\n",
       "      <td>2.0</td>\n",
       "      <td>Wish You Were Here</td>\n",
       "      <td>Pink Floyd</td>\n",
       "      <td>1975-09-12</td>\n",
       "      <td>Melancholic, Atmospheric, Progressive, Male Vo...</td>\n",
       "      <td>4.29</td>\n",
       "      <td>48662</td>\n",
       "      <td>983</td>\n",
       "      <td>1975</td>\n",
       "    </tr>\n",
       "    <tr>\n",
       "      <th>2</th>\n",
       "      <td>3.0</td>\n",
       "      <td>In the Court of the Crimson King</td>\n",
       "      <td>King Crimson</td>\n",
       "      <td>1969-10-10</td>\n",
       "      <td>Fantasy, Epic, Progressive, Philosophical, Com...</td>\n",
       "      <td>4.30</td>\n",
       "      <td>44943</td>\n",
       "      <td>870</td>\n",
       "      <td>1969</td>\n",
       "    </tr>\n",
       "    <tr>\n",
       "      <th>3</th>\n",
       "      <td>4.0</td>\n",
       "      <td>Kid A</td>\n",
       "      <td>Radiohead</td>\n",
       "      <td>2000-10-03</td>\n",
       "      <td>Cold, Melancholic, Futuristic, Atmospheric, An...</td>\n",
       "      <td>4.21</td>\n",
       "      <td>58590</td>\n",
       "      <td>734</td>\n",
       "      <td>2000</td>\n",
       "    </tr>\n",
       "    <tr>\n",
       "      <th>4</th>\n",
       "      <td>5.0</td>\n",
       "      <td>To Pimp a Butterfly</td>\n",
       "      <td>Kendrick Lamar</td>\n",
       "      <td>2015-03-15</td>\n",
       "      <td>Political, Conscious, Poetic, Protest, Concept...</td>\n",
       "      <td>4.27</td>\n",
       "      <td>44206</td>\n",
       "      <td>379</td>\n",
       "      <td>2015</td>\n",
       "    </tr>\n",
       "    <tr>\n",
       "      <th>...</th>\n",
       "      <td>...</td>\n",
       "      <td>...</td>\n",
       "      <td>...</td>\n",
       "      <td>...</td>\n",
       "      <td>...</td>\n",
       "      <td>...</td>\n",
       "      <td>...</td>\n",
       "      <td>...</td>\n",
       "      <td>...</td>\n",
       "    </tr>\n",
       "    <tr>\n",
       "      <th>995</th>\n",
       "      <td>996.0</td>\n",
       "      <td>String Quartets Nos. 1-3</td>\n",
       "      <td>The Tale Quartet</td>\n",
       "      <td>1990-02-01</td>\n",
       "      <td>String Quartet, Instrumental, Acoustic, Anxiou...</td>\n",
       "      <td>3.87</td>\n",
       "      <td>591</td>\n",
       "      <td>8</td>\n",
       "      <td>1990</td>\n",
       "    </tr>\n",
       "    <tr>\n",
       "      <th>996</th>\n",
       "      <td>997.0</td>\n",
       "      <td>Frances the Mute</td>\n",
       "      <td>The Mars Volta</td>\n",
       "      <td>2005-03-01</td>\n",
       "      <td>Passionate, Complex, Cryptic, Energetic, Surre...</td>\n",
       "      <td>3.77</td>\n",
       "      <td>12222</td>\n",
       "      <td>321</td>\n",
       "      <td>2005</td>\n",
       "    </tr>\n",
       "    <tr>\n",
       "      <th>997</th>\n",
       "      <td>998.0</td>\n",
       "      <td>Crazy Rhythms</td>\n",
       "      <td>The Feelies</td>\n",
       "      <td>1980-04-28</td>\n",
       "      <td>Anxious, Rhythmic, Energetic, Hypnotic, Male V...</td>\n",
       "      <td>3.82</td>\n",
       "      <td>7062</td>\n",
       "      <td>127</td>\n",
       "      <td>1980</td>\n",
       "    </tr>\n",
       "    <tr>\n",
       "      <th>998</th>\n",
       "      <td>999.0</td>\n",
       "      <td>Starsailor</td>\n",
       "      <td>Tim Buckley</td>\n",
       "      <td>1970-11-02</td>\n",
       "      <td>Avant-Garde, Psychedelic, Cryptic, Sexual, Mal...</td>\n",
       "      <td>3.80</td>\n",
       "      <td>7182</td>\n",
       "      <td>150</td>\n",
       "      <td>1970</td>\n",
       "    </tr>\n",
       "    <tr>\n",
       "      <th>999</th>\n",
       "      <td>1000.0</td>\n",
       "      <td>Songs From Suicide Bridge</td>\n",
       "      <td>David Kauffman / Eric Caboor</td>\n",
       "      <td>1984-01-01</td>\n",
       "      <td>Lonely, Acoustic, Suicide, Melancholic, Intros...</td>\n",
       "      <td>3.86</td>\n",
       "      <td>1387</td>\n",
       "      <td>15</td>\n",
       "      <td>1984</td>\n",
       "    </tr>\n",
       "  </tbody>\n",
       "</table>\n",
       "<p>1000 rows × 9 columns</p>\n",
       "</div>"
      ],
      "text/plain": [
       "     Ranking                             Album                   Artist Name  \\\n",
       "0        1.0                       OK Computer                     Radiohead   \n",
       "1        2.0                Wish You Were Here                    Pink Floyd   \n",
       "2        3.0  In the Court of the Crimson King                  King Crimson   \n",
       "3        4.0                             Kid A                     Radiohead   \n",
       "4        5.0               To Pimp a Butterfly                Kendrick Lamar   \n",
       "..       ...                               ...                           ...   \n",
       "995    996.0          String Quartets Nos. 1-3              The Tale Quartet   \n",
       "996    997.0                  Frances the Mute                The Mars Volta   \n",
       "997    998.0                     Crazy Rhythms                   The Feelies   \n",
       "998    999.0                        Starsailor                   Tim Buckley   \n",
       "999   1000.0         Songs From Suicide Bridge  David Kauffman / Eric Caboor   \n",
       "\n",
       "    Release Date                                        Descriptors  \\\n",
       "0     1997-06-16  Melancholic, Anxious, Futuristic, Alienation, ...   \n",
       "1     1975-09-12  Melancholic, Atmospheric, Progressive, Male Vo...   \n",
       "2     1969-10-10  Fantasy, Epic, Progressive, Philosophical, Com...   \n",
       "3     2000-10-03  Cold, Melancholic, Futuristic, Atmospheric, An...   \n",
       "4     2015-03-15  Political, Conscious, Poetic, Protest, Concept...   \n",
       "..           ...                                                ...   \n",
       "995   1990-02-01  String Quartet, Instrumental, Acoustic, Anxiou...   \n",
       "996   2005-03-01  Passionate, Complex, Cryptic, Energetic, Surre...   \n",
       "997   1980-04-28  Anxious, Rhythmic, Energetic, Hypnotic, Male V...   \n",
       "998   1970-11-02  Avant-Garde, Psychedelic, Cryptic, Sexual, Mal...   \n",
       "999   1984-01-01  Lonely, Acoustic, Suicide, Melancholic, Intros...   \n",
       "\n",
       "     Average Rating  Number of Ratings  Number of Reviews  year_release  \n",
       "0              4.23              70382               1531          1997  \n",
       "1              4.29              48662                983          1975  \n",
       "2              4.30              44943                870          1969  \n",
       "3              4.21              58590                734          2000  \n",
       "4              4.27              44206                379          2015  \n",
       "..              ...                ...                ...           ...  \n",
       "995            3.87                591                  8          1990  \n",
       "996            3.77              12222                321          2005  \n",
       "997            3.82               7062                127          1980  \n",
       "998            3.80               7182                150          1970  \n",
       "999            3.86               1387                 15          1984  \n",
       "\n",
       "[1000 rows x 9 columns]"
      ]
     },
     "execution_count": 79,
     "metadata": {},
     "output_type": "execute_result"
    }
   ],
   "source": [
    "cluster_df"
   ]
  },
  {
   "cell_type": "markdown",
   "metadata": {},
   "source": [
    "### Descriptors"
   ]
  },
  {
   "cell_type": "code",
   "execution_count": 80,
   "metadata": {},
   "outputs": [],
   "source": [
    "des_split =cluster_df['Descriptors'].str.split(', ').apply(pd.Series).stack()\n",
    "des_split.index = des_split.index.droplevel(-1)\n",
    "des_split.name = 'Descriptors'\n",
    "del cluster_df['Descriptors']"
   ]
  },
  {
   "cell_type": "code",
   "execution_count": 81,
   "metadata": {},
   "outputs": [],
   "source": [
    "cluster_df = cluster_df.join(des_split)\n",
    "\n",
    "dummy_des = pd.get_dummies(cluster_df['Descriptors'],prefix ='Des')\n",
    "dummy_des = dummy_des.reset_index().groupby('index').sum()\n",
    "cluster_df = cluster_df.drop_duplicates('Ranking',keep='first').drop('Descriptors',axis=1)"
   ]
  },
  {
   "cell_type": "code",
   "execution_count": 82,
   "metadata": {},
   "outputs": [],
   "source": [
    "cluster_df = pd.concat([cluster_df,dummy_gen],axis=1)\n",
    "cluster_df = pd.concat([cluster_df,dummy_des],axis=1)"
   ]
  },
  {
   "cell_type": "markdown",
   "metadata": {},
   "source": [
    "# Clustering"
   ]
  },
  {
   "cell_type": "markdown",
   "metadata": {},
   "source": [
    "First ill try to make elbow plot to find optimal K value for KMeans"
   ]
  },
  {
   "cell_type": "code",
   "execution_count": 83,
   "metadata": {},
   "outputs": [
    {
     "data": {
      "image/png": "[encoded data removed]",
      "text/plain": [
       "<Figure size 432x288 with 1 Axes>"
      ]
     },
     "metadata": {
      "needs_background": "light"
     },
     "output_type": "display_data"
    }
   ],
   "source": [
    "from sklearn.cluster import KMeans\n",
    "\n",
    "Sum_of_squared_distances = []\n",
    "K = range(1,10)\n",
    "for num_clusters in K :\n",
    " kmeans = KMeans(n_clusters=num_clusters,random_state=1)\n",
    " kmeans.fit_transform(cluster_df.iloc[:,8:])\n",
    " Sum_of_squared_distances.append(kmeans.inertia_)\n",
    " \n",
    "plt.plot(K,Sum_of_squared_distances)\n",
    "plt.xlabel(\"Values of K\") \n",
    "plt.ylabel(\"Sum of squared distances/Inertia\") \n",
    "plt.title(\"Elbow Method For Optimal k\")\n",
    "plt.show()\n"
   ]
  },
  {
   "cell_type": "markdown",
   "metadata": {},
   "source": [
    "It seems like we cant do classification in this dataset"
   ]
  },
  {
   "cell_type": "markdown",
   "metadata": {},
   "source": [
    "# Conclusion\n",
    "Most of top 1000 albums were made in 1970s. The most productive artists of those albums were John Coltrane and Miles Davis with 9 Albums. There is no clear pattern in what top 1000 albums are likely to be we only know that more than half are sung by male artist.\n"
   ]
  }
 ],
 "metadata": {
  "interpreter": {
   "hash": "30f9049c53392b01b2f48ba0bba42773044d27f8d5f2852634d92641d1a4d25f"
  },
  "kernelspec": {
   "display_name": "Python 3.9.7 64-bit (conda)",
   "name": "python3"
  },
  "language_info": {
   "codemirror_mode": {
    "name": "ipython",
    "version": 3
   },
   "file_extension": ".py",
   "mimetype": "text/x-python",
   "name": "python",
   "nbconvert_exporter": "python",
   "pygments_lexer": "ipython3",
   "version": "3.9.7"
  },
  "orig_nbformat": 4
 },
 "nbformat": 4,
 "nbformat_minor": 2
}
